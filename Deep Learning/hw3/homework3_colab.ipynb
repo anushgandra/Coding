{
  "nbformat": 4,
  "nbformat_minor": 0,
  "metadata": {
    "colab": {
      "name": "homework3_colab.ipynb",
      "provenance": [],
      "collapsed_sections": [],
      "toc_visible": true
    },
    "kernelspec": {
      "name": "python3",
      "display_name": "Python 3"
    },
    "accelerator": "GPU"
  },
  "cells": [
    {
      "cell_type": "markdown",
      "metadata": {
        "id": "S2IaITBP0f5R",
        "colab_type": "text"
      },
      "source": [
        "# Homework 3\n",
        "In this homework, we will explore language generation using character-level RNNs. Sounds awesome, right?\n",
        "\n",
        "A few notes at the beginning:\n",
        "- It might be useful for you to read the whole assignment before beginning. Especially the last two sections so you know what to record for turning in.\n",
        "- Much of the required knowledge in this (and past) homeworks about Python, PyTorch, etc. are not explained fully here. Instead, we expect you to use the existing documentation, search engines, Stack Overflow, etc. for implementation details.\n",
        "- That being said, we have listed several functions in parts of the homework where knowing those functions exist would be especially useful. However you will still need to read the docs on how to specifically use the functions.\n",
        "\n",
        "# Part 0: Initial setup\n",
        "You should recognize this code from last time.\n"
      ]
    },
    {
      "cell_type": "code",
      "metadata": {
        "id": "4GS0yuGl0mHQ",
        "colab_type": "code",
        "outputId": "999bcc4b-a065-4766-c644-e8e35034cfb6",
        "colab": {
          "base_uri": "https://localhost:8080/",
          "height": 50
        }
      },
      "source": [
        "import torch\n",
        "print('Version', torch.__version__)\n",
        "print('CUDA enabled:', torch.cuda.is_available())\n",
        "  \n",
        "# Running this should then print out:\n",
        "# Version 1.3.0+cu100\n",
        "# CUDA enabled: True"
      ],
      "execution_count": 1,
      "outputs": [
        {
          "output_type": "stream",
          "text": [
            "Version 1.3.1+cu100\n",
            "CUDA enabled: True\n"
          ],
          "name": "stdout"
        }
      ]
    },
    {
      "cell_type": "code",
      "metadata": {
        "id": "6t3ZIEll0pr-",
        "colab_type": "code",
        "outputId": "83cf6314-5257-4279-e9af-59c03852470a",
        "colab": {
          "base_uri": "https://localhost:8080/",
          "height": 138
        }
      },
      "source": [
        "from google.colab import drive\n",
        "drive.mount('/gdrive')\n",
        "!ls /gdrive"
      ],
      "execution_count": 2,
      "outputs": [
        {
          "output_type": "stream",
          "text": [
            "Go to this URL in a browser: https://accounts.google.com/o/oauth2/auth?client_id=947318989803-6bn6qk8qdgf4n4g3pfee6491hc0brc4i.apps.googleusercontent.com&redirect_uri=urn%3aietf%3awg%3aoauth%3a2.0%3aoob&response_type=code&scope=email%20https%3a%2f%2fwww.googleapis.com%2fauth%2fdocs.test%20https%3a%2f%2fwww.googleapis.com%2fauth%2fdrive%20https%3a%2f%2fwww.googleapis.com%2fauth%2fdrive.photos.readonly%20https%3a%2f%2fwww.googleapis.com%2fauth%2fpeopleapi.readonly\n",
            "\n",
            "Enter your authorization code:\n",
            "··········\n",
            "Mounted at /gdrive\n",
            "'My Drive'\n"
          ],
          "name": "stdout"
        }
      ]
    },
    {
      "cell_type": "markdown",
      "metadata": {
        "id": "PEzPNAIY0vkm",
        "colab_type": "text"
      },
      "source": [
        "# Part 1: Upload the dataset\n",
        "We will be using the complete text of Harry Potter as our corpus. We will provide it for you in a not-very-well-formatted way.\n",
        "Run this code to set up the homework3 files.\n",
        "\n"
      ]
    },
    {
      "cell_type": "code",
      "metadata": {
        "id": "CLVJPc_90vsB",
        "colab_type": "code",
        "colab": {
          "base_uri": "https://localhost:8080/",
          "height": 235
        },
        "outputId": "742fe12c-24dd-4f70-db5d-90fd3bc6e8cf"
      },
      "source": [
        "import os\n",
        "BASE_PATH = '/gdrive/My Drive/colab_files/homework3/'\n",
        "if not os.path.exists(BASE_PATH):\n",
        "    os.makedirs(BASE_PATH)\n",
        "DATA_PATH = BASE_PATH\n",
        "\n",
        "if not os.path.exists(os.path.join(DATA_PATH, 'harry_potter.txt')):\n",
        "    os.chdir(BASE_PATH)\n",
        "    !wget https://courses.cs.washington.edu/courses/cse599g1/19au/files/homework3.tar.gz\n",
        "    !tar -zxvf homework3.tar.gz\n",
        "    !rm homework3.tar.gz\n",
        "    !cp pt_util.py /content\n",
        "    !cp harry_potter.txt /content\n",
        "os.chdir('/content')"
      ],
      "execution_count": 3,
      "outputs": [
        {
          "output_type": "stream",
          "text": [
            "--2019-11-17 05:07:28--  https://courses.cs.washington.edu/courses/cse599g1/19au/files/homework3.tar.gz\n",
            "Resolving courses.cs.washington.edu (courses.cs.washington.edu)... 128.208.1.193, 2607:4000:200:10::c1\n",
            "Connecting to courses.cs.washington.edu (courses.cs.washington.edu)|128.208.1.193|:443... connected.\n",
            "HTTP request sent, awaiting response... 200 OK\n",
            "Length: 2324076 (2.2M) [application/x-gzip]\n",
            "Saving to: ‘homework3.tar.gz’\n",
            "\n",
            "homework3.tar.gz    100%[===================>]   2.22M  2.50MB/s    in 0.9s    \n",
            "\n",
            "2019-11-17 05:07:29 (2.50 MB/s) - ‘homework3.tar.gz’ saved [2324076/2324076]\n",
            "\n",
            "harry_potter.txt\n",
            "pt_util.py\n"
          ],
          "name": "stdout"
        }
      ]
    },
    {
      "cell_type": "code",
      "metadata": {
        "id": "hd1Qx66s19Pl",
        "colab_type": "code",
        "colab": {}
      },
      "source": [
        "import torch\n",
        "import torch.nn as nn\n",
        "from torchvision import datasets\n",
        "from torchvision import transforms\n",
        "import numpy as np\n",
        "import torch.nn.functional as F\n",
        "import torch.optim as optim\n",
        "import sys\n",
        "import pickle\n",
        "import re\n",
        "import pt_util"
      ],
      "execution_count": 0,
      "outputs": []
    },
    {
      "cell_type": "markdown",
      "metadata": {
        "id": "AxIvm7h62tfx",
        "colab_type": "text"
      },
      "source": [
        "#Part 2: Preprocessing the data\n",
        "In previous homeworks, we have provided a cleaned version of the data. But this time you'll have to do some of that cleaning yourselves.\n",
        "\n",
        "Hints:\n",
        "- train_text and test_text should contain the class indices for the character tokens from the data file. For example, if the text was **`\"ABA CDBE\"`**, the token version would be a numpy array with contents `[0, 1, 0, 2, 3, 4, 1, 5]`\n",
        "- The harry_potter.txt file has weird spacing. You might want to replace all the whitespace characters (space, \\n, \\t, etc.) in the file with the space character.\n",
        "- You should output two files. One for training and one for testing. The training should be the first 80% of the characters.\n",
        "- voc2ind is a map from character to the index of the class for that character. There is no predefined vocabulary, but you will need to be consistent across all tasks that use the vocabulary. For the example above, the voc2ind would be `{'A': 0, 'B': 1, ' ': 2, 'C': 3, 'D': 4, 'E': 5}`\n",
        "- ind2voc is the inverse of voc2ind\n",
        "\n"
      ]
    },
    {
      "cell_type": "code",
      "metadata": {
        "id": "6oZq_S6k3GpB",
        "colab_type": "code",
        "colab": {}
      },
      "source": [
        "def prepare_data(data_path):\n",
        "    with open(data_path) as f:\n",
        "        # This reads all the data from the file, but does not do any processing on it.\n",
        "        data = f.read()\n",
        "    \n",
        "    # TODO Add more preprocessing\n",
        "\n",
        "    data = ' '.join(data.split())\n",
        "        \n",
        "    voc2ind = {}\n",
        "    classId = 0\n",
        "    out = []\n",
        "   \n",
        "    # Compute voc2ind and transform the data into an integer representation of the tokens.\n",
        "    for char in data:\n",
        "      # TODO Fill this in\n",
        "      if char not in voc2ind:\n",
        "        voc2ind[char] = classId\n",
        "        classId += 1\n",
        "      out.append(voc2ind[char])\n",
        "    \n",
        "    \n",
        "    ind2voc = {val: key for key, val in voc2ind.items()}\n",
        "\n",
        "    save_out = np.array(out)\n",
        "\n",
        "    train_ind = int(0.80*save_out.shape[0])\n",
        "\n",
        "    train_text = save_out[0:train_ind]\n",
        "    test_text = save_out[train_ind:]\n",
        "    \n",
        "    pickle.dump({'tokens': train_text, 'ind2voc': ind2voc, 'voc2ind':voc2ind}, open(DATA_PATH + 'harry_potter_chars_train.pkl', 'wb'))\n",
        "    pickle.dump({'tokens': test_text, 'ind2voc': ind2voc, 'voc2ind':voc2ind}, open(DATA_PATH + 'harry_potter_chars_test.pkl', 'wb'))\n",
        "    \n",
        "prepare_data(DATA_PATH + 'harry_potter.txt')\n",
        "\n",
        "\n",
        "class Vocabulary(object):\n",
        "    def __init__(self, data_file):\n",
        "        with open(data_file, 'rb') as data_file:\n",
        "            dataset = pickle.load(data_file)\n",
        "        self.ind2voc = dataset['ind2voc']\n",
        "        self.voc2ind = dataset['voc2ind']\n",
        "\n",
        "    # Returns a string representation of the tokens.\n",
        "    def array_to_words(self, arr):\n",
        "        return ''.join([self.ind2voc[int(ind)] for ind in arr])\n",
        "\n",
        "    # Returns a torch tensor representing each token in words.\n",
        "    def words_to_array(self, words):\n",
        "        return torch.LongTensor([self.voc2ind[word] for word in words])\n",
        "\n",
        "    # Returns the size of the vocabulary.\n",
        "    def __len__(self):\n",
        "        return len(self.voc2ind)"
      ],
      "execution_count": 0,
      "outputs": []
    },
    {
      "cell_type": "markdown",
      "metadata": {
        "id": "kzX1tUv8ilYV",
        "colab_type": "text"
      },
      "source": [
        "#Part 3: Loading the data\n",
        "This is possibly the trickiest part of this homework. In the past, batches were not correlated with each other, and the data within a single minibatch was also not correlated, so you could basically draw randomly from the dataset. That is not the case here. Instead, you should return sequences from the dataset.\n",
        "\n",
        "Your instructions are to implement the following. First, imagine splitting the dataset into N chunks where N is the batch_size and the chunks are contiguous parts of the data. For each batch, you should return one sequence from each of the chunks. The batches should also be sequential an example is described below.\n",
        "\n",
        "The data is 20 characters long `[1, 2, 3, ...20]`. The batch size is `2` and the sequence length is `4`\n",
        "- The 1st batch should consist of  `(data =  [[1, 2, 3, 4]; [11, 12, 13, 14]], labels = [[2, 3, 4, 5]; [12, 13, 14, 15]])`\n",
        "- The 2nd batch should consist of `(data =  [[5, 6, 7, 8]; [15, 16, 17, 18]], labels = [[6, 7, 8, 9]; [16, 17, 18, 19]])`\n",
        "- The 3rd batch should consist of `(data =  [[9]; [19]], labels = [[10]; [20]])`\n",
        "- There is no 4th batch.\n",
        "\n",
        "Hints:\n",
        "- To work with the rest of the code, your len(dataset) should be a multiple of the batch_size. \n",
        "- Removing the last bit to make the data the proper shape will probably give better results than padding with 0s.\n",
        "- It is OK to have one batch be shorter than the others as long as all entries in that batch are the same length.\n",
        "- Notice that the last label in one batch is the first data in the next batch. Be careful of off-by-one errors.\n",
        "\n"
      ]
    },
    {
      "cell_type": "code",
      "metadata": {
        "id": "44v6o0JwiwXk",
        "colab_type": "code",
        "colab": {}
      },
      "source": [
        "class HarryPotterDataset(torch.utils.data.Dataset):\n",
        "    def __init__(self, data_file, sequence_length, batch_size):\n",
        "        super(HarryPotterDataset, self).__init__()\n",
        "\n",
        "        self.sequence_length = sequence_length\n",
        "        self.batch_size = batch_size\n",
        "        self.vocab = Vocabulary(data_file)\n",
        "        \n",
        "        with open(data_file, 'rb') as data_pkl:\n",
        "            dataset = pickle.load(data_pkl)\n",
        "\n",
        "        # TODO: Any preprocessing on the data to get it to the right shape.\n",
        "        data = dataset['tokens']\n",
        "\n",
        "        if(data.shape[0]%batch_size != 0):\n",
        "          end = -1*int(data.shape[0]%batch_size)\n",
        "          data = data[0:end]\n",
        "\n",
        "        self.data = np.reshape(data,(self.batch_size,-1))\n",
        "  \n",
        "    def __len__(self):\n",
        "        # TODO return the number of unique sequences you have, not the number of characters.\n",
        "         cols = self.data.shape[1]\n",
        "         sequences_per_row = (cols-1)//self.sequence_length + int(((cols-1)%self.sequence_length)>0)\n",
        "         tot_sequences = sequences_per_row*self.batch_size\n",
        "         return tot_sequences \n",
        "        \n",
        "    def __getitem__(self, idx):\n",
        "        # Return the data and label for a character sequence as described above.\n",
        "        # The data and labels should be torch long tensors.\n",
        "        # You should return a single entry for the batch using the idx to decide which chunk you are \n",
        "        # in and how far down in the chunk you are.\n",
        "        col_start = (idx//self.batch_size)*self.sequence_length\n",
        "        row = idx%self.batch_size\n",
        "        \n",
        "        if(len(self.data[row,col_start:])>self.sequence_length):\n",
        "          col_end = col_start+self.sequence_length+1\n",
        "          \n",
        "        else:\n",
        "          col_end = self.data.shape[1]\n",
        "\n",
        "        data = self.data[row,col_start:col_end]  \n",
        "        data = torch.LongTensor(data)\n",
        "\n",
        "        type(data)\n",
        "        \n",
        "        return data[:-1], data[1:]\n",
        "\n",
        "    def vocab_size(self):\n",
        "        return len(self.vocab)"
      ],
      "execution_count": 0,
      "outputs": []
    },
    {
      "cell_type": "markdown",
      "metadata": {
        "id": "8kYKDZoj2jCV",
        "colab_type": "text"
      },
      "source": [
        "# Part 4: Defining the Network\n",
        "This time we will provide a network that should already get pretty good performance. You will still need to write the forward pass and inference functions. You may also choose to modify the network to try and get better performance.\n",
        "\n",
        "__BE CAREFUL:__ We have specified that the data will be fed in as batch_first. Look at the documentation if you are confused about the implications of this as well as how to call it for the forward pass. https://pytorch.org/docs/stable/nn.html#torch.nn.GRU\n",
        "    \n"
      ]
    },
    {
      "cell_type": "code",
      "metadata": {
        "id": "mO21UXLj2ixn",
        "colab_type": "code",
        "colab": {}
      },
      "source": [
        "TEMPERATURE = 0.5\n",
        "\n",
        "class HarryPotterNet(nn.Module):\n",
        "    def __init__(self, vocab_size, feature_size):\n",
        "        super(HarryPotterNet, self).__init__()\n",
        "        self.vocab_size = vocab_size\n",
        "        self.feature_size = feature_size\n",
        "        self.encoder = nn.Embedding(self.vocab_size, self.feature_size)\n",
        "        self.gru = nn.GRU(self.feature_size, self.feature_size, num_layers=1, batch_first=True)\n",
        "        self.decoder = nn.Linear(self.feature_size, self.vocab_size)\n",
        "        \n",
        "        # This shares the encoder and decoder weights as described in lecture.\n",
        "        self.decoder.weight = self.encoder.weight\n",
        "        self.decoder.bias.data.zero_()\n",
        "        \n",
        "        self.best_accuracy = -1\n",
        "    \n",
        "    def forward(self, x, hidden_state=None):\n",
        "        batch_size = x.shape[0]\n",
        "        sequence_length = x.shape[1]\n",
        "        # TODO finish defining the forward pass.\n",
        "        # You should return the output from the decoder as well as the hidden state given by the gru.\n",
        "        x = self.encoder(x)\n",
        "        \n",
        "        x, hidden_state = self.gru(x,hidden_state)\n",
        "        \n",
        "        x = self.decoder(x)\n",
        "        return x, hidden_state\n",
        "\n",
        "    # This defines the function that gives a probability distribution and implements the temperature computation.\n",
        "    def inference(self, x, hidden_state=None, temperature=1):\n",
        "        x = x.view(-1, 1)\n",
        "        x, hidden_state = self.forward(x, hidden_state)\n",
        "        x = x.view(1, -1)\n",
        "        x = x / max(temperature, 1e-20)\n",
        "        x = F.softmax(x, dim=1)\n",
        "        return x, hidden_state\n",
        "\n",
        "    # Predefined loss function\n",
        "    def loss(self, prediction, label, reduction='mean'):\n",
        "        loss_val = F.cross_entropy(prediction.view(-1, self.vocab_size), label.view(-1), reduction=reduction)\n",
        "        return loss_val\n",
        "\n",
        "    # Saves the current model\n",
        "    def save_model(self, file_path, num_to_keep=1):\n",
        "        pt_util.save(self, file_path, num_to_keep)\n",
        "\n",
        "    # Saves the best model so far\n",
        "    def save_best_model(self, accuracy, file_path, num_to_keep=1):\n",
        "        if accuracy > self.best_accuracy:\n",
        "            self.save_model(file_path, num_to_keep)\n",
        "            self.best_accuracy = accuracy\n",
        "\n",
        "    def load_model(self, file_path):\n",
        "        pt_util.restore(self, file_path)\n",
        "\n",
        "    def load_last_model(self, dir_path):\n",
        "        return pt_util.restore_latest(self, dir_path)"
      ],
      "execution_count": 0,
      "outputs": []
    },
    {
      "cell_type": "markdown",
      "metadata": {
        "id": "iEQZIoB0jY5h",
        "colab_type": "text"
      },
      "source": [
        "#Part 5: Character Generation\n",
        "\n",
        "In class we discussed three algorithms for creating sequences.\n",
        "1. Max: Choose the most likely value\n",
        "2. Sample: Sample from the distribution output by the network.\n",
        "3. Beam Search: Sample from the distribution and use the Beam Search algorithm.\n",
        "\n",
        "The beam search algorithm is as follows:\n",
        "```\n",
        "1. Initialize the beam list with the single existing empty beam\n",
        "2. Repeat for the sequence length:\n",
        "    1. For each beam in the beam list:\n",
        "        1. Compute the next distribution over the output space for that state\n",
        "        2. Sample from the distribution with replacement\n",
        "        3. For each sample:\n",
        "            1. Compute its score\n",
        "            2. Record its hidden state and chosen value\n",
        "        4. Add all the samples to the new beam list      \n",
        "     2. Rank the new beam list\n",
        "     3. Throw out all but the top N beams\n",
        " 3. Return the top beam's chosen values.\n",
        "```\n",
        "\n",
        "\n",
        "Hints:\n",
        "- np.random.choice and torch.multinomial will both help with the sampling as they can take in a weighted probability distribution and sample from that distribution.\n",
        "- For beam search you will need to keep a running score of the likelihood of each sequence. If you multiply the likelihoods, you will encounter float underflow. Instead, you should add the log likelihoods.\n",
        "- For beam search, you will need to keep track of multiple hidden states related to which branch you are currently expanding.\n",
        "- For beam search, you should search over the beam, but only return the top result in the end.\n",
        "- It may be useful to do the training part before the character generation part so you have some model to test.\n",
        "- Feel free to play around with the `BEAM_WIDTH`.\n"
      ]
    },
    {
      "cell_type": "code",
      "metadata": {
        "id": "9XTxy4eq3UYR",
        "colab_type": "code",
        "colab": {}
      },
      "source": [
        "TEMPERATURE = 0.5\n",
        "BEAM_WIDTH = 10\n",
        "\n",
        "def max_sampling_strategy(sequence_length, model, output, hidden, vocab):\n",
        "    outputs = []\n",
        "    device = hidden.device\n",
        "    output = output.argmax()\n",
        "    outputs.append(output)\n",
        "    output.to(device)\n",
        "    for ii in range(sequence_length):\n",
        "        output, hidden = model.inference(output,hidden,TEMPERATURE)\n",
        "        output = output.argmax()\n",
        "        outputs.append(output)\n",
        "        output.to(device)\n",
        "    return outputs\n",
        "    \n",
        "def sample_sampling_strategy(sequence_length, model, output, hidden, vocab):\n",
        "    outputs = []\n",
        "    device = hidden.device\n",
        "    output = torch.multinomial(output, 1)\n",
        "    outputs.append(output)\n",
        "    output.to(device)\n",
        "    for ii in range(sequence_length):\n",
        "        output, hidden = model.inference(output,hidden,TEMPERATURE)\n",
        "        output = torch.multinomial(output,1)\n",
        "        outputs.append(output) \n",
        "        output.to(device)\n",
        "    return outputs\n",
        "\n",
        "def beam_sampling_strategy(sequence_length, beam_width, model, output, hidden, vocab):\n",
        "    outputs = []\n",
        "    device = hidden.device\n",
        "    beam = [([], output, hidden, 0)]\n",
        "    for ii in range(sequence_length):\n",
        "      new_beam = []\n",
        "      for val in beam:\n",
        "        a,b,c,d = val\n",
        "        b.to(device)\n",
        "        c.to(device)\n",
        "        g = torch.multinomial(b,beam_width)\n",
        "        g = g[0]\n",
        "        for idx in g:\n",
        "          temp = a.copy()\n",
        "          idx.to(device)\n",
        "          n_score = d+torch.log(b[0,idx])\n",
        "          n_o, n_h = model.inference(idx,c)\n",
        "          temp.append(idx)\n",
        "          new_beam.append((temp,n_o,n_h,n_score))    \n",
        "      tempn = sorted(new_beam,key=lambda x:x[3],reverse=True)          \n",
        "      beam = tempn[:10]\n",
        "    tempnn = sorted(beam,key=lambda x:x[3],reverse=True)\n",
        "    outputs = tempnn[0][0]\n",
        "    return outputs\n",
        "\n",
        "\n",
        "def generate_language(model, device, seed_words, sequence_length, vocab, sampling_strategy='max', beam_width=BEAM_WIDTH):\n",
        "    model.eval()\n",
        "\n",
        "    with torch.no_grad():\n",
        "        seed_words_arr = vocab.words_to_array(seed_words)\n",
        "\n",
        "        # Computes the initial hidden state from the prompt (seed words).\n",
        "        hidden = None\n",
        "        for ind in seed_words_arr:\n",
        "            data = ind.to(device)\n",
        "            output, hidden = model.inference(data, hidden)\n",
        "        \n",
        "        if sampling_strategy == 'max':\n",
        "            outputs = max_sampling_strategy(sequence_length, model, output, hidden, vocab)\n",
        "\n",
        "        elif sampling_strategy == 'sample':\n",
        "            outputs = sample_sampling_strategy(sequence_length, model, output, hidden, vocab)\n",
        "\n",
        "        elif sampling_strategy == 'beam':\n",
        "            outputs = beam_sampling_strategy(sequence_length, beam_width, model, output, hidden, vocab)\n",
        "\n",
        "\n",
        "        return vocab.array_to_words(seed_words_arr.tolist() + outputs)"
      ],
      "execution_count": 0,
      "outputs": []
    },
    {
      "cell_type": "markdown",
      "metadata": {
        "id": "Havsk_RJi_i5",
        "colab_type": "text"
      },
      "source": [
        "# Part 6: Training\n",
        "Again, we are providing training code for you. Have a look at the train function though as it implements the exact forward approximate backward computation, which may be of interest to you. You will still need to add the perplexity computation (read more in part 9 about how to do this)."
      ]
    },
    {
      "cell_type": "code",
      "metadata": {
        "id": "L0Wq8hRy0UEX",
        "colab_type": "code",
        "colab": {}
      },
      "source": [
        "import tqdm\n",
        "def repackage_hidden(h):\n",
        "    \"\"\"Wraps hidden states in new Tensors, to detach them from their history.\"\"\"\n",
        "    if isinstance(h, torch.Tensor):\n",
        "        return h.detach()\n",
        "    else:\n",
        "        return tuple(repackage_hidden(v) for v in h)\n",
        "\n",
        "def train(model, device, optimizer, train_loader, lr, epoch, log_interval):\n",
        "    model.train()\n",
        "    losses = []\n",
        "    hidden = None\n",
        "    for batch_idx, (data, label) in enumerate(tqdm.tqdm(train_loader)):\n",
        "        data, label = data.to(device), label.to(device)\n",
        "        # Separates the hidden state across batches. \n",
        "        # Otherwise the backward would try to go all the way to the beginning every time.\n",
        "        if hidden is not None:\n",
        "            hidden = repackage_hidden(hidden)\n",
        "        optimizer.zero_grad()\n",
        "        output, hidden = model(data)\n",
        "        pred = output.max(-1)[1]\n",
        "        loss = model.loss(output, label)\n",
        "        losses.append(loss.item())\n",
        "        loss.backward()\n",
        "        optimizer.step()\n",
        "        if batch_idx % log_interval == 0:\n",
        "            print('Train Epoch: {} [{}/{} ({:.0f}%)]\\tLoss: {:.6f}'.format(\n",
        "                epoch, batch_idx * len(data), len(train_loader.dataset),\n",
        "                100. * batch_idx / len(train_loader), loss.item()))\n",
        "    return np.mean(losses)\n",
        "\n",
        "\n",
        "def test(model, device, test_loader):\n",
        "    model.eval()\n",
        "    test_loss = 0\n",
        "    correct = 0\n",
        "\n",
        "    with torch.no_grad():\n",
        "        hidden = None\n",
        "        for batch_idx, (data, label) in enumerate(test_loader):\n",
        "            data, label = data.to(device), label.to(device)\n",
        "            output, hidden = model(data, hidden)\n",
        "            test_loss += model.loss(output, label, reduction='mean').item()\n",
        "            pred = output.max(-1)[1]\n",
        "            correct_mask = pred.eq(label.view_as(pred))\n",
        "            num_correct = correct_mask.sum().item()\n",
        "            correct += num_correct\n",
        "            # Comment this out to avoid printing test results\n",
        "            if batch_idx % 10 == 0:\n",
        "                print('Input\\t%s\\nGT\\t%s\\npred\\t%s\\n\\n' % (\n",
        "                    test_loader.dataset.vocab.array_to_words(data[0]),\n",
        "                    test_loader.dataset.vocab.array_to_words(label[0]),\n",
        "                    test_loader.dataset.vocab.array_to_words(pred[0])))\n",
        "\n",
        "    test_loss /= len(test_loader)\n",
        "    test_accuracy = 100. * correct / (len(test_loader.dataset) * test_loader.dataset.sequence_length)\n",
        "\n",
        "    print('\\nTest set: Average loss: {:.4f}, Accuracy: {}/{} ({:.0f}%)\\n'.format(\n",
        "        test_loss, correct, len(test_loader.dataset) * test_loader.dataset.sequence_length,\n",
        "        100. * correct / (len(test_loader.dataset) * test_loader.dataset.sequence_length)))\n",
        "    return test_loss, test_accuracy"
      ],
      "execution_count": 0,
      "outputs": []
    },
    {
      "cell_type": "code",
      "metadata": {
        "id": "66T-Ylkg0fn1",
        "colab_type": "code",
        "outputId": "23600900-7734-43e3-9d61-abd6ba9c4c82",
        "colab": {
          "base_uri": "https://localhost:8080/",
          "height": 1000
        }
      },
      "source": [
        "def main():\n",
        "    SEQUENCE_LENGTH = 100\n",
        "    BATCH_SIZE = 256\n",
        "    FEATURE_SIZE = 1024\n",
        "    TEST_BATCH_SIZE = 180\n",
        "    EPOCHS = 30\n",
        "    LEARNING_RATE = 0.002\n",
        "    WEIGHT_DECAY = 0.0005\n",
        "    USE_CUDA = True\n",
        "    PRINT_INTERVAL = 10\n",
        "    LOG_PATH = DATA_PATH + 'logs/log.pkl'\n",
        "\n",
        "\n",
        "    data_train = HarryPotterDataset(DATA_PATH + 'harry_potter_chars_train.pkl', SEQUENCE_LENGTH, BATCH_SIZE)\n",
        "    data_test = HarryPotterDataset(DATA_PATH + 'harry_potter_chars_test.pkl', SEQUENCE_LENGTH, TEST_BATCH_SIZE)\n",
        "    vocab = data_train.vocab\n",
        "\n",
        "    use_cuda = USE_CUDA and torch.cuda.is_available()\n",
        "\n",
        "    device = torch.device(\"cuda\" if use_cuda else \"cpu\")\n",
        "    print('Using device', device)\n",
        "    import multiprocessing\n",
        "    num_workers = multiprocessing.cpu_count()\n",
        "    print('num workers:', num_workers)\n",
        "\n",
        "    kwargs = {'num_workers': num_workers,\n",
        "              'pin_memory': True} if use_cuda else {}\n",
        "\n",
        "    train_loader = torch.utils.data.DataLoader(data_train, batch_size=BATCH_SIZE,\n",
        "                                               shuffle=False, **kwargs)\n",
        "    test_loader = torch.utils.data.DataLoader(data_test, batch_size=TEST_BATCH_SIZE,\n",
        "                                              shuffle=False, **kwargs)\n",
        "\n",
        "    model = HarryPotterNet(data_train.vocab_size(), FEATURE_SIZE).to(device)\n",
        "\n",
        "    # Adam is an optimizer like SGD but a bit fancier. It tends to work faster and better than SGD.\n",
        "    # We will talk more about different optimization methods in class.\n",
        "    optimizer = optim.Adam(model.parameters(), lr=LEARNING_RATE, weight_decay=WEIGHT_DECAY)\n",
        "    start_epoch = model.load_last_model(DATA_PATH + 'checkpoints')\n",
        "\n",
        "    train_losses, test_losses, test_accuracies = pt_util.read_log(LOG_PATH, ([], [], []))\n",
        "    test_loss, test_accuracy = test(model, device, test_loader)\n",
        "\n",
        "    test_losses.append((start_epoch, test_loss))\n",
        "    test_accuracies.append((start_epoch, test_accuracy))\n",
        "\n",
        "    try:\n",
        "        for epoch in range(start_epoch, EPOCHS + 1):\n",
        "            lr = LEARNING_RATE * np.power(0.25, (int(epoch / 6)))\n",
        "            train_loss = train(model, device, optimizer, train_loader, lr, epoch, PRINT_INTERVAL)\n",
        "            test_loss, test_accuracy = test(model, device, test_loader)\n",
        "            train_losses.append((epoch, train_loss))\n",
        "            test_losses.append((epoch, test_loss))\n",
        "            test_accuracies.append((epoch, test_accuracy))\n",
        "            pt_util.write_log(LOG_PATH, (train_losses, test_losses, test_accuracies))\n",
        "            model.save_best_model(test_accuracy, DATA_PATH + 'checkpoints/%03d.pt' % epoch)\n",
        "            seed_words = 'Harry looked at me and said '\n",
        "            generated_sentence = generate_language(model, device, seed_words, 200, vocab, 'max')\n",
        "            print('generated max\\t\\t', generated_sentence)\n",
        "            for ii in range(10):\n",
        "                generated_sentence = generate_language(model, device, seed_words, 200, vocab, 'sample')\n",
        "                print('generated sample\\t', generated_sentence)\n",
        "            generated_sentence = generate_language(model, device, seed_words, 200, vocab, 'beam')\n",
        "            print('generated beam\\t\\t', generated_sentence)\n",
        "            print('')\n",
        "\n",
        "    except KeyboardInterrupt as ke:\n",
        "        print('Interrupted')\n",
        "    except:\n",
        "        import traceback\n",
        "        traceback.print_exc()\n",
        "    finally:\n",
        "        print('Saving final model')\n",
        "        model.save_model(DATA_PATH + 'checkpoints/%03d.pt' % epoch, 0)\n",
        "        ep, val = zip(*train_losses)\n",
        "        pt_util.plot(ep, val, 'Train loss', 'Epoch', 'Error')\n",
        "        ep, val = zip(*test_losses)\n",
        "        pt_util.plot(ep, val, 'Test loss', 'Epoch', 'Error')\n",
        "        ep, val = zip(*test_accuracies)\n",
        "        pt_util.plot(ep, val, 'Test accuracy', 'Epoch', 'Accuracy (%)')\n",
        "\n",
        "        test_perp = []\n",
        "        train_perp = []\n",
        "        for i in test_losses:\n",
        "          test_perp.append((i[0],np.exp(i[1])))\n",
        "        \n",
        "        for j in train_losses:\n",
        "          train_perp.append((j[0],np.exp(j[1]))) \n",
        "\n",
        "        ep, val = zip(*test_perp)\n",
        "        pt_util.plot(ep, val, 'Test Perplexity', 'Epoch', 'Perplexity')\n",
        "\n",
        "        ep, val = zip(*train_perp)\n",
        "        pt_util.plot(ep, val, 'Train Perplexity', 'Epoch', 'Perplexity')\n",
        "        print(train_perp[-1])\n",
        "        return model, vocab, device\n",
        "\n",
        "final_model, vocab, device = main()"
      ],
      "execution_count": 10,
      "outputs": [
        {
          "output_type": "stream",
          "text": [
            "Using device cuda\n",
            "num workers: 2\n",
            "Input\ta great sigh and leaned against the cavern wall. \"I am weak...\" he said. \"Don't worry, sir,\" said Ha\n",
            "GT\t great sigh and leaned against the cavern wall. \"I am weak...\" he said. \"Don't worry, sir,\" said Har\n",
            "pred\t mOO{$$n:TTK`01dO{{$1$$n$xL1111d}2Kne $$$CR~ Stq}}U`00n~$$Fs}}}}2Kn::1/G`}ibR9zn~6ff7ZO:TCXf`::1m`%s\n",
            "\n",
            "\n",
            "Input\trossed the outer cave, and Harry helped Dumbledore back into the icy seawater that filled the crevic\n",
            "GT\tossed the outer cave, and Harry helped Dumbledore back into the icy seawater that filled the crevice\n",
            "pred\tCe6::6nDKKnnnD$fne $$$,$R;O%sNNaO2KKKKKnnnnIt{$nD$no$eCOTR1Dn}KKnT=aO::$1 $$${$KFL} [1t{KnnKKnee{$rr\n",
            "\n",
            "\n",
            "Input\tivering and dripping in the middle of the dark High Street in Hogsmeade. For one horrible moment Har\n",
            "GT\tvering and dripping in the middle of the dark High Street in Hogsmeade. For one horrible moment Harr\n",
            "pred\t2r$fCCxO$1;OcOTiiG11OT1`TKKnn[nlK{nn nnKKnnsmmd%TTKO.DD$$$nTRR%nR:1$$$$$nnnfOnR{nKnCCCCK{nnnn$Rz\"%sN\n",
            "\n",
            "\n",
            "Input\t help, but there was nobody to be seen and all he could think was that he must somehow get Dumbledor\n",
            "GT\thelp, but there was nobody to be seen and all he could think was that he must somehow get Dumbledore\n",
            "pred\tn2KKKFOokD}}2zC$no ::RRu[62`}6nT$nk$$RR$R;O${{{2KneeD66n}KK1dd~0::D2FL}2Knnn:}}:6n$KKH~T{$nnnnIt{$nD\n",
            "\n",
            "\n",
            "Input\tto - but what's wrong with Albus?' She came to a halt, panting, and stared down, wide-eyed, at Dumbl\n",
            "GT\to - but what's wrong with Albus?' She came to a halt, panting, and stared down, wide-eyed, at Dumble\n",
            "pred\t}Dn}};k}}~K0L\\::~fDRROfTHK2etUttiYn.KKne 0$nnnn0n20S1zOiF11111FO01;O:}LN$$nnn61qO~H6{;{\"$$8O:$nnnnIt\n",
            "\n",
            "\n",
            "Input\tt there when I put the cat out, but when I got upstairs -' 'We need to return to the castle at once,\n",
            "GT\t there when I put the cat out, but when I got upstairs -' 'We need to return to the castle at once,'\n",
            "pred\tzR}2zC$noKKRR``WiDn}2zne DnnnDD}}}D}6KKzR``OnDnnW:}L1mk`}YnvvznR$$$nnnnf{$DfRO}nn}KKne :Dt{n$$nnRR{8\n",
            "\n",
            "\n",
            "Input\tg back towards her pub as Harry and Dumble-dore kicked off from the ground and rose up into the air.\n",
            "GT\t back towards her pub as Harry and Dumble-dore kicked off from the ground and rose up into the air. \n",
            "pred\t1OI$eCODD60N;;`2KC{iiI}0::%sNNaOm1;OnnnIt{;;DD$ndT=C{Knn  n X00n}KKnOfDDRdOsR;OOD:$nni:TR1Dn}KKn$TC$\n",
            "\n",
            "\n"
          ],
          "name": "stdout"
        },
        {
          "output_type": "stream",
          "text": [
            "\r  0%|          | 0/195 [00:00<?, ?it/s]"
          ],
          "name": "stderr"
        },
        {
          "output_type": "stream",
          "text": [
            "\n",
            "Test set: Average loss: 22.5911, Accuracy: 15754/1260000 (1%)\n",
            "\n"
          ],
          "name": "stdout"
        },
        {
          "output_type": "stream",
          "text": [
            "  1%|          | 2/195 [00:00<00:38,  5.05it/s]"
          ],
          "name": "stderr"
        },
        {
          "output_type": "stream",
          "text": [
            "Train Epoch: 0 [0/49920 (0%)]\tLoss: 22.519093\n"
          ],
          "name": "stdout"
        },
        {
          "output_type": "stream",
          "text": [
            "  6%|▌         | 12/195 [00:01<00:26,  7.03it/s]"
          ],
          "name": "stderr"
        },
        {
          "output_type": "stream",
          "text": [
            "Train Epoch: 0 [2560/49920 (5%)]\tLoss: 31.556160\n"
          ],
          "name": "stdout"
        },
        {
          "output_type": "stream",
          "text": [
            " 11%|█▏        | 22/195 [00:03<00:23,  7.27it/s]"
          ],
          "name": "stderr"
        },
        {
          "output_type": "stream",
          "text": [
            "Train Epoch: 0 [5120/49920 (10%)]\tLoss: 13.070028\n"
          ],
          "name": "stdout"
        },
        {
          "output_type": "stream",
          "text": [
            " 16%|█▋        | 32/195 [00:04<00:22,  7.13it/s]"
          ],
          "name": "stderr"
        },
        {
          "output_type": "stream",
          "text": [
            "Train Epoch: 0 [7680/49920 (15%)]\tLoss: 8.152582\n"
          ],
          "name": "stdout"
        },
        {
          "output_type": "stream",
          "text": [
            " 22%|██▏       | 42/195 [00:05<00:20,  7.31it/s]"
          ],
          "name": "stderr"
        },
        {
          "output_type": "stream",
          "text": [
            "Train Epoch: 0 [10240/49920 (21%)]\tLoss: 6.910163\n"
          ],
          "name": "stdout"
        },
        {
          "output_type": "stream",
          "text": [
            " 27%|██▋       | 52/195 [00:07<00:19,  7.28it/s]"
          ],
          "name": "stderr"
        },
        {
          "output_type": "stream",
          "text": [
            "Train Epoch: 0 [12800/49920 (26%)]\tLoss: 5.032285\n"
          ],
          "name": "stdout"
        },
        {
          "output_type": "stream",
          "text": [
            " 32%|███▏      | 62/195 [00:08<00:18,  7.12it/s]"
          ],
          "name": "stderr"
        },
        {
          "output_type": "stream",
          "text": [
            "Train Epoch: 0 [15360/49920 (31%)]\tLoss: 4.729301\n"
          ],
          "name": "stdout"
        },
        {
          "output_type": "stream",
          "text": [
            " 37%|███▋      | 72/195 [00:10<00:16,  7.24it/s]"
          ],
          "name": "stderr"
        },
        {
          "output_type": "stream",
          "text": [
            "Train Epoch: 0 [17920/49920 (36%)]\tLoss: 4.613913\n"
          ],
          "name": "stdout"
        },
        {
          "output_type": "stream",
          "text": [
            " 42%|████▏     | 82/195 [00:11<00:15,  7.26it/s]"
          ],
          "name": "stderr"
        },
        {
          "output_type": "stream",
          "text": [
            "Train Epoch: 0 [20480/49920 (41%)]\tLoss: 3.682610\n"
          ],
          "name": "stdout"
        },
        {
          "output_type": "stream",
          "text": [
            " 47%|████▋     | 92/195 [00:12<00:14,  7.18it/s]"
          ],
          "name": "stderr"
        },
        {
          "output_type": "stream",
          "text": [
            "Train Epoch: 0 [23040/49920 (46%)]\tLoss: 3.030510\n"
          ],
          "name": "stdout"
        },
        {
          "output_type": "stream",
          "text": [
            " 52%|█████▏    | 102/195 [00:14<00:12,  7.29it/s]"
          ],
          "name": "stderr"
        },
        {
          "output_type": "stream",
          "text": [
            "Train Epoch: 0 [25600/49920 (51%)]\tLoss: 2.765766\n"
          ],
          "name": "stdout"
        },
        {
          "output_type": "stream",
          "text": [
            " 57%|█████▋    | 112/195 [00:15<00:11,  7.29it/s]"
          ],
          "name": "stderr"
        },
        {
          "output_type": "stream",
          "text": [
            "Train Epoch: 0 [28160/49920 (56%)]\tLoss: 3.310444\n"
          ],
          "name": "stdout"
        },
        {
          "output_type": "stream",
          "text": [
            " 63%|██████▎   | 122/195 [00:16<00:10,  7.29it/s]"
          ],
          "name": "stderr"
        },
        {
          "output_type": "stream",
          "text": [
            "Train Epoch: 0 [30720/49920 (62%)]\tLoss: 2.936039\n"
          ],
          "name": "stdout"
        },
        {
          "output_type": "stream",
          "text": [
            " 68%|██████▊   | 132/195 [00:18<00:08,  7.34it/s]"
          ],
          "name": "stderr"
        },
        {
          "output_type": "stream",
          "text": [
            "Train Epoch: 0 [33280/49920 (67%)]\tLoss: 2.616696\n"
          ],
          "name": "stdout"
        },
        {
          "output_type": "stream",
          "text": [
            " 73%|███████▎  | 142/195 [00:19<00:07,  7.13it/s]"
          ],
          "name": "stderr"
        },
        {
          "output_type": "stream",
          "text": [
            "Train Epoch: 0 [35840/49920 (72%)]\tLoss: 2.457408\n"
          ],
          "name": "stdout"
        },
        {
          "output_type": "stream",
          "text": [
            " 78%|███████▊  | 152/195 [00:21<00:05,  7.24it/s]"
          ],
          "name": "stderr"
        },
        {
          "output_type": "stream",
          "text": [
            "Train Epoch: 0 [38400/49920 (77%)]\tLoss: 2.446786\n"
          ],
          "name": "stdout"
        },
        {
          "output_type": "stream",
          "text": [
            " 83%|████████▎ | 162/195 [00:22<00:04,  7.16it/s]"
          ],
          "name": "stderr"
        },
        {
          "output_type": "stream",
          "text": [
            "Train Epoch: 0 [40960/49920 (82%)]\tLoss: 2.519312\n"
          ],
          "name": "stdout"
        },
        {
          "output_type": "stream",
          "text": [
            " 88%|████████▊ | 172/195 [00:23<00:03,  7.21it/s]"
          ],
          "name": "stderr"
        },
        {
          "output_type": "stream",
          "text": [
            "Train Epoch: 0 [43520/49920 (87%)]\tLoss: 2.442046\n"
          ],
          "name": "stdout"
        },
        {
          "output_type": "stream",
          "text": [
            " 93%|█████████▎| 182/195 [00:25<00:01,  7.03it/s]"
          ],
          "name": "stderr"
        },
        {
          "output_type": "stream",
          "text": [
            "Train Epoch: 0 [46080/49920 (92%)]\tLoss: 2.251398\n"
          ],
          "name": "stdout"
        },
        {
          "output_type": "stream",
          "text": [
            " 98%|█████████▊| 192/195 [00:26<00:00,  7.27it/s]"
          ],
          "name": "stderr"
        },
        {
          "output_type": "stream",
          "text": [
            "Train Epoch: 0 [48640/49920 (97%)]\tLoss: 2.285127\n"
          ],
          "name": "stdout"
        },
        {
          "output_type": "stream",
          "text": [
            "100%|██████████| 195/195 [00:27<00:00,  7.20it/s]\n"
          ],
          "name": "stderr"
        },
        {
          "output_type": "stream",
          "text": [
            "Input\ta great sigh and leaned against the cavern wall. \"I am weak...\" he said. \"Don't worry, sir,\" said Ha\n",
            "GT\t great sigh and leaned against the cavern wall. \"I am weak...\" he said. \"Don't worry, sir,\" said Har\n",
            "pred\trlooat saggtHnd raas,d stain,,ethe cape eooask .\"H mn Parre\".. He fapd  \"Iun'y wauky, Iale\" said Har\n",
            "\n",
            "\n",
            "Input\trossed the outer cave, and Harry helped Dumbledore back into the icy seawater that filled the crevic\n",
            "GT\tossed the outer cave, and Harry helped Dumbledore back into the icy seawater that filled the crevice\n",
            "pred\teseed toe lnt reeane  end Harry larped tumbledore teck bn o the lna laetay. etoet sogee  ooe gaeaeoe\n",
            "\n",
            "\n",
            "Input\tivering and dripping in the middle of the dark High Street in Hogsmeade. For one horrible moment Har\n",
            "GT\tvering and dripping in the middle of the dark High Street in Hogsmeade. For one horrible moment Harr\n",
            "pred\tneleng ond leeepeng ln the lelele cn ehe lenknlaghtblooeluonvtagsaetle \"\"er Tkl ga'roeee tetent.larr\n",
            "\n",
            "\n",
            "Input\t help, but there was nobody to be seen and all he could think was that he must somehow get Dumbledor\n",
            "GT\thelp, but there was nobody to be seen and all he could think was that he must somehow get Dumbledore\n",
            "pred\tte'pe Het Whe e tas retody fhlleelaevv.nd rnl earhaurd vheng yan ghet te cecteoane 'r lot oumbledore\n",
            "\n",
            "\n",
            "Input\tto - but what's wrong with Albus?' She came to a halt, panting, and stared down, wide-eyed, at Dumbl\n",
            "GT\to - but what's wrong with Albus?' She came to a halt, panting, and stared down, wide-eyed, at Dumble\n",
            "pred\th l eet Waat s gaeng?cazh tnaoty\" Hpe canp to gnlovll Har' ngl Hnd rarre  trnn  ghngnnled  vn tumble\n",
            "\n",
            "\n",
            "Input\tt there when I put the cat out, but when I got upstairs -' 'We need to return to the castle at once,\n",
            "GT\t there when I put the cat out, but when I got upstairs -' 'We need to return to the castle at once,'\n",
            "pred\t ghe e taan t kat -he gan tvt  tet taan t kot tp e rr,ep  DEh'geep to eevereeuh the raneee tn tvle  \n",
            "\n",
            "\n",
            "Input\tg back towards her pub as Harry and Dumble-dore kicked off from the ground and rose up into the air.\n",
            "GT\t back towards her pub as Harry and Dumble-dore kicked off from the ground and rose up into the air. \n",
            "pred\t?oerk to ard ,tereeateDnkearry lnd rumbledeooe'tnlked tn  Deom the loeund ond reoe tn -n o the rnre\"\n",
            "\n",
            "\n",
            "\n",
            "Test set: Average loss: 2.7564, Accuracy: 541448/1260000 (43%)\n",
            "\n",
            "Saved /gdrive/My Drive/colab_files/homework3/checkpoints/000.pt\n",
            "\n",
            "generated max\t\t Harry looked at me and said Harry four the got say to say the fall the fall the top other in the top of the can't say the can't say the can't say the can't say the can't say the can't call every lat Harry laught out of the care t\n",
            "generated sample\t Harry looked at me and said Umbrry kneway through fight to say through the parts of the fast the Weasley to laur queate Harry laught changered out of it was laugh, Harry laught the sappare to catch.\" \"You -\" \"I know was booksy br\n",
            "generated sample\t Harry looked at me and said Sluted to lat say through the real Slut of What Harry only over the lat Harry real out of Harry rected to the lat Harry laught our deeporture to expected to the top over through Harry laur, Harry Harry\n",
            "generated sample\t Harry looked at me and said Harry lat sappar, Harry latter,\" said Harry large only Harry laud, Harry laught out of care through the caster to be sat through Harry books been Nevervelause the sappare the going sall over elateles.\"\n",
            "generated sample\t Harry looked at me and said Harry, Harry sappare to Harry last the What say to say the cause to the top over through Harry felt say zard Harry laud, Harry laund, fund papear, Harry know Harry flap the for Harry laught save Harry \n",
            "generated sample\t Harry looked at me and said re, Harry, Ron, Harry felt Harry fal pared Harry flast the saway flast of the parouch Harry Ron, Harry lauder, Harry laught out of Harry Harry lauded Harry laught out of the books body lake to Harry re\n",
            "generated sample\t Harry looked at me and said of Harry laugh, the top other to say to the door botto say to chand, passat fat sat the cape fave the can' say the was Trelause to Harry books bottle Harry laught outer the really laught changered out \n",
            "generated sample\t Harry looked at me and said Harry through the real Slatter!\" Harry laugh. Harry laugh, Harry laud, Harry know cangered up, Harry really laugh, Harry Ron, Harry lassed, Harry rectered to lar parouch, Harry recept over the can to b\n",
            "generated sample\t Harry looked at me and said Harry sat sat for the first the gare for the castle Harry laught was Harry fal good fast sappear, Harry lauded out of the lared Harry lauder!\" Harry really laud, Harry laugh saway, Harry was been the t\n",
            "generated sample\t Harry looked at me and said vagood was fast the fath Rave the last trough Harry passand Harry laugh, it was face of Harry recteed to say through Harry large for Harry to be top over the top over to Harry lared usual out only laud\n",
            "generated sample\t Harry looked at me and said Harry four the try lat Harry four mustely must sappear, Harry knoward Harry laut only Harry furthut Harry rectered Harry laught chance was care through Harry Harry laught chan knewas the top over the l\n"
          ],
          "name": "stdout"
        },
        {
          "output_type": "stream",
          "text": [
            "\r  0%|          | 0/195 [00:00<?, ?it/s]"
          ],
          "name": "stderr"
        },
        {
          "output_type": "stream",
          "text": [
            "generated beam\t\t Harry looked at me and said Harry, Ron, Harry, Harry knoward Harry laud, Harry laught out of the really Harry knoward Harry laud, Harry laught out over through Harry knoward Harry laud, Harry laught out over through Harry looked\n",
            "\n"
          ],
          "name": "stdout"
        },
        {
          "output_type": "stream",
          "text": [
            "  1%|          | 2/195 [00:00<00:38,  5.08it/s]"
          ],
          "name": "stderr"
        },
        {
          "output_type": "stream",
          "text": [
            "Train Epoch: 1 [0/49920 (0%)]\tLoss: 2.612686\n"
          ],
          "name": "stdout"
        },
        {
          "output_type": "stream",
          "text": [
            "  6%|▌         | 12/195 [00:01<00:26,  7.00it/s]"
          ],
          "name": "stderr"
        },
        {
          "output_type": "stream",
          "text": [
            "Train Epoch: 1 [2560/49920 (5%)]\tLoss: 2.349157\n"
          ],
          "name": "stdout"
        },
        {
          "output_type": "stream",
          "text": [
            " 11%|█▏        | 22/195 [00:03<00:24,  7.15it/s]"
          ],
          "name": "stderr"
        },
        {
          "output_type": "stream",
          "text": [
            "Train Epoch: 1 [5120/49920 (10%)]\tLoss: 2.271153\n"
          ],
          "name": "stdout"
        },
        {
          "output_type": "stream",
          "text": [
            " 16%|█▋        | 32/195 [00:04<00:22,  7.11it/s]"
          ],
          "name": "stderr"
        },
        {
          "output_type": "stream",
          "text": [
            "Train Epoch: 1 [7680/49920 (15%)]\tLoss: 2.082983\n"
          ],
          "name": "stdout"
        },
        {
          "output_type": "stream",
          "text": [
            " 22%|██▏       | 42/195 [00:05<00:21,  7.13it/s]"
          ],
          "name": "stderr"
        },
        {
          "output_type": "stream",
          "text": [
            "Train Epoch: 1 [10240/49920 (21%)]\tLoss: 1.987756\n"
          ],
          "name": "stdout"
        },
        {
          "output_type": "stream",
          "text": [
            " 27%|██▋       | 52/195 [00:07<00:20,  7.10it/s]"
          ],
          "name": "stderr"
        },
        {
          "output_type": "stream",
          "text": [
            "Train Epoch: 1 [12800/49920 (26%)]\tLoss: 1.913624\n"
          ],
          "name": "stdout"
        },
        {
          "output_type": "stream",
          "text": [
            " 32%|███▏      | 62/195 [00:08<00:18,  7.23it/s]"
          ],
          "name": "stderr"
        },
        {
          "output_type": "stream",
          "text": [
            "Train Epoch: 1 [15360/49920 (31%)]\tLoss: 2.153206\n"
          ],
          "name": "stdout"
        },
        {
          "output_type": "stream",
          "text": [
            " 37%|███▋      | 72/195 [00:10<00:17,  7.14it/s]"
          ],
          "name": "stderr"
        },
        {
          "output_type": "stream",
          "text": [
            "Train Epoch: 1 [17920/49920 (36%)]\tLoss: 1.968173\n"
          ],
          "name": "stdout"
        },
        {
          "output_type": "stream",
          "text": [
            " 42%|████▏     | 82/195 [00:11<00:15,  7.11it/s]"
          ],
          "name": "stderr"
        },
        {
          "output_type": "stream",
          "text": [
            "Train Epoch: 1 [20480/49920 (41%)]\tLoss: 1.839333\n"
          ],
          "name": "stdout"
        },
        {
          "output_type": "stream",
          "text": [
            " 47%|████▋     | 92/195 [00:12<00:14,  6.96it/s]"
          ],
          "name": "stderr"
        },
        {
          "output_type": "stream",
          "text": [
            "Train Epoch: 1 [23040/49920 (46%)]\tLoss: 1.778669\n"
          ],
          "name": "stdout"
        },
        {
          "output_type": "stream",
          "text": [
            " 52%|█████▏    | 102/195 [00:14<00:13,  7.12it/s]"
          ],
          "name": "stderr"
        },
        {
          "output_type": "stream",
          "text": [
            "Train Epoch: 1 [25600/49920 (51%)]\tLoss: 1.892630\n"
          ],
          "name": "stdout"
        },
        {
          "output_type": "stream",
          "text": [
            " 57%|█████▋    | 112/195 [00:15<00:11,  7.07it/s]"
          ],
          "name": "stderr"
        },
        {
          "output_type": "stream",
          "text": [
            "Train Epoch: 1 [28160/49920 (56%)]\tLoss: 1.926569\n"
          ],
          "name": "stdout"
        },
        {
          "output_type": "stream",
          "text": [
            " 63%|██████▎   | 122/195 [00:17<00:10,  7.00it/s]"
          ],
          "name": "stderr"
        },
        {
          "output_type": "stream",
          "text": [
            "Train Epoch: 1 [30720/49920 (62%)]\tLoss: 1.917784\n"
          ],
          "name": "stdout"
        },
        {
          "output_type": "stream",
          "text": [
            " 68%|██████▊   | 132/195 [00:18<00:08,  7.03it/s]"
          ],
          "name": "stderr"
        },
        {
          "output_type": "stream",
          "text": [
            "Train Epoch: 1 [33280/49920 (67%)]\tLoss: 1.814739\n"
          ],
          "name": "stdout"
        },
        {
          "output_type": "stream",
          "text": [
            " 73%|███████▎  | 142/195 [00:20<00:07,  6.99it/s]"
          ],
          "name": "stderr"
        },
        {
          "output_type": "stream",
          "text": [
            "Train Epoch: 1 [35840/49920 (72%)]\tLoss: 1.856031\n"
          ],
          "name": "stdout"
        },
        {
          "output_type": "stream",
          "text": [
            " 78%|███████▊  | 152/195 [00:21<00:06,  7.10it/s]"
          ],
          "name": "stderr"
        },
        {
          "output_type": "stream",
          "text": [
            "Train Epoch: 1 [38400/49920 (77%)]\tLoss: 2.183249\n"
          ],
          "name": "stdout"
        },
        {
          "output_type": "stream",
          "text": [
            " 83%|████████▎ | 162/195 [00:22<00:04,  6.95it/s]"
          ],
          "name": "stderr"
        },
        {
          "output_type": "stream",
          "text": [
            "Train Epoch: 1 [40960/49920 (82%)]\tLoss: 1.870197\n"
          ],
          "name": "stdout"
        },
        {
          "output_type": "stream",
          "text": [
            " 88%|████████▊ | 172/195 [00:24<00:03,  7.06it/s]"
          ],
          "name": "stderr"
        },
        {
          "output_type": "stream",
          "text": [
            "Train Epoch: 1 [43520/49920 (87%)]\tLoss: 1.744755\n"
          ],
          "name": "stdout"
        },
        {
          "output_type": "stream",
          "text": [
            " 93%|█████████▎| 182/195 [00:25<00:01,  7.06it/s]"
          ],
          "name": "stderr"
        },
        {
          "output_type": "stream",
          "text": [
            "Train Epoch: 1 [46080/49920 (92%)]\tLoss: 1.679700\n"
          ],
          "name": "stdout"
        },
        {
          "output_type": "stream",
          "text": [
            " 98%|█████████▊| 192/195 [00:27<00:00,  7.06it/s]"
          ],
          "name": "stderr"
        },
        {
          "output_type": "stream",
          "text": [
            "Train Epoch: 1 [48640/49920 (97%)]\tLoss: 1.684875\n"
          ],
          "name": "stdout"
        },
        {
          "output_type": "stream",
          "text": [
            "100%|██████████| 195/195 [00:27<00:00,  7.09it/s]\n"
          ],
          "name": "stderr"
        },
        {
          "output_type": "stream",
          "text": [
            "Input\ta great sigh and leaned against the cavern wall. \"I am weak...\" he said. \"Don't worry, sir,\" said Ha\n",
            "GT\t great sigh and leaned against the cavern wall. \"I am weak...\" he said. \"Don't worry, sir,\" said Har\n",
            "pred\tngoeet soghttnd sotstd tnain   the sore  oohsk. \"I sn shrk, .  \"e said  \"Ion'  harky, ttt,  said Har\n",
            "\n",
            "\n",
            "Input\trossed the outer cave, and Harry helped Dumbledore back into the icy seawater that filled the crevic\n",
            "GT\tossed the outer cave, and Harry helped Dumbledore back into the icy seawater that filled the crevice\n",
            "pred\toss d hhe stt r oore  hnd herry faap d humbledore seck on o hhe ssc.foet.yc .ohet horled ohe sooaole\n",
            "\n",
            "\n",
            "Input\tivering and dripping in the middle of the dark High Street in Hogsmeade. For one horrible moment Har\n",
            "GT\tvering and dripping in the middle of the dark High Street in Hogsmeade. For one horrible moment Harr\n",
            "pred\tre .ng hld heep eng hn hhe sosdle of hhe serk sashttlooen ot togsmetne  \"rr hp  oelroble oesent oarr\n",
            "\n",
            "\n",
            "Input\t help, but there was nobody to be seen and all he could think was that he must somehow get Dumbledor\n",
            "GT\thelp, but there was nobody to be seen and all he could think was that he must somehow get Dumbledore\n",
            "pred\the p  hut hhe e ahs ootody hh heeohe  hld hll he homld hhes  hhs ohet he hoct oo e oo oot oumbledore\n",
            "\n",
            "\n",
            "Input\tto - but what's wrong with Albus?' She came to a halt, panting, and stared down, wide-eyed, at Dumbl\n",
            "GT\to - but what's wrong with Albus?' She came to a halt, panting, and stared down, wide-eyed, at Dumble\n",
            "pred\th h hut hhet s hhong hhth hnlus \" 'ee hone oh h lovl  horc cg  hnd hhore  hoon  hhte hled  hn humble\n",
            "\n",
            "\n",
            "Input\tt there when I put the cat out, but when I got upstairs -' 'We need to return to the castle at once,\n",
            "GT\t there when I put the cat out, but when I got upstairs -' 'We need to return to the castle at once,'\n",
            "pred\t hhe e thon h hol hhe sonchnt  hut hhen h hot hp   nls o  DEh hoed to tecurn oh hhe sore e on tn e  \n",
            "\n",
            "\n",
            "Input\tg back towards her pub as Harry and Dumble-dore kicked off from the ground and rose up into the air.\n",
            "GT\t back towards her pub as Harry and Dumble-dore kicked off from the ground and rose up into the air. \n",
            "pred\t heck oh ard  oe  hollDn horry hnd humbledoooe hnlk d hu  hiom hhe soound h d heoe hp hn o hhe snr  \n",
            "\n",
            "\n",
            "\n",
            "Test set: Average loss: 1.8240, Accuracy: 637286/1260000 (51%)\n",
            "\n",
            "Saved /gdrive/My Drive/colab_files/homework3/checkpoints/001.pt\n",
            "\n",
            "generated max\t\t Harry looked at me and said he said he said quickly. \"I should have something he said he said quickly. \"I should have been the stop of his something her for his something he said had been the stop of his something he said had bee\n",
            "generated sample\t Harry looked at me and said Ron has side shot one of the can us in her for the side for a some on he had side the door be stone of the sight of his head something he was stupposide to see though the sobs the said something her wa\n",
            "generated sample\t Harry looked at me and said what was sure to find his face of the stop sobs of the some off he said had she said quived bottle so fath seemed the stop of it was sit the side side of the screatured screwts as the but six the some \n",
            "generated sample\t Harry looked at me and said Malfoy feet from his head the side show of the stop of horror pers on his had sounced of his side stop of his should rum have said Ron had sure comp of his side it into the something her felt something\n",
            "generated sample\t Harry looked at me and said Harry full of fift he students of the sight and sort of the supposed the said look of his smiled as the slowly first. We slid you comple complet and his voices of the stop of his seemed the side to so \n",
            "generated sample\t Harry looked at me and said Malfoy for the still store was a go said so fast is some of the side sort of the side the said Harry, shuddents and whether he as sort busin somet is though he had slight up in the light the some of th\n",
            "generated sample\t Harry looked at me and said Ron has and little a few stop suidd Ron said had side to side still so small all the side sobs the stop of his side of the shot out of his should have been the still so some on his she could he should \n",
            "generated sample\t Harry looked at me and said the Dumbledore side the stafficular been old of some up something her had seen from some of the side the something he something his slipped her side stalk the books as head head some of the positicular\n",
            "generated sample\t Harry looked at me and said Sirius souble still at the sound as soft his had the side the stop of supposside as he said Professor McGonagall set of his stret for the silver some of the still see stop of his something her still so\n",
            "generated sample\t Harry looked at me and said you something ext making he stopposide he said quickly. \"I side side it that he busy before shaking her had been pulled he said Dumbledore shrible spress of Dumbledore snapped his slid Dumbledore soft \n",
            "generated sample\t Harry looked at me and said Dumbledore he said smild have the should have deep of his below should really supposed to see the seemed the stop so fall sortump something so family. \"You he side the stop of the books oppossibed here\n"
          ],
          "name": "stdout"
        },
        {
          "output_type": "stream",
          "text": [
            "\r  0%|          | 0/195 [00:00<?, ?it/s]"
          ],
          "name": "stderr"
        },
        {
          "output_type": "stream",
          "text": [
            "generated beam\t\t Harry looked at me and said Professor McGonagally. \"I should he said quickly. \"I should have been the something voice. \"I should he said quickly. \"I should have been out of the something out of his had been the something he had \n",
            "\n"
          ],
          "name": "stdout"
        },
        {
          "output_type": "stream",
          "text": [
            "  1%|          | 2/195 [00:00<00:38,  4.98it/s]"
          ],
          "name": "stderr"
        },
        {
          "output_type": "stream",
          "text": [
            "Train Epoch: 2 [0/49920 (0%)]\tLoss: 1.711198\n"
          ],
          "name": "stdout"
        },
        {
          "output_type": "stream",
          "text": [
            "  6%|▌         | 12/195 [00:01<00:25,  7.04it/s]"
          ],
          "name": "stderr"
        },
        {
          "output_type": "stream",
          "text": [
            "Train Epoch: 2 [2560/49920 (5%)]\tLoss: 1.737308\n"
          ],
          "name": "stdout"
        },
        {
          "output_type": "stream",
          "text": [
            " 11%|█▏        | 22/195 [00:03<00:24,  7.11it/s]"
          ],
          "name": "stderr"
        },
        {
          "output_type": "stream",
          "text": [
            "Train Epoch: 2 [5120/49920 (10%)]\tLoss: 1.703173\n"
          ],
          "name": "stdout"
        },
        {
          "output_type": "stream",
          "text": [
            " 16%|█▋        | 32/195 [00:04<00:22,  7.15it/s]"
          ],
          "name": "stderr"
        },
        {
          "output_type": "stream",
          "text": [
            "Train Epoch: 2 [7680/49920 (15%)]\tLoss: 1.790958\n"
          ],
          "name": "stdout"
        },
        {
          "output_type": "stream",
          "text": [
            " 22%|██▏       | 42/195 [00:05<00:21,  7.06it/s]"
          ],
          "name": "stderr"
        },
        {
          "output_type": "stream",
          "text": [
            "Train Epoch: 2 [10240/49920 (21%)]\tLoss: 1.816430\n"
          ],
          "name": "stdout"
        },
        {
          "output_type": "stream",
          "text": [
            " 27%|██▋       | 52/195 [00:07<00:20,  7.05it/s]"
          ],
          "name": "stderr"
        },
        {
          "output_type": "stream",
          "text": [
            "Train Epoch: 2 [12800/49920 (26%)]\tLoss: 1.796703\n"
          ],
          "name": "stdout"
        },
        {
          "output_type": "stream",
          "text": [
            " 32%|███▏      | 62/195 [00:08<00:18,  7.12it/s]"
          ],
          "name": "stderr"
        },
        {
          "output_type": "stream",
          "text": [
            "Train Epoch: 2 [15360/49920 (31%)]\tLoss: 1.752190\n"
          ],
          "name": "stdout"
        },
        {
          "output_type": "stream",
          "text": [
            " 37%|███▋      | 72/195 [00:10<00:17,  7.14it/s]"
          ],
          "name": "stderr"
        },
        {
          "output_type": "stream",
          "text": [
            "Train Epoch: 2 [17920/49920 (36%)]\tLoss: 1.669714\n"
          ],
          "name": "stdout"
        },
        {
          "output_type": "stream",
          "text": [
            " 42%|████▏     | 82/195 [00:11<00:15,  7.18it/s]"
          ],
          "name": "stderr"
        },
        {
          "output_type": "stream",
          "text": [
            "Train Epoch: 2 [20480/49920 (41%)]\tLoss: 1.689946\n"
          ],
          "name": "stdout"
        },
        {
          "output_type": "stream",
          "text": [
            " 47%|████▋     | 92/195 [00:12<00:14,  7.20it/s]"
          ],
          "name": "stderr"
        },
        {
          "output_type": "stream",
          "text": [
            "Train Epoch: 2 [23040/49920 (46%)]\tLoss: 1.757024\n"
          ],
          "name": "stdout"
        },
        {
          "output_type": "stream",
          "text": [
            " 52%|█████▏    | 102/195 [00:14<00:12,  7.18it/s]"
          ],
          "name": "stderr"
        },
        {
          "output_type": "stream",
          "text": [
            "Train Epoch: 2 [25600/49920 (51%)]\tLoss: 1.686811\n"
          ],
          "name": "stdout"
        },
        {
          "output_type": "stream",
          "text": [
            " 57%|█████▋    | 112/195 [00:15<00:11,  7.08it/s]"
          ],
          "name": "stderr"
        },
        {
          "output_type": "stream",
          "text": [
            "Train Epoch: 2 [28160/49920 (56%)]\tLoss: 1.611076\n"
          ],
          "name": "stdout"
        },
        {
          "output_type": "stream",
          "text": [
            " 63%|██████▎   | 122/195 [00:17<00:10,  7.15it/s]"
          ],
          "name": "stderr"
        },
        {
          "output_type": "stream",
          "text": [
            "Train Epoch: 2 [30720/49920 (62%)]\tLoss: 1.663735\n"
          ],
          "name": "stdout"
        },
        {
          "output_type": "stream",
          "text": [
            " 68%|██████▊   | 132/195 [00:18<00:08,  7.05it/s]"
          ],
          "name": "stderr"
        },
        {
          "output_type": "stream",
          "text": [
            "Train Epoch: 2 [33280/49920 (67%)]\tLoss: 1.644298\n"
          ],
          "name": "stdout"
        },
        {
          "output_type": "stream",
          "text": [
            " 73%|███████▎  | 142/195 [00:20<00:07,  7.08it/s]"
          ],
          "name": "stderr"
        },
        {
          "output_type": "stream",
          "text": [
            "Train Epoch: 2 [35840/49920 (72%)]\tLoss: 1.651423\n"
          ],
          "name": "stdout"
        },
        {
          "output_type": "stream",
          "text": [
            " 78%|███████▊  | 152/195 [00:21<00:06,  7.09it/s]"
          ],
          "name": "stderr"
        },
        {
          "output_type": "stream",
          "text": [
            "Train Epoch: 2 [38400/49920 (77%)]\tLoss: 1.681348\n"
          ],
          "name": "stdout"
        },
        {
          "output_type": "stream",
          "text": [
            " 83%|████████▎ | 162/195 [00:22<00:04,  7.11it/s]"
          ],
          "name": "stderr"
        },
        {
          "output_type": "stream",
          "text": [
            "Train Epoch: 2 [40960/49920 (82%)]\tLoss: 1.915097\n"
          ],
          "name": "stdout"
        },
        {
          "output_type": "stream",
          "text": [
            " 88%|████████▊ | 172/195 [00:24<00:03,  7.22it/s]"
          ],
          "name": "stderr"
        },
        {
          "output_type": "stream",
          "text": [
            "Train Epoch: 2 [43520/49920 (87%)]\tLoss: 1.726551\n"
          ],
          "name": "stdout"
        },
        {
          "output_type": "stream",
          "text": [
            " 93%|█████████▎| 182/195 [00:25<00:01,  7.08it/s]"
          ],
          "name": "stderr"
        },
        {
          "output_type": "stream",
          "text": [
            "Train Epoch: 2 [46080/49920 (92%)]\tLoss: 1.600734\n"
          ],
          "name": "stdout"
        },
        {
          "output_type": "stream",
          "text": [
            " 98%|█████████▊| 192/195 [00:27<00:00,  7.14it/s]"
          ],
          "name": "stderr"
        },
        {
          "output_type": "stream",
          "text": [
            "Train Epoch: 2 [48640/49920 (97%)]\tLoss: 1.572137\n"
          ],
          "name": "stdout"
        },
        {
          "output_type": "stream",
          "text": [
            "100%|██████████| 195/195 [00:27<00:00,  7.11it/s]\n"
          ],
          "name": "stderr"
        },
        {
          "output_type": "stream",
          "text": [
            "Input\ta great sigh and leaned against the cavern wall. \"I am weak...\" he said. \"Don't worry, sir,\" said Ha\n",
            "GT\t great sigh and leaned against the cavern wall. \"I am weak...\" he said. \"Don't worry, sir,\" said Har\n",
            "pred\trloeet solnttnd sitsdd ttain,t the torereoaask  \"H tm shrr,... \"e said  \"Iin't barky  tod,\" said Her\n",
            "\n",
            "\n",
            "Input\trossed the outer cave, and Harry helped Dumbledore back into the icy seawater that filled the crevic\n",
            "GT\tossed the outer cave, and Harry helped Dumbledore back into the icy seawater that filled the crevice\n",
            "pred\tess d hoe ctt r hore  tnd herry seap d hembledore seck on o hhe cnr loer,yer.thet herled hoe coeeede\n",
            "\n",
            "\n",
            "Input\tivering and dripping in the middle of the dark High Street in Hogsmeade. For one horrible moment Har\n",
            "GT\tvering and dripping in the middle of the dark High Street in Hogsmeade. For one horrible moment Harr\n",
            "pred\tne .ng hld heenpeng hn the cogdle on the cerk heshttnoien an tegwmeeded \"or Mn  oelrible tesent oarr\n",
            "\n",
            "\n",
            "Input\t help, but there was nobody to be seen and all he could think was that he must somehow get Dumbledor\n",
            "GT\thelp, but there was nobody to be seen and all he could think was that he must somehow get Dumbledore\n",
            "pred\therp  het hhe e aas ootody oo heeaoe  hld hll terhould hheng hhs shet he hoct oeretow mot oumbledore\n",
            "\n",
            "\n",
            "Input\tto - but what's wrong with Albus?' She came to a halt, panting, and stared down, wide-eyed, at Dumbl\n",
            "GT\to - but what's wrong with Albus?' She came to a halt, panting, and stared down, wide-eyed, at Dumble\n",
            "pred\th h iet hhet s hheng tith hnlus \" 'ie hole oo hllopll hoci ng  hnd hhrred town  thte hled  hn humble\n",
            "\n",
            "\n",
            "Input\tt there when I put the cat out, but when I got upstairs -' 'We need to return to the castle at once,\n",
            "GT\t there when I put the cat out, but when I got upstairs -' 'We need to return to the castle at once,'\n",
            "pred\t hhe e aaen h hol ihe holchnt  het hhen h hot ts e irs o  DEh hoed to tecurneao hhe corele,tn tnce  \n",
            "\n",
            "\n",
            "Input\tg back towards her pub as Harry and Dumble-dore kicked off from the ground and rose up into the air.\n",
            "GT\t back towards her pub as Harry and Dumble-dore kicked off from the ground and rose up into the air. \n",
            "pred\t heck oo ard  oe  hollDn herry hnd hembledoore hnnked hn  hoom hhe hreund hnd hele hn on o hhe cnr. \n",
            "\n",
            "\n",
            "\n",
            "Test set: Average loss: 1.7048, Accuracy: 646951/1260000 (51%)\n",
            "\n",
            "Saved /gdrive/My Drive/colab_files/homework3/checkpoints/002.pt\n",
            "\n",
            "generated max\t\t Harry looked at me and said Ron students and side the students and something her side the stood been side the side to be side the stood been side the stood been side the stood been side the stood been side the stood been side the\n",
            "generated sample\t Harry looked at me and said seemed though she where had seemed to be and her feet all the sturning to reck on the commentors. \"Where was not seemed at Harry been and she said quickly. \"Some usually for the Death memore silent som\n",
            "generated sample\t Harry looked at me and said Snape choice in the school windown and the dust out of his sure whether he housed the side was still screamus six conside in his were all did not out of the rest of the sort our side his siderus in the\n",
            "generated sample\t Harry looked at me and said it. They were stonight of the sure to see riss on the every school the said of the Hall feel sure on the corridors and sonly as he should ento her could he said Snape for the completely the side to bee\n",
            "generated sample\t Harry looked at me and said Snape soft his chains. \"He he's all your something to her pointed to see in the still come of his right find a side to Harry for heard the tapped his side. \"Who contranged at once of the stood all sorr\n",
            "generated sample\t Harry looked at me and said on the truck to returned to the who was streturn and he could suspick.... his should he said of his books.... so keep his complet......\" \"But I have door been something..........\" \"You cause on .....\" \n",
            "generated sample\t Harry looked at me and said Ron. \"You the still so let spulusing in a something her so centured out of his slight books... \"You side,\" said Ron sound a sure the side. \"The said Snape something. \"Why he has just returned to his wa\n",
            "generated sample\t Harry looked at me and said little the Deside in a side to saw on the Ministry sure of his side as in his enough filth. He had so stepped into the still silvers bedius head ross return chairs now stured to stret out of his been s\n",
            "generated sample\t Harry looked at me and said the back of her had side of the stupid of his she head and he supposed so been the more and softly. \"You see he hadn't seemed the ended to him. \"Where was on the time,\" said Ron should he said, \"Oh yel\n",
            "generated sample\t Harry looked at me and said Goyle, who seen his stupidditch the so bottle sound her sweeks....\" \"I should he was dor been side as he was only been all of the only stretched out of the side the top of he had been supposed been pur\n",
            "generated sample\t Harry looked at me and said the crivid it was sure of the staring the choice possibility reckon should not see the side to bed to be disgus it.... so McGonagall, so completed all the stepped and regure.....\" \"You conside to back \n"
          ],
          "name": "stdout"
        },
        {
          "output_type": "stream",
          "text": [
            "\r  0%|          | 0/195 [00:00<?, ?it/s]"
          ],
          "name": "stderr"
        },
        {
          "output_type": "stream",
          "text": [
            "generated beam\t\t Harry looked at me and said Hermione,\" said Hermione,\" said Hermione,\" said Hermione,\" said Hermione,\" said Hermione,\" said Dumbledore....\" said Hermione,\" said Hermione....\" said Hermione....\" said Hermione....\" \"What?\" said Ro\n",
            "\n"
          ],
          "name": "stdout"
        },
        {
          "output_type": "stream",
          "text": [
            "  1%|          | 2/195 [00:00<00:38,  5.04it/s]"
          ],
          "name": "stderr"
        },
        {
          "output_type": "stream",
          "text": [
            "Train Epoch: 3 [0/49920 (0%)]\tLoss: 1.593861\n"
          ],
          "name": "stdout"
        },
        {
          "output_type": "stream",
          "text": [
            "  6%|▌         | 12/195 [00:01<00:25,  7.13it/s]"
          ],
          "name": "stderr"
        },
        {
          "output_type": "stream",
          "text": [
            "Train Epoch: 3 [2560/49920 (5%)]\tLoss: 1.580520\n"
          ],
          "name": "stdout"
        },
        {
          "output_type": "stream",
          "text": [
            " 11%|█▏        | 22/195 [00:03<00:24,  7.16it/s]"
          ],
          "name": "stderr"
        },
        {
          "output_type": "stream",
          "text": [
            "Train Epoch: 3 [5120/49920 (10%)]\tLoss: 1.810393\n"
          ],
          "name": "stdout"
        },
        {
          "output_type": "stream",
          "text": [
            " 16%|█▋        | 32/195 [00:04<00:22,  7.17it/s]"
          ],
          "name": "stderr"
        },
        {
          "output_type": "stream",
          "text": [
            "Train Epoch: 3 [7680/49920 (15%)]\tLoss: 1.794361\n"
          ],
          "name": "stdout"
        },
        {
          "output_type": "stream",
          "text": [
            " 22%|██▏       | 42/195 [00:05<00:21,  7.17it/s]"
          ],
          "name": "stderr"
        },
        {
          "output_type": "stream",
          "text": [
            "Train Epoch: 3 [10240/49920 (21%)]\tLoss: 1.639522\n"
          ],
          "name": "stdout"
        },
        {
          "output_type": "stream",
          "text": [
            " 27%|██▋       | 52/195 [00:07<00:20,  7.11it/s]"
          ],
          "name": "stderr"
        },
        {
          "output_type": "stream",
          "text": [
            "Train Epoch: 3 [12800/49920 (26%)]\tLoss: 1.556168\n"
          ],
          "name": "stdout"
        },
        {
          "output_type": "stream",
          "text": [
            " 32%|███▏      | 62/195 [00:08<00:18,  7.10it/s]"
          ],
          "name": "stderr"
        },
        {
          "output_type": "stream",
          "text": [
            "Train Epoch: 3 [15360/49920 (31%)]\tLoss: 1.547092\n"
          ],
          "name": "stdout"
        },
        {
          "output_type": "stream",
          "text": [
            " 37%|███▋      | 72/195 [00:10<00:17,  7.02it/s]"
          ],
          "name": "stderr"
        },
        {
          "output_type": "stream",
          "text": [
            "Train Epoch: 3 [17920/49920 (36%)]\tLoss: 1.564863\n"
          ],
          "name": "stdout"
        },
        {
          "output_type": "stream",
          "text": [
            " 42%|████▏     | 82/195 [00:11<00:15,  7.11it/s]"
          ],
          "name": "stderr"
        },
        {
          "output_type": "stream",
          "text": [
            "Train Epoch: 3 [20480/49920 (41%)]\tLoss: 1.561804\n"
          ],
          "name": "stdout"
        },
        {
          "output_type": "stream",
          "text": [
            " 47%|████▋     | 92/195 [00:12<00:14,  7.14it/s]"
          ],
          "name": "stderr"
        },
        {
          "output_type": "stream",
          "text": [
            "Train Epoch: 3 [23040/49920 (46%)]\tLoss: 1.690204\n"
          ],
          "name": "stdout"
        },
        {
          "output_type": "stream",
          "text": [
            " 52%|█████▏    | 102/195 [00:14<00:13,  7.06it/s]"
          ],
          "name": "stderr"
        },
        {
          "output_type": "stream",
          "text": [
            "Train Epoch: 3 [25600/49920 (51%)]\tLoss: 1.642950\n"
          ],
          "name": "stdout"
        },
        {
          "output_type": "stream",
          "text": [
            " 57%|█████▋    | 112/195 [00:15<00:11,  7.06it/s]"
          ],
          "name": "stderr"
        },
        {
          "output_type": "stream",
          "text": [
            "Train Epoch: 3 [28160/49920 (56%)]\tLoss: 1.562048\n"
          ],
          "name": "stdout"
        },
        {
          "output_type": "stream",
          "text": [
            " 63%|██████▎   | 122/195 [00:17<00:10,  7.05it/s]"
          ],
          "name": "stderr"
        },
        {
          "output_type": "stream",
          "text": [
            "Train Epoch: 3 [30720/49920 (62%)]\tLoss: 1.554834\n"
          ],
          "name": "stdout"
        },
        {
          "output_type": "stream",
          "text": [
            " 68%|██████▊   | 132/195 [00:18<00:08,  7.06it/s]"
          ],
          "name": "stderr"
        },
        {
          "output_type": "stream",
          "text": [
            "Train Epoch: 3 [33280/49920 (67%)]\tLoss: 1.546653\n"
          ],
          "name": "stdout"
        },
        {
          "output_type": "stream",
          "text": [
            " 73%|███████▎  | 142/195 [00:20<00:07,  7.09it/s]"
          ],
          "name": "stderr"
        },
        {
          "output_type": "stream",
          "text": [
            "Train Epoch: 3 [35840/49920 (72%)]\tLoss: 1.549439\n"
          ],
          "name": "stdout"
        },
        {
          "output_type": "stream",
          "text": [
            " 78%|███████▊  | 152/195 [00:21<00:06,  6.92it/s]"
          ],
          "name": "stderr"
        },
        {
          "output_type": "stream",
          "text": [
            "Train Epoch: 3 [38400/49920 (77%)]\tLoss: 1.548739\n"
          ],
          "name": "stdout"
        },
        {
          "output_type": "stream",
          "text": [
            " 83%|████████▎ | 162/195 [00:22<00:04,  7.03it/s]"
          ],
          "name": "stderr"
        },
        {
          "output_type": "stream",
          "text": [
            "Train Epoch: 3 [40960/49920 (82%)]\tLoss: 1.533420\n"
          ],
          "name": "stdout"
        },
        {
          "output_type": "stream",
          "text": [
            " 88%|████████▊ | 172/195 [00:24<00:03,  7.03it/s]"
          ],
          "name": "stderr"
        },
        {
          "output_type": "stream",
          "text": [
            "Train Epoch: 3 [43520/49920 (87%)]\tLoss: 1.899913\n"
          ],
          "name": "stdout"
        },
        {
          "output_type": "stream",
          "text": [
            " 93%|█████████▎| 182/195 [00:25<00:01,  7.03it/s]"
          ],
          "name": "stderr"
        },
        {
          "output_type": "stream",
          "text": [
            "Train Epoch: 3 [46080/49920 (92%)]\tLoss: 1.714048\n"
          ],
          "name": "stdout"
        },
        {
          "output_type": "stream",
          "text": [
            " 98%|█████████▊| 192/195 [00:27<00:00,  7.11it/s]"
          ],
          "name": "stderr"
        },
        {
          "output_type": "stream",
          "text": [
            "Train Epoch: 3 [48640/49920 (97%)]\tLoss: 1.594398\n"
          ],
          "name": "stdout"
        },
        {
          "output_type": "stream",
          "text": [
            "100%|██████████| 195/195 [00:27<00:00,  7.10it/s]\n"
          ],
          "name": "stderr"
        },
        {
          "output_type": "stream",
          "text": [
            "Input\ta great sigh and leaned against the cavern wall. \"I am weak...\" he said. \"Don't worry, sir,\" said Ha\n",
            "GT\t great sigh and leaned against the cavern wall. \"I am weak...\" he said. \"Don't worry, sir,\" said Har\n",
            "pred\tnwreat aelntand sotntd tnain.t the sane eaaask  \"H am ah k, .  \"e said  \"Hun't warky,\"ttt,\" said Har\n",
            "\n",
            "\n",
            "Input\trossed the outer cave, and Harry helped Dumbledore back into the icy seawater that filled the crevic\n",
            "GT\tossed the outer cave, and Harry helped Dumbledore back into the icy seawater that filled the crevice\n",
            "pred\tews d toe stt l aane \"tnd harry aaap d tumbledore aack on o the snc aeet,yed.ahet horled ooe saeaede\n",
            "\n",
            "\n",
            "Input\tivering and dripping in the middle of the dark High Street in Hogsmeade. For one horrible moment Har\n",
            "GT\tvering and dripping in the middle of the dark High Street in Hogsmeade. For one horrible moment Harr\n",
            "pred\tne  ng a d heenpeng hn the sagdle of the serk,aaghtalouan an tagsmeade  \"or an  oewrible tevent oarr\n",
            "\n",
            "\n",
            "Input\t help, but there was nobody to be seen and all he could think was that he must somehow get Dumbledor\n",
            "GT\thelp, but there was nobody to be seen and all he could think was that he must somehow get Dumbledore\n",
            "pred\tte p  aut hhe e was aotody oo he aee  h d h l oe homld hheng ths ahet he wast he e ow mot oumbledore\n",
            "\n",
            "\n",
            "Input\tto - but what's wrong with Albus?' She came to a halt, panting, and stared down, wide-eyed, at Dumbl\n",
            "GT\to - but what's wrong with Albus?' She came to a halt, panting, and stared down, wide-eyed, at Dumble\n",
            "pred\th h iut hhat s hhing with auias   'ne wone oo h povt  horticg  and hhrntd aown  ahte lled  an humble\n",
            "\n",
            "\n",
            "Input\tt there when I put the cat out, but when I got upstairs -' 'We need to return to the castle at once,\n",
            "GT\t there when I put the cat out, but when I got upstairs -' 'We need to return to the castle at once,'\n",
            "pred\t hhe e waan h hol hhe sanctnt  hut hhan h hot ts  anrs o  'Ih hoed to tecern ao the santle an hn e  \n",
            "\n",
            "\n",
            "Input\tg back towards her pub as Harry and Dumble-dore kicked off from the ground and rose up into the air.\n",
            "GT\t back towards her pub as Harry and Dumble-dore kicked off from the ground and rose up into the air. \n",
            "pred\t heck to ard  he  colitn harry and hembledoore hnnked hn  hoom hhe srewnd h d hebe hn tn o the snr  \n",
            "\n",
            "\n",
            "\n",
            "Test set: Average loss: 1.6434, Accuracy: 671583/1260000 (53%)\n",
            "\n",
            "Saved /gdrive/My Drive/colab_files/homework3/checkpoints/003.pt\n",
            "\n",
            "generated max\t\t Harry looked at me and said Ron was a long with a stretched and he was desk and he was desk and he was a long with a stretched and he was desk and he was a long with a stretched and he was desk and he was a long with a stretched \n",
            "generated sample\t Harry looked at me and said to the streat was a long with a dement of the was drown in and Harry from the absed to the can down the toward the witch a decent, and he was a bad real disk and he was on the side the still was a litt\n",
            "generated sample\t Harry looked at me and said Ron can desk and a with his standing frown the windown on the claw what was a long witch is was a slight was on the bad right for a with the and her was down and the saw a busy still all of the scar ex\n",
            "generated sample\t Harry looked at me and said rest he was dread with a long with you are what he was don't he wand on the strent with his changed swere was under had been seemed to be was not to her school was quickly and he was down with desk as \n",
            "generated sample\t Harry looked at me and said Crouch and skinny and squal right night of the can trunk a which was for a watch with a long with a side what was desk and looking in a what into the stop of the can us in a which was down on his relat\n",
            "generated sample\t Harry looked at me and said he was side with his darkly and he was a long with a down the many on the Chouse hand side was don't want to the complet and the stop of the should recognizzlack up and he was directed stretacted the s\n",
            "generated sample\t Harry looked at me and said enough the making and he was a very looking a bursh and seemed to the strong in from the was a pickly and he was a long with a long with a suddenly in the communishing to saw and he saw and bit on what\n",
            "generated sample\t Harry looked at me and said him. \"What was clminage with a side the trunk about the staring armus and the same discusual following still shawl with a little with a picking some of the was down and stand Professor Trelawn was a lo\n",
            "generated sample\t Harry looked at me and said final me in a while Harry wand stret was almost and the not see and a cantin to his ever the stand down things and who was all on the clocking and scarded back to the even what was a long with a scar w\n",
            "generated sample\t Harry looked at me and said long, he was distreated all distry of the first the was down a desk with a very was on the side was drawled and see was suck been give was now, and he was don't what was supposed his wand a bew muckly \n",
            "generated sample\t Harry looked at me and said Cupin supposed to the stood a fall of the still give him and saw Demento was a large was succed and he cand looking at he was sweat Professor McGonagall was suddenly was a long with a little with the b\n"
          ],
          "name": "stdout"
        },
        {
          "output_type": "stream",
          "text": [
            "\r  0%|          | 0/195 [00:00<?, ?it/s]"
          ],
          "name": "stderr"
        },
        {
          "output_type": "stream",
          "text": [
            "generated beam\t\t Harry looked at me and said Professor McGonagall was a long with the stretched and he was a long with a little with a little of the still of the was a long with a little with a little with a little with a little with and he was \n",
            "\n"
          ],
          "name": "stdout"
        },
        {
          "output_type": "stream",
          "text": [
            "  1%|          | 2/195 [00:00<00:37,  5.13it/s]"
          ],
          "name": "stderr"
        },
        {
          "output_type": "stream",
          "text": [
            "Train Epoch: 4 [0/49920 (0%)]\tLoss: 1.601990\n"
          ],
          "name": "stdout"
        },
        {
          "output_type": "stream",
          "text": [
            "  6%|▌         | 12/195 [00:01<00:25,  7.08it/s]"
          ],
          "name": "stderr"
        },
        {
          "output_type": "stream",
          "text": [
            "Train Epoch: 4 [2560/49920 (5%)]\tLoss: 1.525368\n"
          ],
          "name": "stdout"
        },
        {
          "output_type": "stream",
          "text": [
            " 11%|█▏        | 22/195 [00:03<00:24,  7.18it/s]"
          ],
          "name": "stderr"
        },
        {
          "output_type": "stream",
          "text": [
            "Train Epoch: 4 [5120/49920 (10%)]\tLoss: 1.521452\n"
          ],
          "name": "stdout"
        },
        {
          "output_type": "stream",
          "text": [
            " 16%|█▋        | 32/195 [00:04<00:22,  7.18it/s]"
          ],
          "name": "stderr"
        },
        {
          "output_type": "stream",
          "text": [
            "Train Epoch: 4 [7680/49920 (15%)]\tLoss: 1.542119\n"
          ],
          "name": "stdout"
        },
        {
          "output_type": "stream",
          "text": [
            " 22%|██▏       | 42/195 [00:05<00:21,  7.15it/s]"
          ],
          "name": "stderr"
        },
        {
          "output_type": "stream",
          "text": [
            "Train Epoch: 4 [10240/49920 (21%)]\tLoss: 1.520861\n"
          ],
          "name": "stdout"
        },
        {
          "output_type": "stream",
          "text": [
            " 27%|██▋       | 52/195 [00:07<00:20,  7.07it/s]"
          ],
          "name": "stderr"
        },
        {
          "output_type": "stream",
          "text": [
            "Train Epoch: 4 [12800/49920 (26%)]\tLoss: 1.517682\n"
          ],
          "name": "stdout"
        },
        {
          "output_type": "stream",
          "text": [
            " 32%|███▏      | 62/195 [00:08<00:18,  7.16it/s]"
          ],
          "name": "stderr"
        },
        {
          "output_type": "stream",
          "text": [
            "Train Epoch: 4 [15360/49920 (31%)]\tLoss: 1.533361\n"
          ],
          "name": "stdout"
        },
        {
          "output_type": "stream",
          "text": [
            " 37%|███▋      | 72/195 [00:10<00:17,  7.12it/s]"
          ],
          "name": "stderr"
        },
        {
          "output_type": "stream",
          "text": [
            "Train Epoch: 4 [17920/49920 (36%)]\tLoss: 1.510076\n"
          ],
          "name": "stdout"
        },
        {
          "output_type": "stream",
          "text": [
            " 42%|████▏     | 82/195 [00:11<00:15,  7.07it/s]"
          ],
          "name": "stderr"
        },
        {
          "output_type": "stream",
          "text": [
            "Train Epoch: 4 [20480/49920 (41%)]\tLoss: 1.489541\n"
          ],
          "name": "stdout"
        },
        {
          "output_type": "stream",
          "text": [
            " 47%|████▋     | 92/195 [00:12<00:14,  7.16it/s]"
          ],
          "name": "stderr"
        },
        {
          "output_type": "stream",
          "text": [
            "Train Epoch: 4 [23040/49920 (46%)]\tLoss: 1.543545\n"
          ],
          "name": "stdout"
        },
        {
          "output_type": "stream",
          "text": [
            " 52%|█████▏    | 102/195 [00:14<00:13,  7.04it/s]"
          ],
          "name": "stderr"
        },
        {
          "output_type": "stream",
          "text": [
            "Train Epoch: 4 [25600/49920 (51%)]\tLoss: 2.085388\n"
          ],
          "name": "stdout"
        },
        {
          "output_type": "stream",
          "text": [
            " 57%|█████▋    | 112/195 [00:15<00:11,  7.18it/s]"
          ],
          "name": "stderr"
        },
        {
          "output_type": "stream",
          "text": [
            "Train Epoch: 4 [28160/49920 (56%)]\tLoss: 1.781935\n"
          ],
          "name": "stdout"
        },
        {
          "output_type": "stream",
          "text": [
            " 63%|██████▎   | 122/195 [00:17<00:10,  6.99it/s]"
          ],
          "name": "stderr"
        },
        {
          "output_type": "stream",
          "text": [
            "Train Epoch: 4 [30720/49920 (62%)]\tLoss: 1.619622\n"
          ],
          "name": "stdout"
        },
        {
          "output_type": "stream",
          "text": [
            " 68%|██████▊   | 132/195 [00:18<00:08,  7.02it/s]"
          ],
          "name": "stderr"
        },
        {
          "output_type": "stream",
          "text": [
            "Train Epoch: 4 [33280/49920 (67%)]\tLoss: 1.553904\n"
          ],
          "name": "stdout"
        },
        {
          "output_type": "stream",
          "text": [
            " 73%|███████▎  | 142/195 [00:20<00:07,  7.13it/s]"
          ],
          "name": "stderr"
        },
        {
          "output_type": "stream",
          "text": [
            "Train Epoch: 4 [35840/49920 (72%)]\tLoss: 1.502900\n"
          ],
          "name": "stdout"
        },
        {
          "output_type": "stream",
          "text": [
            " 78%|███████▊  | 152/195 [00:21<00:05,  7.22it/s]"
          ],
          "name": "stderr"
        },
        {
          "output_type": "stream",
          "text": [
            "Train Epoch: 4 [38400/49920 (77%)]\tLoss: 1.484398\n"
          ],
          "name": "stdout"
        },
        {
          "output_type": "stream",
          "text": [
            " 83%|████████▎ | 162/195 [00:22<00:04,  7.06it/s]"
          ],
          "name": "stderr"
        },
        {
          "output_type": "stream",
          "text": [
            "Train Epoch: 4 [40960/49920 (82%)]\tLoss: 1.500949\n"
          ],
          "name": "stdout"
        },
        {
          "output_type": "stream",
          "text": [
            " 88%|████████▊ | 172/195 [00:24<00:03,  7.18it/s]"
          ],
          "name": "stderr"
        },
        {
          "output_type": "stream",
          "text": [
            "Train Epoch: 4 [43520/49920 (87%)]\tLoss: 1.453509\n"
          ],
          "name": "stdout"
        },
        {
          "output_type": "stream",
          "text": [
            " 93%|█████████▎| 182/195 [00:25<00:01,  7.10it/s]"
          ],
          "name": "stderr"
        },
        {
          "output_type": "stream",
          "text": [
            "Train Epoch: 4 [46080/49920 (92%)]\tLoss: 1.471058\n"
          ],
          "name": "stdout"
        },
        {
          "output_type": "stream",
          "text": [
            " 98%|█████████▊| 192/195 [00:27<00:00,  7.12it/s]"
          ],
          "name": "stderr"
        },
        {
          "output_type": "stream",
          "text": [
            "Train Epoch: 4 [48640/49920 (97%)]\tLoss: 1.477777\n"
          ],
          "name": "stdout"
        },
        {
          "output_type": "stream",
          "text": [
            "100%|██████████| 195/195 [00:27<00:00,  7.11it/s]\n"
          ],
          "name": "stderr"
        },
        {
          "output_type": "stream",
          "text": [
            "Input\ta great sigh and leaned against the cavern wall. \"I am weak...\" he said. \"Don't worry, sir,\" said Ha\n",
            "GT\t great sigh and leaned against the cavern wall. \"I am weak...\" he said. \"Don't worry, sir,\" said Har\n",
            "pred\trfoeetesegnttnd soavdd tnainst the coue eetasks \"H hm sh'k,..  \"e said  \"Hun't yauky,\"tot,\" said Har\n",
            "\n",
            "\n",
            "Input\trossed the outer cave, and Harry helped Dumbledore back into the icy seawater that filled the crevic\n",
            "GT\tossed the outer cave, and Harry helped Dumbledore back into the icy seawater that filled the crevice\n",
            "pred\tessed hhe ctt d home \"tnd harry saad d humbledore,heck onto the cne heeteyed.thet herled hhe coeaede\n",
            "\n",
            "\n",
            "Input\tivering and dripping in the middle of the dark High Street in Hogsmeade. For one horrible moment Har\n",
            "GT\tvering and dripping in the middle of the dark High Street in Hogsmeade. For one horrible moment Harr\n",
            "pred\tneleng hld hoeppeng hntthe cogdle of the cerkshash tluuet ttttagsmeaded \"ir tne oelrible tesent tarr\n",
            "\n",
            "\n",
            "Input\t help, but there was nobody to be seen and all he could think was that he must somehow get Dumbledor\n",
            "GT\thelp, but there was nobody to be seen and all he could think was that he must somehow get Dumbledore\n",
            "pred\tteap  hut hhe e was sotody oo he seen hnd hll te hould hheng hhs shet he hast hemetow mlt tumbledore\n",
            "\n",
            "\n",
            "Input\tto - but what's wrong with Albus?' She came to a halt, panting, and stared down, wide-eyed, at Dumbl\n",
            "GT\to - but what's wrong with Albus?' She came to a halt, panting, and stared down, wide-eyed, at Dumble\n",
            "pred\th h hut hhet s hhetg.tith t lus \" 'le woue oo h lovl  heri cg  hnd hhrred town  thte dled  hn tumble\n",
            "\n",
            "\n",
            "Input\tt there when I put the cat out, but when I got upstairs -' 'We need to return to the castle at once,\n",
            "GT\t there when I put the cat out, but when I got upstairs -' 'We need to return to the castle at once,'\n",
            "pred\t she e waan h hel hhe colcsnt  hut hhen h hot ts eairs a- 'Ih hoed to tecurneto the couele tn tnce  \n",
            "\n",
            "\n",
            "Input\tg back towards her pub as Harry and Dumble-dore kicked off from the ground and rose up into the air.\n",
            "GT\t back towards her pub as Harry and Dumble-dore kicked off from the ground and rose up into the air. \n",
            "pred\t heck oo ard  te  ellltn harry snd humbledoore hnlked huf hoom the creund hnd hele tn tn o the cir. \n",
            "\n",
            "\n",
            "\n",
            "Test set: Average loss: 1.5697, Accuracy: 678156/1260000 (54%)\n",
            "\n",
            "Saved /gdrive/My Drive/colab_files/homework3/checkpoints/004.pt\n",
            "\n",
            "generated max\t\t Harry looked at me and said Ron, who was students to the stop of the common room, he said head something he was students to the students the stopped his should have to his chairs something he was students to the students to his c\n",
            "generated sample\t Harry looked at me and said Professor McGonagall the floor. Harry students that the haven't was standing to his heads on the really the commentors and something to the common rolls of the top of the things with the streeted to th\n",
            "generated sample\t Harry looked at me and said you know, let the Deants Cup. Harry students were signs you can hot to the back to the to the second of his fallso come of the cup of the sight of his wand something with usual something back of his co\n",
            "generated sample\t Harry looked at me and said Dumbledore, but he laughed into the common room the little such as and he was slight light the bottle to him with the door in the should have . . . the was stone what he was a lot could have to the sto\n",
            "generated sample\t Harry looked at me and said into the subjects of the commmon room that side of the sounded Dumbledore, he was students on the floor and something the stretchat with the middle of the common room. They had seemed to his school, so\n",
            "generated sample\t Harry looked at me and said Ron was still stuffyce of the set off the many of the smother sideways lettle bright, the cloud comment to the top of his chairs that day. \"She turned in the back on chair laughing end on his chairs, d\n",
            "generated sample\t Harry looked at me and said come of the was much met him in Fight something. Harry was students to his changed in the smoother suspicious looking up to the top of the the Death Eaters all subsucked her us to he light the side the\n",
            "generated sample\t Harry looked at me and said the window the table to his head to the the stomach the should down the something desk. He was stretched he did not to as the making her me, he contrest the played and pulled on the pulled him light su\n",
            "generated sample\t Harry looked at me and said Harry felt the students the bottom of the bottom off his stretched it was students that the was suddenly sound of the school with him second the the doors of the points for Dumbledore. \"You could have \n",
            "generated sample\t Harry looked at me and said Harry. \"She told her lips. Harry suddenly stairs that shoulder, he was sushed all the stopposity from the points of the common room, the others what the and Ron the lid slightening. \"She had to the com\n",
            "generated sample\t Harry looked at me and said the suddenly long from the light things the street this own the common reside the students to his changed to live ment to possible to much as the stood up he was stood lucking his suddenly slight to th\n"
          ],
          "name": "stdout"
        },
        {
          "output_type": "stream",
          "text": [
            "\r  0%|          | 0/195 [00:00<?, ?it/s]"
          ],
          "name": "stderr"
        },
        {
          "output_type": "stream",
          "text": [
            "generated beam\t\t Harry looked at me and said Dumbledore. \"Harry,\" said Dumbledore,\" said Dumbledore. \"Harry,\" said Dumbledore,\" said Dumbledore,\" said Dumbledore,\" said Dumbledore,\" said Dumbledore,\" said Dumbledore,\" said Dumbledore,\" said Harr\n",
            "\n"
          ],
          "name": "stdout"
        },
        {
          "output_type": "stream",
          "text": [
            "  1%|          | 2/195 [00:00<00:36,  5.26it/s]"
          ],
          "name": "stderr"
        },
        {
          "output_type": "stream",
          "text": [
            "Train Epoch: 5 [0/49920 (0%)]\tLoss: 1.513029\n"
          ],
          "name": "stdout"
        },
        {
          "output_type": "stream",
          "text": [
            "  6%|▌         | 12/195 [00:01<00:25,  7.17it/s]"
          ],
          "name": "stderr"
        },
        {
          "output_type": "stream",
          "text": [
            "Train Epoch: 5 [2560/49920 (5%)]\tLoss: 1.478934\n"
          ],
          "name": "stdout"
        },
        {
          "output_type": "stream",
          "text": [
            " 11%|█▏        | 22/195 [00:03<00:24,  7.12it/s]"
          ],
          "name": "stderr"
        },
        {
          "output_type": "stream",
          "text": [
            "Train Epoch: 5 [5120/49920 (10%)]\tLoss: 1.494026\n"
          ],
          "name": "stdout"
        },
        {
          "output_type": "stream",
          "text": [
            " 16%|█▋        | 32/195 [00:04<00:23,  6.99it/s]"
          ],
          "name": "stderr"
        },
        {
          "output_type": "stream",
          "text": [
            "Train Epoch: 5 [7680/49920 (15%)]\tLoss: 1.651671\n"
          ],
          "name": "stdout"
        },
        {
          "output_type": "stream",
          "text": [
            " 22%|██▏       | 42/195 [00:05<00:21,  7.05it/s]"
          ],
          "name": "stderr"
        },
        {
          "output_type": "stream",
          "text": [
            "Train Epoch: 5 [10240/49920 (21%)]\tLoss: 1.567539\n"
          ],
          "name": "stdout"
        },
        {
          "output_type": "stream",
          "text": [
            " 27%|██▋       | 52/195 [00:07<00:20,  7.07it/s]"
          ],
          "name": "stderr"
        },
        {
          "output_type": "stream",
          "text": [
            "Train Epoch: 5 [12800/49920 (26%)]\tLoss: 1.488275\n"
          ],
          "name": "stdout"
        },
        {
          "output_type": "stream",
          "text": [
            " 32%|███▏      | 62/195 [00:08<00:18,  7.09it/s]"
          ],
          "name": "stderr"
        },
        {
          "output_type": "stream",
          "text": [
            "Train Epoch: 5 [15360/49920 (31%)]\tLoss: 1.481417\n"
          ],
          "name": "stdout"
        },
        {
          "output_type": "stream",
          "text": [
            " 37%|███▋      | 72/195 [00:10<00:17,  7.19it/s]"
          ],
          "name": "stderr"
        },
        {
          "output_type": "stream",
          "text": [
            "Train Epoch: 5 [17920/49920 (36%)]\tLoss: 1.467268\n"
          ],
          "name": "stdout"
        },
        {
          "output_type": "stream",
          "text": [
            " 42%|████▏     | 82/195 [00:11<00:15,  7.13it/s]"
          ],
          "name": "stderr"
        },
        {
          "output_type": "stream",
          "text": [
            "Train Epoch: 5 [20480/49920 (41%)]\tLoss: 1.477076\n"
          ],
          "name": "stdout"
        },
        {
          "output_type": "stream",
          "text": [
            " 47%|████▋     | 92/195 [00:12<00:14,  7.16it/s]"
          ],
          "name": "stderr"
        },
        {
          "output_type": "stream",
          "text": [
            "Train Epoch: 5 [23040/49920 (46%)]\tLoss: 1.700005\n"
          ],
          "name": "stdout"
        },
        {
          "output_type": "stream",
          "text": [
            " 52%|█████▏    | 102/195 [00:14<00:13,  7.13it/s]"
          ],
          "name": "stderr"
        },
        {
          "output_type": "stream",
          "text": [
            "Train Epoch: 5 [25600/49920 (51%)]\tLoss: 1.564157\n"
          ],
          "name": "stdout"
        },
        {
          "output_type": "stream",
          "text": [
            " 57%|█████▋    | 112/195 [00:15<00:11,  7.10it/s]"
          ],
          "name": "stderr"
        },
        {
          "output_type": "stream",
          "text": [
            "Train Epoch: 5 [28160/49920 (56%)]\tLoss: 1.486834\n"
          ],
          "name": "stdout"
        },
        {
          "output_type": "stream",
          "text": [
            " 63%|██████▎   | 122/195 [00:17<00:10,  7.12it/s]"
          ],
          "name": "stderr"
        },
        {
          "output_type": "stream",
          "text": [
            "Train Epoch: 5 [30720/49920 (62%)]\tLoss: 1.468984\n"
          ],
          "name": "stdout"
        },
        {
          "output_type": "stream",
          "text": [
            " 68%|██████▊   | 132/195 [00:18<00:08,  7.23it/s]"
          ],
          "name": "stderr"
        },
        {
          "output_type": "stream",
          "text": [
            "Train Epoch: 5 [33280/49920 (67%)]\tLoss: 1.491955\n"
          ],
          "name": "stdout"
        },
        {
          "output_type": "stream",
          "text": [
            " 73%|███████▎  | 142/195 [00:19<00:07,  7.06it/s]"
          ],
          "name": "stderr"
        },
        {
          "output_type": "stream",
          "text": [
            "Train Epoch: 5 [35840/49920 (72%)]\tLoss: 1.449706\n"
          ],
          "name": "stdout"
        },
        {
          "output_type": "stream",
          "text": [
            " 78%|███████▊  | 152/195 [00:21<00:06,  6.94it/s]"
          ],
          "name": "stderr"
        },
        {
          "output_type": "stream",
          "text": [
            "Train Epoch: 5 [38400/49920 (77%)]\tLoss: 1.466638\n"
          ],
          "name": "stdout"
        },
        {
          "output_type": "stream",
          "text": [
            " 83%|████████▎ | 162/195 [00:22<00:04,  7.16it/s]"
          ],
          "name": "stderr"
        },
        {
          "output_type": "stream",
          "text": [
            "Train Epoch: 5 [40960/49920 (82%)]\tLoss: 1.435117\n"
          ],
          "name": "stdout"
        },
        {
          "output_type": "stream",
          "text": [
            " 88%|████████▊ | 172/195 [00:24<00:03,  7.12it/s]"
          ],
          "name": "stderr"
        },
        {
          "output_type": "stream",
          "text": [
            "Train Epoch: 5 [43520/49920 (87%)]\tLoss: 1.567113\n"
          ],
          "name": "stdout"
        },
        {
          "output_type": "stream",
          "text": [
            " 93%|█████████▎| 182/195 [00:25<00:01,  7.10it/s]"
          ],
          "name": "stderr"
        },
        {
          "output_type": "stream",
          "text": [
            "Train Epoch: 5 [46080/49920 (92%)]\tLoss: 1.625530\n"
          ],
          "name": "stdout"
        },
        {
          "output_type": "stream",
          "text": [
            " 98%|█████████▊| 192/195 [00:26<00:00,  7.10it/s]"
          ],
          "name": "stderr"
        },
        {
          "output_type": "stream",
          "text": [
            "Train Epoch: 5 [48640/49920 (97%)]\tLoss: 1.546919\n"
          ],
          "name": "stdout"
        },
        {
          "output_type": "stream",
          "text": [
            "100%|██████████| 195/195 [00:27<00:00,  7.12it/s]\n"
          ],
          "name": "stderr"
        },
        {
          "output_type": "stream",
          "text": [
            "Input\ta great sigh and leaned against the cavern wall. \"I am weak...\" he said. \"Don't worry, sir,\" said Ha\n",
            "GT\t great sigh and leaned against the cavern wall. \"I am weak...\" he said. \"Don't worry, sir,\" said Har\n",
            "pred\trrreeteaegntand liaved tnain.t the canereeaask  \"Y tl sirk, .  He said  \"Yon'  yarky,\"tod,\" said Har\n",
            "\n",
            "\n",
            "Input\trossed the outer cave, and Harry helped Dumbledore back into the icy seawater that filled the crevic\n",
            "GT\tossed the outer cave, and Harry helped Dumbledore back into the icy seawater that filled the crevice\n",
            "pred\tess d toe btt l aole  tnd tarry aaad d tumbledore.aeck tnto the cne atet,yer.aoet torlid toe caeaede\n",
            "\n",
            "\n",
            "Input\tivering and dripping in the middle of the dark High Street in Hogsmeade. For one horrible moment Har\n",
            "GT\tvering and dripping in the middle of the dark High Street in Hogsmeade. For one horrible moment Harr\n",
            "pred\tnereng ald loapping an the cogdle of the cerk,aashtatoueteat tagsmeade  \"or an  oelrible tosent tarr\n",
            "\n",
            "\n",
            "Input\t help, but there was nobody to be seen and all he could think was that he must somehow get Dumbledor\n",
            "GT\thelp, but there was nobody to be seen and all he could think was that he must somehow get Dumbledore\n",
            "pred\tae p  tut the e aas ao ody oo aeeaoe  and lll te would aoesg aas ahet te wast ae etow mlt tumbledore\n",
            "\n",
            "\n",
            "Input\tto - but what's wrong with Albus?' She came to a halt, panting, and stared down, wide-eyed, at Dumbl\n",
            "GT\to - but what's wrong with Albus?' She came to a halt, panting, and stared down, wide-eyed, at Dumble\n",
            "pred\th a aet taet s aaing aith allus \" sie wole ao allovf  teiiicg  snd loored aown  ahte eled  bn tumble\n",
            "\n",
            "\n",
            "Input\tt there when I put the cat out, but when I got upstairs -' 'We need to return to the castle at once,\n",
            "GT\t there when I put the cat out, but when I got upstairs -' 'We need to return to the castle at once,'\n",
            "pred\t sae e,aaen y wel toe calctnt  tet taen y wet tp iairs a  sIelseedeto leaurneao the caleei an tnce  \n",
            "\n",
            "\n",
            "Input\tg back towards her pub as Harry and Dumble-dore kicked off from the ground and rose up into the air.\n",
            "GT\t back towards her pub as Harry and Dumble-dore kicked off from the ground and rose up into the air. \n",
            "pred\t aeck to ard  te  ealitn tarry and lumbledoore.anlked an  toom the cleund and leoe tp tn o the cnr  \n",
            "\n",
            "\n",
            "\n",
            "Test set: Average loss: 1.5995, Accuracy: 675385/1260000 (54%)\n",
            "\n",
            "generated max\t\t Harry looked at me and said the can to a cleared and the caster and the caster and the caster and the close and the close and the close and the close and the close and the close and the close and the close and the close and the c\n",
            "generated sample\t Harry looked at me and said to get and follow to the back to and to the comment at once and really something and Ron and Harry and so take at the caught so behind room. The close to do a looked at the case to the soon and slightl\n",
            "generated sample\t Harry looked at me and said Wood was sound and he was a lot on with from the change with a later and already to be are and like listened to be and the cauldron our light. He was all the stone was a large, the window a large, when\n",
            "generated sample\t Harry looked at me and said a looking and Harry range done and live and he cupid's cheeks and Harry and the was all the cared side the climber and though he was stone was was alway and guard to all the could so take, the only all\n",
            "generated sample\t Harry looked at me and said to her fast the at the casley so when to be about the Death and staring at the so the call thing to a looking at the Deater and to leave the conce and looked and Ron was sure the was a little books and\n",
            "generated sample\t Harry looked at me and said through the was now and looking the sound on looking all on the back to the back to the convinced to and Harry really be cared and see was stand with and run and that the stopped and when he was stoppi\n",
            "generated sample\t Harry looked at me and said you been and Harry and real them was and was all the chest at once the close of the stopped dear, when Harry after and they was a looking back, but so that so the bangly as the side that so and the cou\n",
            "generated sample\t Harry looked at me and said Luna and laughted to and livide as a sure to do was a little to talk to the casterd and from the soft the lid so take at the side was all the so that once all very looking rather. \"Harry,\" said Ron was\n",
            "generated sample\t Harry looked at me and said Neville light. . . . . . the last you are. \"Dumbledore and all to the Death a was looking all table to do it. . . . . and gave a looking at all the was a so fall so for a snape for a looking all to all\n",
            "generated sample\t Harry looked at me and said quickly take, when the back to the case and the Chamber was all and Hermione been all then the checked and the close and real to as the was and so wand a looked at all the Dumbledore certainly the air \n",
            "generated sample\t Harry looked at me and said was standing to be and during at the stopped as though and a with a looking and little planning and the little to so do at all the side as though and light. The stepped to and a looking around a stongu\n"
          ],
          "name": "stdout"
        },
        {
          "output_type": "stream",
          "text": [
            "\r  0%|          | 0/195 [00:00<?, ?it/s]"
          ],
          "name": "stderr"
        },
        {
          "output_type": "stream",
          "text": [
            "generated beam\t\t Harry looked at me and said Professor McGonagall, looking and looking and looking around and looking about of the close and looking about of the walking about of them. Harry was looking around and looking about of the close and \n",
            "\n"
          ],
          "name": "stdout"
        },
        {
          "output_type": "stream",
          "text": [
            "  1%|          | 2/195 [00:00<00:38,  5.02it/s]"
          ],
          "name": "stderr"
        },
        {
          "output_type": "stream",
          "text": [
            "Train Epoch: 6 [0/49920 (0%)]\tLoss: 1.544127\n"
          ],
          "name": "stdout"
        },
        {
          "output_type": "stream",
          "text": [
            "  6%|▌         | 12/195 [00:01<00:26,  7.01it/s]"
          ],
          "name": "stderr"
        },
        {
          "output_type": "stream",
          "text": [
            "Train Epoch: 6 [2560/49920 (5%)]\tLoss: 1.488213\n"
          ],
          "name": "stdout"
        },
        {
          "output_type": "stream",
          "text": [
            " 11%|█▏        | 22/195 [00:03<00:24,  7.12it/s]"
          ],
          "name": "stderr"
        },
        {
          "output_type": "stream",
          "text": [
            "Train Epoch: 6 [5120/49920 (10%)]\tLoss: 1.452328\n"
          ],
          "name": "stdout"
        },
        {
          "output_type": "stream",
          "text": [
            " 16%|█▋        | 32/195 [00:04<00:22,  7.12it/s]"
          ],
          "name": "stderr"
        },
        {
          "output_type": "stream",
          "text": [
            "Train Epoch: 6 [7680/49920 (15%)]\tLoss: 1.473119\n"
          ],
          "name": "stdout"
        },
        {
          "output_type": "stream",
          "text": [
            " 22%|██▏       | 42/195 [00:05<00:21,  7.13it/s]"
          ],
          "name": "stderr"
        },
        {
          "output_type": "stream",
          "text": [
            "Train Epoch: 6 [10240/49920 (21%)]\tLoss: 1.435200\n"
          ],
          "name": "stdout"
        },
        {
          "output_type": "stream",
          "text": [
            " 27%|██▋       | 52/195 [00:07<00:20,  7.10it/s]"
          ],
          "name": "stderr"
        },
        {
          "output_type": "stream",
          "text": [
            "Train Epoch: 6 [12800/49920 (26%)]\tLoss: 1.497735\n"
          ],
          "name": "stdout"
        },
        {
          "output_type": "stream",
          "text": [
            " 32%|███▏      | 62/195 [00:08<00:18,  7.02it/s]"
          ],
          "name": "stderr"
        },
        {
          "output_type": "stream",
          "text": [
            "Train Epoch: 6 [15360/49920 (31%)]\tLoss: 1.510645\n"
          ],
          "name": "stdout"
        },
        {
          "output_type": "stream",
          "text": [
            " 37%|███▋      | 72/195 [00:10<00:17,  7.09it/s]"
          ],
          "name": "stderr"
        },
        {
          "output_type": "stream",
          "text": [
            "Train Epoch: 6 [17920/49920 (36%)]\tLoss: 1.531697\n"
          ],
          "name": "stdout"
        },
        {
          "output_type": "stream",
          "text": [
            " 42%|████▏     | 82/195 [00:11<00:15,  7.23it/s]"
          ],
          "name": "stderr"
        },
        {
          "output_type": "stream",
          "text": [
            "Train Epoch: 6 [20480/49920 (41%)]\tLoss: 1.444745\n"
          ],
          "name": "stdout"
        },
        {
          "output_type": "stream",
          "text": [
            " 47%|████▋     | 92/195 [00:13<00:14,  7.08it/s]"
          ],
          "name": "stderr"
        },
        {
          "output_type": "stream",
          "text": [
            "Train Epoch: 6 [23040/49920 (46%)]\tLoss: 1.447588\n"
          ],
          "name": "stdout"
        },
        {
          "output_type": "stream",
          "text": [
            " 52%|█████▏    | 102/195 [00:14<00:12,  7.19it/s]"
          ],
          "name": "stderr"
        },
        {
          "output_type": "stream",
          "text": [
            "Train Epoch: 6 [25600/49920 (51%)]\tLoss: 1.519459\n"
          ],
          "name": "stdout"
        },
        {
          "output_type": "stream",
          "text": [
            " 57%|█████▋    | 112/195 [00:15<00:11,  7.11it/s]"
          ],
          "name": "stderr"
        },
        {
          "output_type": "stream",
          "text": [
            "Train Epoch: 6 [28160/49920 (56%)]\tLoss: 1.454439\n"
          ],
          "name": "stdout"
        },
        {
          "output_type": "stream",
          "text": [
            " 63%|██████▎   | 122/195 [00:17<00:10,  7.00it/s]"
          ],
          "name": "stderr"
        },
        {
          "output_type": "stream",
          "text": [
            "Train Epoch: 6 [30720/49920 (62%)]\tLoss: 1.440694\n"
          ],
          "name": "stdout"
        },
        {
          "output_type": "stream",
          "text": [
            " 68%|██████▊   | 132/195 [00:18<00:08,  7.12it/s]"
          ],
          "name": "stderr"
        },
        {
          "output_type": "stream",
          "text": [
            "Train Epoch: 6 [33280/49920 (67%)]\tLoss: 1.464028\n"
          ],
          "name": "stdout"
        },
        {
          "output_type": "stream",
          "text": [
            " 73%|███████▎  | 142/195 [00:20<00:07,  6.99it/s]"
          ],
          "name": "stderr"
        },
        {
          "output_type": "stream",
          "text": [
            "Train Epoch: 6 [35840/49920 (72%)]\tLoss: 1.459915\n"
          ],
          "name": "stdout"
        },
        {
          "output_type": "stream",
          "text": [
            " 78%|███████▊  | 152/195 [00:21<00:06,  7.13it/s]"
          ],
          "name": "stderr"
        },
        {
          "output_type": "stream",
          "text": [
            "Train Epoch: 6 [38400/49920 (77%)]\tLoss: 1.448183\n"
          ],
          "name": "stdout"
        },
        {
          "output_type": "stream",
          "text": [
            " 83%|████████▎ | 162/195 [00:22<00:04,  7.05it/s]"
          ],
          "name": "stderr"
        },
        {
          "output_type": "stream",
          "text": [
            "Train Epoch: 6 [40960/49920 (82%)]\tLoss: 1.429566\n"
          ],
          "name": "stdout"
        },
        {
          "output_type": "stream",
          "text": [
            " 88%|████████▊ | 172/195 [00:24<00:03,  6.98it/s]"
          ],
          "name": "stderr"
        },
        {
          "output_type": "stream",
          "text": [
            "Train Epoch: 6 [43520/49920 (87%)]\tLoss: 1.491564\n"
          ],
          "name": "stdout"
        },
        {
          "output_type": "stream",
          "text": [
            " 93%|█████████▎| 182/195 [00:25<00:01,  7.09it/s]"
          ],
          "name": "stderr"
        },
        {
          "output_type": "stream",
          "text": [
            "Train Epoch: 6 [46080/49920 (92%)]\tLoss: 1.443392\n"
          ],
          "name": "stdout"
        },
        {
          "output_type": "stream",
          "text": [
            " 98%|█████████▊| 192/195 [00:27<00:00,  7.08it/s]"
          ],
          "name": "stderr"
        },
        {
          "output_type": "stream",
          "text": [
            "Train Epoch: 6 [48640/49920 (97%)]\tLoss: 1.437048\n"
          ],
          "name": "stdout"
        },
        {
          "output_type": "stream",
          "text": [
            "100%|██████████| 195/195 [00:27<00:00,  7.08it/s]\n"
          ],
          "name": "stderr"
        },
        {
          "output_type": "stream",
          "text": [
            "Input\ta great sigh and leaned against the cavern wall. \"I am weak...\" he said. \"Don't worry, sir,\" said Ha\n",
            "GT\t great sigh and leaned against the cavern wall. \"I am weak...\" he said. \"Don't worry, sir,\" said Har\n",
            "pred\trloeet aegnttnd sotved tnainst the clse eeaask. \"I sl sork,\".  \"e said  \"Ion'  yarky,\"tod,\" said Har\n",
            "\n",
            "\n",
            "Input\trossed the outer cave, and Harry helped Dumbledore back into the icy seawater that filled the crevic\n",
            "GT\tossed the outer cave, and Harry helped Dumbledore back into the icy seawater that filled the crevice\n",
            "pred\tewsed toe ctt s aole  tnd harry haap d humbledore.teck tn o the cne coet,yed.ahet honled ooe sleaede\n",
            "\n",
            "\n",
            "Input\tivering and dripping in the middle of the dark High Street in Hogsmeade. For one horrible moment Har\n",
            "GT\tvering and dripping in the middle of the dark High Street in Hogsmeade. For one horrible moment Harr\n",
            "pred\tneleng ald soeppeng hn the sogdle of the corksaash tluuen at tagsmeaded \"or an  oelrible torent tarr\n",
            "\n",
            "\n",
            "Input\t help, but there was nobody to be seen and all he could think was that he must somehow get Dumbledor\n",
            "GT\thelp, but there was nobody to be seen and all he could think was that he must somehow get Dumbledore\n",
            "pred\tte p  tut hhe e aas aotody oo he aeem tnd hll te hould hhesgsths ahet te wust ae etow mot tumbledore\n",
            "\n",
            "\n",
            "Input\tto - but what's wrong with Albus?' She came to a halt, panting, and stared down, wide-eyed, at Dumbl\n",
            "GT\to - but what's wrong with Albus?' She came to a halt, panting, and stared down, wide-eyed, at Dumble\n",
            "pred\th h aut hhet s hhetg tith tulus \" she wole oo t lovl  tusiing  snd hhared aown  ahte dled  an tumble\n",
            "\n",
            "\n",
            "Input\tt there when I put the cat out, but when I got upstairs -' 'We need to return to the castle at once,\n",
            "GT\t there when I put the cat out, but when I got upstairs -' 'We need to return to the castle at once,'\n",
            "pred\t the e aaan y sul hhe slscsnt  tut hhen h hot ts eairs a  sIhlseed to tecurneto the clsele tn tnce  \n",
            "\n",
            "\n",
            "Input\tg back towards her pub as Harry and Dumble-dore kicked off from the ground and rose up into the air.\n",
            "GT\t back towards her pub as Harry and Dumble-dore kicked off from the ground and rose up into the air. \n",
            "pred\t heck to ard  te  ellltn harry hnd humbledoore.helked hu  hoom the creund and seoe tp tn o the cir  \n",
            "\n",
            "\n",
            "\n",
            "Test set: Average loss: 1.4943, Accuracy: 699670/1260000 (56%)\n",
            "\n",
            "Saved /gdrive/My Drive/colab_files/homework3/checkpoints/006.pt\n",
            "\n",
            "generated max\t\t Harry looked at me and said the stand and she was still the standing her was still the standing her was still the standing her was still the standing her was still the standing her was still the standing her was still the standin\n",
            "generated sample\t Harry looked at me and said Dumbledore. \"And what he was all the taking her expellatered the made arms allowed the more and the lamps what the more and slight of the floor and he was before the stretched to her felt seemed to her\n",
            "generated sample\t Harry looked at me and said you know, howeek... he you'd be terrible he had now, they holding her expered it of them... They had all the cleared and students as he was on the end out of the sight, saw something reckon and Harry t\n",
            "generated sample\t Harry looked at me and said Could not the looked a lotter seemed the porridors of the for the back to at the points of his back. He stand was standing her was students and he was and Fudge but the same, the should get person when\n",
            "generated sample\t Harry looked at me and said me,\" said Harry. \"I, he to have all the expected to the light to the put he had been to be about the more. \"I should heavy would have the lamp something all there all terrible to him. \"My mean, he's so\n",
            "generated sample\t Harry looked at me and said Harry had and and he was a somer homework, and he sweetly to the little the stared and he had saw that sure the fall of his head and of his shing her contantly to the last the bat. The was stood on her\n",
            "generated sample\t Harry looked at me and said Neville to her he could let the been a long the pinks lightening now. \"You her examped and she was sort to him the windows all be about Harry had not to the she seemed to the later to the moment. \"You \n",
            "generated sample\t Harry looked at me and said so fall of his was been rember and he clent and he was she was shifty head and the light the still have to her lettle and so fall the looked up and she could some the looked around held been a sure alo\n",
            "generated sample\t Harry looked at me and said looked and all the clamps of his on his head and when the more and he was shing the closed his should has and the shoulder, and he would have to the points of the power the sobbed to his badge of the c\n",
            "generated sample\t Harry looked at me and said hand, the was mouth something her should her for the latered on the surveyed, the saw her was a with a sure of the three of the left the followed him for the bath. \"I have all the ling, they cloaks abo\n",
            "generated sample\t Harry looked at me and said Harry, he was should he had and looked all of the ... the remember have and he was still posity on the book of the potion to the end of his head, and he couldn't be and said Ron. \"Then my light to his \n"
          ],
          "name": "stdout"
        },
        {
          "output_type": "stream",
          "text": [
            "\r  0%|          | 0/195 [00:00<?, ?it/s]"
          ],
          "name": "stderr"
        },
        {
          "output_type": "stream",
          "text": [
            "generated beam\t\t Harry looked at me and said Dumbledore,\" said Harry. \"What's that's they haven't seemed,\" said Dumbledore,\" said Dumbledore,\" said Dumbledore,\" said Harry. \"You haven't seemed,\" said Dumbledore,\" said Dumbledore. \"You haven't se\n",
            "\n"
          ],
          "name": "stdout"
        },
        {
          "output_type": "stream",
          "text": [
            "  1%|          | 2/195 [00:00<00:39,  4.92it/s]"
          ],
          "name": "stderr"
        },
        {
          "output_type": "stream",
          "text": [
            "Train Epoch: 7 [0/49920 (0%)]\tLoss: 1.455715\n"
          ],
          "name": "stdout"
        },
        {
          "output_type": "stream",
          "text": [
            "  6%|▌         | 12/195 [00:01<00:26,  6.90it/s]"
          ],
          "name": "stderr"
        },
        {
          "output_type": "stream",
          "text": [
            "Train Epoch: 7 [2560/49920 (5%)]\tLoss: 1.444775\n"
          ],
          "name": "stdout"
        },
        {
          "output_type": "stream",
          "text": [
            " 11%|█▏        | 22/195 [00:03<00:24,  7.11it/s]"
          ],
          "name": "stderr"
        },
        {
          "output_type": "stream",
          "text": [
            "Train Epoch: 7 [5120/49920 (10%)]\tLoss: 1.525033\n"
          ],
          "name": "stdout"
        },
        {
          "output_type": "stream",
          "text": [
            " 16%|█▋        | 32/195 [00:04<00:22,  7.15it/s]"
          ],
          "name": "stderr"
        },
        {
          "output_type": "stream",
          "text": [
            "Train Epoch: 7 [7680/49920 (15%)]\tLoss: 2.237451\n"
          ],
          "name": "stdout"
        },
        {
          "output_type": "stream",
          "text": [
            " 22%|██▏       | 42/195 [00:06<00:21,  6.98it/s]"
          ],
          "name": "stderr"
        },
        {
          "output_type": "stream",
          "text": [
            "Train Epoch: 7 [10240/49920 (21%)]\tLoss: 1.764800\n"
          ],
          "name": "stdout"
        },
        {
          "output_type": "stream",
          "text": [
            " 27%|██▋       | 52/195 [00:07<00:19,  7.15it/s]"
          ],
          "name": "stderr"
        },
        {
          "output_type": "stream",
          "text": [
            "Train Epoch: 7 [12800/49920 (26%)]\tLoss: 1.544636\n"
          ],
          "name": "stdout"
        },
        {
          "output_type": "stream",
          "text": [
            " 32%|███▏      | 62/195 [00:08<00:18,  7.15it/s]"
          ],
          "name": "stderr"
        },
        {
          "output_type": "stream",
          "text": [
            "Train Epoch: 7 [15360/49920 (31%)]\tLoss: 1.488061\n"
          ],
          "name": "stdout"
        },
        {
          "output_type": "stream",
          "text": [
            " 37%|███▋      | 72/195 [00:10<00:17,  7.19it/s]"
          ],
          "name": "stderr"
        },
        {
          "output_type": "stream",
          "text": [
            "Train Epoch: 7 [17920/49920 (36%)]\tLoss: 1.452293\n"
          ],
          "name": "stdout"
        },
        {
          "output_type": "stream",
          "text": [
            " 42%|████▏     | 82/195 [00:11<00:16,  7.06it/s]"
          ],
          "name": "stderr"
        },
        {
          "output_type": "stream",
          "text": [
            "Train Epoch: 7 [20480/49920 (41%)]\tLoss: 1.413362\n"
          ],
          "name": "stdout"
        },
        {
          "output_type": "stream",
          "text": [
            " 47%|████▋     | 92/195 [00:13<00:14,  7.22it/s]"
          ],
          "name": "stderr"
        },
        {
          "output_type": "stream",
          "text": [
            "Train Epoch: 7 [23040/49920 (46%)]\tLoss: 1.417633\n"
          ],
          "name": "stdout"
        },
        {
          "output_type": "stream",
          "text": [
            " 52%|█████▏    | 102/195 [00:14<00:12,  7.16it/s]"
          ],
          "name": "stderr"
        },
        {
          "output_type": "stream",
          "text": [
            "Train Epoch: 7 [25600/49920 (51%)]\tLoss: 1.426614\n"
          ],
          "name": "stdout"
        },
        {
          "output_type": "stream",
          "text": [
            " 57%|█████▋    | 112/195 [00:15<00:11,  7.19it/s]"
          ],
          "name": "stderr"
        },
        {
          "output_type": "stream",
          "text": [
            "Train Epoch: 7 [28160/49920 (56%)]\tLoss: 1.413120\n"
          ],
          "name": "stdout"
        },
        {
          "output_type": "stream",
          "text": [
            " 63%|██████▎   | 122/195 [00:17<00:10,  7.07it/s]"
          ],
          "name": "stderr"
        },
        {
          "output_type": "stream",
          "text": [
            "Train Epoch: 7 [30720/49920 (62%)]\tLoss: 1.454533\n"
          ],
          "name": "stdout"
        },
        {
          "output_type": "stream",
          "text": [
            " 68%|██████▊   | 132/195 [00:18<00:08,  7.04it/s]"
          ],
          "name": "stderr"
        },
        {
          "output_type": "stream",
          "text": [
            "Train Epoch: 7 [33280/49920 (67%)]\tLoss: 1.486569\n"
          ],
          "name": "stdout"
        },
        {
          "output_type": "stream",
          "text": [
            " 73%|███████▎  | 142/195 [00:20<00:07,  6.97it/s]"
          ],
          "name": "stderr"
        },
        {
          "output_type": "stream",
          "text": [
            "Train Epoch: 7 [35840/49920 (72%)]\tLoss: 1.430432\n"
          ],
          "name": "stdout"
        },
        {
          "output_type": "stream",
          "text": [
            " 78%|███████▊  | 152/195 [00:21<00:06,  6.95it/s]"
          ],
          "name": "stderr"
        },
        {
          "output_type": "stream",
          "text": [
            "Train Epoch: 7 [38400/49920 (77%)]\tLoss: 1.449131\n"
          ],
          "name": "stdout"
        },
        {
          "output_type": "stream",
          "text": [
            " 83%|████████▎ | 162/195 [00:22<00:04,  7.12it/s]"
          ],
          "name": "stderr"
        },
        {
          "output_type": "stream",
          "text": [
            "Train Epoch: 7 [40960/49920 (82%)]\tLoss: 1.423254\n"
          ],
          "name": "stdout"
        },
        {
          "output_type": "stream",
          "text": [
            " 88%|████████▊ | 172/195 [00:24<00:03,  7.11it/s]"
          ],
          "name": "stderr"
        },
        {
          "output_type": "stream",
          "text": [
            "Train Epoch: 7 [43520/49920 (87%)]\tLoss: 1.457736\n"
          ],
          "name": "stdout"
        },
        {
          "output_type": "stream",
          "text": [
            " 93%|█████████▎| 182/195 [00:25<00:01,  7.00it/s]"
          ],
          "name": "stderr"
        },
        {
          "output_type": "stream",
          "text": [
            "Train Epoch: 7 [46080/49920 (92%)]\tLoss: 1.530295\n"
          ],
          "name": "stdout"
        },
        {
          "output_type": "stream",
          "text": [
            " 98%|█████████▊| 192/195 [00:27<00:00,  7.06it/s]"
          ],
          "name": "stderr"
        },
        {
          "output_type": "stream",
          "text": [
            "Train Epoch: 7 [48640/49920 (97%)]\tLoss: 1.453980\n"
          ],
          "name": "stdout"
        },
        {
          "output_type": "stream",
          "text": [
            "100%|██████████| 195/195 [00:27<00:00,  7.07it/s]\n"
          ],
          "name": "stderr"
        },
        {
          "output_type": "stream",
          "text": [
            "Input\ta great sigh and leaned against the cavern wall. \"I am weak...\" he said. \"Don't worry, sir,\" said Ha\n",
            "GT\t great sigh and leaned against the cavern wall. \"I am weak...\" he said. \"Don't worry, sir,\" said Har\n",
            "pred\trsoeet aedhttnd soavdd anainst the shse  oaask  \"I ss so k, .  se said  \"Ion'  sarky \"Iot,\" said Har\n",
            "\n",
            "\n",
            "Input\trossed the outer cave, and Harry helped Dumbledore back into the icy seawater that filled the crevic\n",
            "GT\tossed the outer cave, and Harry helped Dumbledore back into the icy seawater that filled the crevice\n",
            "pred\tess d toe stt s ahse  tnd sarry saap d aumbledore aeck on o the sne atet,yer aoet horl d ooe sheaele\n",
            "\n",
            "\n",
            "Input\tivering and dripping in the middle of the dark High Street in Hogsmeade. For one horrible moment Har\n",
            "GT\tvering and dripping in the middle of the dark High Street in Hogsmeade. For one horrible moment Harr\n",
            "pred\tne  ng atd soappeng hn the saddle of the sork aash anuuetaan tagwmeade  \"or af  oelrible aosent aarr\n",
            "\n",
            "\n",
            "Input\t help, but there was nobody to be seen and all he could think was that he must somehow get Dumbledor\n",
            "GT\thelp, but there was nobody to be seen and all he could think was that he must somehow get Dumbledore\n",
            "pred\taiap  sut hhe e aas aotody oo be auem and s l oe would hoesg ohs ahet te wust au e ow mot aumbledore\n",
            "\n",
            "\n",
            "Input\tto - but what's wrong with Albus?' She came to a halt, panting, and stared down, wide-eyed, at Dumbl\n",
            "GT\to - but what's wrong with Albus?' She came to a halt, panting, and stared down, wide-eyed, at Dumble\n",
            "pred\th s aut shat s ahing aith a bus \" she sose ao s sovf  susiycg  snd saartd aown  ahte wded  sn tumble\n",
            "\n",
            "\n",
            "Input\tt there when I put the cat out, but when I got upstairs -' 'We need to return to the castle at once,\n",
            "GT\t there when I put the cat out, but when I got upstairs -' 'We need to return to the castle at once,'\n",
            "pred\t she e aaan y sus hhe shscant  aut hhan y sot tp  airs a  s h seed to leaurn ao the shse e an tnce  \n",
            "\n",
            "\n",
            "Input\tg back towards her pub as Harry and Dumble-dore kicked off from the ground and rose up into the air.\n",
            "GT\t back towards her pub as Harry and Dumble-dore kicked off from the ground and rose up into the air. \n",
            "pred\t aack oo ard  ae  bal an harry and sumbledoore anlked au  hoom the sreund atd sele ap an o the sir  \n",
            "\n",
            "\n",
            "\n",
            "Test set: Average loss: 1.5165, Accuracy: 697373/1260000 (55%)\n",
            "\n",
            "generated max\t\t Harry looked at me and said so fall of the side of the side of the side of the side of the side of the side of the side of the side of the same and saw and saw that he was a sure and saw and saw that she was a looking at all of t\n",
            "generated sample\t Harry looked at me and said a surprised to parchment as he could so he was saw and sure what are and so following his was sky back was a loud on his sure as a parchmentaur chair so was Harry fall of his wand a suddenly and was al\n",
            "generated sample\t Harry looked at me and said checking on his was and the saw a boy of cour something visist of sight of rest of a little so muscular as he saw and supposed to be a side as he other slid out of the door on the speak. \"How change so\n",
            "generated sample\t Harry looked at me and said was as that he was a long like a saw and saw to silve with talking back of the bad reading and side and was sure and was a long up and he saw and a sure to be are and saw a silver side. \"That was down \n",
            "generated sample\t Harry looked at me and said hear the saw a back on his wand on a shot back on his head and suddenly pumped of his wand and nobody as he was showing back of Harry saw once what she was a such and be so face was stay of the back on\n",
            "generated sample\t Harry looked at me and said Harry was supposed to be stand as he was a should be of the same and should had been seemed to be about was a sure to was a long and Harry saw and started to be all the saw and soft pull of light back \n",
            "generated sample\t Harry looked at me and said Harry so table and saw strettack back and saw silver all the last to a back of his ear said was saw table to power the same as he had been said was and said on the polid out of the smash and he was sud\n",
            "generated sample\t Harry looked at me and said silve was a side a looking around his wand to his shuffling about in the chair and saw and saw, showing down and a lot of his suddenly. \"The was a looking so back and slightly under to his was a good l\n",
            "generated sample\t Harry looked at me and said and said seemed to be a looking at the was a was was looking up and Hogwarts susping her had so as she was along with so fall of points on the so as he could have been a long silver a was a small was s\n",
            "generated sample\t Harry looked at me and said so bags a dead and the had saw and shade and he was a side of the stared at his wand saw because are along and saw and under he was should supposed a soft of his wand on to his bad see you was a since \n",
            "generated sample\t Harry looked at me and said for a whole side as though he floor behind the scar what she was down and pulling at his hand the are so head along the way on looking up and gave a sure at all he was a little so beside side what she \n"
          ],
          "name": "stdout"
        },
        {
          "output_type": "stream",
          "text": [
            "\r  0%|          | 0/195 [00:00<?, ?it/s]"
          ],
          "name": "stderr"
        },
        {
          "output_type": "stream",
          "text": [
            "generated beam\t\t Harry looked at me and said Harry was supposed to be about of his wand and looking around as he was a looking out of his wand and looking around that he was a looking out of his wand and looking around as he was a looking around\n",
            "\n"
          ],
          "name": "stdout"
        },
        {
          "output_type": "stream",
          "text": [
            "  1%|          | 2/195 [00:00<00:36,  5.26it/s]"
          ],
          "name": "stderr"
        },
        {
          "output_type": "stream",
          "text": [
            "Train Epoch: 8 [0/49920 (0%)]\tLoss: 1.490493\n"
          ],
          "name": "stdout"
        },
        {
          "output_type": "stream",
          "text": [
            "  6%|▌         | 12/195 [00:01<00:26,  6.99it/s]"
          ],
          "name": "stderr"
        },
        {
          "output_type": "stream",
          "text": [
            "Train Epoch: 8 [2560/49920 (5%)]\tLoss: 1.449037\n"
          ],
          "name": "stdout"
        },
        {
          "output_type": "stream",
          "text": [
            " 11%|█▏        | 22/195 [00:03<00:24,  7.07it/s]"
          ],
          "name": "stderr"
        },
        {
          "output_type": "stream",
          "text": [
            "Train Epoch: 8 [5120/49920 (10%)]\tLoss: 1.425647\n"
          ],
          "name": "stdout"
        },
        {
          "output_type": "stream",
          "text": [
            " 16%|█▋        | 32/195 [00:04<00:22,  7.14it/s]"
          ],
          "name": "stderr"
        },
        {
          "output_type": "stream",
          "text": [
            "Train Epoch: 8 [7680/49920 (15%)]\tLoss: 1.471623\n"
          ],
          "name": "stdout"
        },
        {
          "output_type": "stream",
          "text": [
            " 22%|██▏       | 42/195 [00:06<00:21,  7.07it/s]"
          ],
          "name": "stderr"
        },
        {
          "output_type": "stream",
          "text": [
            "Train Epoch: 8 [10240/49920 (21%)]\tLoss: 1.750397\n"
          ],
          "name": "stdout"
        },
        {
          "output_type": "stream",
          "text": [
            " 27%|██▋       | 52/195 [00:07<00:19,  7.16it/s]"
          ],
          "name": "stderr"
        },
        {
          "output_type": "stream",
          "text": [
            "Train Epoch: 8 [12800/49920 (26%)]\tLoss: 1.521302\n"
          ],
          "name": "stdout"
        },
        {
          "output_type": "stream",
          "text": [
            " 32%|███▏      | 62/195 [00:08<00:18,  7.07it/s]"
          ],
          "name": "stderr"
        },
        {
          "output_type": "stream",
          "text": [
            "Train Epoch: 8 [15360/49920 (31%)]\tLoss: 1.466428\n"
          ],
          "name": "stdout"
        },
        {
          "output_type": "stream",
          "text": [
            " 37%|███▋      | 72/195 [00:10<00:17,  7.07it/s]"
          ],
          "name": "stderr"
        },
        {
          "output_type": "stream",
          "text": [
            "Train Epoch: 8 [17920/49920 (36%)]\tLoss: 1.419979\n"
          ],
          "name": "stdout"
        },
        {
          "output_type": "stream",
          "text": [
            " 42%|████▏     | 82/195 [00:11<00:15,  7.07it/s]"
          ],
          "name": "stderr"
        },
        {
          "output_type": "stream",
          "text": [
            "Train Epoch: 8 [20480/49920 (41%)]\tLoss: 1.389360\n"
          ],
          "name": "stdout"
        },
        {
          "output_type": "stream",
          "text": [
            " 47%|████▋     | 92/195 [00:13<00:14,  7.17it/s]"
          ],
          "name": "stderr"
        },
        {
          "output_type": "stream",
          "text": [
            "Train Epoch: 8 [23040/49920 (46%)]\tLoss: 1.400677\n"
          ],
          "name": "stdout"
        },
        {
          "output_type": "stream",
          "text": [
            " 52%|█████▏    | 102/195 [00:14<00:13,  7.09it/s]"
          ],
          "name": "stderr"
        },
        {
          "output_type": "stream",
          "text": [
            "Train Epoch: 8 [25600/49920 (51%)]\tLoss: 1.437776\n"
          ],
          "name": "stdout"
        },
        {
          "output_type": "stream",
          "text": [
            " 57%|█████▋    | 112/195 [00:15<00:11,  7.04it/s]"
          ],
          "name": "stderr"
        },
        {
          "output_type": "stream",
          "text": [
            "Train Epoch: 8 [28160/49920 (56%)]\tLoss: 1.441084\n"
          ],
          "name": "stdout"
        },
        {
          "output_type": "stream",
          "text": [
            " 63%|██████▎   | 122/195 [00:17<00:10,  7.10it/s]"
          ],
          "name": "stderr"
        },
        {
          "output_type": "stream",
          "text": [
            "Train Epoch: 8 [30720/49920 (62%)]\tLoss: 1.421458\n"
          ],
          "name": "stdout"
        },
        {
          "output_type": "stream",
          "text": [
            " 68%|██████▊   | 132/195 [00:18<00:08,  7.02it/s]"
          ],
          "name": "stderr"
        },
        {
          "output_type": "stream",
          "text": [
            "Train Epoch: 8 [33280/49920 (67%)]\tLoss: 1.494893\n"
          ],
          "name": "stdout"
        },
        {
          "output_type": "stream",
          "text": [
            " 73%|███████▎  | 142/195 [00:20<00:07,  6.96it/s]"
          ],
          "name": "stderr"
        },
        {
          "output_type": "stream",
          "text": [
            "Train Epoch: 8 [35840/49920 (72%)]\tLoss: 1.458124\n"
          ],
          "name": "stdout"
        },
        {
          "output_type": "stream",
          "text": [
            " 78%|███████▊  | 152/195 [00:21<00:06,  7.01it/s]"
          ],
          "name": "stderr"
        },
        {
          "output_type": "stream",
          "text": [
            "Train Epoch: 8 [38400/49920 (77%)]\tLoss: 1.460517\n"
          ],
          "name": "stdout"
        },
        {
          "output_type": "stream",
          "text": [
            " 83%|████████▎ | 162/195 [00:22<00:04,  7.11it/s]"
          ],
          "name": "stderr"
        },
        {
          "output_type": "stream",
          "text": [
            "Train Epoch: 8 [40960/49920 (82%)]\tLoss: 1.478005\n"
          ],
          "name": "stdout"
        },
        {
          "output_type": "stream",
          "text": [
            " 88%|████████▊ | 172/195 [00:24<00:03,  7.15it/s]"
          ],
          "name": "stderr"
        },
        {
          "output_type": "stream",
          "text": [
            "Train Epoch: 8 [43520/49920 (87%)]\tLoss: 1.425248\n"
          ],
          "name": "stdout"
        },
        {
          "output_type": "stream",
          "text": [
            " 93%|█████████▎| 182/195 [00:25<00:01,  7.05it/s]"
          ],
          "name": "stderr"
        },
        {
          "output_type": "stream",
          "text": [
            "Train Epoch: 8 [46080/49920 (92%)]\tLoss: 1.400667\n"
          ],
          "name": "stdout"
        },
        {
          "output_type": "stream",
          "text": [
            " 98%|█████████▊| 192/195 [00:27<00:00,  7.12it/s]"
          ],
          "name": "stderr"
        },
        {
          "output_type": "stream",
          "text": [
            "Train Epoch: 8 [48640/49920 (97%)]\tLoss: 1.411891\n"
          ],
          "name": "stdout"
        },
        {
          "output_type": "stream",
          "text": [
            "100%|██████████| 195/195 [00:27<00:00,  7.08it/s]\n"
          ],
          "name": "stderr"
        },
        {
          "output_type": "stream",
          "text": [
            "Input\ta great sigh and leaned against the cavern wall. \"I am weak...\" he said. \"Don't worry, sir,\" said Ha\n",
            "GT\t great sigh and leaned against the cavern wall. \"I am weak...\" he said. \"Don't worry, sir,\" said Har\n",
            "pred\trlreeteaednttnd soaded tnain.t the corer eaask. \"I'sl Ihrr,..  \"e said  \"Ion't bauky,\"Ior,\" said Har\n",
            "\n",
            "\n",
            "Input\trossed the outer cave, and Harry helped Dumbledore back into the icy seawater that filled the crevic\n",
            "GT\tossed the outer cave, and Harry helped Dumbledore back into the icy seawater that filled the crevice\n",
            "pred\tessed the btt s aore  tnd sarry haaded humbledore.weck onto the cne aoet,yer.ahet horled ohe cooaele\n",
            "\n",
            "\n",
            "Input\tivering and dripping in the middle of the dark High Street in Hogsmeade. For one horrible moment Har\n",
            "GT\tvering and dripping in the middle of the dark High Street in Hogsmeade. For one horrible moment Harr\n",
            "pred\tnereng ald soeppeng hntthe cagdle of the cerk aash anuuenuanttagwmeaded \"or an  oelrible torent tarr\n",
            "\n",
            "\n",
            "Input\t help, but there was nobody to be seen and all he could think was that he must somehow get Dumbledor\n",
            "GT\thelp, but there was nobody to be seen and all he could think was that he must somehow get Dumbledore\n",
            "pred\tairp  aut hhe e was aotody oo he auem tnd sll oe would hhesg ths ahet he wust be etow mltttumbledore\n",
            "\n",
            "\n",
            "Input\tto - but what's wrong with Albus?' She came to a halt, panting, and stared down, wide-eyed, at Dumbl\n",
            "GT\to - but what's wrong with Albus?' She came to a halt, panting, and stared down, wide-eyed, at Dumble\n",
            "pred\th h aut hhet s hhitg tith tulus \" Hne woue bo h sovl  turiing  snd shrred aown  ahte dded  an humble\n",
            "\n",
            "\n",
            "Input\tt there when I put the cat out, but when I got upstairs -' 'We need to return to the castle at once,\n",
            "GT\t there when I put the cat out, but when I got upstairs -' 'We need to return to the castle at once,'\n",
            "pred\t she e aaan t sus hhe coscant  tut hhen t sot ts eairs a- sIhlseedeto tecurneto the cosele an tnce  \n",
            "\n",
            "\n",
            "Input\tg back towards her pub as Harry and Dumble-dore kicked off from the ground and rose up into the air.\n",
            "GT\t back towards her pub as Harry and Dumble-dore kicked off from the ground and rose up into the air. \n",
            "pred\t aeck to ard  te  elllan harry and humbledoore.aelked hu  hoom the ereund and sele tp an o the cir  \n",
            "\n",
            "\n",
            "\n",
            "Test set: Average loss: 1.4575, Accuracy: 704511/1260000 (56%)\n",
            "\n",
            "Saved /gdrive/My Drive/colab_files/homework3/checkpoints/008.pt\n",
            "\n",
            "generated max\t\t Harry looked at me and said the back of the corridor. \"I'm got to be about the common room,\" said Harry really decided in the corridor. \"I should have been and so the could have all on the corridor. \"I'm got to be about the commo\n",
            "generated sample\t Harry looked at me and said Ron and he was sure when year, he said halfway on the to her followeed him. \"Good only the parchment. \"I'm the lay for your you've heard?\" said Harry. \"What's deep you get the signs the all. \"I should \n",
            "generated sample\t Harry looked at me and said had been the side of his should be been saw quidditch as he did not the ter one of the corridor and all received his changed down and Harry had been looked are. \"What's what he had been to get out out \n",
            "generated sample\t Harry looked at me and said stepped in the air only the barely had been a book a pain. They was a lot on the bask, with a floor been but he was and been repeared and the terrible so much as he felt he the clit back in the decents\n",
            "generated sample\t Harry looked at me and said so he had note to look on his bed when the large, but he was neared his only head sortlet. He had flughorn head stopped in a large and looked up into her expected back and streeted to help under his ba\n",
            "generated sample\t Harry looked at me and said Ginny. \"I'm sure that's are you for and must usual got usual all they deserted the first the beside the dementors and saw that he was not to subject even concent at her could have as he would down the \n",
            "generated sample\t Harry looked at me and said silver even really longer the first how he had been a saw that he what he had been the sky. He was said Malfoy and suddenly on the cholid was and he was all the large had been a large, and behind help \n",
            "generated sample\t Harry looked at me and said expell, they door been and he did not to the the window. \"But I'm us?\" said Harry really examing her said along the still something the things he was so that she had unear head had and looked around th\n",
            "generated sample\t Harry looked at me and said Malfogy in her back he had something else where he had been bed with his face. \"How do you think you got understand at her heard he could have all on the come on his planning all. \"I must her eyes now,\n",
            "generated sample\t Harry looked at me and said Harry had been to extrance he was shot and discussions whened he could having he had prived up and her seemed to his wand and looking all on the side of the side had common room. \"I'm got anything to e\n",
            "generated sample\t Harry looked at me and said Sirius had all for he had been been the curled out of his head, \"but he was a long still got and saw that. \"No what what something elbow; and she was a falling about he could been both when all heard t\n"
          ],
          "name": "stdout"
        },
        {
          "output_type": "stream",
          "text": [
            "\r  0%|          | 0/195 [00:00<?, ?it/s]"
          ],
          "name": "stderr"
        },
        {
          "output_type": "stream",
          "text": [
            "generated beam\t\t Harry looked at me and said Dumbledore. \"What's what?\" said Professor McGonagall. \"What's what?\" said Professor McGonagall. \"What's what?\" said Dumbledore. \"What's what?\" said Professor McGonagall. \"What's what?\" said Hermione. \n",
            "\n"
          ],
          "name": "stdout"
        },
        {
          "output_type": "stream",
          "text": [
            "  1%|          | 2/195 [00:00<00:38,  5.00it/s]"
          ],
          "name": "stderr"
        },
        {
          "output_type": "stream",
          "text": [
            "Train Epoch: 9 [0/49920 (0%)]\tLoss: 1.430019\n"
          ],
          "name": "stdout"
        },
        {
          "output_type": "stream",
          "text": [
            "  6%|▌         | 12/195 [00:01<00:26,  6.92it/s]"
          ],
          "name": "stderr"
        },
        {
          "output_type": "stream",
          "text": [
            "Train Epoch: 9 [2560/49920 (5%)]\tLoss: 1.465492\n"
          ],
          "name": "stdout"
        },
        {
          "output_type": "stream",
          "text": [
            " 11%|█▏        | 22/195 [00:03<00:24,  7.08it/s]"
          ],
          "name": "stderr"
        },
        {
          "output_type": "stream",
          "text": [
            "Train Epoch: 9 [5120/49920 (10%)]\tLoss: 1.481887\n"
          ],
          "name": "stdout"
        },
        {
          "output_type": "stream",
          "text": [
            " 16%|█▋        | 32/195 [00:04<00:22,  7.14it/s]"
          ],
          "name": "stderr"
        },
        {
          "output_type": "stream",
          "text": [
            "Train Epoch: 9 [7680/49920 (15%)]\tLoss: 1.988417\n"
          ],
          "name": "stdout"
        },
        {
          "output_type": "stream",
          "text": [
            " 22%|██▏       | 42/195 [00:06<00:21,  7.03it/s]"
          ],
          "name": "stderr"
        },
        {
          "output_type": "stream",
          "text": [
            "Train Epoch: 9 [10240/49920 (21%)]\tLoss: 1.585741\n"
          ],
          "name": "stdout"
        },
        {
          "output_type": "stream",
          "text": [
            " 27%|██▋       | 52/195 [00:07<00:20,  7.03it/s]"
          ],
          "name": "stderr"
        },
        {
          "output_type": "stream",
          "text": [
            "Train Epoch: 9 [12800/49920 (26%)]\tLoss: 1.472299\n"
          ],
          "name": "stdout"
        },
        {
          "output_type": "stream",
          "text": [
            " 32%|███▏      | 62/195 [00:08<00:18,  7.16it/s]"
          ],
          "name": "stderr"
        },
        {
          "output_type": "stream",
          "text": [
            "Train Epoch: 9 [15360/49920 (31%)]\tLoss: 1.435859\n"
          ],
          "name": "stdout"
        },
        {
          "output_type": "stream",
          "text": [
            " 37%|███▋      | 72/195 [00:10<00:17,  7.00it/s]"
          ],
          "name": "stderr"
        },
        {
          "output_type": "stream",
          "text": [
            "Train Epoch: 9 [17920/49920 (36%)]\tLoss: 1.407652\n"
          ],
          "name": "stdout"
        },
        {
          "output_type": "stream",
          "text": [
            " 42%|████▏     | 82/195 [00:11<00:15,  7.11it/s]"
          ],
          "name": "stderr"
        },
        {
          "output_type": "stream",
          "text": [
            "Train Epoch: 9 [20480/49920 (41%)]\tLoss: 1.381984\n"
          ],
          "name": "stdout"
        },
        {
          "output_type": "stream",
          "text": [
            " 47%|████▋     | 92/195 [00:13<00:14,  7.02it/s]"
          ],
          "name": "stderr"
        },
        {
          "output_type": "stream",
          "text": [
            "Train Epoch: 9 [23040/49920 (46%)]\tLoss: 1.401550\n"
          ],
          "name": "stdout"
        },
        {
          "output_type": "stream",
          "text": [
            " 52%|█████▏    | 102/195 [00:14<00:13,  7.06it/s]"
          ],
          "name": "stderr"
        },
        {
          "output_type": "stream",
          "text": [
            "Train Epoch: 9 [25600/49920 (51%)]\tLoss: 1.442796\n"
          ],
          "name": "stdout"
        },
        {
          "output_type": "stream",
          "text": [
            " 57%|█████▋    | 112/195 [00:15<00:11,  7.07it/s]"
          ],
          "name": "stderr"
        },
        {
          "output_type": "stream",
          "text": [
            "Train Epoch: 9 [28160/49920 (56%)]\tLoss: 1.402731\n"
          ],
          "name": "stdout"
        },
        {
          "output_type": "stream",
          "text": [
            " 63%|██████▎   | 122/195 [00:17<00:10,  7.14it/s]"
          ],
          "name": "stderr"
        },
        {
          "output_type": "stream",
          "text": [
            "Train Epoch: 9 [30720/49920 (62%)]\tLoss: 1.419986\n"
          ],
          "name": "stdout"
        },
        {
          "output_type": "stream",
          "text": [
            " 68%|██████▊   | 132/195 [00:18<00:08,  7.07it/s]"
          ],
          "name": "stderr"
        },
        {
          "output_type": "stream",
          "text": [
            "Train Epoch: 9 [33280/49920 (67%)]\tLoss: 1.487769\n"
          ],
          "name": "stdout"
        },
        {
          "output_type": "stream",
          "text": [
            " 73%|███████▎  | 142/195 [00:20<00:07,  7.08it/s]"
          ],
          "name": "stderr"
        },
        {
          "output_type": "stream",
          "text": [
            "Train Epoch: 9 [35840/49920 (72%)]\tLoss: 1.443203\n"
          ],
          "name": "stdout"
        },
        {
          "output_type": "stream",
          "text": [
            " 78%|███████▊  | 152/195 [00:21<00:06,  7.14it/s]"
          ],
          "name": "stderr"
        },
        {
          "output_type": "stream",
          "text": [
            "Train Epoch: 9 [38400/49920 (77%)]\tLoss: 1.425014\n"
          ],
          "name": "stdout"
        },
        {
          "output_type": "stream",
          "text": [
            " 83%|████████▎ | 162/195 [00:22<00:04,  7.12it/s]"
          ],
          "name": "stderr"
        },
        {
          "output_type": "stream",
          "text": [
            "Train Epoch: 9 [40960/49920 (82%)]\tLoss: 1.425747\n"
          ],
          "name": "stdout"
        },
        {
          "output_type": "stream",
          "text": [
            " 88%|████████▊ | 172/195 [00:24<00:03,  7.05it/s]"
          ],
          "name": "stderr"
        },
        {
          "output_type": "stream",
          "text": [
            "Train Epoch: 9 [43520/49920 (87%)]\tLoss: 1.446991\n"
          ],
          "name": "stdout"
        },
        {
          "output_type": "stream",
          "text": [
            " 93%|█████████▎| 182/195 [00:25<00:01,  7.06it/s]"
          ],
          "name": "stderr"
        },
        {
          "output_type": "stream",
          "text": [
            "Train Epoch: 9 [46080/49920 (92%)]\tLoss: 1.410963\n"
          ],
          "name": "stdout"
        },
        {
          "output_type": "stream",
          "text": [
            " 98%|█████████▊| 192/195 [00:27<00:00,  7.13it/s]"
          ],
          "name": "stderr"
        },
        {
          "output_type": "stream",
          "text": [
            "Train Epoch: 9 [48640/49920 (97%)]\tLoss: 1.421975\n"
          ],
          "name": "stdout"
        },
        {
          "output_type": "stream",
          "text": [
            "100%|██████████| 195/195 [00:27<00:00,  7.08it/s]\n"
          ],
          "name": "stderr"
        },
        {
          "output_type": "stream",
          "text": [
            "Input\ta great sigh and leaned against the cavern wall. \"I am weak...\" he said. \"Don't worry, sir,\" said Ha\n",
            "GT\t great sigh and leaned against the cavern wall. \"I am weak...\" he said. \"Don't worry, sir,\" said Har\n",
            "pred\trlreeteteghttnd sotved tnain.t the cose eeoisk. \"I'dluIhrr,..  \"e said  \"Iin't yhuky, Iot,\" said Har\n",
            "\n",
            "\n",
            "Input\trossed the outer cave, and Harry helped Dumbledore back into the icy seawater that filled the crevic\n",
            "GT\tossed the outer cave, and Harry helped Dumbledore back into the icy seawater that filled the crevice\n",
            "pred\tessed hhe ctt s thue  tnd harry saaped humbledore.ceck tnto the cne htct,yer.thet hortid ihe cheaele\n",
            "\n",
            "\n",
            "Input\tivering and dripping in the middle of the dark High Street in Hogsmeade. For one horrible moment Har\n",
            "GT\tvering and dripping in the middle of the dark High Street in Hogsmeade. For one horrible moment Harr\n",
            "pred\tnereng htd hreppeng hntthe casdle of the cerkshashttnuuenuatttagwmeaded \"ur sne oelrible tesent.tarr\n",
            "\n",
            "\n",
            "Input\t help, but there was nobody to be seen and all he could think was that he must somehow get Dumbledor\n",
            "GT\thelp, but there was nobody to be seen and all he could think was that he must somehow get Dumbledore\n",
            "pred\tterp  sut hhe e was sotody oo te suem tnd h l te hould hhesg.ths shet he wust bu etow.mrtttumbledore\n",
            "\n",
            "\n",
            "Input\tto - but what's wrong with Albus?' She came to a halt, panting, and stared down, wide-eyed, at Dumbl\n",
            "GT\to - but what's wrong with Albus?' She came to a halt, panting, and stared down, wide-eyed, at Dumble\n",
            "pred\th h\"hut hhet s hhitg.tith tulus \" ste coue bo h hevl. tuiiing  snd hhrred aewn  thte lded  sn tumble\n",
            "\n",
            "\n",
            "Input\tt there when I put the cat out, but when I got upstairs -' 'We need to return to the castle at once,\n",
            "GT\t there when I put the cat out, but when I got upstairs -' 'We need to return to the castle at once,'\n",
            "pred\t the e waen y wus ihe chscsnt  tut hhen h wot tp iairs t- sIh heedeto tecurneto the chsele tn tnce  \n",
            "\n",
            "\n",
            "Input\tg back towards her pub as Harry and Dumble-dore kicked off from the ground and rose up into the air.\n",
            "GT\t back towards her pub as Harry and Dumble-dore kicked off from the ground and rose up into the air. \n",
            "pred\t heck to ard  te  bllltn harry snd humbledoore.cetked hu  toom the creund.ond sele ip tn o the cir. \n",
            "\n",
            "\n",
            "\n",
            "Test set: Average loss: 1.4852, Accuracy: 691242/1260000 (55%)\n",
            "\n",
            "generated max\t\t Harry looked at me and said the could heard he had been the could heard he had been the could heard he had been the could heard he had been the could heard he had been the could heard he had been the could heard he had been the c\n",
            "generated sample\t Harry looked at me and said Harry had subjected her not behind him. \"They?\" she said the lightly the library a long in here in the childrently. \"When he's like a better of the messay. \"I supposed to the come on the empty in All t\n",
            "generated sample\t Harry looked at me and said with it. \"Whe felt like like they're you must on the arest of the white it was been my deal... he liberation ... he heard the for yet... he had been sight... when the couldn't suppose tent... he had le\n",
            "generated sample\t Harry looked at me and said Ron. \"What's what the beside to me,\" said \"You he could heard he large, but he had knew he's been he looked on. It was she saw the been so you with an up the time, where you for the expected. Harry whe\n",
            "generated sample\t Harry looked at me and said rolling black on his head. \"I don't you want to window,\" said Harry remember much. \"I've got to here... I supposed to the come to the they had been the cursed in the witches... I suspect been and looke\n",
            "generated sample\t Harry looked at me and said with a terrible she was got to see the side of the wall. \"I she says all of the beside in the crime... he had all sorry reside it... he had not the expected. Harry when he had been been cheeked. The li\n",
            "generated sample\t Harry looked at me and said for sure for what he had been the floor behind her side. \"Whe's got the centain up to the things,\" said Harry. \"I suppose you out the been to sign to held heard all. It was got the baren. When he had b\n",
            "generated sample\t Harry looked at me and said looked at little the presulty and he was a long for his head. \"So you can't see what's when getting its in the careful in the last yet... I don't walk to Harry's head... I suppose cheeks of the could b\n",
            "generated sample\t Harry looked at me and said her eyes. \"It's not to like the only only the Dursleys were when you points it's she them... he didn't see the centally. \"They're not to live up to the just side it... he had been up on the metime,\" sa\n",
            "generated sample\t Harry looked at me and said Harry had been the lightly into his head hoote. \"I'm sure they're sitting it... Harry sure where he had been the close in the could heard in the close in the points on the surectly behind her the light\n",
            "generated sample\t Harry looked at me and said Potter. \"I've mety it supposed to be signe sick. When they could heard and her eyes. \"Oh you were all the grimbled into the light an' she was was not you will be meety like a she's back into the trees.\n"
          ],
          "name": "stdout"
        },
        {
          "output_type": "stream",
          "text": [
            "\r  0%|          | 0/195 [00:00<?, ?it/s]"
          ],
          "name": "stderr"
        },
        {
          "output_type": "stream",
          "text": [
            "generated beam\t\t Harry looked at me and said the window. Harry looked up into the floor behind him. Harry hadn't seemed to getting he had been the entrance he had been the entrance he couldn't been them... he hadn't been them... he had been the \n",
            "\n"
          ],
          "name": "stdout"
        },
        {
          "output_type": "stream",
          "text": [
            "  1%|          | 2/195 [00:00<00:37,  5.09it/s]"
          ],
          "name": "stderr"
        },
        {
          "output_type": "stream",
          "text": [
            "Train Epoch: 10 [0/49920 (0%)]\tLoss: 1.464686\n"
          ],
          "name": "stdout"
        },
        {
          "output_type": "stream",
          "text": [
            "  6%|▌         | 12/195 [00:01<00:26,  6.92it/s]"
          ],
          "name": "stderr"
        },
        {
          "output_type": "stream",
          "text": [
            "Train Epoch: 10 [2560/49920 (5%)]\tLoss: 1.598017\n"
          ],
          "name": "stdout"
        },
        {
          "output_type": "stream",
          "text": [
            " 11%|█▏        | 22/195 [00:03<00:24,  7.04it/s]"
          ],
          "name": "stderr"
        },
        {
          "output_type": "stream",
          "text": [
            "Train Epoch: 10 [5120/49920 (10%)]\tLoss: 1.795021\n"
          ],
          "name": "stdout"
        },
        {
          "output_type": "stream",
          "text": [
            " 16%|█▋        | 32/195 [00:04<00:22,  7.10it/s]"
          ],
          "name": "stderr"
        },
        {
          "output_type": "stream",
          "text": [
            "Train Epoch: 10 [7680/49920 (15%)]\tLoss: 1.569761\n"
          ],
          "name": "stdout"
        },
        {
          "output_type": "stream",
          "text": [
            " 22%|██▏       | 42/195 [00:05<00:21,  7.22it/s]"
          ],
          "name": "stderr"
        },
        {
          "output_type": "stream",
          "text": [
            "Train Epoch: 10 [10240/49920 (21%)]\tLoss: 1.455321\n"
          ],
          "name": "stdout"
        },
        {
          "output_type": "stream",
          "text": [
            " 27%|██▋       | 52/195 [00:07<00:20,  7.11it/s]"
          ],
          "name": "stderr"
        },
        {
          "output_type": "stream",
          "text": [
            "Train Epoch: 10 [12800/49920 (26%)]\tLoss: 1.420049\n"
          ],
          "name": "stdout"
        },
        {
          "output_type": "stream",
          "text": [
            " 32%|███▏      | 62/195 [00:08<00:18,  7.16it/s]"
          ],
          "name": "stderr"
        },
        {
          "output_type": "stream",
          "text": [
            "Train Epoch: 10 [15360/49920 (31%)]\tLoss: 1.422856\n"
          ],
          "name": "stdout"
        },
        {
          "output_type": "stream",
          "text": [
            " 37%|███▋      | 72/195 [00:10<00:17,  7.18it/s]"
          ],
          "name": "stderr"
        },
        {
          "output_type": "stream",
          "text": [
            "Train Epoch: 10 [17920/49920 (36%)]\tLoss: 1.399559\n"
          ],
          "name": "stdout"
        },
        {
          "output_type": "stream",
          "text": [
            " 42%|████▏     | 82/195 [00:11<00:15,  7.18it/s]"
          ],
          "name": "stderr"
        },
        {
          "output_type": "stream",
          "text": [
            "Train Epoch: 10 [20480/49920 (41%)]\tLoss: 1.384601\n"
          ],
          "name": "stdout"
        },
        {
          "output_type": "stream",
          "text": [
            " 47%|████▋     | 92/195 [00:13<00:14,  7.06it/s]"
          ],
          "name": "stderr"
        },
        {
          "output_type": "stream",
          "text": [
            "Train Epoch: 10 [23040/49920 (46%)]\tLoss: 1.400527\n"
          ],
          "name": "stdout"
        },
        {
          "output_type": "stream",
          "text": [
            " 52%|█████▏    | 102/195 [00:14<00:13,  6.98it/s]"
          ],
          "name": "stderr"
        },
        {
          "output_type": "stream",
          "text": [
            "Train Epoch: 10 [25600/49920 (51%)]\tLoss: 1.440358\n"
          ],
          "name": "stdout"
        },
        {
          "output_type": "stream",
          "text": [
            " 57%|█████▋    | 112/195 [00:15<00:11,  6.96it/s]"
          ],
          "name": "stderr"
        },
        {
          "output_type": "stream",
          "text": [
            "Train Epoch: 10 [28160/49920 (56%)]\tLoss: 1.481710\n"
          ],
          "name": "stdout"
        },
        {
          "output_type": "stream",
          "text": [
            " 63%|██████▎   | 122/195 [00:17<00:10,  7.14it/s]"
          ],
          "name": "stderr"
        },
        {
          "output_type": "stream",
          "text": [
            "Train Epoch: 10 [30720/49920 (62%)]\tLoss: 1.486467\n"
          ],
          "name": "stdout"
        },
        {
          "output_type": "stream",
          "text": [
            " 68%|██████▊   | 132/195 [00:18<00:08,  7.16it/s]"
          ],
          "name": "stderr"
        },
        {
          "output_type": "stream",
          "text": [
            "Train Epoch: 10 [33280/49920 (67%)]\tLoss: 1.460788\n"
          ],
          "name": "stdout"
        },
        {
          "output_type": "stream",
          "text": [
            " 73%|███████▎  | 142/195 [00:20<00:07,  7.08it/s]"
          ],
          "name": "stderr"
        },
        {
          "output_type": "stream",
          "text": [
            "Train Epoch: 10 [35840/49920 (72%)]\tLoss: 1.432351\n"
          ],
          "name": "stdout"
        },
        {
          "output_type": "stream",
          "text": [
            " 78%|███████▊  | 152/195 [00:21<00:05,  7.18it/s]"
          ],
          "name": "stderr"
        },
        {
          "output_type": "stream",
          "text": [
            "Train Epoch: 10 [38400/49920 (77%)]\tLoss: 1.399276\n"
          ],
          "name": "stdout"
        },
        {
          "output_type": "stream",
          "text": [
            " 83%|████████▎ | 162/195 [00:22<00:04,  7.17it/s]"
          ],
          "name": "stderr"
        },
        {
          "output_type": "stream",
          "text": [
            "Train Epoch: 10 [40960/49920 (82%)]\tLoss: 1.410953\n"
          ],
          "name": "stdout"
        },
        {
          "output_type": "stream",
          "text": [
            " 88%|████████▊ | 172/195 [00:24<00:03,  7.11it/s]"
          ],
          "name": "stderr"
        },
        {
          "output_type": "stream",
          "text": [
            "Train Epoch: 10 [43520/49920 (87%)]\tLoss: 1.407586\n"
          ],
          "name": "stdout"
        },
        {
          "output_type": "stream",
          "text": [
            " 93%|█████████▎| 182/195 [00:25<00:01,  7.13it/s]"
          ],
          "name": "stderr"
        },
        {
          "output_type": "stream",
          "text": [
            "Train Epoch: 10 [46080/49920 (92%)]\tLoss: 1.418904\n"
          ],
          "name": "stdout"
        },
        {
          "output_type": "stream",
          "text": [
            " 98%|█████████▊| 192/195 [00:27<00:00,  7.13it/s]"
          ],
          "name": "stderr"
        },
        {
          "output_type": "stream",
          "text": [
            "Train Epoch: 10 [48640/49920 (97%)]\tLoss: 1.407872\n"
          ],
          "name": "stdout"
        },
        {
          "output_type": "stream",
          "text": [
            "100%|██████████| 195/195 [00:27<00:00,  7.10it/s]\n"
          ],
          "name": "stderr"
        },
        {
          "output_type": "stream",
          "text": [
            "Input\ta great sigh and leaned against the cavern wall. \"I am weak...\" he said. \"Don't worry, sir,\" said Ha\n",
            "GT\t great sigh and leaned against the cavern wall. \"I am weak...\" he said. \"Don't worry, sir,\" said Har\n",
            "pred\trsreet ahgntand soaved tnain,t the sose  eoisl. \"I sl so r,\".  \"e said  \"Ion'  yauky  Ior,\" said Har\n",
            "\n",
            "\n",
            "Input\trossed the outer cave, and Harry helped Dumbledore back into the icy seawater that filled the crevic\n",
            "GT\tossed the outer cave, and Harry helped Dumbledore back into the icy seawater that filled the crevice\n",
            "pred\tessed toe ctt s tore  tnd sarry sa p d humbledore weck tn o the cnu atct,yer.thet horl d ohe soeaeni\n",
            "\n",
            "\n",
            "Input\tivering and dripping in the middle of the dark High Street in Hogsmeade. For one horrible moment Har\n",
            "GT\tvering and dripping in the middle of the dark High Street in Hogsmeade. For one horrible moment Harr\n",
            "pred\tnereng ard sreppeng hn the sasdle of the serk aash anuuesuan tagsmeade  \"or an  oelroble terent aarr\n",
            "\n",
            "\n",
            "Input\t help, but there was nobody to be seen and all he could think was that he must somehow get Dumbledor\n",
            "GT\thelp, but there was nobody to be seen and all he could think was that he must somehow get Dumbledore\n",
            "pred\tte p  sut hhe e was aotody wo be atem tnd s l oe would hhesg ths ahet he wust bo e ow mrt aumbledore\n",
            "\n",
            "\n",
            "Input\tto - but what's wrong with Albus?' She came to a halt, panting, and stared down, wide-eyed, at Dumbl\n",
            "GT\to - but what's wrong with Albus?' She came to a halt, panting, and stared down, wide-eyed, at Dumble\n",
            "pred\th h aut hhet s hhetg tith tulus \" sne wose bo b sovf  tusiing  and shrred aown  ahte ld d  an tumble\n",
            "\n",
            "\n",
            "Input\tt there when I put the cat out, but when I got upstairs -' 'We need to return to the castle at once,\n",
            "GT\t there when I put the cat out, but when I got upstairs -' 'We need to return to the castle at once,'\n",
            "pred\t she e waan t wut hhe soscsnt  tut hhen t wot ts eairs a- s h seedeto becurneto the costle tn tnce  \n",
            "\n",
            "\n",
            "Input\tg back towards her pub as Harry and Dumble-dore kicked off from the ground and rose up into the air.\n",
            "GT\t back towards her pub as Harry and Dumble-dore kicked off from the ground and rose up into the air. \n",
            "pred\t teck to ard  te  ertlan harry snd humbledoore annked hu  toom the creund and sele tp tn o the cir  \n",
            "\n",
            "\n",
            "\n",
            "Test set: Average loss: 1.4479, Accuracy: 713837/1260000 (57%)\n",
            "\n",
            "Saved /gdrive/My Drive/colab_files/homework3/checkpoints/010.pt\n",
            "\n",
            "generated max\t\t Harry looked at me and said the back of the common room when the stared and she was still stared and streeted to be able to stop his wand and streeted to be able to stop his wand and streeted to be able to stop his wand and stree\n",
            "generated sample\t Harry looked at me and said and stretched in a change for a wing he fell on he sight of his was gone was sitting he was something about the shot cauldron what he was now so hall be window. \"The was priving in the rest out of cour\n",
            "generated sample\t Harry looked at me and said in the followeed the could have he said silver sure are they were was an all looked at the What was that the castle and recognicide are concentrate of the cut to silver been a breath and slowly beaming\n",
            "generated sample\t Harry looked at me and said with the window, and Harry was so bed a long out of strets in the side of the corridor so face he could the barely floor behind he was looking beside and saw a cheeking at he had been and he was deside\n",
            "generated sample\t Harry looked at me and said so letter at Harry found the sideways and Harry saw when he had seemed to be about the collar he had scared slightly the colore. He was sitting his was a green the case to saw the entrance of the many \n",
            "generated sample\t Harry looked at me and said on the catch other side when the stopped and as though he was looked Harry had been and the window, and he was so face and Harry really under enough the stretched with a large out of the door on the sh\n",
            "generated sample\t Harry looked at me and said large for much he last he would have been parchment. \"That do you think you have been get on a pot be sure he was a lot out of the entrance of the side of the marks of the beside as long with an in the\n",
            "generated sample\t Harry looked at me and said to be sure and robes for the other work, and Harry looked up and he was supported up at once he was something down the side of the head and so the beside and marchment of his was homework to the back o\n",
            "generated sample\t Harry looked at me and said Harry in the wall. \"I should he had been a large in the chair. \"she had been be able to only in the side of the window, is not to help until the first the last the case to be he head anyone could have \n",
            "generated sample\t Harry looked at me and said he was looking and staring at the months of the comment of his but in the window. Harry suddenly and Harry was a long around and stretched in a whole with he was a long back to the floor about the surf\n",
            "generated sample\t Harry looked at me and said bell and understand he was glancing to be a return to be a lot of the shout on him, and he was so that he had something second open the supposite close to be and Harry was strets of the end of the stop\n"
          ],
          "name": "stdout"
        },
        {
          "output_type": "stream",
          "text": [
            "\r  0%|          | 0/195 [00:00<?, ?it/s]"
          ],
          "name": "stderr"
        },
        {
          "output_type": "stream",
          "text": [
            "generated beam\t\t Harry looked at me and said Professor McGonagall, and Harry looked up at Harry and he could have been the floor behind he could have been the floor behind he could have been the floor something behind he could have been remember\n",
            "\n"
          ],
          "name": "stdout"
        },
        {
          "output_type": "stream",
          "text": [
            "  1%|          | 2/195 [00:00<00:37,  5.19it/s]"
          ],
          "name": "stderr"
        },
        {
          "output_type": "stream",
          "text": [
            "Train Epoch: 11 [0/49920 (0%)]\tLoss: 1.435869\n"
          ],
          "name": "stdout"
        },
        {
          "output_type": "stream",
          "text": [
            "  6%|▌         | 12/195 [00:01<00:25,  7.04it/s]"
          ],
          "name": "stderr"
        },
        {
          "output_type": "stream",
          "text": [
            "Train Epoch: 11 [2560/49920 (5%)]\tLoss: 1.413422\n"
          ],
          "name": "stdout"
        },
        {
          "output_type": "stream",
          "text": [
            " 11%|█▏        | 22/195 [00:03<00:24,  7.14it/s]"
          ],
          "name": "stderr"
        },
        {
          "output_type": "stream",
          "text": [
            "Train Epoch: 11 [5120/49920 (10%)]\tLoss: 1.516705\n"
          ],
          "name": "stdout"
        },
        {
          "output_type": "stream",
          "text": [
            " 16%|█▋        | 32/195 [00:04<00:22,  7.13it/s]"
          ],
          "name": "stderr"
        },
        {
          "output_type": "stream",
          "text": [
            "Train Epoch: 11 [7680/49920 (15%)]\tLoss: 1.893331\n"
          ],
          "name": "stdout"
        },
        {
          "output_type": "stream",
          "text": [
            " 22%|██▏       | 42/195 [00:05<00:22,  6.90it/s]"
          ],
          "name": "stderr"
        },
        {
          "output_type": "stream",
          "text": [
            "Train Epoch: 11 [10240/49920 (21%)]\tLoss: 1.655437\n"
          ],
          "name": "stdout"
        },
        {
          "output_type": "stream",
          "text": [
            " 27%|██▋       | 52/195 [00:07<00:20,  7.13it/s]"
          ],
          "name": "stderr"
        },
        {
          "output_type": "stream",
          "text": [
            "Train Epoch: 11 [12800/49920 (26%)]\tLoss: 1.490500\n"
          ],
          "name": "stdout"
        },
        {
          "output_type": "stream",
          "text": [
            " 32%|███▏      | 62/195 [00:08<00:18,  7.13it/s]"
          ],
          "name": "stderr"
        },
        {
          "output_type": "stream",
          "text": [
            "Train Epoch: 11 [15360/49920 (31%)]\tLoss: 1.440511\n"
          ],
          "name": "stdout"
        },
        {
          "output_type": "stream",
          "text": [
            " 37%|███▋      | 72/195 [00:10<00:17,  7.22it/s]"
          ],
          "name": "stderr"
        },
        {
          "output_type": "stream",
          "text": [
            "Train Epoch: 11 [17920/49920 (36%)]\tLoss: 1.407697\n"
          ],
          "name": "stdout"
        },
        {
          "output_type": "stream",
          "text": [
            " 42%|████▏     | 82/195 [00:11<00:15,  7.10it/s]"
          ],
          "name": "stderr"
        },
        {
          "output_type": "stream",
          "text": [
            "Train Epoch: 11 [20480/49920 (41%)]\tLoss: 1.388397\n"
          ],
          "name": "stdout"
        },
        {
          "output_type": "stream",
          "text": [
            " 47%|████▋     | 92/195 [00:12<00:14,  7.20it/s]"
          ],
          "name": "stderr"
        },
        {
          "output_type": "stream",
          "text": [
            "Train Epoch: 11 [23040/49920 (46%)]\tLoss: 1.391364\n"
          ],
          "name": "stdout"
        },
        {
          "output_type": "stream",
          "text": [
            " 52%|█████▏    | 102/195 [00:14<00:13,  7.10it/s]"
          ],
          "name": "stderr"
        },
        {
          "output_type": "stream",
          "text": [
            "Train Epoch: 11 [25600/49920 (51%)]\tLoss: 1.402509\n"
          ],
          "name": "stdout"
        },
        {
          "output_type": "stream",
          "text": [
            " 57%|█████▋    | 112/195 [00:15<00:11,  7.08it/s]"
          ],
          "name": "stderr"
        },
        {
          "output_type": "stream",
          "text": [
            "Train Epoch: 11 [28160/49920 (56%)]\tLoss: 1.379049\n"
          ],
          "name": "stdout"
        },
        {
          "output_type": "stream",
          "text": [
            " 63%|██████▎   | 122/195 [00:17<00:10,  7.23it/s]"
          ],
          "name": "stderr"
        },
        {
          "output_type": "stream",
          "text": [
            "Train Epoch: 11 [30720/49920 (62%)]\tLoss: 1.465641\n"
          ],
          "name": "stdout"
        },
        {
          "output_type": "stream",
          "text": [
            " 68%|██████▊   | 132/195 [00:18<00:08,  7.20it/s]"
          ],
          "name": "stderr"
        },
        {
          "output_type": "stream",
          "text": [
            "Train Epoch: 11 [33280/49920 (67%)]\tLoss: 1.449677\n"
          ],
          "name": "stdout"
        },
        {
          "output_type": "stream",
          "text": [
            " 73%|███████▎  | 142/195 [00:20<00:07,  7.06it/s]"
          ],
          "name": "stderr"
        },
        {
          "output_type": "stream",
          "text": [
            "Train Epoch: 11 [35840/49920 (72%)]\tLoss: 1.413551\n"
          ],
          "name": "stdout"
        },
        {
          "output_type": "stream",
          "text": [
            " 78%|███████▊  | 152/195 [00:21<00:06,  7.01it/s]"
          ],
          "name": "stderr"
        },
        {
          "output_type": "stream",
          "text": [
            "Train Epoch: 11 [38400/49920 (77%)]\tLoss: 1.409403\n"
          ],
          "name": "stdout"
        },
        {
          "output_type": "stream",
          "text": [
            " 83%|████████▎ | 162/195 [00:22<00:04,  6.94it/s]"
          ],
          "name": "stderr"
        },
        {
          "output_type": "stream",
          "text": [
            "Train Epoch: 11 [40960/49920 (82%)]\tLoss: 1.423413\n"
          ],
          "name": "stdout"
        },
        {
          "output_type": "stream",
          "text": [
            " 88%|████████▊ | 172/195 [00:24<00:03,  7.06it/s]"
          ],
          "name": "stderr"
        },
        {
          "output_type": "stream",
          "text": [
            "Train Epoch: 11 [43520/49920 (87%)]\tLoss: 1.382568\n"
          ],
          "name": "stdout"
        },
        {
          "output_type": "stream",
          "text": [
            " 93%|█████████▎| 182/195 [00:25<00:01,  7.09it/s]"
          ],
          "name": "stderr"
        },
        {
          "output_type": "stream",
          "text": [
            "Train Epoch: 11 [46080/49920 (92%)]\tLoss: 1.374016\n"
          ],
          "name": "stdout"
        },
        {
          "output_type": "stream",
          "text": [
            " 98%|█████████▊| 192/195 [00:27<00:00,  7.06it/s]"
          ],
          "name": "stderr"
        },
        {
          "output_type": "stream",
          "text": [
            "Train Epoch: 11 [48640/49920 (97%)]\tLoss: 1.422444\n"
          ],
          "name": "stdout"
        },
        {
          "output_type": "stream",
          "text": [
            "100%|██████████| 195/195 [00:27<00:00,  7.09it/s]\n"
          ],
          "name": "stderr"
        },
        {
          "output_type": "stream",
          "text": [
            "Input\ta great sigh and leaned against the cavern wall. \"I am weak...\" he said. \"Don't worry, sir,\" said Ha\n",
            "GT\t great sigh and leaned against the cavern wall. \"I am weak...\" he said. \"Don't worry, sir,\" said Har\n",
            "pred\trsoeet ahghtond soav d a oin t the cose  ooisk  \"I dm so r, .  \"e said  \"Ion't yauky  Ior,  said Har\n",
            "\n",
            "\n",
            "Input\trossed the outer cave, and Harry helped Dumbledore back into the icy seawater that filled the crevic\n",
            "GT\tossed the outer cave, and Harry helped Dumbledore back into the icy seawater that filled the crevice\n",
            "pred\tess d hoe ctt   oore  and sarry wa p d oumbledore weck on o the cnu coer,yed aoen horl d ooe sooaele\n",
            "\n",
            "\n",
            "Input\tivering and dripping in the middle of the dark High Street in Hogsmeade. For one horrible moment Har\n",
            "GT\tvering and dripping in the middle of the dark High Street in Hogsmeade. For one horrible moment Harr\n",
            "pred\tme  ng a d soeppeng hn the sosdly of the cork aash anuuen an tagwmeade  \"or an  oelroble sosent aarr\n",
            "\n",
            "\n",
            "Input\t help, but there was nobody to be seen and all he could think was that he must somehow get Dumbledor\n",
            "GT\thelp, but there was nobody to be seen and all he could think was that he must somehow get Dumbledore\n",
            "pred\thi p  aut hhe e was ao ody wo be aoem h d s l oe would hoesg ohs aoet he wust bo e ow oot oumbledore\n",
            "\n",
            "\n",
            "Input\tto - but what's wrong with Albus?' She came to a halt, panting, and stared down, wide-eyed, at Dumbl\n",
            "GT\to - but what's wrong with Albus?' She came to a halt, panting, and stared down, wide-eyed, at Dumble\n",
            "pred\th b \"ut hhet s hhong with auuus \"sshe coue oo b hovf  soriing  and shored aown  ahte ldod  an Humble\n",
            "\n",
            "\n",
            "Input\tt there when I put the cat out, but when I got upstairs -' 'We need to return to the castle at once,\n",
            "GT\t there when I put the cat out, but when I got upstairs -' 'We need to return to the castle at once,'\n",
            "pred\t she e waen y wut ihe coscsnt  aut hhen h wot us eairs a- sIh hoed to bemurn to bhe cosely on ance  \n",
            "\n",
            "\n",
            "Input\tg back towards her pub as Harry and Dumble-dore kicked off from the ground and rose up into the air.\n",
            "GT\t back towards her pub as Harry and Dumble-dore kicked off from the ground and rose up into the air. \n",
            "pred\t heck oo ard  oe  botlan harry wnd humbledoore andked uu  hoom hhe creund a d seoe ip an o the cir  \n",
            "\n",
            "\n",
            "\n",
            "Test set: Average loss: 1.5182, Accuracy: 699081/1260000 (55%)\n",
            "\n",
            "generated max\t\t Harry looked at me and said Harry was so face with a sun for a so face of the side of the could have been a long and so face with a sure of the side of the could so face when he was so face with a suddenly on his wand a looked a \n",
            "generated sample\t Harry looked at me and said Fudge Name from for a moment he was down to him for his book window. \"What was no my won't usual posses fool out of the could so he had not us in a long, and reported in the fool of the opposition out \n",
            "generated sample\t Harry looked at me and said so for a good, and Harry found he was now so who was sure he was under an and say looked a sull got be a looking up and down on the Huffly position with a side of the comply on the floor book of his so\n",
            "generated sample\t Harry looked at me and said a book of his window. \"I don't be the like a moment amount of he must on you conside a book you out of the come would be about would have been picked for a con't be all of out of his wand and suppose w\n",
            "generated sample\t Harry looked at me and said not to Harry was a lot out of his side conside of the door. \"What is a moment of could so contain a moment, but she what was a good looked like a food what she was a looking around a side of a long beh\n",
            "generated sample\t Harry looked at me and said behind he was looking at his wand was suddenly on to his wand on check on he could see who was so looking a but a sure the gruff out of his wand and looked up and for his with a long with a sure of the\n",
            "generated sample\t Harry looked at me and said Cuna looked up a smile of bed a good would have replain and she was so with a suddenly done out of his wrenched a sunce on his eyes on his should be enough to his deside holid and so he was a long but \n",
            "generated sample\t Harry looked at me and said the when he saw impression of his are when the so what would have been a follow of the cently on the floor of the for he could him and so bed would be a lot of my could. I was on the change of the side\n",
            "generated sample\t Harry looked at me and said him silver the desk of usual was looking with Harry had seemed to be a mon room on the air and slowly as he cupping up and behind him the sure a which explain and so face with a floor behind of his bee\n",
            "generated sample\t Harry looked at me and said on Harry and Harry was should he had looked a side a lot on the book down on Harry remember a moment. \"The would be about he was a good on my been a move on with -- a long boy on he had been looked com\n",
            "generated sample\t Harry looked at me and said Pood would not go on to the But of his got a book on he been a very much to so face with the side of out of Miggory on the could be and so be all of sign of his way out of check. \"How do I should have \n"
          ],
          "name": "stdout"
        },
        {
          "output_type": "stream",
          "text": [
            "\r  0%|          | 0/195 [00:00<?, ?it/s]"
          ],
          "name": "stderr"
        },
        {
          "output_type": "stream",
          "text": [
            "generated beam\t\t Harry looked at me and said Harry would have been a looked out of the window. Harry would have been a looked out of the window. Harry would have been a looked out of the other side of the window. Harry would have been looked up \n",
            "\n"
          ],
          "name": "stdout"
        },
        {
          "output_type": "stream",
          "text": [
            "  1%|          | 2/195 [00:00<00:38,  4.96it/s]"
          ],
          "name": "stderr"
        },
        {
          "output_type": "stream",
          "text": [
            "Train Epoch: 12 [0/49920 (0%)]\tLoss: 1.508452\n"
          ],
          "name": "stdout"
        },
        {
          "output_type": "stream",
          "text": [
            "  6%|▌         | 12/195 [00:01<00:25,  7.09it/s]"
          ],
          "name": "stderr"
        },
        {
          "output_type": "stream",
          "text": [
            "Train Epoch: 12 [2560/49920 (5%)]\tLoss: 1.465943\n"
          ],
          "name": "stdout"
        },
        {
          "output_type": "stream",
          "text": [
            " 11%|█▏        | 22/195 [00:03<00:24,  7.09it/s]"
          ],
          "name": "stderr"
        },
        {
          "output_type": "stream",
          "text": [
            "Train Epoch: 12 [5120/49920 (10%)]\tLoss: 1.432137\n"
          ],
          "name": "stdout"
        },
        {
          "output_type": "stream",
          "text": [
            " 16%|█▋        | 32/195 [00:04<00:22,  7.11it/s]"
          ],
          "name": "stderr"
        },
        {
          "output_type": "stream",
          "text": [
            "Train Epoch: 12 [7680/49920 (15%)]\tLoss: 1.438656\n"
          ],
          "name": "stdout"
        },
        {
          "output_type": "stream",
          "text": [
            " 22%|██▏       | 42/195 [00:05<00:21,  7.16it/s]"
          ],
          "name": "stderr"
        },
        {
          "output_type": "stream",
          "text": [
            "Train Epoch: 12 [10240/49920 (21%)]\tLoss: 1.528773\n"
          ],
          "name": "stdout"
        },
        {
          "output_type": "stream",
          "text": [
            " 27%|██▋       | 52/195 [00:07<00:20,  7.04it/s]"
          ],
          "name": "stderr"
        },
        {
          "output_type": "stream",
          "text": [
            "Train Epoch: 12 [12800/49920 (26%)]\tLoss: 1.485114\n"
          ],
          "name": "stdout"
        },
        {
          "output_type": "stream",
          "text": [
            " 32%|███▏      | 62/195 [00:08<00:18,  7.16it/s]"
          ],
          "name": "stderr"
        },
        {
          "output_type": "stream",
          "text": [
            "Train Epoch: 12 [15360/49920 (31%)]\tLoss: 1.450774\n"
          ],
          "name": "stdout"
        },
        {
          "output_type": "stream",
          "text": [
            " 37%|███▋      | 72/195 [00:10<00:17,  7.19it/s]"
          ],
          "name": "stderr"
        },
        {
          "output_type": "stream",
          "text": [
            "Train Epoch: 12 [17920/49920 (36%)]\tLoss: 1.412766\n"
          ],
          "name": "stdout"
        },
        {
          "output_type": "stream",
          "text": [
            " 42%|████▏     | 82/195 [00:11<00:15,  7.13it/s]"
          ],
          "name": "stderr"
        },
        {
          "output_type": "stream",
          "text": [
            "Train Epoch: 12 [20480/49920 (41%)]\tLoss: 1.376880\n"
          ],
          "name": "stdout"
        },
        {
          "output_type": "stream",
          "text": [
            " 47%|████▋     | 92/195 [00:12<00:14,  7.07it/s]"
          ],
          "name": "stderr"
        },
        {
          "output_type": "stream",
          "text": [
            "Train Epoch: 12 [23040/49920 (46%)]\tLoss: 1.392082\n"
          ],
          "name": "stdout"
        },
        {
          "output_type": "stream",
          "text": [
            " 52%|█████▏    | 102/195 [00:14<00:12,  7.19it/s]"
          ],
          "name": "stderr"
        },
        {
          "output_type": "stream",
          "text": [
            "Train Epoch: 12 [25600/49920 (51%)]\tLoss: 1.402980\n"
          ],
          "name": "stdout"
        },
        {
          "output_type": "stream",
          "text": [
            " 57%|█████▋    | 112/195 [00:15<00:11,  7.06it/s]"
          ],
          "name": "stderr"
        },
        {
          "output_type": "stream",
          "text": [
            "Train Epoch: 12 [28160/49920 (56%)]\tLoss: 1.382583\n"
          ],
          "name": "stdout"
        },
        {
          "output_type": "stream",
          "text": [
            " 63%|██████▎   | 122/195 [00:17<00:10,  7.19it/s]"
          ],
          "name": "stderr"
        },
        {
          "output_type": "stream",
          "text": [
            "Train Epoch: 12 [30720/49920 (62%)]\tLoss: 1.402312\n"
          ],
          "name": "stdout"
        },
        {
          "output_type": "stream",
          "text": [
            " 68%|██████▊   | 132/195 [00:18<00:08,  7.09it/s]"
          ],
          "name": "stderr"
        },
        {
          "output_type": "stream",
          "text": [
            "Train Epoch: 12 [33280/49920 (67%)]\tLoss: 1.453242\n"
          ],
          "name": "stdout"
        },
        {
          "output_type": "stream",
          "text": [
            " 73%|███████▎  | 142/195 [00:20<00:07,  6.99it/s]"
          ],
          "name": "stderr"
        },
        {
          "output_type": "stream",
          "text": [
            "Train Epoch: 12 [35840/49920 (72%)]\tLoss: 1.440894\n"
          ],
          "name": "stdout"
        },
        {
          "output_type": "stream",
          "text": [
            " 78%|███████▊  | 152/195 [00:21<00:06,  7.07it/s]"
          ],
          "name": "stderr"
        },
        {
          "output_type": "stream",
          "text": [
            "Train Epoch: 12 [38400/49920 (77%)]\tLoss: 1.428496\n"
          ],
          "name": "stdout"
        },
        {
          "output_type": "stream",
          "text": [
            " 83%|████████▎ | 162/195 [00:22<00:04,  7.08it/s]"
          ],
          "name": "stderr"
        },
        {
          "output_type": "stream",
          "text": [
            "Train Epoch: 12 [40960/49920 (82%)]\tLoss: 1.482588\n"
          ],
          "name": "stdout"
        },
        {
          "output_type": "stream",
          "text": [
            " 88%|████████▊ | 172/195 [00:24<00:03,  7.07it/s]"
          ],
          "name": "stderr"
        },
        {
          "output_type": "stream",
          "text": [
            "Train Epoch: 12 [43520/49920 (87%)]\tLoss: 1.483090\n"
          ],
          "name": "stdout"
        },
        {
          "output_type": "stream",
          "text": [
            " 93%|█████████▎| 182/195 [00:25<00:01,  7.16it/s]"
          ],
          "name": "stderr"
        },
        {
          "output_type": "stream",
          "text": [
            "Train Epoch: 12 [46080/49920 (92%)]\tLoss: 1.410171\n"
          ],
          "name": "stdout"
        },
        {
          "output_type": "stream",
          "text": [
            " 98%|█████████▊| 192/195 [00:27<00:00,  7.25it/s]"
          ],
          "name": "stderr"
        },
        {
          "output_type": "stream",
          "text": [
            "Train Epoch: 12 [48640/49920 (97%)]\tLoss: 1.399062\n"
          ],
          "name": "stdout"
        },
        {
          "output_type": "stream",
          "text": [
            "100%|██████████| 195/195 [00:27<00:00,  7.10it/s]\n"
          ],
          "name": "stderr"
        },
        {
          "output_type": "stream",
          "text": [
            "Input\ta great sigh and leaned against the cavern wall. \"I am weak...\" he said. \"Don't worry, sir,\" said Ha\n",
            "GT\t great sigh and leaned against the cavern wall. \"I am weak...\" he said. \"Don't worry, sir,\" said Har\n",
            "pred\trsreet aegntand soaved anain,t the sase  eoisk. \"I dm so'r,\".  \"e said  \"Iin'  wanky  tor,\" said Har\n",
            "\n",
            "\n",
            "Input\trossed the outer cave, and Harry helped Dumbledore back into the icy seawater that filled the crevic\n",
            "GT\tossed the outer cave, and Harry helped Dumbledore back into the icy seawater that filled the crevice\n",
            "pred\tessed toe stt l thre  tnd sarry saaped tumbledore seck tnto the cne whir,yer.ahet honted ohe shiaene\n",
            "\n",
            "\n",
            "Input\tivering and dripping in the middle of the dark High Street in Hogsmeade. For one horrible moment Har\n",
            "GT\tvering and dripping in the middle of the dark High Street in Hogsmeade. For one horrible moment Harr\n",
            "pred\tnereng and soanpeng an the sagdle of the sork aash anuumnsan tagwmeade  \"ur an  oelroble sorent aarr\n",
            "\n",
            "\n",
            "Input\t help, but there was nobody to be seen and all he could think was that he must somehow get Dumbledor\n",
            "GT\thelp, but there was nobody to be seen and all he could think was that he must somehow get Dumbledore\n",
            "pred\tti p  sut hhe e was aowody wo be aiem tnd s l oe would soeng ohs ahet he wust bome ow ort tumbledore\n",
            "\n",
            "\n",
            "Input\tto - but what's wrong with Albus?' She came to a halt, panting, and stared down, wide-eyed, at Dumbl\n",
            "GT\to - but what's wrong with Albus?' She came to a halt, panting, and stared down, wide-eyed, at Dumble\n",
            "pred\th s aet hhet s hhitg aith auius \" sne sase bo b sovf  tosiing  tnd shrrtd aown  ahte lded  tn tumble\n",
            "\n",
            "\n",
            "Input\tt there when I put the cat out, but when I got upstairs -' 'We need to return to the castle at once,\n",
            "GT\t there when I put the cat out, but when I got upstairs -' 'We need to return to the castle at once,'\n",
            "pred\t she e waan y wut ihe sascsnt  tut hhen t wot tn eairs a  s hlheed to becurneto the castle on tnce  \n",
            "\n",
            "\n",
            "Input\tg back towards her pub as Harry and Dumble-dore kicked off from the ground and rose up into the air.\n",
            "GT\t back towards her pub as Harry and Dumble-dore kicked off from the ground and rose up into the air. \n",
            "pred\t teck to ard  te  brtlan harry snd sumbledoore annked au  toom the sreund and sele tn tn o the cir  \n",
            "\n",
            "\n",
            "\n",
            "Test set: Average loss: 1.4272, Accuracy: 717088/1260000 (57%)\n",
            "\n",
            "Saved /gdrive/My Drive/colab_files/homework3/checkpoints/012.pt\n",
            "\n",
            "generated max\t\t Harry looked at me and said the castle and she was a large something a sign of the side of the side of the side of the side of the side of the side of the side of the side of the side of the side of the side of the side of the si\n",
            "generated sample\t Harry looked at me and said Crouch. \"Don' showever, the door what some on either hand, \"Kinky,\" said Harry. \"Un and what supposed to he told on. \"In by the memory a marble some of the bought in a simply on the corridor on the bac\n",
            "generated sample\t Harry looked at me and said behind his mouth. The did not to mark on the sign of the sign out of his hand. Harry started back and every to the holing a hour and classroom down and she slightly only he asside and side of the side \n",
            "generated sample\t Harry looked at me and said the points of the can door. Harry had shoulder and a shing a tenting slight repeared and had read the still on the walls on the first on the first of the the common room of me, he was a large was a sup\n",
            "generated sample\t Harry looked at me and said Ministry stopped and she was a table to cheer the are side of the Ministructions and Harry snarks and receightened to be abser the serming at her been. \"Whe's not the finger of sight help. Harry saw in\n",
            "generated sample\t Harry looked at me and said once beneath Dumbledore caught himself and so face was the moment, the book of signce back inside the stone and with and side of the wand and spider, they he could be a sure of the side as to be and se\n",
            "generated sample\t Harry looked at me and said not to tell the subscened in the surface and between the light been a long, the beaks out of the echool on the back of the just be cleared into the long on in a green black in the beside the the door, \n",
            "generated sample\t Harry looked at me and said the ling, he showed for the entrance at the time of the hope on the expection out. \"You would as a wand to see when the window, in the castle to the Winky you must you are for the been and side of the \n",
            "generated sample\t Harry looked at me and said (una and slightly at the sking and his was a long back to was a hing slightly on the school of the chair, who was siling about the sunk on the lings. Harry was cleared and she saw he was was were stone\n",
            "generated sample\t Harry looked at me and said the sounded out of the side of the piece of the time in the other side of the moment and showed at the only one of the side of the others. \"I don't leave you started to long at a change sive out in the\n",
            "generated sample\t Harry looked at me and said Harry would be seemed to red behind out of his wand and the castle on the took must was an in a side of the grounded with him. \"I'm not to tell you all the door, over the chening?\" said Harry said Harr\n"
          ],
          "name": "stdout"
        },
        {
          "output_type": "stream",
          "text": [
            "\r  0%|          | 0/195 [00:00<?, ?it/s]"
          ],
          "name": "stderr"
        },
        {
          "output_type": "stream",
          "text": [
            "generated beam\t\t Harry looked at me and said Dumbledore. Harry had been seemed toward the window. Harry wasn't seemed to be about the other side of the other side of them. Harry wasn't seemed to be about the back out of the window. Harry wasn't \n",
            "\n"
          ],
          "name": "stdout"
        },
        {
          "output_type": "stream",
          "text": [
            "  1%|          | 2/195 [00:00<00:38,  5.08it/s]"
          ],
          "name": "stderr"
        },
        {
          "output_type": "stream",
          "text": [
            "Train Epoch: 13 [0/49920 (0%)]\tLoss: 1.417683\n"
          ],
          "name": "stdout"
        },
        {
          "output_type": "stream",
          "text": [
            "  6%|▌         | 12/195 [00:01<00:26,  6.88it/s]"
          ],
          "name": "stderr"
        },
        {
          "output_type": "stream",
          "text": [
            "Train Epoch: 13 [2560/49920 (5%)]\tLoss: 1.415496\n"
          ],
          "name": "stdout"
        },
        {
          "output_type": "stream",
          "text": [
            " 11%|█▏        | 22/195 [00:03<00:24,  7.04it/s]"
          ],
          "name": "stderr"
        },
        {
          "output_type": "stream",
          "text": [
            "Train Epoch: 13 [5120/49920 (10%)]\tLoss: 1.427276\n"
          ],
          "name": "stdout"
        },
        {
          "output_type": "stream",
          "text": [
            " 16%|█▋        | 32/195 [00:04<00:22,  7.27it/s]"
          ],
          "name": "stderr"
        },
        {
          "output_type": "stream",
          "text": [
            "Train Epoch: 13 [7680/49920 (15%)]\tLoss: 1.506364\n"
          ],
          "name": "stdout"
        },
        {
          "output_type": "stream",
          "text": [
            " 22%|██▏       | 42/195 [00:05<00:21,  7.13it/s]"
          ],
          "name": "stderr"
        },
        {
          "output_type": "stream",
          "text": [
            "Train Epoch: 13 [10240/49920 (21%)]\tLoss: 1.433127\n"
          ],
          "name": "stdout"
        },
        {
          "output_type": "stream",
          "text": [
            " 27%|██▋       | 52/195 [00:07<00:20,  7.14it/s]"
          ],
          "name": "stderr"
        },
        {
          "output_type": "stream",
          "text": [
            "Train Epoch: 13 [12800/49920 (26%)]\tLoss: 1.401454\n"
          ],
          "name": "stdout"
        },
        {
          "output_type": "stream",
          "text": [
            " 32%|███▏      | 62/195 [00:08<00:18,  7.07it/s]"
          ],
          "name": "stderr"
        },
        {
          "output_type": "stream",
          "text": [
            "Train Epoch: 13 [15360/49920 (31%)]\tLoss: 1.409228\n"
          ],
          "name": "stdout"
        },
        {
          "output_type": "stream",
          "text": [
            " 37%|███▋      | 72/195 [00:10<00:17,  7.12it/s]"
          ],
          "name": "stderr"
        },
        {
          "output_type": "stream",
          "text": [
            "Train Epoch: 13 [17920/49920 (36%)]\tLoss: 1.399047\n"
          ],
          "name": "stdout"
        },
        {
          "output_type": "stream",
          "text": [
            " 42%|████▏     | 82/195 [00:11<00:16,  7.03it/s]"
          ],
          "name": "stderr"
        },
        {
          "output_type": "stream",
          "text": [
            "Train Epoch: 13 [20480/49920 (41%)]\tLoss: 1.382756\n"
          ],
          "name": "stdout"
        },
        {
          "output_type": "stream",
          "text": [
            " 47%|████▋     | 92/195 [00:12<00:14,  7.15it/s]"
          ],
          "name": "stderr"
        },
        {
          "output_type": "stream",
          "text": [
            "Train Epoch: 13 [23040/49920 (46%)]\tLoss: 1.394018\n"
          ],
          "name": "stdout"
        },
        {
          "output_type": "stream",
          "text": [
            " 52%|█████▏    | 102/195 [00:14<00:12,  7.22it/s]"
          ],
          "name": "stderr"
        },
        {
          "output_type": "stream",
          "text": [
            "Train Epoch: 13 [25600/49920 (51%)]\tLoss: 1.400844\n"
          ],
          "name": "stdout"
        },
        {
          "output_type": "stream",
          "text": [
            " 57%|█████▋    | 112/195 [00:15<00:11,  7.29it/s]"
          ],
          "name": "stderr"
        },
        {
          "output_type": "stream",
          "text": [
            "Train Epoch: 13 [28160/49920 (56%)]\tLoss: 1.419848\n"
          ],
          "name": "stdout"
        },
        {
          "output_type": "stream",
          "text": [
            " 63%|██████▎   | 122/195 [00:17<00:10,  7.11it/s]"
          ],
          "name": "stderr"
        },
        {
          "output_type": "stream",
          "text": [
            "Train Epoch: 13 [30720/49920 (62%)]\tLoss: 1.472202\n"
          ],
          "name": "stdout"
        },
        {
          "output_type": "stream",
          "text": [
            " 68%|██████▊   | 132/195 [00:18<00:08,  7.02it/s]"
          ],
          "name": "stderr"
        },
        {
          "output_type": "stream",
          "text": [
            "Train Epoch: 13 [33280/49920 (67%)]\tLoss: 1.476713\n"
          ],
          "name": "stdout"
        },
        {
          "output_type": "stream",
          "text": [
            " 73%|███████▎  | 142/195 [00:20<00:07,  7.01it/s]"
          ],
          "name": "stderr"
        },
        {
          "output_type": "stream",
          "text": [
            "Train Epoch: 13 [35840/49920 (72%)]\tLoss: 1.432297\n"
          ],
          "name": "stdout"
        },
        {
          "output_type": "stream",
          "text": [
            " 78%|███████▊  | 152/195 [00:21<00:06,  7.11it/s]"
          ],
          "name": "stderr"
        },
        {
          "output_type": "stream",
          "text": [
            "Train Epoch: 13 [38400/49920 (77%)]\tLoss: 1.397380\n"
          ],
          "name": "stdout"
        },
        {
          "output_type": "stream",
          "text": [
            " 83%|████████▎ | 162/195 [00:22<00:04,  7.12it/s]"
          ],
          "name": "stderr"
        },
        {
          "output_type": "stream",
          "text": [
            "Train Epoch: 13 [40960/49920 (82%)]\tLoss: 1.391892\n"
          ],
          "name": "stdout"
        },
        {
          "output_type": "stream",
          "text": [
            " 88%|████████▊ | 172/195 [00:24<00:03,  7.11it/s]"
          ],
          "name": "stderr"
        },
        {
          "output_type": "stream",
          "text": [
            "Train Epoch: 13 [43520/49920 (87%)]\tLoss: 1.421876\n"
          ],
          "name": "stdout"
        },
        {
          "output_type": "stream",
          "text": [
            " 93%|█████████▎| 182/195 [00:25<00:01,  7.18it/s]"
          ],
          "name": "stderr"
        },
        {
          "output_type": "stream",
          "text": [
            "Train Epoch: 13 [46080/49920 (92%)]\tLoss: 1.427479\n"
          ],
          "name": "stdout"
        },
        {
          "output_type": "stream",
          "text": [
            " 98%|█████████▊| 192/195 [00:27<00:00,  7.20it/s]"
          ],
          "name": "stderr"
        },
        {
          "output_type": "stream",
          "text": [
            "Train Epoch: 13 [48640/49920 (97%)]\tLoss: 1.514228\n"
          ],
          "name": "stdout"
        },
        {
          "output_type": "stream",
          "text": [
            "100%|██████████| 195/195 [00:27<00:00,  7.12it/s]\n"
          ],
          "name": "stderr"
        },
        {
          "output_type": "stream",
          "text": [
            "Input\ta great sigh and leaned against the cavern wall. \"I am weak...\" he said. \"Don't worry, sir,\" said Ha\n",
            "GT\t great sigh and leaned against the cavern wall. \"I am weak...\" he said. \"Don't worry, sir,\" said Har\n",
            "pred\trsreet ahgnttnd saar d ttain,t the caser ioisk. \"I'ws nhrr,..  \"e said  \"Iin'  warry  tor,\" said Har\n",
            "\n",
            "\n",
            "Input\trossed the outer cave, and Harry helped Dumbledore back into the icy seawater that filled the crevic\n",
            "GT\tossed the outer cave, and Harry helped Dumbledore back into the icy seawater that filled the crevice\n",
            "pred\tessed the ttt r tarer tnd tarry waap d tumbledore tack on o the cnk whct,y,r that hinl d ohe caoaini\n",
            "\n",
            "\n",
            "Input\tivering and dripping in the middle of the dark High Street in Hogsmeade. For one horrible moment Har\n",
            "GT\tvering and dripping in the middle of the dark High Street in Hogsmeade. For one horrible moment Harr\n",
            "pred\tniring ard sranping hn the sagdly of the cark aash aiuumnsan tagwmeade  \"ir an  oawroble sarent tarr\n",
            "\n",
            "\n",
            "Input\t help, but there was nobody to be seen and all he could think was that he must somehow get Dumbledor\n",
            "GT\thelp, but there was nobody to be seen and all he could think was that he must somehow get Dumbledore\n",
            "pred\tairp  aut hhe e was aotody wo te aiem ttd t l oi would hhenk ohs ahat te watt bo etow ort tumbledore\n",
            "\n",
            "\n",
            "Input\tto - but what's wrong with Albus?' She came to a halt, panting, and stared down, wide-eyed, at Dumbl\n",
            "GT\to - but what's wrong with Albus?' She came to a halt, panting, and stared down, wide-eyed, at Dumble\n",
            "pred\th s wut hhat s whitg thth tnius \" sne tane to t havf  turiing  and thrrtd aown  ahte ld d  an tumble\n",
            "\n",
            "\n",
            "Input\tt there when I put the cat out, but when I got upstairs -' 'We need to return to the castle at once,\n",
            "GT\t there when I put the cat out, but when I got upstairs -' 'We need to return to the castle at once,'\n",
            "pred\t the e waan t wut ihe tancsnt  tut hhan t wat tn iairs a- bIh hovd to teturn to the tantly tn tnce  \n",
            "\n",
            "\n",
            "Input\tg back towards her pub as Harry and Dumble-dore kicked off from the ground and rose up into the air.\n",
            "GT\t back towards her pub as Harry and Dumble-dore kicked off from the ground and rose up into the air. \n",
            "pred\t tack oo ard  oi  trrban harry and Humbledbore tnnkld au  toom the tround atd sale tp tn o the cir  \n",
            "\n",
            "\n",
            "\n",
            "Test set: Average loss: 1.5159, Accuracy: 693300/1260000 (55%)\n",
            "\n",
            "generated max\t\t Harry looked at me and said that he was a large and the window, who was so that the was a large and saw that he was a large and saw that he was sideways of the window, who was so that the was a large and saw that he was a large a\n",
            "generated sample\t Harry looked at me and said look out of the last taking his hand at the stir. \"What's that think he was a bit on what had not shout of the other was a rain with and many with match of the was a large back at Harry. \"I've look as \n",
            "generated sample\t Harry looked at me and said But what sight had been back and said that he was something laugh the back of the window. And what he did not to taking the other side of the sout of the things on the other flash of the castly on the \n",
            "generated sample\t Harry looked at me and said Cupin a shruggly as he as he was so that was a signcludge and at the back of the side of the chair of which was a simply with the tried to his parchment. \"What's got out of the were are and began to su\n",
            "generated sample\t Harry looked at me and said Harry, he saw the sibsly at him, who had a fast of the find of the side of the bag and said large and had started the made to the side of the can sort of the marble as she was a dulking back of the sid\n",
            "generated sample\t Harry looked at me and said that he was desking through the castly as though he was sideways of the sign of this with his was long and a hand a scrumbled the last of the trip of the parchment of the book of the side that was a si\n",
            "generated sample\t Harry looked at me and said large as shot as in about the same and Ron had been a large of the ground, and he was still not talking a hour round of the air and rising his own witch the littly shrieved as he had been the first be \n",
            "generated sample\t Harry looked at me and said the floor became to taking his wand about the was that what he was sidew, troll of the trunk and saw that through his head from the sign, those wood on the wall of the signary so that was on the truth.\n",
            "generated sample\t Harry looked at me and said him. \"What's that you with back of the window, so that sout of the Dark with a man who was parchment and rang, when I don't was a large on the back at the taking in the cassay to making in the walls of\n",
            "generated sample\t Harry looked at me and said that was a sideways of the carry did not be able to the back of the man what was all and shouted to parchment to be and saw that he was felt to think out of the back out of the back. \"That's what you t\n",
            "generated sample\t Harry looked at me and said face of the other chair was a side, said that through the window what was a back of the castly arriving at him. \"That's what I was a side what what was a going to be a surrying. Sirius surround, and as\n"
          ],
          "name": "stdout"
        },
        {
          "output_type": "stream",
          "text": [
            "\r  0%|          | 0/195 [00:00<?, ?it/s]"
          ],
          "name": "stderr"
        },
        {
          "output_type": "stream",
          "text": [
            "generated beam\t\t Harry looked at me and said Dumbledore. Harry was so that he was on the other side of the window, as though he was so that he was on the other side of the back of the other side of the window, as though he was so that that he wa\n",
            "\n"
          ],
          "name": "stdout"
        },
        {
          "output_type": "stream",
          "text": [
            "  1%|          | 2/195 [00:00<00:36,  5.35it/s]"
          ],
          "name": "stderr"
        },
        {
          "output_type": "stream",
          "text": [
            "Train Epoch: 14 [0/49920 (0%)]\tLoss: 1.510386\n"
          ],
          "name": "stdout"
        },
        {
          "output_type": "stream",
          "text": [
            "  6%|▌         | 12/195 [00:01<00:25,  7.09it/s]"
          ],
          "name": "stderr"
        },
        {
          "output_type": "stream",
          "text": [
            "Train Epoch: 14 [2560/49920 (5%)]\tLoss: 1.468790\n"
          ],
          "name": "stdout"
        },
        {
          "output_type": "stream",
          "text": [
            " 11%|█▏        | 22/195 [00:03<00:24,  7.08it/s]"
          ],
          "name": "stderr"
        },
        {
          "output_type": "stream",
          "text": [
            "Train Epoch: 14 [5120/49920 (10%)]\tLoss: 1.411382\n"
          ],
          "name": "stdout"
        },
        {
          "output_type": "stream",
          "text": [
            " 16%|█▋        | 32/195 [00:04<00:22,  7.22it/s]"
          ],
          "name": "stderr"
        },
        {
          "output_type": "stream",
          "text": [
            "Train Epoch: 14 [7680/49920 (15%)]\tLoss: 1.405505\n"
          ],
          "name": "stdout"
        },
        {
          "output_type": "stream",
          "text": [
            " 22%|██▏       | 42/195 [00:05<00:21,  7.18it/s]"
          ],
          "name": "stderr"
        },
        {
          "output_type": "stream",
          "text": [
            "Train Epoch: 14 [10240/49920 (21%)]\tLoss: 1.414562\n"
          ],
          "name": "stdout"
        },
        {
          "output_type": "stream",
          "text": [
            " 27%|██▋       | 52/195 [00:07<00:20,  6.99it/s]"
          ],
          "name": "stderr"
        },
        {
          "output_type": "stream",
          "text": [
            "Train Epoch: 14 [12800/49920 (26%)]\tLoss: 1.446284\n"
          ],
          "name": "stdout"
        },
        {
          "output_type": "stream",
          "text": [
            " 32%|███▏      | 62/195 [00:08<00:18,  7.16it/s]"
          ],
          "name": "stderr"
        },
        {
          "output_type": "stream",
          "text": [
            "Train Epoch: 14 [15360/49920 (31%)]\tLoss: 1.461687\n"
          ],
          "name": "stdout"
        },
        {
          "output_type": "stream",
          "text": [
            " 37%|███▋      | 72/195 [00:10<00:17,  7.18it/s]"
          ],
          "name": "stderr"
        },
        {
          "output_type": "stream",
          "text": [
            "Train Epoch: 14 [17920/49920 (36%)]\tLoss: 1.422970\n"
          ],
          "name": "stdout"
        },
        {
          "output_type": "stream",
          "text": [
            " 42%|████▏     | 82/195 [00:11<00:15,  7.15it/s]"
          ],
          "name": "stderr"
        },
        {
          "output_type": "stream",
          "text": [
            "Train Epoch: 14 [20480/49920 (41%)]\tLoss: 1.379143\n"
          ],
          "name": "stdout"
        },
        {
          "output_type": "stream",
          "text": [
            " 47%|████▋     | 92/195 [00:12<00:14,  7.07it/s]"
          ],
          "name": "stderr"
        },
        {
          "output_type": "stream",
          "text": [
            "Train Epoch: 14 [23040/49920 (46%)]\tLoss: 1.384429\n"
          ],
          "name": "stdout"
        },
        {
          "output_type": "stream",
          "text": [
            " 52%|█████▏    | 102/195 [00:14<00:13,  7.10it/s]"
          ],
          "name": "stderr"
        },
        {
          "output_type": "stream",
          "text": [
            "Train Epoch: 14 [25600/49920 (51%)]\tLoss: 1.409389\n"
          ],
          "name": "stdout"
        },
        {
          "output_type": "stream",
          "text": [
            " 57%|█████▋    | 112/195 [00:15<00:11,  7.12it/s]"
          ],
          "name": "stderr"
        },
        {
          "output_type": "stream",
          "text": [
            "Train Epoch: 14 [28160/49920 (56%)]\tLoss: 1.383942\n"
          ],
          "name": "stdout"
        },
        {
          "output_type": "stream",
          "text": [
            " 63%|██████▎   | 122/195 [00:17<00:10,  7.00it/s]"
          ],
          "name": "stderr"
        },
        {
          "output_type": "stream",
          "text": [
            "Train Epoch: 14 [30720/49920 (62%)]\tLoss: 1.439189\n"
          ],
          "name": "stdout"
        },
        {
          "output_type": "stream",
          "text": [
            " 68%|██████▊   | 132/195 [00:18<00:08,  7.21it/s]"
          ],
          "name": "stderr"
        },
        {
          "output_type": "stream",
          "text": [
            "Train Epoch: 14 [33280/49920 (67%)]\tLoss: 1.458961\n"
          ],
          "name": "stdout"
        },
        {
          "output_type": "stream",
          "text": [
            " 73%|███████▎  | 142/195 [00:19<00:07,  7.18it/s]"
          ],
          "name": "stderr"
        },
        {
          "output_type": "stream",
          "text": [
            "Train Epoch: 14 [35840/49920 (72%)]\tLoss: 1.525679\n"
          ],
          "name": "stdout"
        },
        {
          "output_type": "stream",
          "text": [
            " 78%|███████▊  | 152/195 [00:21<00:06,  6.95it/s]"
          ],
          "name": "stderr"
        },
        {
          "output_type": "stream",
          "text": [
            "Train Epoch: 14 [38400/49920 (77%)]\tLoss: 1.438973\n"
          ],
          "name": "stdout"
        },
        {
          "output_type": "stream",
          "text": [
            " 83%|████████▎ | 162/195 [00:22<00:04,  7.09it/s]"
          ],
          "name": "stderr"
        },
        {
          "output_type": "stream",
          "text": [
            "Train Epoch: 14 [40960/49920 (82%)]\tLoss: 1.398764\n"
          ],
          "name": "stdout"
        },
        {
          "output_type": "stream",
          "text": [
            " 88%|████████▊ | 172/195 [00:24<00:03,  7.23it/s]"
          ],
          "name": "stderr"
        },
        {
          "output_type": "stream",
          "text": [
            "Train Epoch: 14 [43520/49920 (87%)]\tLoss: 1.370626\n"
          ],
          "name": "stdout"
        },
        {
          "output_type": "stream",
          "text": [
            " 93%|█████████▎| 182/195 [00:25<00:01,  7.10it/s]"
          ],
          "name": "stderr"
        },
        {
          "output_type": "stream",
          "text": [
            "Train Epoch: 14 [46080/49920 (92%)]\tLoss: 1.366663\n"
          ],
          "name": "stdout"
        },
        {
          "output_type": "stream",
          "text": [
            " 98%|█████████▊| 192/195 [00:26<00:00,  7.11it/s]"
          ],
          "name": "stderr"
        },
        {
          "output_type": "stream",
          "text": [
            "Train Epoch: 14 [48640/49920 (97%)]\tLoss: 1.422043\n"
          ],
          "name": "stdout"
        },
        {
          "output_type": "stream",
          "text": [
            "100%|██████████| 195/195 [00:27<00:00,  7.12it/s]\n"
          ],
          "name": "stderr"
        },
        {
          "output_type": "stream",
          "text": [
            "Input\ta great sigh and leaned against the cavern wall. \"I am weak...\" he said. \"Don't worry, sir,\" said Ha\n",
            "GT\t great sigh and leaned against the cavern wall. \"I am weak...\" he said. \"Don't worry, sir,\" said Har\n",
            "pred\trsoeet aeghtand soaved t ain,t the cose  eoisk  \"I dm nh r, .  \"e said  \"Ion't yauky  Ior,  said Har\n",
            "\n",
            "\n",
            "Input\trossed the outer cave, and Harry helped Dumbledore back into the icy seawater that filled the crevic\n",
            "GT\tossed the outer cave, and Harry helped Dumbledore back into the icy seawater that filled the crevice\n",
            "pred\tessed the ctt   hhme  wnd sarry se ped humbledore weck on o the cnh whet,ye  ahet horl   ohe soeaene\n",
            "\n",
            "\n",
            "Input\tivering and dripping in the middle of the dark High Street in Hogsmeade. For one horrible moment Har\n",
            "GT\tvering and dripping in the middle of the dark High Street in Hogsmeade. For one horrible moment Harr\n",
            "pred\tne eng a d seenpeng hn the saddle of the serk hash anuee  an tagwmeade  \"or an  oelroble sement aarr\n",
            "\n",
            "\n",
            "Input\t help, but there was nobody to be seen and all he could think was that he must somehow get Dumbledor\n",
            "GT\thelp, but there was nobody to be seen and all he could think was that he must somehow get Dumbledore\n",
            "pred\tae p  hut hhe e was ao ody wo be aeem t d s l oe would hhenk hhs ahet he wust be e ow mrt aumbledore\n",
            "\n",
            "\n",
            "Input\tto - but what's wrong with Albus?' She came to a halt, panting, and stared down, wide-eyed, at Dumbl\n",
            "GT\to - but what's wrong with Albus?' She came to a halt, panting, and stared down, wide-eyed, at Dumble\n",
            "pred\th s het hhet s hhotg whth h uus \" she wose bo b hevf  tlriing  hnd hhrred aown  ahte ld d  an Humble\n",
            "\n",
            "\n",
            "Input\tt there when I put the cat out, but when I got upstairs -' 'We need to return to the castle at once,\n",
            "GT\t there when I put the cat out, but when I got upstairs -' 'We need to return to the castle at once,'\n",
            "pred\t bhe e waen y wut hhe moscant  iut hhen h wot tn eairs a  b h heed to bemurn to she mlse e on tnce  \n",
            "\n",
            "\n",
            "Input\tg back towards her pub as Harry and Dumble-dore kicked off from the ground and rose up into the air.\n",
            "GT\t back towards her pub as Harry and Dumble-dore kicked off from the ground and rose up into the air. \n",
            "pred\t teck oo ard  he  eltlan harry and Humbledbore wnnked hu  toom hhe creund and sele in tn o the cir  \n",
            "\n",
            "\n",
            "\n",
            "Test set: Average loss: 1.4891, Accuracy: 706838/1260000 (56%)\n",
            "\n",
            "generated max\t\t Harry looked at me and said Harry and he was so the close to the close to the close to the close to the close to the close to the close to the close to the close to the close to the close to the close to the close to the close to\n",
            "generated sample\t Harry looked at me and said a roll on he had come and the time the comment. \"I he was a many me not explain a must as a so but he want to see it in the can seemed up the to point the first the boung how of the case of the centaur\n",
            "generated sample\t Harry looked at me and said for a feet he was a busing in the back of his mouth with with a sure when the summerly and loudly as he counted to get the move of you heard as he cupped he was deside he had been explaining he was so \n",
            "generated sample\t Harry looked at me and said looked and he had she expected in the case a hold on his head and Harry suddenly and he was like as he had so the other floor been bought he had sniffered in the first as he was suddenly be her had the\n",
            "generated sample\t Harry looked at me and said Hagrid and returned his wand a long sign of cheered in a bed and said in his eyes. \"She cleared him on he wish and he was place with a remember of the bad on he hurried to the beside the close to be a \n",
            "generated sample\t Harry looked at me and said in the call seemed to his been a long under he and slight be all empty of the term what the he put him and series when the centaure as a lot of his hand said the looked a house of his feet him and so w\n",
            "generated sample\t Harry looked at me and said Harry had seemed to get out the extrees. \"I do not a little play when he says been when I don't been a long be explain and a gold up the elf, Harry saw the school of the spell when he head to be a sure\n",
            "generated sample\t Harry looked at me and said Harry was shouldered to be a lot of the come of the few move of the book of the second of the beside the air and she saw who was soul with sementors of the some of the security portrait he was on the c\n",
            "generated sample\t Harry looked at me and said on the looked up a few seemed to be sure as a he word in the floor of the floor cheeling the like a hall and Harry would he had been a sounded be so face so in the hospital with he had been cleared to \n",
            "generated sample\t Harry looked at me and said for a wore who was so that leaking been a very with a have been report of the wall of the chance was a moment of the book of because me when you heard a few been been able to see he was so be stepped i\n",
            "generated sample\t Harry looked at me and said a skill not he had been red up at her eyes on the explain and saw the case to sight flown bell in he had been replained the sunder tell sight of his hand as she saw becked up and he was saw he was look\n"
          ],
          "name": "stdout"
        },
        {
          "output_type": "stream",
          "text": [
            "\r  0%|          | 0/195 [00:00<?, ?it/s]"
          ],
          "name": "stderr"
        },
        {
          "output_type": "stream",
          "text": [
            "generated beam\t\t Harry looked at me and said Professor McGonagall was looking around he had been he had been seemed to the side of the window. Harry would he had been he could he had been seemed to see what he would he had been with he had been \n",
            "\n"
          ],
          "name": "stdout"
        },
        {
          "output_type": "stream",
          "text": [
            "  1%|          | 2/195 [00:00<00:38,  5.00it/s]"
          ],
          "name": "stderr"
        },
        {
          "output_type": "stream",
          "text": [
            "Train Epoch: 15 [0/49920 (0%)]\tLoss: 1.481317\n"
          ],
          "name": "stdout"
        },
        {
          "output_type": "stream",
          "text": [
            "  6%|▌         | 12/195 [00:01<00:25,  7.05it/s]"
          ],
          "name": "stderr"
        },
        {
          "output_type": "stream",
          "text": [
            "Train Epoch: 15 [2560/49920 (5%)]\tLoss: 1.465304\n"
          ],
          "name": "stdout"
        },
        {
          "output_type": "stream",
          "text": [
            " 11%|█▏        | 22/195 [00:03<00:24,  7.12it/s]"
          ],
          "name": "stderr"
        },
        {
          "output_type": "stream",
          "text": [
            "Train Epoch: 15 [5120/49920 (10%)]\tLoss: 1.412316\n"
          ],
          "name": "stdout"
        },
        {
          "output_type": "stream",
          "text": [
            " 16%|█▋        | 32/195 [00:04<00:22,  7.11it/s]"
          ],
          "name": "stderr"
        },
        {
          "output_type": "stream",
          "text": [
            "Train Epoch: 15 [7680/49920 (15%)]\tLoss: 1.402189\n"
          ],
          "name": "stdout"
        },
        {
          "output_type": "stream",
          "text": [
            " 22%|██▏       | 42/195 [00:05<00:21,  7.08it/s]"
          ],
          "name": "stderr"
        },
        {
          "output_type": "stream",
          "text": [
            "Train Epoch: 15 [10240/49920 (21%)]\tLoss: 1.399050\n"
          ],
          "name": "stdout"
        },
        {
          "output_type": "stream",
          "text": [
            " 27%|██▋       | 52/195 [00:07<00:19,  7.16it/s]"
          ],
          "name": "stderr"
        },
        {
          "output_type": "stream",
          "text": [
            "Train Epoch: 15 [12800/49920 (26%)]\tLoss: 1.440912\n"
          ],
          "name": "stdout"
        },
        {
          "output_type": "stream",
          "text": [
            " 32%|███▏      | 62/195 [00:08<00:19,  6.95it/s]"
          ],
          "name": "stderr"
        },
        {
          "output_type": "stream",
          "text": [
            "Train Epoch: 15 [15360/49920 (31%)]\tLoss: 1.488093\n"
          ],
          "name": "stdout"
        },
        {
          "output_type": "stream",
          "text": [
            " 37%|███▋      | 72/195 [00:10<00:17,  7.13it/s]"
          ],
          "name": "stderr"
        },
        {
          "output_type": "stream",
          "text": [
            "Train Epoch: 15 [17920/49920 (36%)]\tLoss: 1.402918\n"
          ],
          "name": "stdout"
        },
        {
          "output_type": "stream",
          "text": [
            " 42%|████▏     | 82/195 [00:11<00:15,  7.10it/s]"
          ],
          "name": "stderr"
        },
        {
          "output_type": "stream",
          "text": [
            "Train Epoch: 15 [20480/49920 (41%)]\tLoss: 1.380893\n"
          ],
          "name": "stdout"
        },
        {
          "output_type": "stream",
          "text": [
            " 47%|████▋     | 92/195 [00:13<00:14,  7.11it/s]"
          ],
          "name": "stderr"
        },
        {
          "output_type": "stream",
          "text": [
            "Train Epoch: 15 [23040/49920 (46%)]\tLoss: 1.387039\n"
          ],
          "name": "stdout"
        },
        {
          "output_type": "stream",
          "text": [
            " 52%|█████▏    | 102/195 [00:14<00:13,  7.15it/s]"
          ],
          "name": "stderr"
        },
        {
          "output_type": "stream",
          "text": [
            "Train Epoch: 15 [25600/49920 (51%)]\tLoss: 1.392972\n"
          ],
          "name": "stdout"
        },
        {
          "output_type": "stream",
          "text": [
            " 57%|█████▋    | 112/195 [00:15<00:11,  7.22it/s]"
          ],
          "name": "stderr"
        },
        {
          "output_type": "stream",
          "text": [
            "Train Epoch: 15 [28160/49920 (56%)]\tLoss: 1.398880\n"
          ],
          "name": "stdout"
        },
        {
          "output_type": "stream",
          "text": [
            " 63%|██████▎   | 122/195 [00:17<00:10,  7.23it/s]"
          ],
          "name": "stderr"
        },
        {
          "output_type": "stream",
          "text": [
            "Train Epoch: 15 [30720/49920 (62%)]\tLoss: 1.412551\n"
          ],
          "name": "stdout"
        },
        {
          "output_type": "stream",
          "text": [
            " 68%|██████▊   | 132/195 [00:18<00:08,  7.13it/s]"
          ],
          "name": "stderr"
        },
        {
          "output_type": "stream",
          "text": [
            "Train Epoch: 15 [33280/49920 (67%)]\tLoss: 1.436934\n"
          ],
          "name": "stdout"
        },
        {
          "output_type": "stream",
          "text": [
            " 73%|███████▎  | 142/195 [00:20<00:07,  7.09it/s]"
          ],
          "name": "stderr"
        },
        {
          "output_type": "stream",
          "text": [
            "Train Epoch: 15 [35840/49920 (72%)]\tLoss: 1.424169\n"
          ],
          "name": "stdout"
        },
        {
          "output_type": "stream",
          "text": [
            " 78%|███████▊  | 152/195 [00:21<00:05,  7.20it/s]"
          ],
          "name": "stderr"
        },
        {
          "output_type": "stream",
          "text": [
            "Train Epoch: 15 [38400/49920 (77%)]\tLoss: 1.394029\n"
          ],
          "name": "stdout"
        },
        {
          "output_type": "stream",
          "text": [
            " 83%|████████▎ | 162/195 [00:22<00:04,  7.19it/s]"
          ],
          "name": "stderr"
        },
        {
          "output_type": "stream",
          "text": [
            "Train Epoch: 15 [40960/49920 (82%)]\tLoss: 1.429090\n"
          ],
          "name": "stdout"
        },
        {
          "output_type": "stream",
          "text": [
            " 88%|████████▊ | 172/195 [00:24<00:03,  6.96it/s]"
          ],
          "name": "stderr"
        },
        {
          "output_type": "stream",
          "text": [
            "Train Epoch: 15 [43520/49920 (87%)]\tLoss: 1.407794\n"
          ],
          "name": "stdout"
        },
        {
          "output_type": "stream",
          "text": [
            " 93%|█████████▎| 182/195 [00:25<00:01,  7.09it/s]"
          ],
          "name": "stderr"
        },
        {
          "output_type": "stream",
          "text": [
            "Train Epoch: 15 [46080/49920 (92%)]\tLoss: 1.381573\n"
          ],
          "name": "stdout"
        },
        {
          "output_type": "stream",
          "text": [
            " 98%|█████████▊| 192/195 [00:27<00:00,  7.14it/s]"
          ],
          "name": "stderr"
        },
        {
          "output_type": "stream",
          "text": [
            "Train Epoch: 15 [48640/49920 (97%)]\tLoss: 1.395183\n"
          ],
          "name": "stdout"
        },
        {
          "output_type": "stream",
          "text": [
            "100%|██████████| 195/195 [00:27<00:00,  7.10it/s]\n"
          ],
          "name": "stderr"
        },
        {
          "output_type": "stream",
          "text": [
            "Input\ta great sigh and leaned against the cavern wall. \"I am weak...\" he said. \"Don't worry, sir,\" said Ha\n",
            "GT\t great sigh and leaned against the cavern wall. \"I am weak...\" he said. \"Don't worry, sir,\" said Har\n",
            "pred\trsreeteshghttnd sotved tnain.t the corer.eoisl. \"I ds shrr,\".  \"e said  \"Ion't warry  tor,  said Har\n",
            "\n",
            "\n",
            "Input\trossed the outer cave, and Harry helped Dumbledore back into the icy seawater that filled the crevic\n",
            "GT\tossed the outer cave, and Harry helped Dumbledore back into the icy seawater that filled the crevice\n",
            "pred\tessed the ctt r threr tnd sarry saaped humbledore teck tnto the cnk wtir,yer.thet hort d ihe coeaene\n",
            "\n",
            "\n",
            "Input\tivering and dripping in the middle of the dark High Street in Hogsmeade. For one horrible moment Har\n",
            "GT\tvering and dripping in the middle of the dark High Street in Hogsmeade. For one horrible moment Harr\n",
            "pred\tnering and srenpeng hn the coddle of the cerk hash anueetean tagwmeaded \"rr ane oelroble torent tarr\n",
            "\n",
            "\n",
            "Input\t help, but there was nobody to be seen and all he could think was that he must somehow get Dumbledor\n",
            "GT\thelp, but there was nobody to be seen and all he could think was that he must somehow get Dumbledore\n",
            "pred\ttirp. hut hhe e was aotody wo te seem tnd s l oe would hhesk hhs ahet he wust bemetow mrt tumbledore\n",
            "\n",
            "\n",
            "Input\tto - but what's wrong with Albus?' She came to a halt, panting, and stared down, wide-eyed, at Dumbl\n",
            "GT\to - but what's wrong with Albus?' She came to a halt, panting, and stared down, wide-eyed, at Dumble\n",
            "pred\th s-het hhet s hhitg.with tnuus \" sne wone to t hovf  tlriing  tnd thrrtd aown  ahte ldod  an tumble\n",
            "\n",
            "\n",
            "Input\tt there when I put the cat out, but when I got upstairs -' 'We need to return to the castle at once,\n",
            "GT\t there when I put the cat out, but when I got upstairs -' 'We need to return to the castle at once,'\n",
            "pred\t the e waen t wrt hhe carcsnt  tut hhen h wot tn eairs a- bIhlhevdeto beturneto the costle.tn tnce, \n",
            "\n",
            "\n",
            "Input\tg back towards her pub as Harry and Dumble-dore kicked off from the ground and rose up into the air.\n",
            "GT\t back towards her pub as Harry and Dumble-dore kicked off from the ground and rose up into the air. \n",
            "pred\t teck to ard  te  trtban harry snd Humbledoore tnnked iuf toom the creund.and sele tn tnto the cir  \n",
            "\n",
            "\n",
            "\n",
            "Test set: Average loss: 1.4172, Accuracy: 717660/1260000 (57%)\n",
            "\n",
            "Saved /gdrive/My Drive/colab_files/homework3/checkpoints/015.pt\n",
            "\n",
            "generated max\t\t Harry looked at me and said the corridor the chair of the chair of the chair was and stretched in the chair was and stretched in the chair was and started to the closer. \"I don't want to the memory of the come of the come of the \n",
            "generated sample\t Harry looked at me and said Ron and Ron where shoulders. \"Yes, he wouldn't them, where you written does in the twink it... and Ron with it's a little of them... what you were here... I don't then I kneeper of the month snapped it\n",
            "generated sample\t Harry looked at me and said the end of his head. \"What Harry was looking to teacher, where were in the matter of the case, then the moment. \"Nou have decided in the wearing about the They're greed and so the most of the first me,\n",
            "generated sample\t Harry looked at me and said Harry. \"I don't you heard in the grouble in the case they're green and she was to been looking around the suree, took it. He was still the nearly looked as he was looking out of the way out of they wer\n",
            "generated sample\t Harry looked at me and said Ron and the clother. \"I can't them your our indeed, and the terrible where you are your heard in the night. It was sure and seemed to here uncontrol the dresperated to the expected to the other side of\n",
            "generated sample\t Harry looked at me and said his face and the floor something. \"You're you heard your else.\" \"I he said, now, sweeting the green and sight them into the end of the cleared. They were still behind the cared the first their classroo\n",
            "generated sample\t Harry looked at me and said during into the very looked reper. \"You he's helped, \" she said you to her like them, the next would have been else of them... he fly out of the for me, but he would be in magical green and was really \n",
            "generated sample\t Harry looked at me and said in the cloak with and Harry who was looking at the slightly four himself, and Hermione was stone when the side of the window, the thing else off he would be and so that when the parchment of the black \n",
            "generated sample\t Harry looked at me and said the fell of the substrets. \"Fird what he cusing the can't was a side, in the like to her the indered the expering them. Where was he spidered to him. \"Harry, where he In' seemed to be on, Harry's shoul\n",
            "generated sample\t Harry looked at me and said cheer. \"What's he was not been anything the like to it's and her to pletening. In the lines your head out of the window, Harry said her excelled behind her never seen on the more. \"Why don't like this \n",
            "generated sample\t Harry looked at me and said Ron head. She cleared the wall only cheer. \"I don't the window, they're got time in the why them, I think your heard him. The Inter's owl rememed. It was all the light out of the heard to see what was \n"
          ],
          "name": "stdout"
        },
        {
          "output_type": "stream",
          "text": [
            "\r  0%|          | 0/195 [00:00<?, ?it/s]"
          ],
          "name": "stderr"
        },
        {
          "output_type": "stream",
          "text": [
            "generated beam\t\t Harry looked at me and said Professor McGonagall, who was looking around. Harry was looking around the end of the window. Harry wouldn't seemed to be in the other. Harry had been seemed to the window. Harry would have been been \n",
            "\n"
          ],
          "name": "stdout"
        },
        {
          "output_type": "stream",
          "text": [
            "  1%|          | 2/195 [00:00<00:39,  4.90it/s]"
          ],
          "name": "stderr"
        },
        {
          "output_type": "stream",
          "text": [
            "Train Epoch: 16 [0/49920 (0%)]\tLoss: 1.412249\n"
          ],
          "name": "stdout"
        },
        {
          "output_type": "stream",
          "text": [
            "  6%|▌         | 12/195 [00:01<00:26,  6.98it/s]"
          ],
          "name": "stderr"
        },
        {
          "output_type": "stream",
          "text": [
            "Train Epoch: 16 [2560/49920 (5%)]\tLoss: 1.626361\n"
          ],
          "name": "stdout"
        },
        {
          "output_type": "stream",
          "text": [
            " 11%|█▏        | 22/195 [00:03<00:24,  7.16it/s]"
          ],
          "name": "stderr"
        },
        {
          "output_type": "stream",
          "text": [
            "Train Epoch: 16 [5120/49920 (10%)]\tLoss: 1.456425\n"
          ],
          "name": "stdout"
        },
        {
          "output_type": "stream",
          "text": [
            " 16%|█▋        | 32/195 [00:04<00:23,  7.07it/s]"
          ],
          "name": "stderr"
        },
        {
          "output_type": "stream",
          "text": [
            "Train Epoch: 16 [7680/49920 (15%)]\tLoss: 1.412738\n"
          ],
          "name": "stdout"
        },
        {
          "output_type": "stream",
          "text": [
            " 22%|██▏       | 42/195 [00:06<00:21,  7.16it/s]"
          ],
          "name": "stderr"
        },
        {
          "output_type": "stream",
          "text": [
            "Train Epoch: 16 [10240/49920 (21%)]\tLoss: 1.409118\n"
          ],
          "name": "stdout"
        },
        {
          "output_type": "stream",
          "text": [
            " 27%|██▋       | 52/195 [00:07<00:20,  7.03it/s]"
          ],
          "name": "stderr"
        },
        {
          "output_type": "stream",
          "text": [
            "Train Epoch: 16 [12800/49920 (26%)]\tLoss: 1.395319\n"
          ],
          "name": "stdout"
        },
        {
          "output_type": "stream",
          "text": [
            " 32%|███▏      | 62/195 [00:08<00:18,  7.00it/s]"
          ],
          "name": "stderr"
        },
        {
          "output_type": "stream",
          "text": [
            "Train Epoch: 16 [15360/49920 (31%)]\tLoss: 1.409618\n"
          ],
          "name": "stdout"
        },
        {
          "output_type": "stream",
          "text": [
            " 37%|███▋      | 72/195 [00:10<00:17,  7.09it/s]"
          ],
          "name": "stderr"
        },
        {
          "output_type": "stream",
          "text": [
            "Train Epoch: 16 [17920/49920 (36%)]\tLoss: 1.403680\n"
          ],
          "name": "stdout"
        },
        {
          "output_type": "stream",
          "text": [
            " 42%|████▏     | 82/195 [00:11<00:15,  7.15it/s]"
          ],
          "name": "stderr"
        },
        {
          "output_type": "stream",
          "text": [
            "Train Epoch: 16 [20480/49920 (41%)]\tLoss: 1.387055\n"
          ],
          "name": "stdout"
        },
        {
          "output_type": "stream",
          "text": [
            " 47%|████▋     | 92/195 [00:13<00:14,  7.14it/s]"
          ],
          "name": "stderr"
        },
        {
          "output_type": "stream",
          "text": [
            "Train Epoch: 16 [23040/49920 (46%)]\tLoss: 1.411531\n"
          ],
          "name": "stdout"
        },
        {
          "output_type": "stream",
          "text": [
            " 52%|█████▏    | 102/195 [00:14<00:13,  7.13it/s]"
          ],
          "name": "stderr"
        },
        {
          "output_type": "stream",
          "text": [
            "Train Epoch: 16 [25600/49920 (51%)]\tLoss: 1.417491\n"
          ],
          "name": "stdout"
        },
        {
          "output_type": "stream",
          "text": [
            " 57%|█████▋    | 112/195 [00:15<00:11,  7.19it/s]"
          ],
          "name": "stderr"
        },
        {
          "output_type": "stream",
          "text": [
            "Train Epoch: 16 [28160/49920 (56%)]\tLoss: 1.464394\n"
          ],
          "name": "stdout"
        },
        {
          "output_type": "stream",
          "text": [
            " 63%|██████▎   | 122/195 [00:17<00:10,  7.08it/s]"
          ],
          "name": "stderr"
        },
        {
          "output_type": "stream",
          "text": [
            "Train Epoch: 16 [30720/49920 (62%)]\tLoss: 1.487571\n"
          ],
          "name": "stdout"
        },
        {
          "output_type": "stream",
          "text": [
            " 68%|██████▊   | 132/195 [00:18<00:08,  7.16it/s]"
          ],
          "name": "stderr"
        },
        {
          "output_type": "stream",
          "text": [
            "Train Epoch: 16 [33280/49920 (67%)]\tLoss: 1.442544\n"
          ],
          "name": "stdout"
        },
        {
          "output_type": "stream",
          "text": [
            " 73%|███████▎  | 142/195 [00:20<00:07,  7.05it/s]"
          ],
          "name": "stderr"
        },
        {
          "output_type": "stream",
          "text": [
            "Train Epoch: 16 [35840/49920 (72%)]\tLoss: 1.426784\n"
          ],
          "name": "stdout"
        },
        {
          "output_type": "stream",
          "text": [
            " 78%|███████▊  | 152/195 [00:21<00:05,  7.17it/s]"
          ],
          "name": "stderr"
        },
        {
          "output_type": "stream",
          "text": [
            "Train Epoch: 16 [38400/49920 (77%)]\tLoss: 1.398949\n"
          ],
          "name": "stdout"
        },
        {
          "output_type": "stream",
          "text": [
            " 83%|████████▎ | 162/195 [00:22<00:04,  7.13it/s]"
          ],
          "name": "stderr"
        },
        {
          "output_type": "stream",
          "text": [
            "Train Epoch: 16 [40960/49920 (82%)]\tLoss: 1.417854\n"
          ],
          "name": "stdout"
        },
        {
          "output_type": "stream",
          "text": [
            " 88%|████████▊ | 172/195 [00:24<00:03,  7.04it/s]"
          ],
          "name": "stderr"
        },
        {
          "output_type": "stream",
          "text": [
            "Train Epoch: 16 [43520/49920 (87%)]\tLoss: 1.513562\n"
          ],
          "name": "stdout"
        },
        {
          "output_type": "stream",
          "text": [
            " 93%|█████████▎| 182/195 [00:25<00:01,  7.06it/s]"
          ],
          "name": "stderr"
        },
        {
          "output_type": "stream",
          "text": [
            "Train Epoch: 16 [46080/49920 (92%)]\tLoss: 1.396912\n"
          ],
          "name": "stdout"
        },
        {
          "output_type": "stream",
          "text": [
            " 98%|█████████▊| 192/195 [00:27<00:00,  7.14it/s]"
          ],
          "name": "stderr"
        },
        {
          "output_type": "stream",
          "text": [
            "Train Epoch: 16 [48640/49920 (97%)]\tLoss: 1.391220\n"
          ],
          "name": "stdout"
        },
        {
          "output_type": "stream",
          "text": [
            "100%|██████████| 195/195 [00:27<00:00,  7.10it/s]\n"
          ],
          "name": "stderr"
        },
        {
          "output_type": "stream",
          "text": [
            "Input\ta great sigh and leaned against the cavern wall. \"I am weak...\" he said. \"Don't worry, sir,\" said Ha\n",
            "GT\t great sigh and leaned against the cavern wall. \"I am weak...\" he said. \"Don't worry, sir,\" said Har\n",
            "pred\trsoeet aennttnd soared tnain t the sose  eoisk  \"I ds nh r,\".  \"e said  \"Ion't wanky  tor,  said Har\n",
            "\n",
            "\n",
            "Input\trossed the outer cave, and Harry helped Dumbledore back into the icy seawater that filled the crevic\n",
            "GT\tossed the outer cave, and Harry helped Dumbledore back into the icy seawater that filled the crevice\n",
            "pred\tewsed toe stt r oore  tnd sarry saaded tumbledore weck on o the cnk woit,yer toet torl d ooe sooaene\n",
            "\n",
            "\n",
            "Input\tivering and dripping in the middle of the dark High Street in Hogsmeade. For one horrible moment Har\n",
            "GT\tvering and dripping in the middle of the dark High Street in Hogsmeade. For one horrible moment Harr\n",
            "pred\tne eng a d soanpeng tn the sogdle of the sork oash anuoen an tagwmeade  \"or sn  oewroble sorent oarr\n",
            "\n",
            "\n",
            "Input\t help, but there was nobody to be seen and all he could think was that he must somehow get Dumbledor\n",
            "GT\thelp, but there was nobody to be seen and all he could think was that he must somehow get Dumbledore\n",
            "pred\tti p  sut the e was ao ody wo se seem tnd s l oe would soenk ohs aoet te wost aeme ow ort tumbledore\n",
            "\n",
            "\n",
            "Input\tto - but what's wrong with Albus?' She came to a halt, panting, and stared down, wide-eyed, at Dumbl\n",
            "GT\to - but what's wrong with Albus?' She came to a halt, panting, and stared down, wide-eyed, at Dumble\n",
            "pred\th s wet that s hhing thth t uus \" sne oone oo t sovf  toriing  tnd thrrtd aown  thte ld d  tn tumble\n",
            "\n",
            "\n",
            "Input\tt there when I put the cat out, but when I got upstairs -' 'We need to return to the castle at once,\n",
            "GT\t there when I put the cat out, but when I got upstairs -' 'We need to return to the castle at once,'\n",
            "pred\t the e waan I wrt the oorcsnt  tut then I wot tn eairs a  s h hevdeto beaurn to the mortle on tnce  \n",
            "\n",
            "\n",
            "Input\tg back towards her pub as Harry and Dumble-dore kicked off from the ground and rose up into the air.\n",
            "GT\t back towards her pub as Harry and Dumble-dore kicked off from the ground and rose up into the air. \n",
            "pred\t teck to ard  te  totban tarry snd sumbledoore annked tu  toom the sround ond seoe tn tn o the sir  \n",
            "\n",
            "\n",
            "\n",
            "Test set: Average loss: 1.4348, Accuracy: 718604/1260000 (57%)\n",
            "\n",
            "Saved /gdrive/My Drive/colab_files/homework3/checkpoints/016.pt\n",
            "\n",
            "generated max\t\t Harry looked at me and said the stood out of the side of the side of the side of the side of the side of the side of the side of the side of the side of the side of the side of the side of the side of the side of the side of the \n",
            "generated sample\t Harry looked at me and said Potter, of course who was some of the second out of the since so than to parch of the both of the compling as they were and shoulder and said the once of the side of the sear of the sour Trinch window \n",
            "generated sample\t Harry looked at me and said Harry and Harry street a screamble on to her legs to him. He had already he was on the school of the other to the head and put he creature and he was a whole and the way of the chair as he was on the s\n",
            "generated sample\t Harry looked at me and said Harry and shook he was a narrow staring around him for the pression on the last the side of the common room what he had to do it. The only we all told me too be stepped for the our now sure the change \n",
            "generated sample\t Harry looked at me and said some of the window of the check of the other side of the toward to be and said the only dropped in the glame of the close so the look of the back on his moment, he shoulder and the room when he was so \n",
            "generated sample\t Harry looked at me and said the other unicorn to hear the other to the someone of night he was only some the book of the sort of the common room of the comment of the sure for the stook a surface of the window and a walk of the c\n",
            "generated sample\t Harry looked at me and said Professor McGonagall was controll of who had said on the link of the ground to his feet around the completely heard to be single to for his own the best eyes of the side of the sight of Harry as the bo\n",
            "generated sample\t Harry looked at me and said down the moment of the corridor would so fast at the other so to thing to huge and Harry stood him back at her sing around how to be him and she started to his wand by the spiring to be in the room whe\n",
            "generated sample\t Harry looked at me and said so the stop of the piece of the house of the carriage of the chair below to see that one of the the corridor of the other since he was on the end of the time to comment and down the other side of the c\n",
            "generated sample\t Harry looked at me and said on the stood of the bark with a pot of the window, and Harry spotted out of the course. \"You know what you seem to came you work and saying he's gone of the start of the second for he could hear the Si\n",
            "generated sample\t Harry looked at me and said so long and spotted to see the other side and subject the desperately written to the tain window a great he was sure that he had been she left on the othe said Harry stood out of the room at the subjec\n"
          ],
          "name": "stdout"
        },
        {
          "output_type": "stream",
          "text": [
            "\r  0%|          | 0/195 [00:00<?, ?it/s]"
          ],
          "name": "stderr"
        },
        {
          "output_type": "stream",
          "text": [
            "generated beam\t\t Harry looked at me and said Professor McGonagall looked out of the other side of the other side of the side of the other side of the common room of the common room of the common room of the window. Harry was looking as though he\n",
            "\n"
          ],
          "name": "stdout"
        },
        {
          "output_type": "stream",
          "text": [
            "  1%|          | 2/195 [00:00<00:36,  5.22it/s]"
          ],
          "name": "stderr"
        },
        {
          "output_type": "stream",
          "text": [
            "Train Epoch: 17 [0/49920 (0%)]\tLoss: 1.426539\n"
          ],
          "name": "stdout"
        },
        {
          "output_type": "stream",
          "text": [
            "  6%|▌         | 12/195 [00:01<00:26,  6.96it/s]"
          ],
          "name": "stderr"
        },
        {
          "output_type": "stream",
          "text": [
            "Train Epoch: 17 [2560/49920 (5%)]\tLoss: 1.399451\n"
          ],
          "name": "stdout"
        },
        {
          "output_type": "stream",
          "text": [
            " 11%|█▏        | 22/195 [00:03<00:24,  7.08it/s]"
          ],
          "name": "stderr"
        },
        {
          "output_type": "stream",
          "text": [
            "Train Epoch: 17 [5120/49920 (10%)]\tLoss: 1.406113\n"
          ],
          "name": "stdout"
        },
        {
          "output_type": "stream",
          "text": [
            " 16%|█▋        | 32/195 [00:04<00:22,  7.10it/s]"
          ],
          "name": "stderr"
        },
        {
          "output_type": "stream",
          "text": [
            "Train Epoch: 17 [7680/49920 (15%)]\tLoss: 1.461576\n"
          ],
          "name": "stdout"
        },
        {
          "output_type": "stream",
          "text": [
            " 22%|██▏       | 42/195 [00:05<00:21,  7.13it/s]"
          ],
          "name": "stderr"
        },
        {
          "output_type": "stream",
          "text": [
            "Train Epoch: 17 [10240/49920 (21%)]\tLoss: 1.418059\n"
          ],
          "name": "stdout"
        },
        {
          "output_type": "stream",
          "text": [
            " 27%|██▋       | 52/195 [00:07<00:20,  7.12it/s]"
          ],
          "name": "stderr"
        },
        {
          "output_type": "stream",
          "text": [
            "Train Epoch: 17 [12800/49920 (26%)]\tLoss: 1.377962\n"
          ],
          "name": "stdout"
        },
        {
          "output_type": "stream",
          "text": [
            " 32%|███▏      | 62/195 [00:08<00:18,  7.09it/s]"
          ],
          "name": "stderr"
        },
        {
          "output_type": "stream",
          "text": [
            "Train Epoch: 17 [15360/49920 (31%)]\tLoss: 1.385595\n"
          ],
          "name": "stdout"
        },
        {
          "output_type": "stream",
          "text": [
            " 37%|███▋      | 72/195 [00:10<00:17,  7.20it/s]"
          ],
          "name": "stderr"
        },
        {
          "output_type": "stream",
          "text": [
            "Train Epoch: 17 [17920/49920 (36%)]\tLoss: 1.389891\n"
          ],
          "name": "stdout"
        },
        {
          "output_type": "stream",
          "text": [
            " 42%|████▏     | 82/195 [00:11<00:16,  6.99it/s]"
          ],
          "name": "stderr"
        },
        {
          "output_type": "stream",
          "text": [
            "Train Epoch: 17 [20480/49920 (41%)]\tLoss: 1.431703\n"
          ],
          "name": "stdout"
        },
        {
          "output_type": "stream",
          "text": [
            " 47%|████▋     | 92/195 [00:13<00:14,  7.15it/s]"
          ],
          "name": "stderr"
        },
        {
          "output_type": "stream",
          "text": [
            "Train Epoch: 17 [23040/49920 (46%)]\tLoss: 1.416721\n"
          ],
          "name": "stdout"
        },
        {
          "output_type": "stream",
          "text": [
            " 52%|█████▏    | 102/195 [00:14<00:13,  7.04it/s]"
          ],
          "name": "stderr"
        },
        {
          "output_type": "stream",
          "text": [
            "Train Epoch: 17 [25600/49920 (51%)]\tLoss: 1.460212\n"
          ],
          "name": "stdout"
        },
        {
          "output_type": "stream",
          "text": [
            " 57%|█████▋    | 112/195 [00:15<00:11,  7.18it/s]"
          ],
          "name": "stderr"
        },
        {
          "output_type": "stream",
          "text": [
            "Train Epoch: 17 [28160/49920 (56%)]\tLoss: 1.403430\n"
          ],
          "name": "stdout"
        },
        {
          "output_type": "stream",
          "text": [
            " 63%|██████▎   | 122/195 [00:17<00:10,  7.21it/s]"
          ],
          "name": "stderr"
        },
        {
          "output_type": "stream",
          "text": [
            "Train Epoch: 17 [30720/49920 (62%)]\tLoss: 1.422741\n"
          ],
          "name": "stdout"
        },
        {
          "output_type": "stream",
          "text": [
            " 68%|██████▊   | 132/195 [00:18<00:08,  7.09it/s]"
          ],
          "name": "stderr"
        },
        {
          "output_type": "stream",
          "text": [
            "Train Epoch: 17 [33280/49920 (67%)]\tLoss: 1.404924\n"
          ],
          "name": "stdout"
        },
        {
          "output_type": "stream",
          "text": [
            " 73%|███████▎  | 142/195 [00:20<00:07,  7.02it/s]"
          ],
          "name": "stderr"
        },
        {
          "output_type": "stream",
          "text": [
            "Train Epoch: 17 [35840/49920 (72%)]\tLoss: 1.400183\n"
          ],
          "name": "stdout"
        },
        {
          "output_type": "stream",
          "text": [
            " 78%|███████▊  | 152/195 [00:21<00:06,  7.16it/s]"
          ],
          "name": "stderr"
        },
        {
          "output_type": "stream",
          "text": [
            "Train Epoch: 17 [38400/49920 (77%)]\tLoss: 1.381766\n"
          ],
          "name": "stdout"
        },
        {
          "output_type": "stream",
          "text": [
            " 83%|████████▎ | 162/195 [00:22<00:04,  7.11it/s]"
          ],
          "name": "stderr"
        },
        {
          "output_type": "stream",
          "text": [
            "Train Epoch: 17 [40960/49920 (82%)]\tLoss: 1.408230\n"
          ],
          "name": "stdout"
        },
        {
          "output_type": "stream",
          "text": [
            " 88%|████████▊ | 172/195 [00:24<00:03,  7.23it/s]"
          ],
          "name": "stderr"
        },
        {
          "output_type": "stream",
          "text": [
            "Train Epoch: 17 [43520/49920 (87%)]\tLoss: 1.418758\n"
          ],
          "name": "stdout"
        },
        {
          "output_type": "stream",
          "text": [
            " 93%|█████████▎| 182/195 [00:25<00:01,  7.05it/s]"
          ],
          "name": "stderr"
        },
        {
          "output_type": "stream",
          "text": [
            "Train Epoch: 17 [46080/49920 (92%)]\tLoss: 1.398964\n"
          ],
          "name": "stdout"
        },
        {
          "output_type": "stream",
          "text": [
            " 98%|█████████▊| 192/195 [00:27<00:00,  7.18it/s]"
          ],
          "name": "stderr"
        },
        {
          "output_type": "stream",
          "text": [
            "Train Epoch: 17 [48640/49920 (97%)]\tLoss: 1.396793\n"
          ],
          "name": "stdout"
        },
        {
          "output_type": "stream",
          "text": [
            "100%|██████████| 195/195 [00:27<00:00,  7.09it/s]\n"
          ],
          "name": "stderr"
        },
        {
          "output_type": "stream",
          "text": [
            "Input\ta great sigh and leaned against the cavern wall. \"I am weak...\" he said. \"Don't worry, sir,\" said Ha\n",
            "GT\t great sigh and leaned against the cavern wall. \"I am weak...\" he said. \"Don't worry, sir,\" said Har\n",
            "pred\trloeet aegntand soaved tnain.t the cose  eoasl. \"I dl noarn .  \"e said  \"Ion't wanky  Ior,  said Har\n",
            "\n",
            "\n",
            "Input\trossed the outer cave, and Harry helped Dumbledore back into the icy seawater that filled the crevic\n",
            "GT\tossed the outer cave, and Harry helped Dumbledore back into the icy seawater that filled the crevice\n",
            "pred\tewsed the ctt r oore  tnd tarry saaded aumbledore aack onto the cne whet,ye .thet horled ohe soeaene\n",
            "\n",
            "\n",
            "Input\tivering and dripping in the middle of the dark High Street in Hogsmeade. For one horrible moment Har\n",
            "GT\tvering and dripping in the middle of the dark High Street in Hogsmeade. For one horrible moment Harr\n",
            "pred\tnereng and seenpeng hn the coddle of the cerk aash anueet an tagwmeade  \"ir an  oelroble sorent aarr\n",
            "\n",
            "\n",
            "Input\t help, but there was nobody to be seen and all he could think was that he must somehow get Dumbledor\n",
            "GT\thelp, but there was nobody to be seen and all he could think was that he must somehow get Dumbledore\n",
            "pred\tai p. hut hhe e was aotody wo be aeem and s l oe would nhenk hhs ahet he wost aeme ow ort aumbledore\n",
            "\n",
            "\n",
            "Input\tto - but what's wrong with Albus?' She came to a halt, panting, and stared down, wide-eyed, at Dumbl\n",
            "GT\to - but what's wrong with Albus?' She came to a halt, panting, and stared down, wide-eyed, at Dumble\n",
            "pred\th d wet that s ahitg.ahth a uas \" sne wone oo b lovf  teriing  tnd thared aown  ahte ldod  wn tumble\n",
            "\n",
            "\n",
            "Input\tt there when I put the cat out, but when I got upstairs -' 'We need to return to the castle at once,\n",
            "GT\t there when I put the cat out, but when I got upstairs -' 'We need to return to the castle at once,'\n",
            "pred\t ahe e waan I wet hhe corcanr  iut hhan I wot tn eairs a  s h hovdeto beturn to the cortle an tnce  \n",
            "\n",
            "\n",
            "Input\tg back towards her pub as Harry and Dumble-dore kicked off from the ground and rose up into the air.\n",
            "GT\t back towards her pub as Harry and Dumble-dore kicked off from the ground and rose up into the air. \n",
            "pred\t aeck oo ard  te  eotban tarry and Humbledoore annked au  toom the creundeand sebe tn tn o the cir  \n",
            "\n",
            "\n",
            "\n",
            "Test set: Average loss: 1.4197, Accuracy: 719780/1260000 (57%)\n",
            "\n",
            "Saved /gdrive/My Drive/colab_files/homework3/checkpoints/017.pt\n",
            "\n",
            "generated max\t\t Harry looked at me and said the corridor. \"I should have to be a lot of the come of the come of the come of the come of the come of the come of the come of the come of the come of the come of the come of the come of the come of t\n",
            "generated sample\t Harry looked at me and said on the fell of the came on the headmaster the door. \"Where you what was a lot of a long, but he tried to hear him on the way of the come of the speepeaded of the fire the pain and feel as though he sai\n",
            "generated sample\t Harry looked at me and said pointed the said of a little the other side of the window. He had not detentione. The halfway to contrance the desertaine more and what was a look out of the first seemed in his face and everything. He\n",
            "generated sample\t Harry looked at me and said green and looking at her. He was shaded to he been and stairs and every side of the room. \"What he wouldn't the more objing. \"What don't want to me about to say who was a belonged at the fire of the le\n",
            "generated sample\t Harry looked at me and said Ron and sixting he had been dead was not to a book of still she come to the containe Malfoy was on the wall of what said to be and all through the excitements and sort of the mind and stairs, who was t\n",
            "generated sample\t Harry looked at me and said looking and the looked out of the wizard he had been green and seized and staring and a large back out of the inside him. . . . . . . . . . . . and he was and he wanted to me and Harry shoulder and som\n",
            "generated sample\t Harry looked at me and said for the made her sideways, though he was all of the preated and was started at and been at the pointest of the side of the side of the crowd and deeped with a lot of the sign of his own and forehead fo\n",
            "generated sample\t Harry looked at me and said the said to the portrait he was all and he said something. \"You'll be to do it. I think you couldn't be - what he had been the Ministry of the side of your face and she said that was a now, in come wha\n",
            "generated sample\t Harry looked at me and said drawned in the back of and looked as though expected to be what he had something, creed a surrounded in a long. \"I can down to tell you would be anyway. I don't let me a little me for you of interested\n",
            "generated sample\t Harry looked at me and said Harry and said Harry fell of the fire to tell him. \"What does in the In's in the examination's are something met and a sure that the other in the end of meeting the match. I would have are and dear and\n",
            "generated sample\t Harry looked at me and said Ron granded up on the stairs. \"What do you have you know what he couldn't see impression of excepting Harry's have said . . . . and was alreaded to be a long, he had think you want to tell of what was \n"
          ],
          "name": "stdout"
        },
        {
          "output_type": "stream",
          "text": [
            "\r  0%|          | 0/195 [00:00<?, ?it/s]"
          ],
          "name": "stderr"
        },
        {
          "output_type": "stream",
          "text": [
            "generated beam\t\t Harry looked at me and said Dumbledore. Harry looked as though he had been as though he would have been deeped into the other side of the window. Harry couldn't seemed to get in the common room window. Harry would have been and \n",
            "\n"
          ],
          "name": "stdout"
        },
        {
          "output_type": "stream",
          "text": [
            "  1%|          | 2/195 [00:00<00:37,  5.11it/s]"
          ],
          "name": "stderr"
        },
        {
          "output_type": "stream",
          "text": [
            "Train Epoch: 18 [0/49920 (0%)]\tLoss: 1.414259\n"
          ],
          "name": "stdout"
        },
        {
          "output_type": "stream",
          "text": [
            "  6%|▌         | 12/195 [00:01<00:25,  7.05it/s]"
          ],
          "name": "stderr"
        },
        {
          "output_type": "stream",
          "text": [
            "Train Epoch: 18 [2560/49920 (5%)]\tLoss: 1.409019\n"
          ],
          "name": "stdout"
        },
        {
          "output_type": "stream",
          "text": [
            " 11%|█▏        | 22/195 [00:03<00:24,  7.08it/s]"
          ],
          "name": "stderr"
        },
        {
          "output_type": "stream",
          "text": [
            "Train Epoch: 18 [5120/49920 (10%)]\tLoss: 1.403299\n"
          ],
          "name": "stdout"
        },
        {
          "output_type": "stream",
          "text": [
            " 16%|█▋        | 32/195 [00:04<00:23,  7.04it/s]"
          ],
          "name": "stderr"
        },
        {
          "output_type": "stream",
          "text": [
            "Train Epoch: 18 [7680/49920 (15%)]\tLoss: 1.514702\n"
          ],
          "name": "stdout"
        },
        {
          "output_type": "stream",
          "text": [
            " 22%|██▏       | 42/195 [00:05<00:21,  7.12it/s]"
          ],
          "name": "stderr"
        },
        {
          "output_type": "stream",
          "text": [
            "Train Epoch: 18 [10240/49920 (21%)]\tLoss: 1.438772\n"
          ],
          "name": "stdout"
        },
        {
          "output_type": "stream",
          "text": [
            " 27%|██▋       | 52/195 [00:07<00:19,  7.19it/s]"
          ],
          "name": "stderr"
        },
        {
          "output_type": "stream",
          "text": [
            "Train Epoch: 18 [12800/49920 (26%)]\tLoss: 1.382948\n"
          ],
          "name": "stdout"
        },
        {
          "output_type": "stream",
          "text": [
            " 32%|███▏      | 62/195 [00:08<00:18,  7.14it/s]"
          ],
          "name": "stderr"
        },
        {
          "output_type": "stream",
          "text": [
            "Train Epoch: 18 [15360/49920 (31%)]\tLoss: 1.386886\n"
          ],
          "name": "stdout"
        },
        {
          "output_type": "stream",
          "text": [
            " 37%|███▋      | 72/195 [00:10<00:17,  7.16it/s]"
          ],
          "name": "stderr"
        },
        {
          "output_type": "stream",
          "text": [
            "Train Epoch: 18 [17920/49920 (36%)]\tLoss: 1.382038\n"
          ],
          "name": "stdout"
        },
        {
          "output_type": "stream",
          "text": [
            " 42%|████▏     | 82/195 [00:11<00:15,  7.07it/s]"
          ],
          "name": "stderr"
        },
        {
          "output_type": "stream",
          "text": [
            "Train Epoch: 18 [20480/49920 (41%)]\tLoss: 1.418798\n"
          ],
          "name": "stdout"
        },
        {
          "output_type": "stream",
          "text": [
            " 47%|████▋     | 92/195 [00:12<00:14,  7.22it/s]"
          ],
          "name": "stderr"
        },
        {
          "output_type": "stream",
          "text": [
            "Train Epoch: 18 [23040/49920 (46%)]\tLoss: 1.396525\n"
          ],
          "name": "stdout"
        },
        {
          "output_type": "stream",
          "text": [
            " 52%|█████▏    | 102/195 [00:14<00:13,  7.11it/s]"
          ],
          "name": "stderr"
        },
        {
          "output_type": "stream",
          "text": [
            "Train Epoch: 18 [25600/49920 (51%)]\tLoss: 1.409442\n"
          ],
          "name": "stdout"
        },
        {
          "output_type": "stream",
          "text": [
            " 57%|█████▋    | 112/195 [00:15<00:11,  7.14it/s]"
          ],
          "name": "stderr"
        },
        {
          "output_type": "stream",
          "text": [
            "Train Epoch: 18 [28160/49920 (56%)]\tLoss: 1.360966\n"
          ],
          "name": "stdout"
        },
        {
          "output_type": "stream",
          "text": [
            " 63%|██████▎   | 122/195 [00:17<00:10,  7.11it/s]"
          ],
          "name": "stderr"
        },
        {
          "output_type": "stream",
          "text": [
            "Train Epoch: 18 [30720/49920 (62%)]\tLoss: 1.419507\n"
          ],
          "name": "stdout"
        },
        {
          "output_type": "stream",
          "text": [
            " 68%|██████▊   | 132/195 [00:18<00:08,  7.08it/s]"
          ],
          "name": "stderr"
        },
        {
          "output_type": "stream",
          "text": [
            "Train Epoch: 18 [33280/49920 (67%)]\tLoss: 1.403472\n"
          ],
          "name": "stdout"
        },
        {
          "output_type": "stream",
          "text": [
            " 73%|███████▎  | 142/195 [00:20<00:07,  6.96it/s]"
          ],
          "name": "stderr"
        },
        {
          "output_type": "stream",
          "text": [
            "Train Epoch: 18 [35840/49920 (72%)]\tLoss: 1.401566\n"
          ],
          "name": "stdout"
        },
        {
          "output_type": "stream",
          "text": [
            " 78%|███████▊  | 152/195 [00:21<00:06,  7.06it/s]"
          ],
          "name": "stderr"
        },
        {
          "output_type": "stream",
          "text": [
            "Train Epoch: 18 [38400/49920 (77%)]\tLoss: 1.382085\n"
          ],
          "name": "stdout"
        },
        {
          "output_type": "stream",
          "text": [
            " 83%|████████▎ | 162/195 [00:22<00:04,  7.13it/s]"
          ],
          "name": "stderr"
        },
        {
          "output_type": "stream",
          "text": [
            "Train Epoch: 18 [40960/49920 (82%)]\tLoss: 1.564370\n"
          ],
          "name": "stdout"
        },
        {
          "output_type": "stream",
          "text": [
            " 88%|████████▊ | 172/195 [00:24<00:03,  7.12it/s]"
          ],
          "name": "stderr"
        },
        {
          "output_type": "stream",
          "text": [
            "Train Epoch: 18 [43520/49920 (87%)]\tLoss: 1.675767\n"
          ],
          "name": "stdout"
        },
        {
          "output_type": "stream",
          "text": [
            " 93%|█████████▎| 182/195 [00:25<00:01,  6.97it/s]"
          ],
          "name": "stderr"
        },
        {
          "output_type": "stream",
          "text": [
            "Train Epoch: 18 [46080/49920 (92%)]\tLoss: 1.469901\n"
          ],
          "name": "stdout"
        },
        {
          "output_type": "stream",
          "text": [
            " 98%|█████████▊| 192/195 [00:27<00:00,  7.10it/s]"
          ],
          "name": "stderr"
        },
        {
          "output_type": "stream",
          "text": [
            "Train Epoch: 18 [48640/49920 (97%)]\tLoss: 1.427018\n"
          ],
          "name": "stdout"
        },
        {
          "output_type": "stream",
          "text": [
            "100%|██████████| 195/195 [00:27<00:00,  7.09it/s]\n"
          ],
          "name": "stderr"
        },
        {
          "output_type": "stream",
          "text": [
            "Input\ta great sigh and leaned against the cavern wall. \"I am weak...\" he said. \"Don't worry, sir,\" said Ha\n",
            "GT\t great sigh and leaned against the cavern wall. \"I am weak...\" he said. \"Don't worry, sir,\" said Har\n",
            "pred\tnlreat tegntand soavid tnain t the sore  ioasks \"I sl shlr,\".  \"e said  \"Ion't warky  tor,  said Har\n",
            "\n",
            "\n",
            "Input\trossed the outer cave, and Harry helped Dumbledore back into the icy seawater that filled the crevic\n",
            "GT\tossed the outer cave, and Harry helped Dumbledore back into the icy seawater that filled the crevice\n",
            "pred\toused toe stt r oore  tnd tarry saaded tumbledore wack tn o the cnk whit,yed thet tort d ohe sooaent\n",
            "\n",
            "\n",
            "Input\tivering and dripping in the middle of the dark High Street in Hogsmeade. For one horrible moment Har\n",
            "GT\tvering and dripping in the middle of the dark High Street in Hogsmeade. For one horrible moment Harr\n",
            "pred\tne ing and soanpeng hn the sigdle of the sork sash anuaat an tagwmeade  \"ir sf  oelrible sorent oarr\n",
            "\n",
            "\n",
            "Input\t help, but there was nobody to be seen and all he could think was that he must somehow get Dumbledor\n",
            "GT\thelp, but there was nobody to be seen and all he could think was that he must somehow get Dumbledore\n",
            "pred\ttirp  hut hhe e was ao  dy so te ste  tnd s l oe wourd hhenk his ahat te wost ae e ow mrtttumbledore\n",
            "\n",
            "\n",
            "Input\tto - but what's wrong with Albus?' She came to a halt, panting, and stared down, wide-eyed, at Dumbl\n",
            "GT\to - but what's wrong with Albus?' She came to a halt, panting, and stared down, wide-eyed, at Dumble\n",
            "pred\th s set that s ahitg with anuus \" sne sore oo t covf  tuiiing  tnd shartd aown  ahte ld d  wn tumble\n",
            "\n",
            "\n",
            "Input\tt there when I put the cat out, but when I got upstairs -' 'We need to return to the castle at once,\n",
            "GT\t there when I put the cat out, but when I got upstairs -' 'We need to return to the castle at once,'\n",
            "pred\t the e waan t srt the oorcafr  tut hhan t sot tp eairs a  s h hovd to beturn to the sortle on tnce  \n",
            "\n",
            "\n",
            "Input\tg back towards her pub as Harry and Dumble-dore kicked off from the ground and rose up into the air.\n",
            "GT\t back towards her pub as Harry and Dumble-dore kicked off from the ground and rose up into the air. \n",
            "pred\t tack to ard  te  trtban tarry snd Humbledoore wnnked tu  toom the sround ond seoe tn tn o the cir  \n",
            "\n",
            "\n",
            "\n",
            "Test set: Average loss: 1.4291, Accuracy: 720130/1260000 (57%)\n",
            "\n",
            "Saved /gdrive/My Drive/colab_files/homework3/checkpoints/018.pt\n",
            "\n",
            "generated max\t\t Harry looked at me and said the started to the stairs. \"What are you want to take to the door was a look of the common room with a little of the car of the carried to the car of the carried to the carry to the corridor the side o\n",
            "generated sample\t Harry looked at me and said Harry looked around the for the should surrounded than in a walk on the other side of the came of the window all the course of the seive with and still still shining him hand. \"You say for decised the \n",
            "generated sample\t Harry looked at me and said Harry returned to be in the corridor to the thing of the match. \"Dight, who was looking at the car of the side of his moon, and the light was and the darkness was only contrance ball. Harry slid on the\n",
            "generated sample\t Harry looked at me and said Harry stepped in the train hole in the carettle and she said, who was they really staring at the ground around and saw a table foot of the sight of the cary on the sign of the side still still shoulder\n",
            "generated sample\t Harry looked at me and said up and for he had the course of the side was of the face so moment. \"But the Dark say in the months of his careful be the thing he had been to a started back to the staff the bag. Harry had to the clos\n",
            "generated sample\t Harry looked at me and said Professor for and seemed to the water to take and her eyes shouted, he had said he was wand in a bandled of the corridor, the corridor of the courned on the face of the carding and side and bally as th\n",
            "generated sample\t Harry looked at me and said and proped in a televing his eyes of the end of the parchment. \"The stairs, what is no seem to the told me any for the back without and granded one of the other side of the carket and was a started to \n",
            "generated sample\t Harry looked at me and said Harry looked back. \"I think your latened your four you just accurate on what looked to person have been to look at the told me to a side of the corridor of the carried common room back to the people wh\n",
            "generated sample\t Harry looked at me and said yell, still back to that the sign of the from the back of the common room with and the for the garden to a take and the sound of the far the side of the same from that the shoulder and Harry was a felt\n",
            "generated sample\t Harry looked at me and said on the slight out of the word returned to him, surprise sign of the still and he was silently and started looking in the stark silver stared to the stairs of the should have heard the sign of the shoul\n",
            "generated sample\t Harry looked at me and said to be an all the corrudge of the remort of the back. \"I've not let eye on the common room work would have to for the can to the stairs, who was only to the told her hand sitting under his landed Harry \n"
          ],
          "name": "stdout"
        },
        {
          "output_type": "stream",
          "text": [
            "\r  0%|          | 0/195 [00:00<?, ?it/s]"
          ],
          "name": "stderr"
        },
        {
          "output_type": "stream",
          "text": [
            "generated beam\t\t Harry looked at me and said Harry, though he had been the other side of the window. Harry was looking around the end of the end of the end of the side of the corridor of the side of the window. Harry was looking as though he had\n",
            "\n"
          ],
          "name": "stdout"
        },
        {
          "output_type": "stream",
          "text": [
            "  1%|          | 2/195 [00:00<00:39,  4.90it/s]"
          ],
          "name": "stderr"
        },
        {
          "output_type": "stream",
          "text": [
            "Train Epoch: 19 [0/49920 (0%)]\tLoss: 1.424964\n"
          ],
          "name": "stdout"
        },
        {
          "output_type": "stream",
          "text": [
            "  6%|▌         | 12/195 [00:01<00:25,  7.04it/s]"
          ],
          "name": "stderr"
        },
        {
          "output_type": "stream",
          "text": [
            "Train Epoch: 19 [2560/49920 (5%)]\tLoss: 1.395649\n"
          ],
          "name": "stdout"
        },
        {
          "output_type": "stream",
          "text": [
            " 11%|█▏        | 22/195 [00:03<00:24,  7.00it/s]"
          ],
          "name": "stderr"
        },
        {
          "output_type": "stream",
          "text": [
            "Train Epoch: 19 [5120/49920 (10%)]\tLoss: 1.387286\n"
          ],
          "name": "stdout"
        },
        {
          "output_type": "stream",
          "text": [
            " 16%|█▋        | 32/195 [00:04<00:22,  7.16it/s]"
          ],
          "name": "stderr"
        },
        {
          "output_type": "stream",
          "text": [
            "Train Epoch: 19 [7680/49920 (15%)]\tLoss: 1.388625\n"
          ],
          "name": "stdout"
        },
        {
          "output_type": "stream",
          "text": [
            " 22%|██▏       | 42/195 [00:05<00:21,  7.21it/s]"
          ],
          "name": "stderr"
        },
        {
          "output_type": "stream",
          "text": [
            "Train Epoch: 19 [10240/49920 (21%)]\tLoss: 1.420527\n"
          ],
          "name": "stdout"
        },
        {
          "output_type": "stream",
          "text": [
            " 27%|██▋       | 52/195 [00:07<00:20,  7.09it/s]"
          ],
          "name": "stderr"
        },
        {
          "output_type": "stream",
          "text": [
            "Train Epoch: 19 [12800/49920 (26%)]\tLoss: 1.377409\n"
          ],
          "name": "stdout"
        },
        {
          "output_type": "stream",
          "text": [
            " 32%|███▏      | 62/195 [00:08<00:18,  7.06it/s]"
          ],
          "name": "stderr"
        },
        {
          "output_type": "stream",
          "text": [
            "Train Epoch: 19 [15360/49920 (31%)]\tLoss: 1.390374\n"
          ],
          "name": "stdout"
        },
        {
          "output_type": "stream",
          "text": [
            " 37%|███▋      | 72/195 [00:10<00:17,  7.12it/s]"
          ],
          "name": "stderr"
        },
        {
          "output_type": "stream",
          "text": [
            "Train Epoch: 19 [17920/49920 (36%)]\tLoss: 1.383979\n"
          ],
          "name": "stdout"
        },
        {
          "output_type": "stream",
          "text": [
            " 42%|████▏     | 82/195 [00:11<00:15,  7.11it/s]"
          ],
          "name": "stderr"
        },
        {
          "output_type": "stream",
          "text": [
            "Train Epoch: 19 [20480/49920 (41%)]\tLoss: 1.379380\n"
          ],
          "name": "stdout"
        },
        {
          "output_type": "stream",
          "text": [
            " 47%|████▋     | 92/195 [00:13<00:14,  7.12it/s]"
          ],
          "name": "stderr"
        },
        {
          "output_type": "stream",
          "text": [
            "Train Epoch: 19 [23040/49920 (46%)]\tLoss: 1.388932\n"
          ],
          "name": "stdout"
        },
        {
          "output_type": "stream",
          "text": [
            " 52%|█████▏    | 102/195 [00:14<00:13,  7.08it/s]"
          ],
          "name": "stderr"
        },
        {
          "output_type": "stream",
          "text": [
            "Train Epoch: 19 [25600/49920 (51%)]\tLoss: 1.432670\n"
          ],
          "name": "stdout"
        },
        {
          "output_type": "stream",
          "text": [
            " 57%|█████▋    | 112/195 [00:15<00:11,  7.13it/s]"
          ],
          "name": "stderr"
        },
        {
          "output_type": "stream",
          "text": [
            "Train Epoch: 19 [28160/49920 (56%)]\tLoss: 1.374339\n"
          ],
          "name": "stdout"
        },
        {
          "output_type": "stream",
          "text": [
            " 63%|██████▎   | 122/195 [00:17<00:10,  6.94it/s]"
          ],
          "name": "stderr"
        },
        {
          "output_type": "stream",
          "text": [
            "Train Epoch: 19 [30720/49920 (62%)]\tLoss: 1.416360\n"
          ],
          "name": "stdout"
        },
        {
          "output_type": "stream",
          "text": [
            " 68%|██████▊   | 132/195 [00:18<00:08,  7.17it/s]"
          ],
          "name": "stderr"
        },
        {
          "output_type": "stream",
          "text": [
            "Train Epoch: 19 [33280/49920 (67%)]\tLoss: 1.421304\n"
          ],
          "name": "stdout"
        },
        {
          "output_type": "stream",
          "text": [
            " 73%|███████▎  | 142/195 [00:20<00:07,  7.11it/s]"
          ],
          "name": "stderr"
        },
        {
          "output_type": "stream",
          "text": [
            "Train Epoch: 19 [35840/49920 (72%)]\tLoss: 1.454786\n"
          ],
          "name": "stdout"
        },
        {
          "output_type": "stream",
          "text": [
            " 78%|███████▊  | 152/195 [00:21<00:06,  7.12it/s]"
          ],
          "name": "stderr"
        },
        {
          "output_type": "stream",
          "text": [
            "Train Epoch: 19 [38400/49920 (77%)]\tLoss: 1.424884\n"
          ],
          "name": "stdout"
        },
        {
          "output_type": "stream",
          "text": [
            " 83%|████████▎ | 162/195 [00:22<00:04,  7.10it/s]"
          ],
          "name": "stderr"
        },
        {
          "output_type": "stream",
          "text": [
            "Train Epoch: 19 [40960/49920 (82%)]\tLoss: 1.384675\n"
          ],
          "name": "stdout"
        },
        {
          "output_type": "stream",
          "text": [
            " 88%|████████▊ | 172/195 [00:24<00:03,  7.13it/s]"
          ],
          "name": "stderr"
        },
        {
          "output_type": "stream",
          "text": [
            "Train Epoch: 19 [43520/49920 (87%)]\tLoss: 1.356473\n"
          ],
          "name": "stdout"
        },
        {
          "output_type": "stream",
          "text": [
            " 93%|█████████▎| 182/195 [00:25<00:01,  7.14it/s]"
          ],
          "name": "stderr"
        },
        {
          "output_type": "stream",
          "text": [
            "Train Epoch: 19 [46080/49920 (92%)]\tLoss: 1.375638\n"
          ],
          "name": "stdout"
        },
        {
          "output_type": "stream",
          "text": [
            " 98%|█████████▊| 192/195 [00:27<00:00,  7.10it/s]"
          ],
          "name": "stderr"
        },
        {
          "output_type": "stream",
          "text": [
            "Train Epoch: 19 [48640/49920 (97%)]\tLoss: 1.426062\n"
          ],
          "name": "stdout"
        },
        {
          "output_type": "stream",
          "text": [
            "100%|██████████| 195/195 [00:27<00:00,  7.11it/s]\n"
          ],
          "name": "stderr"
        },
        {
          "output_type": "stream",
          "text": [
            "Input\ta great sigh and leaned against the cavern wall. \"I am weak...\" he said. \"Don't worry, sir,\" said Ha\n",
            "GT\t great sigh and leaned against the cavern wall. \"I am weak...\" he said. \"Don't worry, sir,\" said Har\n",
            "pred\ttlreeteeelntind seaved tnain.. the carer.eoisl. \"I dl nhrr,\".  \"e said. \"Iin's wauky, Ior,  said Har\n",
            "\n",
            "\n",
            "Input\trossed the outer cave, and Harry helped Dumbledore back into the icy seawater that filled the crevic\n",
            "GT\tossed the outer cave, and Harry helped Dumbledore back into the icy seawater that filled the crevice\n",
            "pred\teweed the cnt r ohrer hnd tarry waaded humbledore weck.on o the cne hhir,yed.ohet horled ihe sreaene\n",
            "\n",
            "\n",
            "Input\tivering and dripping in the middle of the dark High Street in Hogsmeade. For one horrible moment Har\n",
            "GT\tvering and dripping in the middle of the dark High Street in Hogsmeade. For one horrible moment Harr\n",
            "pred\tnereng and seenpeng hn the cigdle of the cerknwash anueenean tagwmeaded \"ir afe oelriele sorent,tarr\n",
            "\n",
            "\n",
            "Input\t help, but there was nobody to be seen and all he could think was that he must somehow get Dumbledor\n",
            "GT\thelp, but there was nobody to be seen and all he could think was that he must somehow get Dumbledore\n",
            "pred\thirp. hut hhe e was aowody wh he seem and t l oe wouldnhhenk hhs ahet he wusc aeme ow mrn iumbledore\n",
            "\n",
            "\n",
            "Input\tto - but what's wrong with Albus?' She came to a halt, panting, and stared down, wide-eyed, at Dumbl\n",
            "GT\to - but what's wrong with Albus?' She came to a halt, panting, and stared down, wide-eyed, at Dumble\n",
            "pred\th d her hhat s hhing.ihlh anuus \" sne wane io b lovf, huiiing  hnd thired aown  thlenlded  wn tumble\n",
            "\n",
            "\n",
            "Input\tt there when I put the cat out, but when I got upstairs -' 'We need to return to the castle at once,\n",
            "GT\t there when I put the cat out, but when I got upstairs -' 'We need to return to the castle at once,'\n",
            "pred\t ihe e waan I wrr hhe cancanr  iut hhen I wri tn eiirs a  Ivhlhevdeto bemurneio hhe carele on tnee, \n",
            "\n",
            "\n",
            "Input\tg back towards her pub as Harry and Dumble-dore kicked off from the ground and rose up into the air.\n",
            "GT\t back towards her pub as Harry and Dumble-dore kicked off from the ground and rose up into the air. \n",
            "pred\t.teck th ard  he  errban harry snd Humbledoore cnnked inf toom the ereundeand sele inoin o the cir  \n",
            "\n",
            "\n",
            "\n",
            "Test set: Average loss: 1.5579, Accuracy: 684153/1260000 (54%)\n",
            "\n",
            "generated max\t\t Harry looked at me and said in the careful of the cleared and she was all the side of the side of the cleared and she was all the side of the side of the cleared and she was all the side of the side of the cleared and she was all\n",
            "generated sample\t Harry looked at me and said in the fore. Harry fell of the perfecend looking around the window. \"The seemed to he couldn't known the only window. I will never endered will be all remember in the seemed to the words on the window \n",
            "generated sample\t Harry looked at me and said the wall. \"I'm gon,\" he said, he red in the slightly and Ron winged in the large, when Harry said, in the shop he was sure in the explained his eyes. \"I will see in the come of all... I've going to get\n",
            "generated sample\t Harry looked at me and said in the headly, prementingly. \"I will need the person, who was now. I was all right, increding.\" \"Here you want to get me all.\" \"How my which I don't can't going to here are your feel and they're going \n",
            "generated sample\t Harry looked at me and said the fell of the beside Harry. \"Oh, you will not presending will which is in your heard from in the floor. \"You will not myself, but he was looking around the memory. \"His is your breen and in the ended\n",
            "generated sample\t Harry looked at me and said breen. \"You will be the Dursleys he's all of the memory, he was appeared. I think I heard her enormously and seemed to remember the which they'd level in they?\" \"No, your mus, you don't what I was all \n",
            "generated sample\t Harry looked at me and said Ron, and was he caned the cleared of the disappeared in the explained the fire window. \"Whe's helped in the cleared the Sirius had was almose your presended. Harry which he was longered, he was which e\n",
            "generated sample\t Harry looked at me and said nothing. \"Whey're going to come the light he whose everyone everyone enxoying,\" said Harry. \"Ye've gone enough the book of him, he heard the nexple and the light of the endered in the mirror of the wal\n",
            "generated sample\t Harry looked at me and said Uncle Vernon. \"Chat's he had told him here now, they're expeceded to pering here in the ceired and undersely. \"He didn't been him,\" said Ron and Hermione said, \"is a ceneral wind on the seive in the Mi\n",
            "generated sample\t Harry looked at me and said around the end of which he had been everyoned excepened. \"You made a deeper for your of the canner, in all of the Inice, who was all of the Durble free inside and the green and the by the pireceing he \n",
            "generated sample\t Harry looked at me and said in the shelf. \"What's him for yeh,\" said Mr. Weasley. \"He said Harry, which he had she said looking some from the head. \"Yes, in the same of the seemed to be in the sense of the ground, he he'd been hi\n"
          ],
          "name": "stdout"
        },
        {
          "output_type": "stream",
          "text": [
            "\r  0%|          | 0/195 [00:00<?, ?it/s]"
          ],
          "name": "stderr"
        },
        {
          "output_type": "stream",
          "text": [
            "generated beam\t\t Harry looked at me and said Harry. There was a long, he was looking around them. Harry had never seemed in the end of the window. Harry shouldered as he had been seemed to him. Harry had never seemed in the floor behind himself \n",
            "\n"
          ],
          "name": "stdout"
        },
        {
          "output_type": "stream",
          "text": [
            "  1%|          | 2/195 [00:00<00:36,  5.26it/s]"
          ],
          "name": "stderr"
        },
        {
          "output_type": "stream",
          "text": [
            "Train Epoch: 20 [0/49920 (0%)]\tLoss: 1.559690\n"
          ],
          "name": "stdout"
        },
        {
          "output_type": "stream",
          "text": [
            "  6%|▌         | 12/195 [00:01<00:26,  6.97it/s]"
          ],
          "name": "stderr"
        },
        {
          "output_type": "stream",
          "text": [
            "Train Epoch: 20 [2560/49920 (5%)]\tLoss: 1.430768\n"
          ],
          "name": "stdout"
        },
        {
          "output_type": "stream",
          "text": [
            " 11%|█▏        | 22/195 [00:03<00:24,  7.05it/s]"
          ],
          "name": "stderr"
        },
        {
          "output_type": "stream",
          "text": [
            "Train Epoch: 20 [5120/49920 (10%)]\tLoss: 1.399630\n"
          ],
          "name": "stdout"
        },
        {
          "output_type": "stream",
          "text": [
            " 16%|█▋        | 32/195 [00:04<00:22,  7.16it/s]"
          ],
          "name": "stderr"
        },
        {
          "output_type": "stream",
          "text": [
            "Train Epoch: 20 [7680/49920 (15%)]\tLoss: 1.423980\n"
          ],
          "name": "stdout"
        },
        {
          "output_type": "stream",
          "text": [
            " 22%|██▏       | 42/195 [00:06<00:21,  7.04it/s]"
          ],
          "name": "stderr"
        },
        {
          "output_type": "stream",
          "text": [
            "Train Epoch: 20 [10240/49920 (21%)]\tLoss: 1.386509\n"
          ],
          "name": "stdout"
        },
        {
          "output_type": "stream",
          "text": [
            " 27%|██▋       | 52/195 [00:07<00:19,  7.21it/s]"
          ],
          "name": "stderr"
        },
        {
          "output_type": "stream",
          "text": [
            "Train Epoch: 20 [12800/49920 (26%)]\tLoss: 1.362268\n"
          ],
          "name": "stdout"
        },
        {
          "output_type": "stream",
          "text": [
            " 32%|███▏      | 62/195 [00:08<00:18,  7.15it/s]"
          ],
          "name": "stderr"
        },
        {
          "output_type": "stream",
          "text": [
            "Train Epoch: 20 [15360/49920 (31%)]\tLoss: 1.390654\n"
          ],
          "name": "stdout"
        },
        {
          "output_type": "stream",
          "text": [
            " 37%|███▋      | 72/195 [00:10<00:17,  7.03it/s]"
          ],
          "name": "stderr"
        },
        {
          "output_type": "stream",
          "text": [
            "Train Epoch: 20 [17920/49920 (36%)]\tLoss: 1.425129\n"
          ],
          "name": "stdout"
        },
        {
          "output_type": "stream",
          "text": [
            " 42%|████▏     | 82/195 [00:11<00:16,  7.02it/s]"
          ],
          "name": "stderr"
        },
        {
          "output_type": "stream",
          "text": [
            "Train Epoch: 20 [20480/49920 (41%)]\tLoss: 1.401304\n"
          ],
          "name": "stdout"
        },
        {
          "output_type": "stream",
          "text": [
            " 47%|████▋     | 92/195 [00:13<00:14,  7.03it/s]"
          ],
          "name": "stderr"
        },
        {
          "output_type": "stream",
          "text": [
            "Train Epoch: 20 [23040/49920 (46%)]\tLoss: 1.418743\n"
          ],
          "name": "stdout"
        },
        {
          "output_type": "stream",
          "text": [
            " 52%|█████▏    | 102/195 [00:14<00:12,  7.16it/s]"
          ],
          "name": "stderr"
        },
        {
          "output_type": "stream",
          "text": [
            "Train Epoch: 20 [25600/49920 (51%)]\tLoss: 1.395017\n"
          ],
          "name": "stdout"
        },
        {
          "output_type": "stream",
          "text": [
            " 57%|█████▋    | 112/195 [00:15<00:11,  7.04it/s]"
          ],
          "name": "stderr"
        },
        {
          "output_type": "stream",
          "text": [
            "Train Epoch: 20 [28160/49920 (56%)]\tLoss: 1.361960\n"
          ],
          "name": "stdout"
        },
        {
          "output_type": "stream",
          "text": [
            " 63%|██████▎   | 122/195 [00:17<00:10,  7.06it/s]"
          ],
          "name": "stderr"
        },
        {
          "output_type": "stream",
          "text": [
            "Train Epoch: 20 [30720/49920 (62%)]\tLoss: 1.394450\n"
          ],
          "name": "stdout"
        },
        {
          "output_type": "stream",
          "text": [
            " 68%|██████▊   | 132/195 [00:18<00:08,  7.13it/s]"
          ],
          "name": "stderr"
        },
        {
          "output_type": "stream",
          "text": [
            "Train Epoch: 20 [33280/49920 (67%)]\tLoss: 1.398922\n"
          ],
          "name": "stdout"
        },
        {
          "output_type": "stream",
          "text": [
            " 73%|███████▎  | 142/195 [00:20<00:07,  7.09it/s]"
          ],
          "name": "stderr"
        },
        {
          "output_type": "stream",
          "text": [
            "Train Epoch: 20 [35840/49920 (72%)]\tLoss: 1.407218\n"
          ],
          "name": "stdout"
        },
        {
          "output_type": "stream",
          "text": [
            " 78%|███████▊  | 152/195 [00:21<00:06,  7.12it/s]"
          ],
          "name": "stderr"
        },
        {
          "output_type": "stream",
          "text": [
            "Train Epoch: 20 [38400/49920 (77%)]\tLoss: 1.388033\n"
          ],
          "name": "stdout"
        },
        {
          "output_type": "stream",
          "text": [
            " 83%|████████▎ | 162/195 [00:22<00:04,  7.03it/s]"
          ],
          "name": "stderr"
        },
        {
          "output_type": "stream",
          "text": [
            "Train Epoch: 20 [40960/49920 (82%)]\tLoss: 1.418843\n"
          ],
          "name": "stdout"
        },
        {
          "output_type": "stream",
          "text": [
            " 88%|████████▊ | 172/195 [00:24<00:03,  7.22it/s]"
          ],
          "name": "stderr"
        },
        {
          "output_type": "stream",
          "text": [
            "Train Epoch: 20 [43520/49920 (87%)]\tLoss: 1.479097\n"
          ],
          "name": "stdout"
        },
        {
          "output_type": "stream",
          "text": [
            " 93%|█████████▎| 182/195 [00:25<00:01,  7.13it/s]"
          ],
          "name": "stderr"
        },
        {
          "output_type": "stream",
          "text": [
            "Train Epoch: 20 [46080/49920 (92%)]\tLoss: 1.403160\n"
          ],
          "name": "stdout"
        },
        {
          "output_type": "stream",
          "text": [
            " 98%|█████████▊| 192/195 [00:27<00:00,  7.14it/s]"
          ],
          "name": "stderr"
        },
        {
          "output_type": "stream",
          "text": [
            "Train Epoch: 20 [48640/49920 (97%)]\tLoss: 1.378694\n"
          ],
          "name": "stdout"
        },
        {
          "output_type": "stream",
          "text": [
            "100%|██████████| 195/195 [00:27<00:00,  7.10it/s]\n"
          ],
          "name": "stderr"
        },
        {
          "output_type": "stream",
          "text": [
            "Input\ta great sigh and leaned against the cavern wall. \"I am weak...\" he said. \"Don't worry, sir,\" said Ha\n",
            "GT\t great sigh and leaned against the cavern wall. \"I am weak...\" he said. \"Don't worry, sir,\" said Har\n",
            "pred\trsoeat shgnttnd soaved tnain.t the coser eoisl  \"I wl shrr,\".  \"e said  \"Ion't wauky  tor,  said Har\n",
            "\n",
            "\n",
            "Input\trossed the outer cave, and Harry helped Dumbledore back into the icy seawater that filled the crevic\n",
            "GT\tossed the outer cave, and Harry helped Dumbledore back into the icy seawater that filled the crevice\n",
            "pred\tessed toe cnt r oorer tnd sarry saaded tumbledore weck onto the cnk shir,yer.toet torled ooe sooaene\n",
            "\n",
            "\n",
            "Input\tivering and dripping in the middle of the dark High Street in Hogsmeade. For one horrible moment Har\n",
            "GT\tvering and dripping in the middle of the dark High Street in Hogsmeade. For one horrible moment Harr\n",
            "pred\tnering and seenpeng hn the cogdle of the cerk oash anuean an tagwmeade  \"ir sn  oelroble torent tarr\n",
            "\n",
            "\n",
            "Input\t help, but there was nobody to be seen and all he could think was that he must somehow get Dumbledor\n",
            "GT\thelp, but there was nobody to be seen and all he could think was that he must somehow get Dumbledore\n",
            "pred\ttirp  sut the e was aotody so se seem tnd s l oe would hoenk hhs aoet te wost aeme ow wot tumbledore\n",
            "\n",
            "\n",
            "Input\tto - but what's wrong with Albus?' She came to a halt, panting, and stared down, wide-eyed, at Dumbl\n",
            "GT\to - but what's wrong with Albus?' She came to a halt, panting, and stared down, wide-eyed, at Dumble\n",
            "pred\th s wet that s hhitg.ahth a uus \" sne wome oo b sovf  turiing  tnd shartd aown  thte lded  wn tumble\n",
            "\n",
            "\n",
            "Input\tt there when I put the cat out, but when I got upstairs -' 'We need to return to the castle at once,\n",
            "GT\t there when I put the cat out, but when I got upstairs -' 'We need to return to the castle at once,'\n",
            "pred\t the e waan I wrt the oorcaft  tut than I wot tp eairs a  s h hevd to beaurn to she costle on tnce  \n",
            "\n",
            "\n",
            "Input\tg back towards her pub as Harry and Dumble-dore kicked off from the ground and rose up into the air.\n",
            "GT\t back towards her pub as Harry and Dumble-dore kicked off from the ground and rose up into the air. \n",
            "pred\t teck to ard  te  trtban harry snd Humbledoore wnnked anf toom the cround ond sebe tn tn o the cir  \n",
            "\n",
            "\n",
            "\n",
            "Test set: Average loss: 1.4000, Accuracy: 726988/1260000 (58%)\n",
            "\n",
            "Saved /gdrive/My Drive/colab_files/homework3/checkpoints/020.pt\n",
            "\n",
            "generated max\t\t Harry looked at me and said the common room with a she was still seemed to be seemed to the stairs. \"I should he was a long some of the common room with a long sign of the common room with a long sign of the common room with a su\n",
            "generated sample\t Harry looked at me and said \"Porry is not to say the other to the sight of the castle. \"I have not even to be concentrate a shouted at the told on the books work of the things. I arm some of sir, and magical look like a surprise.\n",
            "generated sample\t Harry looked at me and said in the first to see a seive boys looking, entrance and the other signs who had seen the room. \"What don't want to do what you get away for your eyes, he can don't want to me to get to your doing the on\n",
            "generated sample\t Harry looked at me and said Ron had been contently. \"The come on to the moment. He brooms on the countrance of the centaur he wanted to you to be seen the unick people to come around to the entrance of the sight of the same of th\n",
            "generated sample\t Harry looked at me and said back and golden to be a saw and for the covered on the walls. \"She mean, the book on the ground of the chairs. \"The don't want to get to go to worry and I supposed one of the school of the way to still\n",
            "generated sample\t Harry looked at me and said from the dementors of the broom. The said to the stairs. \"And I see the ground on the proper to tell the coppeared in her hands, who started to take to say at the only to the book of the door. Harry sa\n",
            "generated sample\t Harry looked at me and said nothing to be before to be really down at the form Charm was a snarled with a few some of the place was a look of the book with a something snake side. \"Harry not see you would not see what he was as h\n",
            "generated sample\t Harry looked at me and said approard in the end of the Malfoy was recoming a shoulder. \"I should what Harry was so that the came - worry was not to deal on the laing. \"Harry wish you can be a single of the time of the came of the\n",
            "generated sample\t Harry looked at me and said she said on the death to head with a stairs and to the words. The looked around him what in the hose of the control of the steam, she was signing bloded to her hand. \"He was all out of the vierson. He \n",
            "generated sample\t Harry looked at me and said Un. \"What was a sort of the feet, then something her and cared and looking around the end of the seirmed to the true as though when he said to table and slightly. \"You shall heard the sking work and sa\n",
            "generated sample\t Harry looked at me and said in the car sidewas of the tree of the end of the books of his eyes and seemed to see the other side who was already to conds, the only he was stinging at the walls; the top of the wall of the corridor.\n"
          ],
          "name": "stdout"
        },
        {
          "output_type": "stream",
          "text": [
            "\r  0%|          | 0/195 [00:00<?, ?it/s]"
          ],
          "name": "stderr"
        },
        {
          "output_type": "stream",
          "text": [
            "generated beam\t\t Harry looked at me and said looking as though he couldn't seemed to have been with the common room with the common room what he had been seemed to have been with the only one of the other side of the common room with the common \n",
            "\n"
          ],
          "name": "stdout"
        },
        {
          "output_type": "stream",
          "text": [
            "  1%|          | 2/195 [00:00<00:38,  5.02it/s]"
          ],
          "name": "stderr"
        },
        {
          "output_type": "stream",
          "text": [
            "Train Epoch: 21 [0/49920 (0%)]\tLoss: 1.395516\n"
          ],
          "name": "stdout"
        },
        {
          "output_type": "stream",
          "text": [
            "  6%|▌         | 12/195 [00:01<00:25,  7.05it/s]"
          ],
          "name": "stderr"
        },
        {
          "output_type": "stream",
          "text": [
            "Train Epoch: 21 [2560/49920 (5%)]\tLoss: 1.390852\n"
          ],
          "name": "stdout"
        },
        {
          "output_type": "stream",
          "text": [
            " 11%|█▏        | 22/195 [00:03<00:24,  7.11it/s]"
          ],
          "name": "stderr"
        },
        {
          "output_type": "stream",
          "text": [
            "Train Epoch: 21 [5120/49920 (10%)]\tLoss: 1.393650\n"
          ],
          "name": "stdout"
        },
        {
          "output_type": "stream",
          "text": [
            " 16%|█▋        | 32/195 [00:04<00:22,  7.10it/s]"
          ],
          "name": "stderr"
        },
        {
          "output_type": "stream",
          "text": [
            "Train Epoch: 21 [7680/49920 (15%)]\tLoss: 1.516549\n"
          ],
          "name": "stdout"
        },
        {
          "output_type": "stream",
          "text": [
            " 22%|██▏       | 42/195 [00:05<00:21,  7.16it/s]"
          ],
          "name": "stderr"
        },
        {
          "output_type": "stream",
          "text": [
            "Train Epoch: 21 [10240/49920 (21%)]\tLoss: 1.411635\n"
          ],
          "name": "stdout"
        },
        {
          "output_type": "stream",
          "text": [
            " 27%|██▋       | 52/195 [00:07<00:20,  7.11it/s]"
          ],
          "name": "stderr"
        },
        {
          "output_type": "stream",
          "text": [
            "Train Epoch: 21 [12800/49920 (26%)]\tLoss: 1.375107\n"
          ],
          "name": "stdout"
        },
        {
          "output_type": "stream",
          "text": [
            " 32%|███▏      | 62/195 [00:08<00:19,  6.93it/s]"
          ],
          "name": "stderr"
        },
        {
          "output_type": "stream",
          "text": [
            "Train Epoch: 21 [15360/49920 (31%)]\tLoss: 1.387030\n"
          ],
          "name": "stdout"
        },
        {
          "output_type": "stream",
          "text": [
            " 37%|███▋      | 72/195 [00:10<00:17,  7.12it/s]"
          ],
          "name": "stderr"
        },
        {
          "output_type": "stream",
          "text": [
            "Train Epoch: 21 [17920/49920 (36%)]\tLoss: 1.370460\n"
          ],
          "name": "stdout"
        },
        {
          "output_type": "stream",
          "text": [
            " 42%|████▏     | 82/195 [00:11<00:15,  7.21it/s]"
          ],
          "name": "stderr"
        },
        {
          "output_type": "stream",
          "text": [
            "Train Epoch: 21 [20480/49920 (41%)]\tLoss: 1.380811\n"
          ],
          "name": "stdout"
        },
        {
          "output_type": "stream",
          "text": [
            " 47%|████▋     | 92/195 [00:12<00:14,  7.10it/s]"
          ],
          "name": "stderr"
        },
        {
          "output_type": "stream",
          "text": [
            "Train Epoch: 21 [23040/49920 (46%)]\tLoss: 1.383705\n"
          ],
          "name": "stdout"
        },
        {
          "output_type": "stream",
          "text": [
            " 52%|█████▏    | 102/195 [00:14<00:13,  7.14it/s]"
          ],
          "name": "stderr"
        },
        {
          "output_type": "stream",
          "text": [
            "Train Epoch: 21 [25600/49920 (51%)]\tLoss: 1.383003\n"
          ],
          "name": "stdout"
        },
        {
          "output_type": "stream",
          "text": [
            " 57%|█████▋    | 112/195 [00:15<00:11,  7.15it/s]"
          ],
          "name": "stderr"
        },
        {
          "output_type": "stream",
          "text": [
            "Train Epoch: 21 [28160/49920 (56%)]\tLoss: 1.382700\n"
          ],
          "name": "stdout"
        },
        {
          "output_type": "stream",
          "text": [
            " 63%|██████▎   | 122/195 [00:17<00:10,  7.09it/s]"
          ],
          "name": "stderr"
        },
        {
          "output_type": "stream",
          "text": [
            "Train Epoch: 21 [30720/49920 (62%)]\tLoss: 1.542815\n"
          ],
          "name": "stdout"
        },
        {
          "output_type": "stream",
          "text": [
            " 68%|██████▊   | 132/195 [00:18<00:08,  7.09it/s]"
          ],
          "name": "stderr"
        },
        {
          "output_type": "stream",
          "text": [
            "Train Epoch: 21 [33280/49920 (67%)]\tLoss: 1.540776\n"
          ],
          "name": "stdout"
        },
        {
          "output_type": "stream",
          "text": [
            " 73%|███████▎  | 142/195 [00:20<00:07,  7.16it/s]"
          ],
          "name": "stderr"
        },
        {
          "output_type": "stream",
          "text": [
            "Train Epoch: 21 [35840/49920 (72%)]\tLoss: 1.442658\n"
          ],
          "name": "stdout"
        },
        {
          "output_type": "stream",
          "text": [
            " 78%|███████▊  | 152/195 [00:21<00:05,  7.23it/s]"
          ],
          "name": "stderr"
        },
        {
          "output_type": "stream",
          "text": [
            "Train Epoch: 21 [38400/49920 (77%)]\tLoss: 1.394367\n"
          ],
          "name": "stdout"
        },
        {
          "output_type": "stream",
          "text": [
            " 83%|████████▎ | 162/195 [00:22<00:04,  7.16it/s]"
          ],
          "name": "stderr"
        },
        {
          "output_type": "stream",
          "text": [
            "Train Epoch: 21 [40960/49920 (82%)]\tLoss: 1.373334\n"
          ],
          "name": "stdout"
        },
        {
          "output_type": "stream",
          "text": [
            " 88%|████████▊ | 172/195 [00:24<00:03,  7.16it/s]"
          ],
          "name": "stderr"
        },
        {
          "output_type": "stream",
          "text": [
            "Train Epoch: 21 [43520/49920 (87%)]\tLoss: 1.351834\n"
          ],
          "name": "stdout"
        },
        {
          "output_type": "stream",
          "text": [
            " 93%|█████████▎| 182/195 [00:25<00:01,  7.14it/s]"
          ],
          "name": "stderr"
        },
        {
          "output_type": "stream",
          "text": [
            "Train Epoch: 21 [46080/49920 (92%)]\tLoss: 1.362473\n"
          ],
          "name": "stdout"
        },
        {
          "output_type": "stream",
          "text": [
            " 98%|█████████▊| 192/195 [00:27<00:00,  7.14it/s]"
          ],
          "name": "stderr"
        },
        {
          "output_type": "stream",
          "text": [
            "Train Epoch: 21 [48640/49920 (97%)]\tLoss: 1.373376\n"
          ],
          "name": "stdout"
        },
        {
          "output_type": "stream",
          "text": [
            "100%|██████████| 195/195 [00:27<00:00,  7.11it/s]\n"
          ],
          "name": "stderr"
        },
        {
          "output_type": "stream",
          "text": [
            "Input\ta great sigh and leaned against the cavern wall. \"I am weak...\" he said. \"Don't worry, sir,\" said Ha\n",
            "GT\t great sigh and leaned against the cavern wall. \"I am weak...\" he said. \"Don't worry, sir,\" said Har\n",
            "pred\trsreeteselnttnd soavid tnain.t the saser.eoisls \"I ws ne'r,\".  \"e said. \"Ion't wauky, Ior,  said Har\n",
            "\n",
            "\n",
            "Input\trossed the outer cave, and Harry helped Dumbledore back into the icy seawater that filled the crevic\n",
            "GT\tossed the outer cave, and Harry helped Dumbledore back into the icy seawater that filled the crevice\n",
            "pred\tessed the snt r tarer tnd tarry saaded tumbledore aeck.tnto the cne shit,yed.thet tonled the saeaene\n",
            "\n",
            "\n",
            "Input\tivering and dripping in the middle of the dark High Street in Hogsmeade. For one horrible moment Har\n",
            "GT\tvering and dripping in the middle of the dark High Street in Hogsmeade. For one horrible moment Harr\n",
            "pred\tnering and seanpeng hntthe cagdle of the serk aashtanaeaneanttagwmeade  \"ir ane oelroele terent,tarr\n",
            "\n",
            "\n",
            "Input\t help, but there was nobody to be seen and all he could think was that he must somehow get Dumbledor\n",
            "GT\thelp, but there was nobody to be seen and all he could think was that he must somehow get Dumbledore\n",
            "pred\ttirp. aut the e was aotody so se aeem tnd t l oe wouldnhhenksths ahet te wast aemetow tetttumbledore\n",
            "\n",
            "\n",
            "Input\tto - but what's wrong with Albus?' She came to a halt, panting, and stared down, wide-eyed, at Dumbl\n",
            "GT\to - but what's wrong with Albus?' She came to a halt, panting, and stared down, wide-eyed, at Dumble\n",
            "pred\th s aet that s ahing.ahth anuus.\" sne wane oo bssovf, toiiing  tnd thirtd aown  ahtenlded  an tumble\n",
            "\n",
            "\n",
            "Input\tt there when I put the cat out, but when I got upstairs -' 'We need to return to the castle at once,\n",
            "GT\t there when I put the cat out, but when I got upstairs -' 'We need to return to the castle at once,'\n",
            "pred\t the e waan I wrt the oancaft  tut than I wot tp eairs a  sIhlhevdeto beaurneto the castle tnttnce. \n",
            "\n",
            "\n",
            "Input\tg back towards her pub as Harry and Dumble-dore kicked off from the ground and rose up into the air.\n",
            "GT\t back towards her pub as Harry and Dumble-dore kicked off from the ground and rose up into the air. \n",
            "pred\t teck to ard  te  tatban tarry and Humbledoore wnnked anf toom the croundeand seue tnotnto the cir. \n",
            "\n",
            "\n",
            "\n",
            "Test set: Average loss: 1.4144, Accuracy: 714400/1260000 (57%)\n",
            "\n",
            "generated max\t\t Harry looked at me and said the side of the side. \"I was a sure your ears, I should have to be a long, but the same to be and the only one of the case to the castle to the castle to the castle to the castle to the castle to the c\n",
            "generated sample\t Harry looked at me and said something. Hermione was a something badly, Harry got to see it to be telling him to entrain attended the seats to the spiders in the side. . . . . . . . and and three to see in the came to the books an\n",
            "generated sample\t Harry looked at me and said and wanded out of the end. \"You can't years, and then twing,\" said Harry. \"Why he wouldn't he wanted to get to remover, and me thinking to the to say that he was anywhere's your still carery in the for\n",
            "generated sample\t Harry looked at me and said I was looking down. \"I getting all right.\" Harry stared at him. \"I heard been attacked to see things,\" said Harry. \"What's were all the little of the missure to about that all he was all off a moment..\n",
            "generated sample\t Harry looked at me and said the bead. \"And then,\" said Madame Potter. \"Muna was very something,\" said Harry. \"I hadn't take the case, to ourse,\" said Hermione slightly. \"The careful my little and down to the case to see they what\n",
            "generated sample\t Harry looked at me and said Karry. \"She was something about because the are your of the candlessly, and saw the less of the door. \"You can for a better of the sight and the stairs.\" \"Professor I don't letter the floor of the door\n",
            "generated sample\t Harry looked at me and said your office and seemed to eating the forest of the things all still seemed to see who hadn't been been to ask to put the four of the cage... I don't tell me we'll with the time,\" said Magrid. \"The some\n",
            "generated sample\t Harry looked at me and said Dumbledore, them. \"Onder that's it's a parchment, been all your can't the back of the came and seen the point. .... I've deeped in the sorts of the centartless because of the garden.\" \"He's meaning, th\n",
            "generated sample\t Harry looked at me and said Harry. \"Who was sure that the wizard, Harry's seized to know. \"How showed the called of the best into the end of chance.\" \"But you're and Hermione, what you seemed to say the top of the others in the s\n",
            "generated sample\t Harry looked at me and said =on, shouldered and signally. \"What's have to be personally,\" said Hagrid. \"We enceled to hear the said to the candless for the signages, they're were and the signasting to forget the changer, then, it\n",
            "generated sample\t Harry looked at me and said Harry. \"I think it's heard, when he went that the first time,\" said Harry. \"I had the whole of the fell of the other sight of the case, then I thinks all it's been to see the training to means, he woul\n"
          ],
          "name": "stdout"
        },
        {
          "output_type": "stream",
          "text": [
            "\r  0%|          | 0/195 [00:00<?, ?it/s]"
          ],
          "name": "stderr"
        },
        {
          "output_type": "stream",
          "text": [
            "generated beam\t\t Harry looked at me and said Harry. \"Yeah,\" said Hermione. \"What's they're nothing,\" said Harry. \"Yeah,\" said Harry. \"What's they?\" said Hermione. \"What's they're nothing,\" said Hermione, and Harry said Harry. \"What's they?\" said\n",
            "\n"
          ],
          "name": "stdout"
        },
        {
          "output_type": "stream",
          "text": [
            "  1%|          | 2/195 [00:00<00:40,  4.77it/s]"
          ],
          "name": "stderr"
        },
        {
          "output_type": "stream",
          "text": [
            "Train Epoch: 22 [0/49920 (0%)]\tLoss: 1.414959\n"
          ],
          "name": "stdout"
        },
        {
          "output_type": "stream",
          "text": [
            "  6%|▌         | 12/195 [00:01<00:26,  6.91it/s]"
          ],
          "name": "stderr"
        },
        {
          "output_type": "stream",
          "text": [
            "Train Epoch: 22 [2560/49920 (5%)]\tLoss: 1.385202\n"
          ],
          "name": "stdout"
        },
        {
          "output_type": "stream",
          "text": [
            " 11%|█▏        | 22/195 [00:03<00:24,  7.15it/s]"
          ],
          "name": "stderr"
        },
        {
          "output_type": "stream",
          "text": [
            "Train Epoch: 22 [5120/49920 (10%)]\tLoss: 1.386548\n"
          ],
          "name": "stdout"
        },
        {
          "output_type": "stream",
          "text": [
            " 16%|█▋        | 32/195 [00:04<00:23,  7.06it/s]"
          ],
          "name": "stderr"
        },
        {
          "output_type": "stream",
          "text": [
            "Train Epoch: 22 [7680/49920 (15%)]\tLoss: 1.453056\n"
          ],
          "name": "stdout"
        },
        {
          "output_type": "stream",
          "text": [
            " 22%|██▏       | 42/195 [00:06<00:21,  7.03it/s]"
          ],
          "name": "stderr"
        },
        {
          "output_type": "stream",
          "text": [
            "Train Epoch: 22 [10240/49920 (21%)]\tLoss: 1.409029\n"
          ],
          "name": "stdout"
        },
        {
          "output_type": "stream",
          "text": [
            " 27%|██▋       | 52/195 [00:07<00:20,  7.13it/s]"
          ],
          "name": "stderr"
        },
        {
          "output_type": "stream",
          "text": [
            "Train Epoch: 22 [12800/49920 (26%)]\tLoss: 1.373438\n"
          ],
          "name": "stdout"
        },
        {
          "output_type": "stream",
          "text": [
            " 32%|███▏      | 62/195 [00:08<00:18,  7.15it/s]"
          ],
          "name": "stderr"
        },
        {
          "output_type": "stream",
          "text": [
            "Train Epoch: 22 [15360/49920 (31%)]\tLoss: 1.386004\n"
          ],
          "name": "stdout"
        },
        {
          "output_type": "stream",
          "text": [
            " 37%|███▋      | 72/195 [00:10<00:17,  7.16it/s]"
          ],
          "name": "stderr"
        },
        {
          "output_type": "stream",
          "text": [
            "Train Epoch: 22 [17920/49920 (36%)]\tLoss: 1.366942\n"
          ],
          "name": "stdout"
        },
        {
          "output_type": "stream",
          "text": [
            " 42%|████▏     | 82/195 [00:11<00:15,  7.20it/s]"
          ],
          "name": "stderr"
        },
        {
          "output_type": "stream",
          "text": [
            "Train Epoch: 22 [20480/49920 (41%)]\tLoss: 1.372824\n"
          ],
          "name": "stdout"
        },
        {
          "output_type": "stream",
          "text": [
            " 47%|████▋     | 92/195 [00:13<00:14,  7.13it/s]"
          ],
          "name": "stderr"
        },
        {
          "output_type": "stream",
          "text": [
            "Train Epoch: 22 [23040/49920 (46%)]\tLoss: 1.380076\n"
          ],
          "name": "stdout"
        },
        {
          "output_type": "stream",
          "text": [
            " 52%|█████▏    | 102/195 [00:14<00:13,  7.00it/s]"
          ],
          "name": "stderr"
        },
        {
          "output_type": "stream",
          "text": [
            "Train Epoch: 22 [25600/49920 (51%)]\tLoss: 1.388166\n"
          ],
          "name": "stdout"
        },
        {
          "output_type": "stream",
          "text": [
            " 57%|█████▋    | 112/195 [00:15<00:11,  7.04it/s]"
          ],
          "name": "stderr"
        },
        {
          "output_type": "stream",
          "text": [
            "Train Epoch: 22 [28160/49920 (56%)]\tLoss: 1.368587\n"
          ],
          "name": "stdout"
        },
        {
          "output_type": "stream",
          "text": [
            " 63%|██████▎   | 122/195 [00:17<00:10,  7.01it/s]"
          ],
          "name": "stderr"
        },
        {
          "output_type": "stream",
          "text": [
            "Train Epoch: 22 [30720/49920 (62%)]\tLoss: 1.382597\n"
          ],
          "name": "stdout"
        },
        {
          "output_type": "stream",
          "text": [
            " 68%|██████▊   | 132/195 [00:18<00:08,  7.05it/s]"
          ],
          "name": "stderr"
        },
        {
          "output_type": "stream",
          "text": [
            "Train Epoch: 22 [33280/49920 (67%)]\tLoss: 1.411141\n"
          ],
          "name": "stdout"
        },
        {
          "output_type": "stream",
          "text": [
            " 73%|███████▎  | 142/195 [00:20<00:07,  6.88it/s]"
          ],
          "name": "stderr"
        },
        {
          "output_type": "stream",
          "text": [
            "Train Epoch: 22 [35840/49920 (72%)]\tLoss: 1.405360\n"
          ],
          "name": "stdout"
        },
        {
          "output_type": "stream",
          "text": [
            " 78%|███████▊  | 152/195 [00:21<00:06,  7.06it/s]"
          ],
          "name": "stderr"
        },
        {
          "output_type": "stream",
          "text": [
            "Train Epoch: 22 [38400/49920 (77%)]\tLoss: 1.413960\n"
          ],
          "name": "stdout"
        },
        {
          "output_type": "stream",
          "text": [
            " 83%|████████▎ | 162/195 [00:22<00:04,  7.14it/s]"
          ],
          "name": "stderr"
        },
        {
          "output_type": "stream",
          "text": [
            "Train Epoch: 22 [40960/49920 (82%)]\tLoss: 1.425811\n"
          ],
          "name": "stdout"
        },
        {
          "output_type": "stream",
          "text": [
            " 88%|████████▊ | 172/195 [00:24<00:03,  7.11it/s]"
          ],
          "name": "stderr"
        },
        {
          "output_type": "stream",
          "text": [
            "Train Epoch: 22 [43520/49920 (87%)]\tLoss: 1.378779\n"
          ],
          "name": "stdout"
        },
        {
          "output_type": "stream",
          "text": [
            " 93%|█████████▎| 182/195 [00:25<00:01,  7.12it/s]"
          ],
          "name": "stderr"
        },
        {
          "output_type": "stream",
          "text": [
            "Train Epoch: 22 [46080/49920 (92%)]\tLoss: 1.354816\n"
          ],
          "name": "stdout"
        },
        {
          "output_type": "stream",
          "text": [
            " 98%|█████████▊| 192/195 [00:27<00:00,  7.04it/s]"
          ],
          "name": "stderr"
        },
        {
          "output_type": "stream",
          "text": [
            "Train Epoch: 22 [48640/49920 (97%)]\tLoss: 1.369201\n"
          ],
          "name": "stdout"
        },
        {
          "output_type": "stream",
          "text": [
            "100%|██████████| 195/195 [00:27<00:00,  7.07it/s]\n"
          ],
          "name": "stderr"
        },
        {
          "output_type": "stream",
          "text": [
            "Input\ta great sigh and leaned against the cavern wall. \"I am weak...\" he said. \"Don't worry, sir,\" said Ha\n",
            "GT\t great sigh and leaned against the cavern wall. \"I am weak...\" he said. \"Don't worry, sir,\" said Har\n",
            "pred\trsreet segnttnd sotved tnainst the sorer.eoisls \"I wr selr,\".  \"e said  \"Ion't wauky  Ior,  said Har\n",
            "\n",
            "\n",
            "Input\trossed the outer cave, and Harry helped Dumbledore back into the icy seawater that filled the crevic\n",
            "GT\tossed the outer cave, and Harry helped Dumbledore back into the icy seawater that filled the crevice\n",
            "pred\tessed the snt r ohrer tnd sarry saaded tumbledore weck tnto the cnk otit,yer.toet torl d the soeaene\n",
            "\n",
            "\n",
            "Input\tivering and dripping in the middle of the dark High Street in Hogsmeade. For one horrible moment Har\n",
            "GT\tvering and dripping in the middle of the dark High Street in Hogsmeade. For one horrible moment Harr\n",
            "pred\tnereng a d seenpeng hn the sogdle of the serk oash anuenn on tagwmeade  \"ir af  oelriele sorent tarr\n",
            "\n",
            "\n",
            "Input\t help, but there was nobody to be seen and all he could think was that he must somehow get Dumbledor\n",
            "GT\thelp, but there was nobody to be seen and all he could think was that he must somehow get Dumbledore\n",
            "pred\ttirp  sut the e was ao ody so se seen t y s l oe would hoenk ihs ahet te wost aeme ow wrt tumbledore\n",
            "\n",
            "\n",
            "Input\tto - but what's wrong with Albus?' She came to a halt, panting, and stared down, wide-eyed, at Dumbl\n",
            "GT\to - but what's wrong with Albus?' She came to a halt, panting, and stared down, wide-eyed, at Dumble\n",
            "pred\th s set thet s whitg thth t uus \" sne wone oo b sovl  toriing  tnd thired aown  thte \"d d  wn tumble\n",
            "\n",
            "\n",
            "Input\tt there when I put the cat out, but when I got upstairs -' 'We need to return to the castle at once,\n",
            "GT\t there when I put the cat out, but when I got upstairs -' 'We need to return to the castle at once,'\n",
            "pred\t she e waen I srt ihe oorcafr  iut Ihen I wot tp eairs a  s h hevd to bemurn to the sortle tn tnce  \n",
            "\n",
            "\n",
            "Input\tg back towards her pub as Harry and Dumble-dore kicked off from the ground and rose up into the air.\n",
            "GT\t back towards her pub as Harry and Dumble-dore kicked off from the ground and rose up into the air. \n",
            "pred\t teck to ard  te  eltban tarry snd Rumbledoore wnnked tnf toom the creund ond sebe tn tn o the cir  \n",
            "\n",
            "\n",
            "\n",
            "Test set: Average loss: 1.3999, Accuracy: 726837/1260000 (58%)\n",
            "\n",
            "generated max\t\t Harry looked at me and said the stairs of the side of the side of the side of the side of the side of the side of the side of the side of the side of the side of the side of the side of the side of the side of the side of the sid\n",
            "generated sample\t Harry looked at me and said an out of the window and she were so fingers out of the Chen, who were one in the remote for the stairs with and leaded at the feet. He had himself was already smile sir, and the spells of the spircati\n",
            "generated sample\t Harry looked at me and said in the clother contruction of sidew of the stair. \"Oh, you were worked a long school seemed to be should have to look at Hermione and look at the seirce of a few of corridor. He had not bree entered a \n",
            "generated sample\t Harry looked at me and said I what as you one of the deserted the door of the catches and the book of her side. Harry was so the only she was still burst at the only were he could he wants on the control singer in the best of the\n",
            "generated sample\t Harry looked at me and said and with a secret in the corred of the only shouldered behind the contruld in the end of the look of the screamed and into the glittering to get out of the light of a broom on the class the moment from\n",
            "generated sample\t Harry looked at me and said not to the for of the signed of the came of the wall. \"I told the care of the Professor McGonagall were not to see when I supposed to accept the time of the deserted in the table. \"I he want to see why\n",
            "generated sample\t Harry looked at me and said Harry still bell for the first said of the stone said. \"Whey can were all of the like you are to see the came before into the end of the stairs. \"Where you well me the went of the expected of the door \n",
            "generated sample\t Harry looked at me and said Neville cleared on the words of the stretched of the sign of his head. Harry behind the top of the remember of the pair of the came of her concerned the beside and still seized the third in the sound o\n",
            "generated sample\t Harry looked at me and said so everything eyes were and stared off a long still Dumbledore taken out of his seared at Harry. \"I don't you see your be all returned to see it with a tense you can very your been are before the portr\n",
            "generated sample\t Harry looked at me and said - the side of the slightly she was the surprise of his breath under the stunded to his the castle. \"I don't get in the one of the entrance the side of the back of here's are and your mean, do it's all \n",
            "generated sample\t Harry looked at me and said in the and stopped into the bottom on the windows closed to the Dentail expressed room the treemed to be shook her mother. \"I said Ron. It was the points of here been all. I won't just he was not me me\n"
          ],
          "name": "stdout"
        },
        {
          "output_type": "stream",
          "text": [
            "\r  0%|          | 0/195 [00:00<?, ?it/s]"
          ],
          "name": "stderr"
        },
        {
          "output_type": "stream",
          "text": [
            "generated beam\t\t Harry looked at me and said Harry, who was looking as though he would have been the door of the window. Harry would have thought he would have been looking around the door of the window. Harry would have been looking around the \n",
            "\n"
          ],
          "name": "stdout"
        },
        {
          "output_type": "stream",
          "text": [
            "  1%|          | 2/195 [00:00<00:38,  4.96it/s]"
          ],
          "name": "stderr"
        },
        {
          "output_type": "stream",
          "text": [
            "Train Epoch: 23 [0/49920 (0%)]\tLoss: 1.397777\n"
          ],
          "name": "stdout"
        },
        {
          "output_type": "stream",
          "text": [
            "  6%|▌         | 12/195 [00:01<00:26,  6.98it/s]"
          ],
          "name": "stderr"
        },
        {
          "output_type": "stream",
          "text": [
            "Train Epoch: 23 [2560/49920 (5%)]\tLoss: 1.377335\n"
          ],
          "name": "stdout"
        },
        {
          "output_type": "stream",
          "text": [
            " 11%|█▏        | 22/195 [00:03<00:24,  6.98it/s]"
          ],
          "name": "stderr"
        },
        {
          "output_type": "stream",
          "text": [
            "Train Epoch: 23 [5120/49920 (10%)]\tLoss: 1.373798\n"
          ],
          "name": "stdout"
        },
        {
          "output_type": "stream",
          "text": [
            " 16%|█▋        | 32/195 [00:04<00:22,  7.17it/s]"
          ],
          "name": "stderr"
        },
        {
          "output_type": "stream",
          "text": [
            "Train Epoch: 23 [7680/49920 (15%)]\tLoss: 1.433968\n"
          ],
          "name": "stdout"
        },
        {
          "output_type": "stream",
          "text": [
            " 22%|██▏       | 42/195 [00:06<00:21,  7.10it/s]"
          ],
          "name": "stderr"
        },
        {
          "output_type": "stream",
          "text": [
            "Train Epoch: 23 [10240/49920 (21%)]\tLoss: 1.516304\n"
          ],
          "name": "stdout"
        },
        {
          "output_type": "stream",
          "text": [
            " 27%|██▋       | 52/195 [00:07<00:20,  7.01it/s]"
          ],
          "name": "stderr"
        },
        {
          "output_type": "stream",
          "text": [
            "Train Epoch: 23 [12800/49920 (26%)]\tLoss: 1.410285\n"
          ],
          "name": "stdout"
        },
        {
          "output_type": "stream",
          "text": [
            " 32%|███▏      | 62/195 [00:08<00:18,  7.24it/s]"
          ],
          "name": "stderr"
        },
        {
          "output_type": "stream",
          "text": [
            "Train Epoch: 23 [15360/49920 (31%)]\tLoss: 1.388065\n"
          ],
          "name": "stdout"
        },
        {
          "output_type": "stream",
          "text": [
            " 37%|███▋      | 72/195 [00:10<00:17,  7.08it/s]"
          ],
          "name": "stderr"
        },
        {
          "output_type": "stream",
          "text": [
            "Train Epoch: 23 [17920/49920 (36%)]\tLoss: 1.367185\n"
          ],
          "name": "stdout"
        },
        {
          "output_type": "stream",
          "text": [
            " 42%|████▏     | 82/195 [00:11<00:16,  7.00it/s]"
          ],
          "name": "stderr"
        },
        {
          "output_type": "stream",
          "text": [
            "Train Epoch: 23 [20480/49920 (41%)]\tLoss: 1.364824\n"
          ],
          "name": "stdout"
        },
        {
          "output_type": "stream",
          "text": [
            " 47%|████▋     | 92/195 [00:13<00:14,  7.01it/s]"
          ],
          "name": "stderr"
        },
        {
          "output_type": "stream",
          "text": [
            "Train Epoch: 23 [23040/49920 (46%)]\tLoss: 1.421740\n"
          ],
          "name": "stdout"
        },
        {
          "output_type": "stream",
          "text": [
            " 52%|█████▏    | 102/195 [00:14<00:13,  7.06it/s]"
          ],
          "name": "stderr"
        },
        {
          "output_type": "stream",
          "text": [
            "Train Epoch: 23 [25600/49920 (51%)]\tLoss: 1.423096\n"
          ],
          "name": "stdout"
        },
        {
          "output_type": "stream",
          "text": [
            " 57%|█████▋    | 112/195 [00:15<00:11,  7.08it/s]"
          ],
          "name": "stderr"
        },
        {
          "output_type": "stream",
          "text": [
            "Train Epoch: 23 [28160/49920 (56%)]\tLoss: 1.354120\n"
          ],
          "name": "stdout"
        },
        {
          "output_type": "stream",
          "text": [
            " 63%|██████▎   | 122/195 [00:17<00:10,  7.05it/s]"
          ],
          "name": "stderr"
        },
        {
          "output_type": "stream",
          "text": [
            "Train Epoch: 23 [30720/49920 (62%)]\tLoss: 1.373088\n"
          ],
          "name": "stdout"
        },
        {
          "output_type": "stream",
          "text": [
            " 68%|██████▊   | 132/195 [00:18<00:08,  7.12it/s]"
          ],
          "name": "stderr"
        },
        {
          "output_type": "stream",
          "text": [
            "Train Epoch: 23 [33280/49920 (67%)]\tLoss: 1.397029\n"
          ],
          "name": "stdout"
        },
        {
          "output_type": "stream",
          "text": [
            " 73%|███████▎  | 142/195 [00:20<00:07,  7.05it/s]"
          ],
          "name": "stderr"
        },
        {
          "output_type": "stream",
          "text": [
            "Train Epoch: 23 [35840/49920 (72%)]\tLoss: 1.392875\n"
          ],
          "name": "stdout"
        },
        {
          "output_type": "stream",
          "text": [
            " 78%|███████▊  | 152/195 [00:21<00:06,  7.15it/s]"
          ],
          "name": "stderr"
        },
        {
          "output_type": "stream",
          "text": [
            "Train Epoch: 23 [38400/49920 (77%)]\tLoss: 1.372660\n"
          ],
          "name": "stdout"
        },
        {
          "output_type": "stream",
          "text": [
            " 83%|████████▎ | 162/195 [00:22<00:04,  7.17it/s]"
          ],
          "name": "stderr"
        },
        {
          "output_type": "stream",
          "text": [
            "Train Epoch: 23 [40960/49920 (82%)]\tLoss: 1.352657\n"
          ],
          "name": "stdout"
        },
        {
          "output_type": "stream",
          "text": [
            " 88%|████████▊ | 172/195 [00:24<00:03,  7.02it/s]"
          ],
          "name": "stderr"
        },
        {
          "output_type": "stream",
          "text": [
            "Train Epoch: 23 [43520/49920 (87%)]\tLoss: 1.376618\n"
          ],
          "name": "stdout"
        },
        {
          "output_type": "stream",
          "text": [
            " 93%|█████████▎| 182/195 [00:25<00:01,  7.07it/s]"
          ],
          "name": "stderr"
        },
        {
          "output_type": "stream",
          "text": [
            "Train Epoch: 23 [46080/49920 (92%)]\tLoss: 1.393753\n"
          ],
          "name": "stdout"
        },
        {
          "output_type": "stream",
          "text": [
            " 98%|█████████▊| 192/195 [00:27<00:00,  7.17it/s]"
          ],
          "name": "stderr"
        },
        {
          "output_type": "stream",
          "text": [
            "Train Epoch: 23 [48640/49920 (97%)]\tLoss: 1.424013\n"
          ],
          "name": "stdout"
        },
        {
          "output_type": "stream",
          "text": [
            "100%|██████████| 195/195 [00:27<00:00,  7.09it/s]\n"
          ],
          "name": "stderr"
        },
        {
          "output_type": "stream",
          "text": [
            "Input\ta great sigh and leaned against the cavern wall. \"I am weak...\" he said. \"Don't worry, sir,\" said Ha\n",
            "GT\t great sigh and leaned against the cavern wall. \"I am weak...\" he said. \"Don't worry, sir,\" said Har\n",
            "pred\tnsoeat ohlntond soanid t ainst the sose  eoisk  \"I wl nh r,\".  \"e said  \"Ion't wanky  Ior,  said Her\n",
            "\n",
            "\n",
            "Input\trossed the outer cave, and Harry helped Dumbledore back into the icy seawater that filled the crevic\n",
            "GT\tossed the outer cave, and Harry helped Dumbledore back into the icy seawater that filled the crevice\n",
            "pred\tessed toe snt r ohre  wnd serry saaded aumbledore weck on o the sne ohit,yed,ooen tonl d ooe sooaene\n",
            "\n",
            "\n",
            "Input\tivering and dripping in the middle of the dark High Street in Hogsmeade. For one horrible moment Har\n",
            "GT\tvering and dripping in the middle of the dark High Street in Hogsmeade. For one horrible moment Harr\n",
            "pred\tnereng a d seanpeng hn the sondle of the serk oesh anuenn on tagwmeade  \"or an  oelriele souent aerr\n",
            "\n",
            "\n",
            "Input\t help, but there was nobody to be seen and all he could think was that he must somehow get Dumbledor\n",
            "GT\thelp, but there was nobody to be seen and all he could think was that he must somehow get Dumbledore\n",
            "pred\tai p  sut hhe e was aotody so se aoem t d s l oe would noenk hhs ahet te wost aeme ow wet oumbledore\n",
            "\n",
            "\n",
            "Input\tto - but what's wrong with Albus?' She came to a halt, panting, and stared down, wide-eyed, at Dumbl\n",
            "GT\to - but what's wrong with Albus?' She came to a halt, panting, and stared down, wide-eyed, at Dumble\n",
            "pred\to b wet yhat s hhong ahth a uus \" sne wone oo b lelf  tuiiing  hnd shired aown  ahte lded  wn tumble\n",
            "\n",
            "\n",
            "Input\tt there when I put the cat out, but when I got upstairs -' 'We need to return to the castle at once,\n",
            "GT\t there when I put the cat out, but when I got upstairs -' 'We need to return to the castle at once,'\n",
            "pred\t bhe e waan I wrt ihe oon oft  out Ihen I wot tn eiins a  s h hovd to beaurn to bhe sost e on tnee  \n",
            "\n",
            "\n",
            "Input\tg back towards her pub as Harry and Dumble-dore kicked off from the ground and rose up into the air.\n",
            "GT\t back towards her pub as Harry and Dumble-dore kicked off from the ground and rose up into the air. \n",
            "pred\t teck oo ard  te  eolban herry snd Rumbledoore wnnked anf toom the sround and seue tn tn o the sir  \n",
            "\n",
            "\n",
            "\n",
            "Test set: Average loss: 1.4313, Accuracy: 716717/1260000 (57%)\n",
            "\n",
            "generated max\t\t Harry looked at me and said the stairs of the side of the side of the side of the side of the side of the side of the side of the side of the side of the side of the side of the side of the side of the side of the side of the sid\n",
            "generated sample\t Harry looked at me and said to ask his being on he looked as he stunned to know he was the potions and the inside him been - both of the wall of the bather who he was still was still so the only on the common room when he heard i\n",
            "generated sample\t Harry looked at me and said the bes to hear behind the grounded behind him and the single of the mounted out of his school on the other simng. The chose who was still and still clearly excelently on the sign of the sound on the w\n",
            "generated sample\t Harry looked at me and said the forest on the cloak of the sunce of the bottom of the window few beside to see the other sounded on the stunned in a great floor as the finger side of the Ministry had not to do it at Hermione was \n",
            "generated sample\t Harry looked at me and said she was to be seing on the book of the stunned in an of the forehead window, still screambled and the blood with a stairs and she was a slight of the moment. The offing so he had not to see what the st\n",
            "generated sample\t Harry looked at me and said Ron and Hermione closed to his eyes and said Hagrid suddenly as the head on to Harry he shoulder allow long as the other side on the other side of the sounded betwore present of the for one he was spea\n",
            "generated sample\t Harry looked at me and said in a long broom what he had been by the door and posite chest in the into of the door, and Hermione manage stretched on the same and the told he had stretched in the bleet and the glass of inside the p\n",
            "generated sample\t Harry looked at me and said boy. He snowled for a down to leand the close of the stead, he was won been she was another on when he still in a strange of the floor of the hole of the center. The common room when a sudden was force\n",
            "generated sample\t Harry looked at me and said in his been and beneath the wall be for the arms. The word was she who had gone to be a long she said to him. He was looking as the look of the considerable to long the parchment which the way on the b\n",
            "generated sample\t Harry looked at me and said Ron she spell to the crowd of the bottom of his very eyes with a pleasant of Harry was and already slightly deeped into he had supped his wand side the fore who he was doing so long and the work of the\n",
            "generated sample\t Harry looked at me and said when the planswer everyone who pointed and started on the food creature the beside the stairs and still stretched in the desk but when Hermione was he wondered as long slightly still as the same portun\n"
          ],
          "name": "stdout"
        },
        {
          "output_type": "stream",
          "text": [
            "\r  0%|          | 0/195 [00:00<?, ?it/s]"
          ],
          "name": "stderr"
        },
        {
          "output_type": "stream",
          "text": [
            "generated beam\t\t Harry looked at me and said Hermione and Hermione as though he had been looking around the side of the side of the other side of the other side of the side of the side of the side of the other side of the side of the side of the\n",
            "\n"
          ],
          "name": "stdout"
        },
        {
          "output_type": "stream",
          "text": [
            "  1%|          | 2/195 [00:00<00:35,  5.38it/s]"
          ],
          "name": "stderr"
        },
        {
          "output_type": "stream",
          "text": [
            "Train Epoch: 24 [0/49920 (0%)]\tLoss: 1.427252\n"
          ],
          "name": "stdout"
        },
        {
          "output_type": "stream",
          "text": [
            "  6%|▌         | 12/195 [00:01<00:26,  7.01it/s]"
          ],
          "name": "stderr"
        },
        {
          "output_type": "stream",
          "text": [
            "Train Epoch: 24 [2560/49920 (5%)]\tLoss: 1.391663\n"
          ],
          "name": "stdout"
        },
        {
          "output_type": "stream",
          "text": [
            " 11%|█▏        | 22/195 [00:03<00:24,  7.13it/s]"
          ],
          "name": "stderr"
        },
        {
          "output_type": "stream",
          "text": [
            "Train Epoch: 24 [5120/49920 (10%)]\tLoss: 1.365831\n"
          ],
          "name": "stdout"
        },
        {
          "output_type": "stream",
          "text": [
            " 16%|█▋        | 32/195 [00:04<00:22,  7.16it/s]"
          ],
          "name": "stderr"
        },
        {
          "output_type": "stream",
          "text": [
            "Train Epoch: 24 [7680/49920 (15%)]\tLoss: 1.434583\n"
          ],
          "name": "stdout"
        },
        {
          "output_type": "stream",
          "text": [
            " 22%|██▏       | 42/195 [00:05<00:21,  7.16it/s]"
          ],
          "name": "stderr"
        },
        {
          "output_type": "stream",
          "text": [
            "Train Epoch: 24 [10240/49920 (21%)]\tLoss: 1.393249\n"
          ],
          "name": "stdout"
        },
        {
          "output_type": "stream",
          "text": [
            " 27%|██▋       | 52/195 [00:07<00:20,  7.13it/s]"
          ],
          "name": "stderr"
        },
        {
          "output_type": "stream",
          "text": [
            "Train Epoch: 24 [12800/49920 (26%)]\tLoss: 1.362884\n"
          ],
          "name": "stdout"
        },
        {
          "output_type": "stream",
          "text": [
            " 32%|███▏      | 62/195 [00:08<00:18,  7.08it/s]"
          ],
          "name": "stderr"
        },
        {
          "output_type": "stream",
          "text": [
            "Train Epoch: 24 [15360/49920 (31%)]\tLoss: 1.417225\n"
          ],
          "name": "stdout"
        },
        {
          "output_type": "stream",
          "text": [
            " 37%|███▋      | 72/195 [00:10<00:17,  7.09it/s]"
          ],
          "name": "stderr"
        },
        {
          "output_type": "stream",
          "text": [
            "Train Epoch: 24 [17920/49920 (36%)]\tLoss: 1.371573\n"
          ],
          "name": "stdout"
        },
        {
          "output_type": "stream",
          "text": [
            " 42%|████▏     | 82/195 [00:11<00:15,  7.10it/s]"
          ],
          "name": "stderr"
        },
        {
          "output_type": "stream",
          "text": [
            "Train Epoch: 24 [20480/49920 (41%)]\tLoss: 1.365119\n"
          ],
          "name": "stdout"
        },
        {
          "output_type": "stream",
          "text": [
            " 47%|████▋     | 92/195 [00:12<00:14,  7.09it/s]"
          ],
          "name": "stderr"
        },
        {
          "output_type": "stream",
          "text": [
            "Train Epoch: 24 [23040/49920 (46%)]\tLoss: 1.372323\n"
          ],
          "name": "stdout"
        },
        {
          "output_type": "stream",
          "text": [
            " 52%|█████▏    | 102/195 [00:14<00:12,  7.16it/s]"
          ],
          "name": "stderr"
        },
        {
          "output_type": "stream",
          "text": [
            "Train Epoch: 24 [25600/49920 (51%)]\tLoss: 1.372174\n"
          ],
          "name": "stdout"
        },
        {
          "output_type": "stream",
          "text": [
            " 57%|█████▋    | 112/195 [00:15<00:11,  7.15it/s]"
          ],
          "name": "stderr"
        },
        {
          "output_type": "stream",
          "text": [
            "Train Epoch: 24 [28160/49920 (56%)]\tLoss: 1.401073\n"
          ],
          "name": "stdout"
        },
        {
          "output_type": "stream",
          "text": [
            " 63%|██████▎   | 122/195 [00:17<00:10,  7.14it/s]"
          ],
          "name": "stderr"
        },
        {
          "output_type": "stream",
          "text": [
            "Train Epoch: 24 [30720/49920 (62%)]\tLoss: 1.540799\n"
          ],
          "name": "stdout"
        },
        {
          "output_type": "stream",
          "text": [
            " 68%|██████▊   | 132/195 [00:18<00:08,  7.14it/s]"
          ],
          "name": "stderr"
        },
        {
          "output_type": "stream",
          "text": [
            "Train Epoch: 24 [33280/49920 (67%)]\tLoss: 1.455422\n"
          ],
          "name": "stdout"
        },
        {
          "output_type": "stream",
          "text": [
            " 73%|███████▎  | 142/195 [00:19<00:07,  7.04it/s]"
          ],
          "name": "stderr"
        },
        {
          "output_type": "stream",
          "text": [
            "Train Epoch: 24 [35840/49920 (72%)]\tLoss: 1.405522\n"
          ],
          "name": "stdout"
        },
        {
          "output_type": "stream",
          "text": [
            " 78%|███████▊  | 152/195 [00:21<00:06,  7.06it/s]"
          ],
          "name": "stderr"
        },
        {
          "output_type": "stream",
          "text": [
            "Train Epoch: 24 [38400/49920 (77%)]\tLoss: 1.370895\n"
          ],
          "name": "stdout"
        },
        {
          "output_type": "stream",
          "text": [
            " 83%|████████▎ | 162/195 [00:22<00:04,  7.11it/s]"
          ],
          "name": "stderr"
        },
        {
          "output_type": "stream",
          "text": [
            "Train Epoch: 24 [40960/49920 (82%)]\tLoss: 1.381546\n"
          ],
          "name": "stdout"
        },
        {
          "output_type": "stream",
          "text": [
            " 88%|████████▊ | 172/195 [00:24<00:03,  7.00it/s]"
          ],
          "name": "stderr"
        },
        {
          "output_type": "stream",
          "text": [
            "Train Epoch: 24 [43520/49920 (87%)]\tLoss: 1.374127\n"
          ],
          "name": "stdout"
        },
        {
          "output_type": "stream",
          "text": [
            " 93%|█████████▎| 182/195 [00:25<00:01,  7.11it/s]"
          ],
          "name": "stderr"
        },
        {
          "output_type": "stream",
          "text": [
            "Train Epoch: 24 [46080/49920 (92%)]\tLoss: 1.367377\n"
          ],
          "name": "stdout"
        },
        {
          "output_type": "stream",
          "text": [
            " 98%|█████████▊| 192/195 [00:27<00:00,  7.05it/s]"
          ],
          "name": "stderr"
        },
        {
          "output_type": "stream",
          "text": [
            "Train Epoch: 24 [48640/49920 (97%)]\tLoss: 1.370230\n"
          ],
          "name": "stdout"
        },
        {
          "output_type": "stream",
          "text": [
            "100%|██████████| 195/195 [00:27<00:00,  7.12it/s]\n"
          ],
          "name": "stderr"
        },
        {
          "output_type": "stream",
          "text": [
            "Input\ta great sigh and leaned against the cavern wall. \"I am weak...\" he said. \"Don't worry, sir,\" said Ha\n",
            "GT\t great sigh and leaned against the cavern wall. \"I am weak...\" he said. \"Don't worry, sir,\" said Har\n",
            "pred\tnsoeet oelnttnd soanid tnain.t the sorer.eoask  \"I wn shlr,\".  \"e said, \"Ion't wanky, Ior,  said Har\n",
            "\n",
            "\n",
            "Input\trossed the outer cave, and Harry helped Dumbledore back into the icy seawater that filled the crevic\n",
            "GT\tossed the outer cave, and Harry helped Dumbledore back into the icy seawater that filled the crevice\n",
            "pred\tessed toe snt r oore  and sarry saaded aumbledore aeck onto the cnk otit,yed,toen torled toe sooaene\n",
            "\n",
            "\n",
            "Input\tivering and dripping in the middle of the dark High Street in Hogsmeade. For one horrible moment Har\n",
            "GT\tvering and dripping in the middle of the dark High Street in Hogsmeade. For one horrible moment Harr\n",
            "pred\tnering and seanpeng hn the sondle of the serk oash anoenn,an tagwmeade  \"or af  oelrible torent,aarr\n",
            "\n",
            "\n",
            "Input\t help, but there was nobody to be seen and all he could think was that he must somehow get Dumbledor\n",
            "GT\thelp, but there was nobody to be seen and all he could think was that he must somehow get Dumbledore\n",
            "pred\ttirp  sut the e was aotody so se aeem tny s l oirwould hoenk yhs aoet te wost aameoow tot tumbledore\n",
            "\n",
            "\n",
            "Input\tto - but what's wrong with Albus?' She came to a halt, panting, and stared down, wide-eyed, at Dumbl\n",
            "GT\to - but what's wrong with Albus?' She came to a halt, panting, and stared down, wide-eyed, at Dumble\n",
            "pred\to s tut that s thong.aath anuus \" sne wone oo b sonf, toiiing  tnd thared aown  ahten\"ded  wn tumble\n",
            "\n",
            "\n",
            "Input\tt there when I put the cat out, but when I got upstairs -' 'We need to return to the castle at once,\n",
            "GT\t there when I put the cat out, but when I got upstairs -' 'We need to return to the castle at once,'\n",
            "pred\t soe e waan I srn ihe ooncaft  iut Ihan I wot tn eairs a  sIhahovd to bemurn to the sontle tn tnce. \n",
            "\n",
            "\n",
            "Input\tg back towards her pub as Harry and Dumble-dore kicked off from the ground and rose up into the air.\n",
            "GT\t back towards her pub as Harry and Dumble-dore kicked off from the ground and rose up into the air. \n",
            "pred\t tack oo ard  te  eanban tarry snd Humbledoore snnked anf toom the cround and sebe tnotnto the cir. \n",
            "\n",
            "\n",
            "\n",
            "Test set: Average loss: 1.3938, Accuracy: 725287/1260000 (58%)\n",
            "\n",
            "generated max\t\t Harry looked at me and said the side of the side. \"I said the only of the common room, who was a long someone was a support of the common room what was a long someone was a sudden back of the common room when the silver of the co\n",
            "generated sample\t Harry looked at me and said Dumbledore. \"Weah, you say who was a good on the way of the told of the foreheaded of the contratched to the corner, he looked in a confused to have anyway. \"No, I should have jone of the good to see w\n",
            "generated sample\t Harry looked at me and said with a school as a slightly side. \"I've got to pare out of the Dark words of them, but the same he was not to the one by the inches and the movening what's he wanted to the one of the trains to be a si\n",
            "generated sample\t Harry looked at me and said all the light of the other side. \"What's headly expected to do it.\" Harry said. \"I don't know what was too long, but he could not looking at the entrance and someone was a long, from the seats, however\n",
            "generated sample\t Harry looked at me and said the Dumbledore all the stairs of the side. \"You don't want to sign to go one.\" \"No, you won't have been to be about to the only window. I want to be a sunce in charming and in the read of the only of t\n",
            "generated sample\t Harry looked at me and said Ron and Hermione said Harry. \"Oh now, I was that the only someone of the formity to hesitated her once and Harry's head, since he was sitting as though he had been to look as though he didn't seemed to\n",
            "generated sample\t Harry looked at me and said an one of the contrance. The said someoned to look at him. \"My don't late the for the seats, he stopped to be and looked as though he was wanted into a someone wing. The looked her for the first that w\n",
            "generated sample\t Harry looked at me and said Ron and Ron stood to the chestrating from the expression of the took of the floor of the chest. \"If I'm not to do it... it's all lined....\" \"In should heard a moment, you seemed to do you know... In th\n",
            "generated sample\t Harry looked at me and said the seive of the contrance of the top of his hand and said, \"looking are not being to do it. I'll have been to come been a little to be a sudden was a good for anymore, who was someone living a long pa\n",
            "generated sample\t Harry looked at me and said the door of the popping like a green later, then slightly as he had always around arms, who seemed to the door wand to his months on the careful of the common room, the bound now behind the forest and \n",
            "generated sample\t Harry looked at me and said to see the moon who was all all of the seir of the silver back of his baggle back on the floor and around the door of the stairs.\" \"You lare, too, Ron's anyway,\" said Moody. \"He wanted to see to be par\n"
          ],
          "name": "stdout"
        },
        {
          "output_type": "stream",
          "text": [
            "\r  0%|          | 0/195 [00:00<?, ?it/s]"
          ],
          "name": "stderr"
        },
        {
          "output_type": "stream",
          "text": [
            "generated beam\t\t Harry looked at me and said Harry, who looked as though he couldn't seemed to look at him. Harry couldn't seemed to have been anyway...\" Harry said Harry, who looked as though he couldn't seemed to have been into the common room\n",
            "\n"
          ],
          "name": "stdout"
        },
        {
          "output_type": "stream",
          "text": [
            "  1%|          | 2/195 [00:00<00:38,  5.00it/s]"
          ],
          "name": "stderr"
        },
        {
          "output_type": "stream",
          "text": [
            "Train Epoch: 25 [0/49920 (0%)]\tLoss: 1.390754\n"
          ],
          "name": "stdout"
        },
        {
          "output_type": "stream",
          "text": [
            "  6%|▌         | 12/195 [00:01<00:26,  7.01it/s]"
          ],
          "name": "stderr"
        },
        {
          "output_type": "stream",
          "text": [
            "Train Epoch: 25 [2560/49920 (5%)]\tLoss: 1.369386\n"
          ],
          "name": "stdout"
        },
        {
          "output_type": "stream",
          "text": [
            " 11%|█▏        | 22/195 [00:03<00:24,  7.15it/s]"
          ],
          "name": "stderr"
        },
        {
          "output_type": "stream",
          "text": [
            "Train Epoch: 25 [5120/49920 (10%)]\tLoss: 1.374602\n"
          ],
          "name": "stdout"
        },
        {
          "output_type": "stream",
          "text": [
            " 16%|█▋        | 32/195 [00:04<00:23,  7.02it/s]"
          ],
          "name": "stderr"
        },
        {
          "output_type": "stream",
          "text": [
            "Train Epoch: 25 [7680/49920 (15%)]\tLoss: 1.410153\n"
          ],
          "name": "stdout"
        },
        {
          "output_type": "stream",
          "text": [
            " 22%|██▏       | 42/195 [00:05<00:21,  7.01it/s]"
          ],
          "name": "stderr"
        },
        {
          "output_type": "stream",
          "text": [
            "Train Epoch: 25 [10240/49920 (21%)]\tLoss: 1.419792\n"
          ],
          "name": "stdout"
        },
        {
          "output_type": "stream",
          "text": [
            " 27%|██▋       | 52/195 [00:07<00:20,  7.13it/s]"
          ],
          "name": "stderr"
        },
        {
          "output_type": "stream",
          "text": [
            "Train Epoch: 25 [12800/49920 (26%)]\tLoss: 1.387298\n"
          ],
          "name": "stdout"
        },
        {
          "output_type": "stream",
          "text": [
            " 32%|███▏      | 62/195 [00:08<00:18,  7.21it/s]"
          ],
          "name": "stderr"
        },
        {
          "output_type": "stream",
          "text": [
            "Train Epoch: 25 [15360/49920 (31%)]\tLoss: 1.370203\n"
          ],
          "name": "stdout"
        },
        {
          "output_type": "stream",
          "text": [
            " 37%|███▋      | 72/195 [00:10<00:17,  7.20it/s]"
          ],
          "name": "stderr"
        },
        {
          "output_type": "stream",
          "text": [
            "Train Epoch: 25 [17920/49920 (36%)]\tLoss: 1.358555\n"
          ],
          "name": "stdout"
        },
        {
          "output_type": "stream",
          "text": [
            " 42%|████▏     | 82/195 [00:11<00:15,  7.16it/s]"
          ],
          "name": "stderr"
        },
        {
          "output_type": "stream",
          "text": [
            "Train Epoch: 25 [20480/49920 (41%)]\tLoss: 1.352291\n"
          ],
          "name": "stdout"
        },
        {
          "output_type": "stream",
          "text": [
            " 47%|████▋     | 92/195 [00:12<00:14,  7.04it/s]"
          ],
          "name": "stderr"
        },
        {
          "output_type": "stream",
          "text": [
            "Train Epoch: 25 [23040/49920 (46%)]\tLoss: 1.369336\n"
          ],
          "name": "stdout"
        },
        {
          "output_type": "stream",
          "text": [
            " 52%|█████▏    | 102/195 [00:14<00:13,  7.08it/s]"
          ],
          "name": "stderr"
        },
        {
          "output_type": "stream",
          "text": [
            "Train Epoch: 25 [25600/49920 (51%)]\tLoss: 1.408272\n"
          ],
          "name": "stdout"
        },
        {
          "output_type": "stream",
          "text": [
            " 57%|█████▋    | 112/195 [00:15<00:11,  7.02it/s]"
          ],
          "name": "stderr"
        },
        {
          "output_type": "stream",
          "text": [
            "Train Epoch: 25 [28160/49920 (56%)]\tLoss: 1.368975\n"
          ],
          "name": "stdout"
        },
        {
          "output_type": "stream",
          "text": [
            " 63%|██████▎   | 122/195 [00:17<00:10,  7.06it/s]"
          ],
          "name": "stderr"
        },
        {
          "output_type": "stream",
          "text": [
            "Train Epoch: 25 [30720/49920 (62%)]\tLoss: 1.366383\n"
          ],
          "name": "stdout"
        },
        {
          "output_type": "stream",
          "text": [
            " 68%|██████▊   | 132/195 [00:18<00:08,  7.09it/s]"
          ],
          "name": "stderr"
        },
        {
          "output_type": "stream",
          "text": [
            "Train Epoch: 25 [33280/49920 (67%)]\tLoss: 1.488089\n"
          ],
          "name": "stdout"
        },
        {
          "output_type": "stream",
          "text": [
            " 73%|███████▎  | 142/195 [00:20<00:07,  7.07it/s]"
          ],
          "name": "stderr"
        },
        {
          "output_type": "stream",
          "text": [
            "Train Epoch: 25 [35840/49920 (72%)]\tLoss: 1.444422\n"
          ],
          "name": "stdout"
        },
        {
          "output_type": "stream",
          "text": [
            " 78%|███████▊  | 152/195 [00:21<00:05,  7.21it/s]"
          ],
          "name": "stderr"
        },
        {
          "output_type": "stream",
          "text": [
            "Train Epoch: 25 [38400/49920 (77%)]\tLoss: 1.380140\n"
          ],
          "name": "stdout"
        },
        {
          "output_type": "stream",
          "text": [
            " 83%|████████▎ | 162/195 [00:22<00:04,  7.20it/s]"
          ],
          "name": "stderr"
        },
        {
          "output_type": "stream",
          "text": [
            "Train Epoch: 25 [40960/49920 (82%)]\tLoss: 1.362733\n"
          ],
          "name": "stdout"
        },
        {
          "output_type": "stream",
          "text": [
            " 88%|████████▊ | 172/195 [00:24<00:03,  7.18it/s]"
          ],
          "name": "stderr"
        },
        {
          "output_type": "stream",
          "text": [
            "Train Epoch: 25 [43520/49920 (87%)]\tLoss: 1.341994\n"
          ],
          "name": "stdout"
        },
        {
          "output_type": "stream",
          "text": [
            " 93%|█████████▎| 182/195 [00:25<00:01,  7.20it/s]"
          ],
          "name": "stderr"
        },
        {
          "output_type": "stream",
          "text": [
            "Train Epoch: 25 [46080/49920 (92%)]\tLoss: 1.350178\n"
          ],
          "name": "stdout"
        },
        {
          "output_type": "stream",
          "text": [
            " 98%|█████████▊| 192/195 [00:26<00:00,  7.19it/s]"
          ],
          "name": "stderr"
        },
        {
          "output_type": "stream",
          "text": [
            "Train Epoch: 25 [48640/49920 (97%)]\tLoss: 1.378408\n"
          ],
          "name": "stdout"
        },
        {
          "output_type": "stream",
          "text": [
            "100%|██████████| 195/195 [00:27<00:00,  7.13it/s]\n"
          ],
          "name": "stderr"
        },
        {
          "output_type": "stream",
          "text": [
            "Input\ta great sigh and leaned against the cavern wall. \"I am weak...\" he said. \"Don't worry, sir,\" said Ha\n",
            "GT\t great sigh and leaned against the cavern wall. \"I am weak...\" he said. \"Don't worry, sir,\" said Har\n",
            "pred\tnsreet selntand soanid tnain.t the sose .ioisl  \"I sn shlri\".  \"e said  \"Ion't wanky, Ior,  said Har\n",
            "\n",
            "\n",
            "Input\trossed the outer cave, and Harry helped Dumbledore back into the icy seawater that filled the crevic\n",
            "GT\tossed the outer cave, and Harry helped Dumbledore back into the icy seawater that filled the crevice\n",
            "pred\tessed the snt r ohre  and sarry saaded aumbledore aeck on o the snk ohit,yer,ahet torl d ohe sooaene\n",
            "\n",
            "\n",
            "Input\tivering and dripping in the middle of the dark High Street in Hogsmeade. For one horrible moment Har\n",
            "GT\tvering and dripping in the middle of the dark High Street in Hogsmeade. For one horrible moment Harr\n",
            "pred\tnering and seanpeng hn the sondle of the serk oash anuenn,an tagwmeade  \"or af  oelriele sorent,aarr\n",
            "\n",
            "\n",
            "Input\t help, but there was nobody to be seen and all he could think was that he must somehow get Dumbledor\n",
            "GT\thelp, but there was nobody to be seen and all he could think was that he must somehow get Dumbledore\n",
            "pred\tairp  sut hhe e was aotody so se aeen a y s l oe would hhenk hhs ahet te wost aeme ow het iumbledore\n",
            "\n",
            "\n",
            "Input\tto - but what's wrong with Albus?' She came to a halt, panting, and stared down, wide-eyed, at Dumbl\n",
            "GT\to - but what's wrong with Albus?' She came to a halt, panting, and stared down, wide-eyed, at Dumble\n",
            "pred\th s aet hhat s hhing.ahth anuus \" sne wane oo b lonf, teiiing  and thirtd aown  ahte \"ded  wn tumble\n",
            "\n",
            "\n",
            "Input\tt there when I put the cat out, but when I got upstairs -' 'We need to return to the castle at once,\n",
            "GT\t there when I put the cat out, but when I got upstairs -' 'We need to return to the castle at once,'\n",
            "pred\t she e waan I srt ihe ooncaft  iut Ihan I set tn eairs a  sIh hevd to bemurn to she sostle an tnce  \n",
            "\n",
            "\n",
            "Input\tg back towards her pub as Harry and Dumble-dore kicked off from the ground and rose up into the air.\n",
            "GT\t back towards her pub as Harry and Dumble-dore kicked off from the ground and rose up into the air. \n",
            "pred\t teck oo ard  te  ealban harry snd Humbledoore snnked inf aoom the sround and sebe tn an o the sir. \n",
            "\n",
            "\n",
            "\n",
            "Test set: Average loss: 1.3869, Accuracy: 730217/1260000 (58%)\n",
            "\n",
            "Saved /gdrive/My Drive/colab_files/homework3/checkpoints/025.pt\n",
            "\n",
            "generated max\t\t Harry looked at me and said the silence of the side of the side of the side of the side of the side of the side of the side of the side of the side of the side of the side of the side of the side of the side of the side of the si\n",
            "generated sample\t Harry looked at me and said Bumbledore contingers bedsigning, \" she was a slightly for a long, but it's a sniffer excepted and the Death Eater and extremed to leave the beside the decident. It was an and someone so mean, why he h\n",
            "generated sample\t Harry looked at me and said a six of she knees and she was been her back white his outside and slightly behind lightly. \"I'll be in the Professor Snape,\" said Hagrid the moment. \"You want to come and the for a moment, I she was g\n",
            "generated sample\t Harry looked at me and said that the case windows. He had forced the desperate on the street. Harry stood up and she was all sitting a word like and staring at him. \"I want to do you will be told me anywhere and with a school of \n",
            "generated sample\t Harry looked at me and said in his beard and the light pink. \"What's a You say, I'm going to the hospital coming, and was a slight of a breath of the dementors were not to bed in a sitting and all as the portrait of a long from b\n",
            "generated sample\t Harry looked at me and said back on the side of the room, and still seing, she wasn't the pening the baggen and mean, still and cared and she was all all the room to see the power he could see he had to do the companing and some \n",
            "generated sample\t Harry looked at me and said green and his hand seinged the cold of the dark beneath he had been and she said to see the door. \"Who said Harry, she was only for Ron, who was all arm anywhere else of your nearer than in myself, I d\n",
            "generated sample\t Harry looked at me and said so that she was still and smiled the classer, he was side, and the seive the seat of the crowd and secreted the sign of her back to leave your of the common room with a good believe a silently on a sil\n",
            "generated sample\t Harry looked at me and said in a behind her beard with a back of the crossed to ask the only seir of light before the deserted in a large, in the back of his she was all and like a long behind of the chair seized in her hand as t\n",
            "generated sample\t Harry looked at me and said Harry, who was not pointed the parchment, the cold of his face and started and still stretting his face and staring around and seven to him when he head to be sure plate and from the blanded with the b\n",
            "generated sample\t Harry looked at me and said not having a boy of his back of his wand and suddenly sitting all with a sudden behind the back of his feet. He thought he was all right, and the other repeated to see anyone would have heard to be all\n"
          ],
          "name": "stdout"
        },
        {
          "output_type": "stream",
          "text": [
            "\r  0%|          | 0/195 [00:00<?, ?it/s]"
          ],
          "name": "stderr"
        },
        {
          "output_type": "stream",
          "text": [
            "generated beam\t\t Harry looked at me and said Professor McGonagall, and Hermione wasn't seemed to have been a long, but he wasn't been anywhere in front of the other side of the end of the back of the common room when he wasn't been anywhere the \n",
            "\n"
          ],
          "name": "stdout"
        },
        {
          "output_type": "stream",
          "text": [
            "  1%|          | 2/195 [00:00<00:38,  5.02it/s]"
          ],
          "name": "stderr"
        },
        {
          "output_type": "stream",
          "text": [
            "Train Epoch: 26 [0/49920 (0%)]\tLoss: 1.389973\n"
          ],
          "name": "stdout"
        },
        {
          "output_type": "stream",
          "text": [
            "  6%|▌         | 12/195 [00:01<00:26,  7.03it/s]"
          ],
          "name": "stderr"
        },
        {
          "output_type": "stream",
          "text": [
            "Train Epoch: 26 [2560/49920 (5%)]\tLoss: 1.368090\n"
          ],
          "name": "stdout"
        },
        {
          "output_type": "stream",
          "text": [
            " 11%|█▏        | 22/195 [00:03<00:24,  7.11it/s]"
          ],
          "name": "stderr"
        },
        {
          "output_type": "stream",
          "text": [
            "Train Epoch: 26 [5120/49920 (10%)]\tLoss: 1.364041\n"
          ],
          "name": "stdout"
        },
        {
          "output_type": "stream",
          "text": [
            " 16%|█▋        | 32/195 [00:04<00:23,  7.08it/s]"
          ],
          "name": "stderr"
        },
        {
          "output_type": "stream",
          "text": [
            "Train Epoch: 26 [7680/49920 (15%)]\tLoss: 1.402466\n"
          ],
          "name": "stdout"
        },
        {
          "output_type": "stream",
          "text": [
            " 22%|██▏       | 42/195 [00:05<00:21,  7.19it/s]"
          ],
          "name": "stderr"
        },
        {
          "output_type": "stream",
          "text": [
            "Train Epoch: 26 [10240/49920 (21%)]\tLoss: 1.378514\n"
          ],
          "name": "stdout"
        },
        {
          "output_type": "stream",
          "text": [
            " 27%|██▋       | 52/195 [00:07<00:20,  7.14it/s]"
          ],
          "name": "stderr"
        },
        {
          "output_type": "stream",
          "text": [
            "Train Epoch: 26 [12800/49920 (26%)]\tLoss: 1.411320\n"
          ],
          "name": "stdout"
        },
        {
          "output_type": "stream",
          "text": [
            " 32%|███▏      | 62/195 [00:08<00:18,  7.18it/s]"
          ],
          "name": "stderr"
        },
        {
          "output_type": "stream",
          "text": [
            "Train Epoch: 26 [15360/49920 (31%)]\tLoss: 1.408703\n"
          ],
          "name": "stdout"
        },
        {
          "output_type": "stream",
          "text": [
            " 37%|███▋      | 72/195 [00:10<00:17,  7.18it/s]"
          ],
          "name": "stderr"
        },
        {
          "output_type": "stream",
          "text": [
            "Train Epoch: 26 [17920/49920 (36%)]\tLoss: 1.363950\n"
          ],
          "name": "stdout"
        },
        {
          "output_type": "stream",
          "text": [
            " 42%|████▏     | 82/195 [00:11<00:16,  6.95it/s]"
          ],
          "name": "stderr"
        },
        {
          "output_type": "stream",
          "text": [
            "Train Epoch: 26 [20480/49920 (41%)]\tLoss: 1.341543\n"
          ],
          "name": "stdout"
        },
        {
          "output_type": "stream",
          "text": [
            " 47%|████▋     | 92/195 [00:13<00:14,  7.02it/s]"
          ],
          "name": "stderr"
        },
        {
          "output_type": "stream",
          "text": [
            "Train Epoch: 26 [23040/49920 (46%)]\tLoss: 1.357979\n"
          ],
          "name": "stdout"
        },
        {
          "output_type": "stream",
          "text": [
            " 52%|█████▏    | 102/195 [00:14<00:13,  6.99it/s]"
          ],
          "name": "stderr"
        },
        {
          "output_type": "stream",
          "text": [
            "Train Epoch: 26 [25600/49920 (51%)]\tLoss: 1.410454\n"
          ],
          "name": "stdout"
        },
        {
          "output_type": "stream",
          "text": [
            " 57%|█████▋    | 112/195 [00:15<00:11,  7.03it/s]"
          ],
          "name": "stderr"
        },
        {
          "output_type": "stream",
          "text": [
            "Train Epoch: 26 [28160/49920 (56%)]\tLoss: 1.378904\n"
          ],
          "name": "stdout"
        },
        {
          "output_type": "stream",
          "text": [
            " 63%|██████▎   | 122/195 [00:17<00:10,  7.13it/s]"
          ],
          "name": "stderr"
        },
        {
          "output_type": "stream",
          "text": [
            "Train Epoch: 26 [30720/49920 (62%)]\tLoss: 1.385091\n"
          ],
          "name": "stdout"
        },
        {
          "output_type": "stream",
          "text": [
            " 68%|██████▊   | 132/195 [00:18<00:08,  7.08it/s]"
          ],
          "name": "stderr"
        },
        {
          "output_type": "stream",
          "text": [
            "Train Epoch: 26 [33280/49920 (67%)]\tLoss: 1.378001\n"
          ],
          "name": "stdout"
        },
        {
          "output_type": "stream",
          "text": [
            " 73%|███████▎  | 142/195 [00:20<00:07,  7.02it/s]"
          ],
          "name": "stderr"
        },
        {
          "output_type": "stream",
          "text": [
            "Train Epoch: 26 [35840/49920 (72%)]\tLoss: 1.385021\n"
          ],
          "name": "stdout"
        },
        {
          "output_type": "stream",
          "text": [
            " 78%|███████▊  | 152/195 [00:21<00:06,  7.08it/s]"
          ],
          "name": "stderr"
        },
        {
          "output_type": "stream",
          "text": [
            "Train Epoch: 26 [38400/49920 (77%)]\tLoss: 1.375053\n"
          ],
          "name": "stdout"
        },
        {
          "output_type": "stream",
          "text": [
            " 83%|████████▎ | 162/195 [00:22<00:04,  7.09it/s]"
          ],
          "name": "stderr"
        },
        {
          "output_type": "stream",
          "text": [
            "Train Epoch: 26 [40960/49920 (82%)]\tLoss: 1.354824\n"
          ],
          "name": "stdout"
        },
        {
          "output_type": "stream",
          "text": [
            " 88%|████████▊ | 172/195 [00:24<00:03,  7.04it/s]"
          ],
          "name": "stderr"
        },
        {
          "output_type": "stream",
          "text": [
            "Train Epoch: 26 [43520/49920 (87%)]\tLoss: 1.338385\n"
          ],
          "name": "stdout"
        },
        {
          "output_type": "stream",
          "text": [
            " 93%|█████████▎| 182/195 [00:25<00:01,  7.09it/s]"
          ],
          "name": "stderr"
        },
        {
          "output_type": "stream",
          "text": [
            "Train Epoch: 26 [46080/49920 (92%)]\tLoss: 1.364824\n"
          ],
          "name": "stdout"
        },
        {
          "output_type": "stream",
          "text": [
            " 98%|█████████▊| 192/195 [00:27<00:00,  7.04it/s]"
          ],
          "name": "stderr"
        },
        {
          "output_type": "stream",
          "text": [
            "Train Epoch: 26 [48640/49920 (97%)]\tLoss: 1.376300\n"
          ],
          "name": "stdout"
        },
        {
          "output_type": "stream",
          "text": [
            "100%|██████████| 195/195 [00:27<00:00,  7.07it/s]\n"
          ],
          "name": "stderr"
        },
        {
          "output_type": "stream",
          "text": [
            "Input\ta great sigh and leaned against the cavern wall. \"I am weak...\" he said. \"Don't worry, sir,\" said Ha\n",
            "GT\t great sigh and leaned against the cavern wall. \"I am weak...\" he said. \"Don't worry, sir,\" said Har\n",
            "pred\tnsoeet silntond sotnid inainst the sose  ioisl  \"I sn shlry\".  \"e said, \"Iun't wanky, Ior,  said Har\n",
            "\n",
            "\n",
            "Input\trossed the outer cave, and Harry helped Dumbledore back into the icy seawater that filled the crevic\n",
            "GT\tossed the outer cave, and Harry helped Dumbledore back into the icy seawater that filled the crevice\n",
            "pred\tessed the snt r ohne  bnd sarry saaded humbledore weck on o hhe snk ohir,yed,ohet horl d hhe soeeene\n",
            "\n",
            "\n",
            "Input\tivering and dripping in the middle of the dark High Street in Hogsmeade. For one horrible moment Har\n",
            "GT\tvering and dripping in the middle of the dark High Street in Hogsmeade. For one horrible moment Harr\n",
            "pred\tniring hnd seenpeng hn hhe sindle of hhe serk bash wnuenn on hagwmeade  \"ir wfe oelrible sorent harr\n",
            "\n",
            "\n",
            "Input\t help, but there was nobody to be seen and all he could think was that he must somehow get Dumbledor\n",
            "GT\thelp, but there was nobody to be seen and all he could think was that he must somehow get Dumbledore\n",
            "pred\tyirp  sut hhe e was aotody so be seen ind s l ri would hhink hhs ahet ie wist heme ow hot iumbledore\n",
            "\n",
            "\n",
            "Input\tto - but what's wrong with Albus?' She came to a halt, panting, and stared down, wide-eyed, at Dumbl\n",
            "GT\to - but what's wrong with Albus?' She came to a halt, panting, and stared down, wide-eyed, at Dumble\n",
            "pred\th b sut hhet s hhing whlh ynuus \" sne wone oo bnlolf, buiiing  snd shired aown  shten\"d,d  wn humble\n",
            "\n",
            "\n",
            "Input\tt there when I put the cat out, but when I got upstairs -' 'We need to return to the castle at once,\n",
            "GT\t there when I put the cat out, but when I got upstairs -' 'We need to return to the castle at once,'\n",
            "pred\t bhe e ween I srn ihe ooncoft  iut Ihen I sot in eiirs a  sIh hevd to bemurn io bhe fosele on tnce  \n",
            "\n",
            "\n",
            "Input\tg back towards her pub as Harry and Dumble-dore kicked off from the ground and rose up into the air.\n",
            "GT\t back towards her pub as Harry and Dumble-dore kicked off from the ground and rose up into the air. \n",
            "pred\t heck oo ard  hi  fllbhn harry snd Humbledoore wnnked inf hoom hhe sreund ond sele hn an o hhe sir. \n",
            "\n",
            "\n",
            "\n",
            "Test set: Average loss: 1.4487, Accuracy: 713209/1260000 (57%)\n",
            "\n",
            "generated max\t\t Harry looked at me and said in his feet and she was shining his head of his head of his head of his head of his head of his head of his head of his head of his head of his head of his head of his head of his head of his head of h\n",
            "generated sample\t Harry looked at me and said him. \"Miss is changes, when I she was not more much your find out what he had seen in the lessons, now, I still be pleased signs like your going will be all remind them... The seconds menal him not her\n",
            "generated sample\t Harry looked at me and said his eyes. Harry was seen the window he was such and looking down his shoulder. Harry still seen his broom. \"When's old my can from your There was someone when deservended in the sign of Magic will not \n",
            "generated sample\t Harry looked at me and said looking back of his place wildly before his hand looked around and like brings he shouldered up and so long when he was when while work on him. \"I she what's like you will have in Snape had never seen \n",
            "generated sample\t Harry looked at me and said Mr. Weasley, which was not like a him. He should have been his feet anywhere he would him hand on him. The sense of the comming snored down where when he was so pointed in his face and sideways instruc\n",
            "generated sample\t Harry looked at me and said as he should have been saying. \"I should you got in from you're will be inside his head ground, which you see him by silence whey'll be enough to be in my some of the front do winning what you wand in \n",
            "generated sample\t Harry looked at me and said Dumbledore windows he was now seemed to his much of cheep. \"You would have him.\" \"Get you have been what he had been enough to get him. I don't have been anywhere see you wouldn't been -his head when H\n",
            "generated sample\t Harry looked at me and said your puing sure his head so find lightly with his wand with his heading, now he had been sure your breath.\" Hermione wasn't getting in her head. \"The wands on the signg be what I don't see I well, he h\n",
            "generated sample\t Harry looked at me and said down in her light behind her began seided on his blue egg deeply in the feet of the completely explaining his voice seemed to his like more clipboard bell chome and his black of his feet and she was be\n",
            "generated sample\t Harry looked at me and said Ron, \"I want to see in the only of the office where he was not to stunned in the confuning of I was windows and silver him by what he will be like which someone went you out of the windows. He was shin\n",
            "generated sample\t Harry looked at me and said Professor McGonagall Che stone swimply before his head snightly blung him from her cheered and slightly behind in the only windows holding in the end of his flash of the best of the end of his head ben\n"
          ],
          "name": "stdout"
        },
        {
          "output_type": "stream",
          "text": [
            "\r  0%|          | 0/195 [00:00<?, ?it/s]"
          ],
          "name": "stderr"
        },
        {
          "output_type": "stream",
          "text": [
            "generated beam\t\t Harry looked at me and said Hermione, which he hadn't seen himself when he hadn't seen himself in his wand, but he wouldn't have been what he wouldn't have been what he hadn't been anywhere you're going to get in the only of the\n",
            "\n"
          ],
          "name": "stdout"
        },
        {
          "output_type": "stream",
          "text": [
            "  1%|          | 2/195 [00:00<00:37,  5.21it/s]"
          ],
          "name": "stderr"
        },
        {
          "output_type": "stream",
          "text": [
            "Train Epoch: 27 [0/49920 (0%)]\tLoss: 1.450931\n"
          ],
          "name": "stdout"
        },
        {
          "output_type": "stream",
          "text": [
            "  6%|▌         | 12/195 [00:01<00:26,  7.03it/s]"
          ],
          "name": "stderr"
        },
        {
          "output_type": "stream",
          "text": [
            "Train Epoch: 27 [2560/49920 (5%)]\tLoss: 1.424157\n"
          ],
          "name": "stdout"
        },
        {
          "output_type": "stream",
          "text": [
            " 11%|█▏        | 22/195 [00:03<00:24,  7.13it/s]"
          ],
          "name": "stderr"
        },
        {
          "output_type": "stream",
          "text": [
            "Train Epoch: 27 [5120/49920 (10%)]\tLoss: 1.369939\n"
          ],
          "name": "stdout"
        },
        {
          "output_type": "stream",
          "text": [
            " 16%|█▋        | 32/195 [00:04<00:22,  7.13it/s]"
          ],
          "name": "stderr"
        },
        {
          "output_type": "stream",
          "text": [
            "Train Epoch: 27 [7680/49920 (15%)]\tLoss: 1.377692\n"
          ],
          "name": "stdout"
        },
        {
          "output_type": "stream",
          "text": [
            " 22%|██▏       | 42/195 [00:05<00:21,  7.10it/s]"
          ],
          "name": "stderr"
        },
        {
          "output_type": "stream",
          "text": [
            "Train Epoch: 27 [10240/49920 (21%)]\tLoss: 1.412500\n"
          ],
          "name": "stdout"
        },
        {
          "output_type": "stream",
          "text": [
            " 27%|██▋       | 52/195 [00:07<00:20,  7.09it/s]"
          ],
          "name": "stderr"
        },
        {
          "output_type": "stream",
          "text": [
            "Train Epoch: 27 [12800/49920 (26%)]\tLoss: 1.350288\n"
          ],
          "name": "stdout"
        },
        {
          "output_type": "stream",
          "text": [
            " 32%|███▏      | 62/195 [00:08<00:18,  7.03it/s]"
          ],
          "name": "stderr"
        },
        {
          "output_type": "stream",
          "text": [
            "Train Epoch: 27 [15360/49920 (31%)]\tLoss: 1.358297\n"
          ],
          "name": "stdout"
        },
        {
          "output_type": "stream",
          "text": [
            " 37%|███▋      | 72/195 [00:10<00:17,  7.13it/s]"
          ],
          "name": "stderr"
        },
        {
          "output_type": "stream",
          "text": [
            "Train Epoch: 27 [17920/49920 (36%)]\tLoss: 1.354086\n"
          ],
          "name": "stdout"
        },
        {
          "output_type": "stream",
          "text": [
            " 42%|████▏     | 82/195 [00:11<00:16,  6.98it/s]"
          ],
          "name": "stderr"
        },
        {
          "output_type": "stream",
          "text": [
            "Train Epoch: 27 [20480/49920 (41%)]\tLoss: 1.351656\n"
          ],
          "name": "stdout"
        },
        {
          "output_type": "stream",
          "text": [
            " 47%|████▋     | 92/195 [00:13<00:14,  7.06it/s]"
          ],
          "name": "stderr"
        },
        {
          "output_type": "stream",
          "text": [
            "Train Epoch: 27 [23040/49920 (46%)]\tLoss: 1.360561\n"
          ],
          "name": "stdout"
        },
        {
          "output_type": "stream",
          "text": [
            " 52%|█████▏    | 102/195 [00:14<00:13,  6.99it/s]"
          ],
          "name": "stderr"
        },
        {
          "output_type": "stream",
          "text": [
            "Train Epoch: 27 [25600/49920 (51%)]\tLoss: 1.385130\n"
          ],
          "name": "stdout"
        },
        {
          "output_type": "stream",
          "text": [
            " 57%|█████▋    | 112/195 [00:15<00:12,  6.91it/s]"
          ],
          "name": "stderr"
        },
        {
          "output_type": "stream",
          "text": [
            "Train Epoch: 27 [28160/49920 (56%)]\tLoss: 1.384905\n"
          ],
          "name": "stdout"
        },
        {
          "output_type": "stream",
          "text": [
            " 63%|██████▎   | 122/195 [00:17<00:10,  7.03it/s]"
          ],
          "name": "stderr"
        },
        {
          "output_type": "stream",
          "text": [
            "Train Epoch: 27 [30720/49920 (62%)]\tLoss: 1.629035\n"
          ],
          "name": "stdout"
        },
        {
          "output_type": "stream",
          "text": [
            " 68%|██████▊   | 132/195 [00:18<00:09,  6.93it/s]"
          ],
          "name": "stderr"
        },
        {
          "output_type": "stream",
          "text": [
            "Train Epoch: 27 [33280/49920 (67%)]\tLoss: 1.468104\n"
          ],
          "name": "stdout"
        },
        {
          "output_type": "stream",
          "text": [
            " 73%|███████▎  | 142/195 [00:20<00:07,  7.11it/s]"
          ],
          "name": "stderr"
        },
        {
          "output_type": "stream",
          "text": [
            "Train Epoch: 27 [35840/49920 (72%)]\tLoss: 1.404499\n"
          ],
          "name": "stdout"
        },
        {
          "output_type": "stream",
          "text": [
            " 78%|███████▊  | 152/195 [00:21<00:06,  7.12it/s]"
          ],
          "name": "stderr"
        },
        {
          "output_type": "stream",
          "text": [
            "Train Epoch: 27 [38400/49920 (77%)]\tLoss: 1.367315\n"
          ],
          "name": "stdout"
        },
        {
          "output_type": "stream",
          "text": [
            " 83%|████████▎ | 162/195 [00:22<00:04,  7.16it/s]"
          ],
          "name": "stderr"
        },
        {
          "output_type": "stream",
          "text": [
            "Train Epoch: 27 [40960/49920 (82%)]\tLoss: 1.381625\n"
          ],
          "name": "stdout"
        },
        {
          "output_type": "stream",
          "text": [
            " 88%|████████▊ | 172/195 [00:24<00:03,  7.07it/s]"
          ],
          "name": "stderr"
        },
        {
          "output_type": "stream",
          "text": [
            "Train Epoch: 27 [43520/49920 (87%)]\tLoss: 1.346055\n"
          ],
          "name": "stdout"
        },
        {
          "output_type": "stream",
          "text": [
            " 93%|█████████▎| 182/195 [00:25<00:01,  6.94it/s]"
          ],
          "name": "stderr"
        },
        {
          "output_type": "stream",
          "text": [
            "Train Epoch: 27 [46080/49920 (92%)]\tLoss: 1.340156\n"
          ],
          "name": "stdout"
        },
        {
          "output_type": "stream",
          "text": [
            " 98%|█████████▊| 192/195 [00:27<00:00,  7.03it/s]"
          ],
          "name": "stderr"
        },
        {
          "output_type": "stream",
          "text": [
            "Train Epoch: 27 [48640/49920 (97%)]\tLoss: 1.352813\n"
          ],
          "name": "stdout"
        },
        {
          "output_type": "stream",
          "text": [
            "100%|██████████| 195/195 [00:27<00:00,  7.06it/s]\n"
          ],
          "name": "stderr"
        },
        {
          "output_type": "stream",
          "text": [
            "Input\ta great sigh and leaned against the cavern wall. \"I am weak...\" he said. \"Don't worry, sir,\" said Ha\n",
            "GT\t great sigh and leaned against the cavern wall. \"I am weak...\" he said. \"Don't worry, sir,\" said Har\n",
            "pred\tnsoeet silnttnd soanid tnain.t the sore iioisk  \"I wl shlr,\".  \"e said, \"Ion't wanky, Ior,  said Har\n",
            "\n",
            "\n",
            "Input\trossed the outer cave, and Harry helped Dumbledore back into the icy seawater that filled the crevic\n",
            "GT\tossed the outer cave, and Harry helped Dumbledore back into the icy seawater that filled the crevice\n",
            "pred\tessed the stt r ohre  tnd tarry saaded tumbledore weck onto the snk otiteyed,toet torl d toe sooaene\n",
            "\n",
            "\n",
            "Input\tivering and dripping in the middle of the dark High Street in Hogsmeade. For one horrible moment Har\n",
            "GT\tvering and dripping in the middle of the dark High Street in Hogsmeade. For one horrible moment Harr\n",
            "pred\tniring and seanpeng hn the soddle of the serk wash anuenn an tagwmeade  \"or afe oalriele torent,tarr\n",
            "\n",
            "\n",
            "Input\t help, but there was nobody to be seen and all he could think was that he must somehow get Dumbledor\n",
            "GT\thelp, but there was nobody to be seen and all he could think was that he must somehow get Dumbledore\n",
            "pred\ttirp  sut the e was aotody so be seem tnd s l tirwould soenk ths ahet te wost aeme ow tot iumbledore\n",
            "\n",
            "\n",
            "Input\tto - but what's wrong with Albus?' She came to a halt, panting, and stared down, wide-eyed, at Dumbl\n",
            "GT\to - but what's wrong with Albus?' She came to a halt, panting, and stared down, wide-eyed, at Dumble\n",
            "pred\th b tut ihat s thing thth tnlus \" sne wone oo tllonf, tuiiing  tnd thired town  thte \"ded  wn tumble\n",
            "\n",
            "\n",
            "Input\tt there when I put the cat out, but when I got upstairs -' 'We need to return to the castle at once,\n",
            "GT\t there when I put the cat out, but when I got upstairs -' 'We need to return to the castle at once,'\n",
            "pred\t toe e waan I srt ihe ooncaft  iut Ihan I wot tn eairs a  sIh hevd to bemurn to the fortle on tnce  \n",
            "\n",
            "\n",
            "Input\tg back towards her pub as Harry and Dumble-dore kicked off from the ground and rose up into the air.\n",
            "GT\t back towards her pub as Harry and Dumble-dore kicked off from the ground and rose up into the air. \n",
            "pred\t teck to ard  te  eanban tarry snd Humbledoore snnked iuf toom the cround and sele tn tn o the sir  \n",
            "\n",
            "\n",
            "\n",
            "Test set: Average loss: 1.3736, Accuracy: 734868/1260000 (58%)\n",
            "\n",
            "Saved /gdrive/My Drive/colab_files/homework3/checkpoints/027.pt\n",
            "\n",
            "generated max\t\t Harry looked at me and said the silence of the side of the side of the side of the side of the side of the side of the side of the side of the side of the side of the side of the side of the side of the side of the side of the si\n",
            "generated sample\t Harry looked at me and said Dumbledore. \"what is in the class of the careful the way of the sign of the chair, which was looking all all all the other. \"I need to do you don't like you out of the fire,\" said Harry, of the silver \n",
            "generated sample\t Harry looked at me and said Budge to his the view of the other stairs. \"The is point in the back, but he dening here and the time in what they were - told you to build the silver to talk and funny with one with the end of the sid\n",
            "generated sample\t Harry looked at me and said quickly. \"What don't you don't you can what was all are of the trans, but they're not see you worry!\" said Mr. Weasley, sniffly, and Ron said, not seing the floor of the stairs right in the side. \"He t\n",
            "generated sample\t Harry looked at me and said uncomffing on the crowd back of the room when he was beating to ask the ford was so desking to the supported to the floor back to the match in the care, they were for the place of the door of the deser\n",
            "generated sample\t Harry looked at me and said paused on the room. \"So want to told to the some of the moment, what was all they were thought it was all of your and time to take you come on the Firel and George and well want to be seen to be silenc\n",
            "generated sample\t Harry looked at me and said Fred and the silver of the can't launded into the cold of the floor of the table with the car of the bade. \"I don't wand to be stopped to be a little to wand after the death anyone explaining your some\n",
            "generated sample\t Harry looked at me and said to his face and the street of the chair of the ceiling more than and the hope of the careful of the caught of the change, they done it was all the tiny told me the arms of not to down the top of the ba\n",
            "generated sample\t Harry looked at me and said into the fire of the smile toward the little panimantly. \"You said to the means, if the changer the closer to talk of the stairs, the compartment of the corridors was a look of the silence when the peo\n",
            "generated sample\t Harry looked at me and said Harry. \"What is in a show of the door, they're going to the top of the ended of the receirdor began to the tround of the careful of the common room in the carder tonight, Harry, they had already to tel\n",
            "generated sample\t Harry looked at me and said his ear, who was sitting as the said from the end of the end of the top of the side of the chop on the other cheered and stretched to the arms and know he was still and back into the other for the back\n"
          ],
          "name": "stdout"
        },
        {
          "output_type": "stream",
          "text": [
            "\r  0%|          | 0/195 [00:00<?, ?it/s]"
          ],
          "name": "stderr"
        },
        {
          "output_type": "stream",
          "text": [
            "generated beam\t\t Harry looked at me and said Ron and Hermione and Hermione and Hermione seemed toward the other side of the other side of the end of the end of the end of the side of the end of the other side of the end of the end of the other s\n",
            "\n"
          ],
          "name": "stdout"
        },
        {
          "output_type": "stream",
          "text": [
            "  1%|          | 2/195 [00:00<00:39,  4.93it/s]"
          ],
          "name": "stderr"
        },
        {
          "output_type": "stream",
          "text": [
            "Train Epoch: 28 [0/49920 (0%)]\tLoss: 1.373660\n"
          ],
          "name": "stdout"
        },
        {
          "output_type": "stream",
          "text": [
            "  6%|▌         | 12/195 [00:01<00:25,  7.05it/s]"
          ],
          "name": "stderr"
        },
        {
          "output_type": "stream",
          "text": [
            "Train Epoch: 28 [2560/49920 (5%)]\tLoss: 1.379371\n"
          ],
          "name": "stdout"
        },
        {
          "output_type": "stream",
          "text": [
            " 11%|█▏        | 22/195 [00:03<00:24,  7.05it/s]"
          ],
          "name": "stderr"
        },
        {
          "output_type": "stream",
          "text": [
            "Train Epoch: 28 [5120/49920 (10%)]\tLoss: 1.361013\n"
          ],
          "name": "stdout"
        },
        {
          "output_type": "stream",
          "text": [
            " 16%|█▋        | 32/195 [00:04<00:22,  7.14it/s]"
          ],
          "name": "stderr"
        },
        {
          "output_type": "stream",
          "text": [
            "Train Epoch: 28 [7680/49920 (15%)]\tLoss: 1.384132\n"
          ],
          "name": "stdout"
        },
        {
          "output_type": "stream",
          "text": [
            " 22%|██▏       | 42/195 [00:06<00:22,  6.93it/s]"
          ],
          "name": "stderr"
        },
        {
          "output_type": "stream",
          "text": [
            "Train Epoch: 28 [10240/49920 (21%)]\tLoss: 1.373597\n"
          ],
          "name": "stdout"
        },
        {
          "output_type": "stream",
          "text": [
            " 27%|██▋       | 52/195 [00:07<00:19,  7.16it/s]"
          ],
          "name": "stderr"
        },
        {
          "output_type": "stream",
          "text": [
            "Train Epoch: 28 [12800/49920 (26%)]\tLoss: 1.349778\n"
          ],
          "name": "stdout"
        },
        {
          "output_type": "stream",
          "text": [
            " 32%|███▏      | 62/195 [00:08<00:18,  7.08it/s]"
          ],
          "name": "stderr"
        },
        {
          "output_type": "stream",
          "text": [
            "Train Epoch: 28 [15360/49920 (31%)]\tLoss: 1.390271\n"
          ],
          "name": "stdout"
        },
        {
          "output_type": "stream",
          "text": [
            " 37%|███▋      | 72/195 [00:10<00:17,  7.15it/s]"
          ],
          "name": "stderr"
        },
        {
          "output_type": "stream",
          "text": [
            "Train Epoch: 28 [17920/49920 (36%)]\tLoss: 1.395585\n"
          ],
          "name": "stdout"
        },
        {
          "output_type": "stream",
          "text": [
            " 42%|████▏     | 82/195 [00:11<00:16,  7.06it/s]"
          ],
          "name": "stderr"
        },
        {
          "output_type": "stream",
          "text": [
            "Train Epoch: 28 [20480/49920 (41%)]\tLoss: 1.392233\n"
          ],
          "name": "stdout"
        },
        {
          "output_type": "stream",
          "text": [
            " 47%|████▋     | 92/195 [00:13<00:14,  7.17it/s]"
          ],
          "name": "stderr"
        },
        {
          "output_type": "stream",
          "text": [
            "Train Epoch: 28 [23040/49920 (46%)]\tLoss: 1.368382\n"
          ],
          "name": "stdout"
        },
        {
          "output_type": "stream",
          "text": [
            " 52%|█████▏    | 102/195 [00:14<00:13,  7.13it/s]"
          ],
          "name": "stderr"
        },
        {
          "output_type": "stream",
          "text": [
            "Train Epoch: 28 [25600/49920 (51%)]\tLoss: 1.357402\n"
          ],
          "name": "stdout"
        },
        {
          "output_type": "stream",
          "text": [
            " 57%|█████▋    | 112/195 [00:15<00:11,  7.05it/s]"
          ],
          "name": "stderr"
        },
        {
          "output_type": "stream",
          "text": [
            "Train Epoch: 28 [28160/49920 (56%)]\tLoss: 1.336973\n"
          ],
          "name": "stdout"
        },
        {
          "output_type": "stream",
          "text": [
            " 63%|██████▎   | 122/195 [00:17<00:10,  6.94it/s]"
          ],
          "name": "stderr"
        },
        {
          "output_type": "stream",
          "text": [
            "Train Epoch: 28 [30720/49920 (62%)]\tLoss: 1.359029\n"
          ],
          "name": "stdout"
        },
        {
          "output_type": "stream",
          "text": [
            " 68%|██████▊   | 132/195 [00:18<00:08,  7.00it/s]"
          ],
          "name": "stderr"
        },
        {
          "output_type": "stream",
          "text": [
            "Train Epoch: 28 [33280/49920 (67%)]\tLoss: 1.397533\n"
          ],
          "name": "stdout"
        },
        {
          "output_type": "stream",
          "text": [
            " 73%|███████▎  | 142/195 [00:20<00:07,  7.07it/s]"
          ],
          "name": "stderr"
        },
        {
          "output_type": "stream",
          "text": [
            "Train Epoch: 28 [35840/49920 (72%)]\tLoss: 1.379834\n"
          ],
          "name": "stdout"
        },
        {
          "output_type": "stream",
          "text": [
            " 78%|███████▊  | 152/195 [00:21<00:06,  7.12it/s]"
          ],
          "name": "stderr"
        },
        {
          "output_type": "stream",
          "text": [
            "Train Epoch: 28 [38400/49920 (77%)]\tLoss: 1.361636\n"
          ],
          "name": "stdout"
        },
        {
          "output_type": "stream",
          "text": [
            " 83%|████████▎ | 162/195 [00:22<00:04,  6.98it/s]"
          ],
          "name": "stderr"
        },
        {
          "output_type": "stream",
          "text": [
            "Train Epoch: 28 [40960/49920 (82%)]\tLoss: 1.350094\n"
          ],
          "name": "stdout"
        },
        {
          "output_type": "stream",
          "text": [
            " 88%|████████▊ | 172/195 [00:24<00:03,  7.04it/s]"
          ],
          "name": "stderr"
        },
        {
          "output_type": "stream",
          "text": [
            "Train Epoch: 28 [43520/49920 (87%)]\tLoss: 1.336576\n"
          ],
          "name": "stdout"
        },
        {
          "output_type": "stream",
          "text": [
            " 93%|█████████▎| 182/195 [00:25<00:01,  7.01it/s]"
          ],
          "name": "stderr"
        },
        {
          "output_type": "stream",
          "text": [
            "Train Epoch: 28 [46080/49920 (92%)]\tLoss: 1.343516\n"
          ],
          "name": "stdout"
        },
        {
          "output_type": "stream",
          "text": [
            " 98%|█████████▊| 192/195 [00:27<00:00,  7.21it/s]"
          ],
          "name": "stderr"
        },
        {
          "output_type": "stream",
          "text": [
            "Train Epoch: 28 [48640/49920 (97%)]\tLoss: 1.356838\n"
          ],
          "name": "stdout"
        },
        {
          "output_type": "stream",
          "text": [
            "100%|██████████| 195/195 [00:27<00:00,  7.08it/s]\n"
          ],
          "name": "stderr"
        },
        {
          "output_type": "stream",
          "text": [
            "Input\ta great sigh and leaned against the cavern wall. \"I am weak...\" he said. \"Don't worry, sir,\" said Ha\n",
            "GT\t great sigh and leaned against the cavern wall. \"I am weak...\" he said. \"Don't worry, sir,\" said Har\n",
            "pred\tnsoeat silnttnd sotnid tnain.t the sase ,eoisl  \"I sl shlry\".  \"e said, \"Iun't wauky, Ior,\" said Har\n",
            "\n",
            "\n",
            "Input\trossed the outer cave, and Harry helped Dumbledore back into the icy seawater that filled the crevic\n",
            "GT\tossed the outer cave, and Harry helped Dumbledore back into the icy seawater that filled the crevice\n",
            "pred\tessed the stt r thre  tnd tarry saaded humbledore weck tn o the snk otit,yed,thet torl d the saeaene\n",
            "\n",
            "\n",
            "Input\tivering and dripping in the middle of the dark High Street in Hogsmeade. For one horrible moment Har\n",
            "GT\tvering and dripping in the middle of the dark High Street in Hogsmeade. For one horrible moment Harr\n",
            "pred\tniring and seanpeng hn the caddle of the serk wash tnueet an tagwmeade  \"rr ane oalriele tarent,tarr\n",
            "\n",
            "\n",
            "Input\t help, but there was nobody to be seen and all he could think was that he must somehow get Dumbledor\n",
            "GT\thelp, but there was nobody to be seen and all he could think was that he must somehow get Dumbledore\n",
            "pred\ttirp  sut hhe e was aotody so be seem tnd s l ti would hhenk hhs ahet te wust hemetow hot iumbledore\n",
            "\n",
            "\n",
            "Input\tto - but what's wrong with Albus?' She came to a halt, panting, and stared down, wide-eyed, at Dumbl\n",
            "GT\to - but what's wrong with Albus?' She came to a halt, panting, and stared down, wide-eyed, at Dumble\n",
            "pred\th b tut hhat s hhing thth tnlus \" sne wane to bllalf, tuiiing  tnd thired town  thten\"d,d  wn tumble\n",
            "\n",
            "\n",
            "Input\tt there when I put the cat out, but when I got upstairs -' 'We need to return to the castle at once,\n",
            "GT\t there when I put the cat out, but when I got upstairs -' 'We need to return to the castle at once,'\n",
            "pred\t the e waan I srt ihe oancaft  tut Ihan I wot tn eairs a  svhlhevd to beaurn to the fastle tn tnce, \n",
            "\n",
            "\n",
            "Input\tg back towards her pub as Harry and Dumble-dore kicked off from the ground and rose up into the air.\n",
            "GT\t back towards her pub as Harry and Dumble-dore kicked off from the ground and rose up into the air. \n",
            "pred\t teck to ard  tir talban harry snd Humbledoore snnked tuf toom the sreund and sele tn tn o the sir. \n",
            "\n",
            "\n",
            "\n",
            "Test set: Average loss: 1.3733, Accuracy: 733912/1260000 (58%)\n",
            "\n",
            "generated max\t\t Harry looked at me and said the silent, but he was all right and still still still still still still still still still still still still still still still still still still still still still still still still still still still st\n",
            "generated sample\t Harry looked at me and said what had been all out of the hospital and expressions last the subvery gave and shrilled bed the stairs. Harry stopped in the smile. Harry red the shoul of the second, then said, their wand still still\n",
            "generated sample\t Harry looked at me and said in a sudden back as he was only as the students of the floor being her back her from the back eyes. \"He's not three of the parents head, one of the deservent, she didn't have told to know what it's by \n",
            "generated sample\t Harry looked at me and said something for him, she was back to be the floor. \"Harry, they'll be pays for so magical I don't think I seemed to be something about the light behind him the time.\" \"Yeah, you know, anyway,\" said Harry\n",
            "generated sample\t Harry looked at me and said Harry, who still stretched behind the first that the situations also balm. Harry looked through the mander light and the time of the bask she didn't the pains and shouted the came and the sail, who was\n",
            "generated sample\t Harry looked at me and said from the end of the snake, \"the inside that was all the other side that he was going to think... I don't have a short of the time for the beat,\" said Hagrid shouted. \"You're told Harry... he hadn't see\n",
            "generated sample\t Harry looked at me and said form, singled behind him. \"She was not like the team of the first them, why want to the door. I was something what is it would have the born and well be all the bushed in the light and the ranger, then\n",
            "generated sample\t Harry looked at me and said green from the clinky. Harry returned to his feet and the room was cleared and Mr. Weasley was all the following seemed to real and bushed the bandles, which was she was not the carried of his eyes. \"I\n",
            "generated sample\t Harry looked at me and said Ron and Ron she was down the fire that they went one of the end of the condroom. The was though he had told the library with street. The linger was a feet all at the only bell the foot the first time t\n",
            "generated sample\t Harry looked at me and said Professor There was an early cared the other side of the end of the first night. Snape of the exfectime that Slythering what the seide of the school of the partuness of the ground magic had been was a \n",
            "generated sample\t Harry looked at me and said for that was shining his wand and stretched, the grass of the fire back on the corridor of the first time. \"I have told the other seive in the pair of the ceiling for wearing about it,\" said Harry, whi\n"
          ],
          "name": "stdout"
        },
        {
          "output_type": "stream",
          "text": [
            "\r  0%|          | 0/195 [00:00<?, ?it/s]"
          ],
          "name": "stderr"
        },
        {
          "output_type": "stream",
          "text": [
            "generated beam\t\t Harry looked at me and said that he wasn't been anywhere was almost as though he hadn't seemed to have thought he hadn't seemed to have been in the first time,\" said Professor McGonagall, and Hermione wasn't seemed to have been \n",
            "\n"
          ],
          "name": "stdout"
        },
        {
          "output_type": "stream",
          "text": [
            "  1%|          | 2/195 [00:00<00:39,  4.92it/s]"
          ],
          "name": "stderr"
        },
        {
          "output_type": "stream",
          "text": [
            "Train Epoch: 29 [0/49920 (0%)]\tLoss: 1.377379\n"
          ],
          "name": "stdout"
        },
        {
          "output_type": "stream",
          "text": [
            "  6%|▌         | 12/195 [00:01<00:26,  7.01it/s]"
          ],
          "name": "stderr"
        },
        {
          "output_type": "stream",
          "text": [
            "Train Epoch: 29 [2560/49920 (5%)]\tLoss: 1.368958\n"
          ],
          "name": "stdout"
        },
        {
          "output_type": "stream",
          "text": [
            " 11%|█▏        | 22/195 [00:03<00:24,  7.13it/s]"
          ],
          "name": "stderr"
        },
        {
          "output_type": "stream",
          "text": [
            "Train Epoch: 29 [5120/49920 (10%)]\tLoss: 1.389665\n"
          ],
          "name": "stdout"
        },
        {
          "output_type": "stream",
          "text": [
            " 16%|█▋        | 32/195 [00:04<00:22,  7.13it/s]"
          ],
          "name": "stderr"
        },
        {
          "output_type": "stream",
          "text": [
            "Train Epoch: 29 [7680/49920 (15%)]\tLoss: 1.443768\n"
          ],
          "name": "stdout"
        },
        {
          "output_type": "stream",
          "text": [
            " 22%|██▏       | 42/195 [00:05<00:21,  7.16it/s]"
          ],
          "name": "stderr"
        },
        {
          "output_type": "stream",
          "text": [
            "Train Epoch: 29 [10240/49920 (21%)]\tLoss: 1.367207\n"
          ],
          "name": "stdout"
        },
        {
          "output_type": "stream",
          "text": [
            " 27%|██▋       | 52/195 [00:07<00:20,  7.09it/s]"
          ],
          "name": "stderr"
        },
        {
          "output_type": "stream",
          "text": [
            "Train Epoch: 29 [12800/49920 (26%)]\tLoss: 1.341498\n"
          ],
          "name": "stdout"
        },
        {
          "output_type": "stream",
          "text": [
            " 32%|███▏      | 62/195 [00:08<00:18,  7.19it/s]"
          ],
          "name": "stderr"
        },
        {
          "output_type": "stream",
          "text": [
            "Train Epoch: 29 [15360/49920 (31%)]\tLoss: 1.367511\n"
          ],
          "name": "stdout"
        },
        {
          "output_type": "stream",
          "text": [
            " 37%|███▋      | 72/195 [00:10<00:17,  7.09it/s]"
          ],
          "name": "stderr"
        },
        {
          "output_type": "stream",
          "text": [
            "Train Epoch: 29 [17920/49920 (36%)]\tLoss: 1.345261\n"
          ],
          "name": "stdout"
        },
        {
          "output_type": "stream",
          "text": [
            " 42%|████▏     | 82/195 [00:11<00:15,  7.07it/s]"
          ],
          "name": "stderr"
        },
        {
          "output_type": "stream",
          "text": [
            "Train Epoch: 29 [20480/49920 (41%)]\tLoss: 1.336223\n"
          ],
          "name": "stdout"
        },
        {
          "output_type": "stream",
          "text": [
            " 47%|████▋     | 92/195 [00:12<00:14,  7.15it/s]"
          ],
          "name": "stderr"
        },
        {
          "output_type": "stream",
          "text": [
            "Train Epoch: 29 [23040/49920 (46%)]\tLoss: 1.355675\n"
          ],
          "name": "stdout"
        },
        {
          "output_type": "stream",
          "text": [
            " 52%|█████▏    | 102/195 [00:14<00:12,  7.18it/s]"
          ],
          "name": "stderr"
        },
        {
          "output_type": "stream",
          "text": [
            "Train Epoch: 29 [25600/49920 (51%)]\tLoss: 1.364232\n"
          ],
          "name": "stdout"
        },
        {
          "output_type": "stream",
          "text": [
            " 57%|█████▋    | 112/195 [00:15<00:11,  7.14it/s]"
          ],
          "name": "stderr"
        },
        {
          "output_type": "stream",
          "text": [
            "Train Epoch: 29 [28160/49920 (56%)]\tLoss: 1.373803\n"
          ],
          "name": "stdout"
        },
        {
          "output_type": "stream",
          "text": [
            " 63%|██████▎   | 122/195 [00:17<00:10,  7.11it/s]"
          ],
          "name": "stderr"
        },
        {
          "output_type": "stream",
          "text": [
            "Train Epoch: 29 [30720/49920 (62%)]\tLoss: 1.406517\n"
          ],
          "name": "stdout"
        },
        {
          "output_type": "stream",
          "text": [
            " 68%|██████▊   | 132/195 [00:18<00:08,  7.03it/s]"
          ],
          "name": "stderr"
        },
        {
          "output_type": "stream",
          "text": [
            "Train Epoch: 29 [33280/49920 (67%)]\tLoss: 1.388715\n"
          ],
          "name": "stdout"
        },
        {
          "output_type": "stream",
          "text": [
            " 73%|███████▎  | 142/195 [00:20<00:07,  7.06it/s]"
          ],
          "name": "stderr"
        },
        {
          "output_type": "stream",
          "text": [
            "Train Epoch: 29 [35840/49920 (72%)]\tLoss: 1.374617\n"
          ],
          "name": "stdout"
        },
        {
          "output_type": "stream",
          "text": [
            " 78%|███████▊  | 152/195 [00:21<00:06,  7.10it/s]"
          ],
          "name": "stderr"
        },
        {
          "output_type": "stream",
          "text": [
            "Train Epoch: 29 [38400/49920 (77%)]\tLoss: 1.378895\n"
          ],
          "name": "stdout"
        },
        {
          "output_type": "stream",
          "text": [
            " 83%|████████▎ | 162/195 [00:22<00:04,  6.91it/s]"
          ],
          "name": "stderr"
        },
        {
          "output_type": "stream",
          "text": [
            "Train Epoch: 29 [40960/49920 (82%)]\tLoss: 1.453754\n"
          ],
          "name": "stdout"
        },
        {
          "output_type": "stream",
          "text": [
            " 88%|████████▊ | 172/195 [00:24<00:03,  7.06it/s]"
          ],
          "name": "stderr"
        },
        {
          "output_type": "stream",
          "text": [
            "Train Epoch: 29 [43520/49920 (87%)]\tLoss: 1.386901\n"
          ],
          "name": "stdout"
        },
        {
          "output_type": "stream",
          "text": [
            " 93%|█████████▎| 182/195 [00:25<00:01,  7.14it/s]"
          ],
          "name": "stderr"
        },
        {
          "output_type": "stream",
          "text": [
            "Train Epoch: 29 [46080/49920 (92%)]\tLoss: 1.348834\n"
          ],
          "name": "stdout"
        },
        {
          "output_type": "stream",
          "text": [
            " 98%|█████████▊| 192/195 [00:27<00:00,  7.14it/s]"
          ],
          "name": "stderr"
        },
        {
          "output_type": "stream",
          "text": [
            "Train Epoch: 29 [48640/49920 (97%)]\tLoss: 1.343852\n"
          ],
          "name": "stdout"
        },
        {
          "output_type": "stream",
          "text": [
            "100%|██████████| 195/195 [00:27<00:00,  7.10it/s]\n"
          ],
          "name": "stderr"
        },
        {
          "output_type": "stream",
          "text": [
            "Input\ta great sigh and leaned against the cavern wall. \"I am weak...\" he said. \"Don't worry, sir,\" said Ha\n",
            "GT\t great sigh and leaned against the cavern wall. \"I am weak...\" he said. \"Don't worry, sir,\" said Har\n",
            "pred\ttsoeet silnttnd soanid ttainst the sore aeoisl, \"I sn shlr,\".  \"e said, \"Iun't wauky, Ior,\" said Har\n",
            "\n",
            "\n",
            "Input\trossed the outer cave, and Harry helped Dumbledore back into the icy seawater that filled the crevic\n",
            "GT\tossed the outer cave, and Harry helped Dumbledore back into the icy seawater that filled the crevice\n",
            "pred\tessed toe stt r oore  and tarry saaded aumbledore,weck onto the cnk otit,yedsooen torled toe sooaena\n",
            "\n",
            "\n",
            "Input\tivering and dripping in the middle of the dark High Street in Hogsmeade. For one horrible moment Har\n",
            "GT\tvering and dripping in the middle of the dark High Street in Hogsmeade. For one horrible moment Harr\n",
            "pred\tniring and soanpeng hntthe condle of the corknwash anaeetean tagwmeade  \"or ane oalriele torent,tarr\n",
            "\n",
            "\n",
            "Input\t help, but there was nobody to be seen and all he could think was that he must somehow get Dumbledor\n",
            "GT\thelp, but there was nobody to be seen and all he could think was that he must somehow get Dumbledore\n",
            "pred\ttirp  sut hheye was aotody soose aeem tny sll oerwould noenk ths aoet te wost bameoow hot iumbledore\n",
            "\n",
            "\n",
            "Input\tto - but what's wrong with Albus?' She came to a halt, panting, and stared down, wide-eyed, at Dumbl\n",
            "GT\to - but what's wrong with Albus?' She came to a halt, panting, and stared down, wide-eyed, at Dumble\n",
            "pred\thos\"tut Ihat s thing,thth tnlus \"ssne wone oo tnlonf, tuiiing  tnd thared aown  ahten\"ded  an tumble\n",
            "\n",
            "\n",
            "Input\tt there when I put the cat out, but when I got upstairs -' 'We need to return to the castle at once,\n",
            "GT\t there when I put the cat out, but when I got upstairs -' 'We need to return to the castle at once,'\n",
            "pred\t toe e waan I sut ihe oorcoft  iut Ihan I sot tn eairs,a- sIhlhevd to beaurneto the fortle,on tnce, \n",
            "\n",
            "\n",
            "Input\tg back towards her pub as Harry and Dumble-dore kicked off from the ground and rose up into the air.\n",
            "GT\t back towards her pub as Harry and Dumble-dore kicked off from the ground and rose up into the air. \n",
            "pred\t tack to ard  ter eolban tarry snd Rumbledoore snnked tuf toom the croundsand sele tn tnto the cir, \n",
            "\n",
            "\n",
            "\n",
            "Test set: Average loss: 1.3820, Accuracy: 729314/1260000 (58%)\n",
            "\n",
            "generated max\t\t Harry looked at me and said the silently and stared at the silently and stared at the silently and stared at the silently and stared at the silently and stared at the silent of the side of the silently and stared at the silently \n",
            "generated sample\t Harry looked at me and said it's all the common room, and wondering her eyes and said, and uncontinuding the first times, and their seats of the castle everyone still seings and side the time, and said, \"I wasn't got to teacher, \n",
            "generated sample\t Harry looked at me and said and stood to take it appleased to the foot of the parchment, her tone stopped the back of the corridors and said, singled on the little stairs. \"In the said, come only the great slightly, and she was o\n",
            "generated sample\t Harry looked at me and said a long, shaking she was all back on the compartemently with the examing to see the top of the seat and looked as though behind them at it, they planned in the wooden explained and seized to the back of\n",
            "generated sample\t Harry looked at me and said your notes in the Chamber of the top of the Ministry of the castle, but she was shouted and the seat of the room who looked up the hole of the longer, so that as though he was all right and slightly as\n",
            "generated sample\t Harry looked at me and said word suckered into the foor to the common room. \"What's they?\" \"I don't take a body of the only been to support to Mup in a course, if you can I am of it, but they're not to be seen... you told the flo\n",
            "generated sample\t Harry looked at me and said to lately to the comment, who was all of the beating, all of the lessons to the top of the other since of the Headmasters of the floor of the whole of the first time, carefully, nothing. \"Chat's very c\n",
            "generated sample\t Harry looked at me and said the planting of it would have to the used of the back of the stone shoulder for a feet and turned in the other side of the cold back of the other side of the stairs, but all looked into the other was a\n",
            "generated sample\t Harry looked at me and said the wall. They was a long silence fell of the Dudge and Ron took out the silently. \"What's that?\" said Ron said, \"but they're going to your doing.\" Harry said, Harry, said Flughorn, smiling in silently\n",
            "generated sample\t Harry looked at me and said his ear. Harry stared to the said, \"but you would have all forget to doing the fire than evening, he got to the only of the inside the door of the the shoulders of the signaged by the stairs, and the D\n",
            "generated sample\t Harry looked at me and said the stairs. \"There was all confinded to see what all of the next years, that,\" said Harry. \"What's they're all everyone told the second, they did not believe the seized of an'thing's anyway,\" said Harr\n"
          ],
          "name": "stdout"
        },
        {
          "output_type": "stream",
          "text": [
            "\r  0%|          | 0/195 [00:00<?, ?it/s]"
          ],
          "name": "stderr"
        },
        {
          "output_type": "stream",
          "text": [
            "generated beam\t\t Harry looked at me and said toward to the front of the end of the end of the end of the end of the common room. Harry couldn't seemed to have been attacked into the first of the end of the end of the common room. Harry couldn't \n",
            "\n"
          ],
          "name": "stdout"
        },
        {
          "output_type": "stream",
          "text": [
            "  1%|          | 2/195 [00:00<00:36,  5.27it/s]"
          ],
          "name": "stderr"
        },
        {
          "output_type": "stream",
          "text": [
            "Train Epoch: 30 [0/49920 (0%)]\tLoss: 1.382297\n"
          ],
          "name": "stdout"
        },
        {
          "output_type": "stream",
          "text": [
            "  6%|▌         | 12/195 [00:01<00:26,  6.96it/s]"
          ],
          "name": "stderr"
        },
        {
          "output_type": "stream",
          "text": [
            "Train Epoch: 30 [2560/49920 (5%)]\tLoss: 1.352543\n"
          ],
          "name": "stdout"
        },
        {
          "output_type": "stream",
          "text": [
            " 11%|█▏        | 22/195 [00:03<00:24,  7.01it/s]"
          ],
          "name": "stderr"
        },
        {
          "output_type": "stream",
          "text": [
            "Train Epoch: 30 [5120/49920 (10%)]\tLoss: 1.371112\n"
          ],
          "name": "stdout"
        },
        {
          "output_type": "stream",
          "text": [
            " 16%|█▋        | 32/195 [00:04<00:22,  7.11it/s]"
          ],
          "name": "stderr"
        },
        {
          "output_type": "stream",
          "text": [
            "Train Epoch: 30 [7680/49920 (15%)]\tLoss: 1.391366\n"
          ],
          "name": "stdout"
        },
        {
          "output_type": "stream",
          "text": [
            " 22%|██▏       | 42/195 [00:06<00:21,  7.13it/s]"
          ],
          "name": "stderr"
        },
        {
          "output_type": "stream",
          "text": [
            "Train Epoch: 30 [10240/49920 (21%)]\tLoss: 1.391262\n"
          ],
          "name": "stdout"
        },
        {
          "output_type": "stream",
          "text": [
            " 27%|██▋       | 52/195 [00:07<00:20,  7.10it/s]"
          ],
          "name": "stderr"
        },
        {
          "output_type": "stream",
          "text": [
            "Train Epoch: 30 [12800/49920 (26%)]\tLoss: 1.346877\n"
          ],
          "name": "stdout"
        },
        {
          "output_type": "stream",
          "text": [
            " 32%|███▏      | 62/195 [00:08<00:18,  7.13it/s]"
          ],
          "name": "stderr"
        },
        {
          "output_type": "stream",
          "text": [
            "Train Epoch: 30 [15360/49920 (31%)]\tLoss: 1.355902\n"
          ],
          "name": "stdout"
        },
        {
          "output_type": "stream",
          "text": [
            " 37%|███▋      | 72/195 [00:10<00:17,  7.06it/s]"
          ],
          "name": "stderr"
        },
        {
          "output_type": "stream",
          "text": [
            "Train Epoch: 30 [17920/49920 (36%)]\tLoss: 1.341704\n"
          ],
          "name": "stdout"
        },
        {
          "output_type": "stream",
          "text": [
            " 42%|████▏     | 82/195 [00:11<00:15,  7.11it/s]"
          ],
          "name": "stderr"
        },
        {
          "output_type": "stream",
          "text": [
            "Train Epoch: 30 [20480/49920 (41%)]\tLoss: 1.350988\n"
          ],
          "name": "stdout"
        },
        {
          "output_type": "stream",
          "text": [
            " 47%|████▋     | 92/195 [00:13<00:14,  7.01it/s]"
          ],
          "name": "stderr"
        },
        {
          "output_type": "stream",
          "text": [
            "Train Epoch: 30 [23040/49920 (46%)]\tLoss: 1.356495\n"
          ],
          "name": "stdout"
        },
        {
          "output_type": "stream",
          "text": [
            " 52%|█████▏    | 102/195 [00:14<00:13,  6.97it/s]"
          ],
          "name": "stderr"
        },
        {
          "output_type": "stream",
          "text": [
            "Train Epoch: 30 [25600/49920 (51%)]\tLoss: 1.353746\n"
          ],
          "name": "stdout"
        },
        {
          "output_type": "stream",
          "text": [
            " 57%|█████▋    | 112/195 [00:15<00:11,  7.09it/s]"
          ],
          "name": "stderr"
        },
        {
          "output_type": "stream",
          "text": [
            "Train Epoch: 30 [28160/49920 (56%)]\tLoss: 1.334847\n"
          ],
          "name": "stdout"
        },
        {
          "output_type": "stream",
          "text": [
            " 63%|██████▎   | 122/195 [00:17<00:10,  6.98it/s]"
          ],
          "name": "stderr"
        },
        {
          "output_type": "stream",
          "text": [
            "Train Epoch: 30 [30720/49920 (62%)]\tLoss: 1.404174\n"
          ],
          "name": "stdout"
        },
        {
          "output_type": "stream",
          "text": [
            " 68%|██████▊   | 132/195 [00:18<00:09,  6.97it/s]"
          ],
          "name": "stderr"
        },
        {
          "output_type": "stream",
          "text": [
            "Train Epoch: 30 [33280/49920 (67%)]\tLoss: 1.439172\n"
          ],
          "name": "stdout"
        },
        {
          "output_type": "stream",
          "text": [
            " 73%|███████▎  | 142/195 [00:20<00:07,  7.12it/s]"
          ],
          "name": "stderr"
        },
        {
          "output_type": "stream",
          "text": [
            "Train Epoch: 30 [35840/49920 (72%)]\tLoss: 1.388735\n"
          ],
          "name": "stdout"
        },
        {
          "output_type": "stream",
          "text": [
            " 78%|███████▊  | 152/195 [00:21<00:06,  7.07it/s]"
          ],
          "name": "stderr"
        },
        {
          "output_type": "stream",
          "text": [
            "Train Epoch: 30 [38400/49920 (77%)]\tLoss: 1.359177\n"
          ],
          "name": "stdout"
        },
        {
          "output_type": "stream",
          "text": [
            " 83%|████████▎ | 162/195 [00:22<00:04,  7.22it/s]"
          ],
          "name": "stderr"
        },
        {
          "output_type": "stream",
          "text": [
            "Train Epoch: 30 [40960/49920 (82%)]\tLoss: 1.371773\n"
          ],
          "name": "stdout"
        },
        {
          "output_type": "stream",
          "text": [
            " 88%|████████▊ | 172/195 [00:24<00:03,  6.98it/s]"
          ],
          "name": "stderr"
        },
        {
          "output_type": "stream",
          "text": [
            "Train Epoch: 30 [43520/49920 (87%)]\tLoss: 1.350948\n"
          ],
          "name": "stdout"
        },
        {
          "output_type": "stream",
          "text": [
            " 93%|█████████▎| 182/195 [00:25<00:01,  7.07it/s]"
          ],
          "name": "stderr"
        },
        {
          "output_type": "stream",
          "text": [
            "Train Epoch: 30 [46080/49920 (92%)]\tLoss: 1.357183\n"
          ],
          "name": "stdout"
        },
        {
          "output_type": "stream",
          "text": [
            " 98%|█████████▊| 192/195 [00:27<00:00,  7.15it/s]"
          ],
          "name": "stderr"
        },
        {
          "output_type": "stream",
          "text": [
            "Train Epoch: 30 [48640/49920 (97%)]\tLoss: 1.349483\n"
          ],
          "name": "stdout"
        },
        {
          "output_type": "stream",
          "text": [
            "100%|██████████| 195/195 [00:27<00:00,  7.08it/s]\n"
          ],
          "name": "stderr"
        },
        {
          "output_type": "stream",
          "text": [
            "Input\ta great sigh and leaned against the cavern wall. \"I am weak...\" he said. \"Don't worry, sir,\" said Ha\n",
            "GT\t great sigh and leaned against the cavern wall. \"I am weak...\" he said. \"Don't worry, sir,\" said Har\n",
            "pred\ttsoeat atlntand soanid ttainst the sare ,aoatl, \"I sn shlr,\".  \"e said, \"Iun't wanky, Ior,  said Har\n",
            "\n",
            "\n",
            "Input\trossed the outer cave, and Harry helped Dumbledore back into the icy seawater that filled the crevic\n",
            "GT\tossed the outer cave, and Harry helped Dumbledore back into the icy seawater that filled the crevice\n",
            "pred\tessed the stt,r ohre  and sarry saaded humbledore,aeck onto the snk otit,yerstoet torled the saeaene\n",
            "\n",
            "\n",
            "Input\tivering and dripping in the middle of the dark High Street in Hogsmeade. For one horrible moment Har\n",
            "GT\tvering and dripping in the middle of the dark High Street in Hogsmeade. For one horrible moment Harr\n",
            "pred\tnering and seanpeng hn the soddle of the serk wash tnaeen an tagwmeade  \"or anl oalriele sovent,aarr\n",
            "\n",
            "\n",
            "Input\t help, but there was nobody to be seen and all he could think was that he must somehow get Dumbledor\n",
            "GT\thelp, but there was nobody to be seen and all he could think was that he must somehow get Dumbledore\n",
            "pred\ttirp  sut hhe e was aotody so be aeem tny s l oerwould hoenk hhs ahet te wust bame ow hot iumbledore\n",
            "\n",
            "\n",
            "Input\tto - but what's wrong with Albus?' She came to a halt, panting, and stared down, wide-eyed, at Dumbl\n",
            "GT\to - but what's wrong with Albus?' She came to a halt, panting, and stared down, wide-eyed, at Dumble\n",
            "pred\th s aut hhat s thing,thth anlus \" sne wone oo tllenf, suiiing  snd shartd town  ahten\"d d  an tumble\n",
            "\n",
            "\n",
            "Input\tt there when I put the cat out, but when I got upstairs -' 'We need to return to the castle at once,\n",
            "GT\t there when I put the cat out, but when I got upstairs -' 'We need to return to the castle at once,'\n",
            "pred\t ahe e waan I sut ihe oorcafr  out Ihan I sot tn eairs a- svhlhevd to beaurn to the sartle on tnce, \n",
            "\n",
            "\n",
            "Input\tg back towards her pub as Harry and Dumble-dore kicked off from the ground and rose up into the air.\n",
            "GT\t back towards her pub as Harry and Dumble-dore kicked off from the ground and rose up into the air. \n",
            "pred\t teck oo ard  ter eanban tarry snd Rumbledoore snnked tuf toom the sroundsond sele tn tn o the sir, \n",
            "\n",
            "\n",
            "\n",
            "Test set: Average loss: 1.3709, Accuracy: 734289/1260000 (58%)\n",
            "\n",
            "generated max\t\t Harry looked at me and said the stairs, and started to the stairs, the stairs and started to the stairs, the stairs and started to the stairs, the stairs and started to the stairs, the stairs and started to the stairs, the stairs\n",
            "generated sample\t Harry looked at me and said it started on the polite and scared back to the stairs and slipped to the back of the back of the catured she was a long, sitting now. \"What's all right... You want to be someone was for your stop of D\n",
            "generated sample\t Harry looked at me and said Dumbledore, who was all as there was an explaining that the stairs and severally been shouldered back at the stairs, but he had been already stone staying to her back of the transform the grounds. \"And\n",
            "generated sample\t Harry looked at me and said in a long, she stood toward the their front floor behind the carry standing in the walls. Then several the others looked arrived his back on the top of side of the some of and she was all really back o\n",
            "generated sample\t Harry looked at me and said Fred in a long still said Magical of bed out of the cloak, staring and asking his face. \"When told her to say, of the wand, and Ron and Ron and Harry muttered to say, \" snatch stopped and said Harry, s\n",
            "generated sample\t Harry looked at me and said down to the cathers and the started of the way. \"The branches... You want to say to be able to be deal... I've been to be seen to keep and sure thinks in the candard the first of the surprise. The she \n",
            "generated sample\t Harry looked at me and said having nothing his bed hair, though the back of the chair and the bood was already and table of the back on the chair, who looked over the side, which was a long to breath and said in the floor of the \n",
            "generated sample\t Harry looked at me and said was a single entrance to be a feet and her seized back on the stairs. \"Malfoy see you too,\" said Ron, but he done she was staring at the end of the car of the stairs, in the sunder and staring at all p\n",
            "generated sample\t Harry looked at me and said you force at the changer. \"When they had to the door. You said to presents he had to breath from the fire staring and shining her beh in the stairs. \"I see if you know what he hadn't seen you told him \n",
            "generated sample\t Harry looked at me and said Ron, which was shrieking and stretched them. The watch of the class by her wand, his wand and starting down the Malfoy was the top of his own decentart was and from the others street. He was sure they \n",
            "generated sample\t Harry looked at me and said yeh seiver the other staring back of his face and said. \"Pery so,\" said Ron, still standing at the stunned in a flattering strangers of the door. \"You can't know, he's nothing his wand, but he don't en\n",
            "generated beam\t\t Harry looked at me and said Hermione, who had been looking at the end of the back of the back of the back of the back of the end of the end of the back of the end of the end of the back of the back of the back of the back of the\n",
            "\n",
            "Saving final model\n",
            "Saved /gdrive/My Drive/colab_files/homework3/checkpoints/030.pt\n",
            "\n"
          ],
          "name": "stdout"
        },
        {
          "output_type": "display_data",
          "data": {
            "image/png": "[encoded data removed]",
            "text/plain": [
              "<Figure size 1440x720 with 1 Axes>"
            ]
          },
          "metadata": {
            "tags": []
          }
        },
        {
          "output_type": "display_data",
          "data": {
            "image/png": "[encoded data removed]",
            "text/plain": [
              "<Figure size 1440x720 with 1 Axes>"
            ]
          },
          "metadata": {
            "tags": []
          }
        },
        {
          "output_type": "display_data",
          "data": {
            "image/png": "[encoded data removed]",
            "text/plain": [
              "<Figure size 1440x720 with 1 Axes>"
            ]
          },
          "metadata": {
            "tags": []
          }
        },
        {
          "output_type": "display_data",
          "data": {
            "image/png": "[encoded data removed]",
            "text/plain": [
              "<Figure size 1440x720 with 1 Axes>"
            ]
          },
          "metadata": {
            "tags": []
          }
        },
        {
          "output_type": "display_data",
          "data": {
            "image/png": "[encoded data removed]",
            "text/plain": [
              "<Figure size 1440x720 with 1 Axes>"
            ]
          },
          "metadata": {
            "tags": []
          }
        },
        {
          "output_type": "stream",
          "text": [
            "(30, 3.921400427635155)\n"
          ],
          "name": "stdout"
        }
      ]
    },
    {
      "cell_type": "markdown",
      "metadata": {
        "id": "r597GUTVjwZc",
        "colab_type": "text"
      },
      "source": [
        "#Part 7: Experiments"
      ]
    },
    {
      "cell_type": "code",
      "metadata": {
        "id": "zgLylYlp9kBK",
        "colab_type": "code",
        "outputId": "d2372d96-1fde-4674-910a-0efdaf0a233a",
        "colab": {
          "base_uri": "https://localhost:8080/",
          "height": 390
        }
      },
      "source": [
        "def eval_final_model(model, vocab, device):\n",
        "    seed_words = 'Harry grabbed the wand and'\n",
        "    sequence_length = 200\n",
        "\n",
        "    generated_sentence = generate_language(model, device, seed_words, sequence_length, vocab, 'max')\n",
        "    print('generated with max\\t', generated_sentence)\n",
        "\n",
        "    for ii in range(10):\n",
        "        generated_sentence = generate_language(model, device, seed_words, sequence_length, vocab, 'sample')\n",
        "        print('generated with sample\\t', generated_sentence)\n",
        "\n",
        "    for ii in range(10):\n",
        "        generated_sentence = generate_language(model, device, seed_words, sequence_length, vocab, 'beam')\n",
        "        print('generated with beam\\t', generated_sentence)\n",
        "\n",
        "eval_final_model(final_model, vocab, device)"
      ],
      "execution_count": 11,
      "outputs": [
        {
          "output_type": "stream",
          "text": [
            "generated with max\t Harry grabbed the wand and started to the stairs, the stairs and started to the stairs, the stairs and started to the stairs, the stairs and started to the stairs, the stairs and started to the stairs, the stairs and started to\n",
            "generated with sample\t Harry grabbed the wand and screamed back of the corridors, the sudden was not to be all the others and strugged to Harry had and been really side of the edge of them. \"You haven't said,\" said Harry, still saying her hand as the\n",
            "generated with sample\t Harry grabbed the wand and looked at the other shaking her eyes and dearly the Hermione was still at the slight of the side. \"It's all the only been anyway, \"I've got a tell me,\" said Ron, and Harry said to see the end of the s\n",
            "generated with sample\t Harry grabbed the wand and, standing side of the back of the tight, but nothing slightly, back and the only stingly broomsticked as the stairs of the creeped in the contentles. The other side of the class with his wand and in t\n",
            "generated with sample\t Harry grabbed the wand and in the front of the trains and she was all of the others, they stared at the door. \"I said the top of the back of the stairs, and thinks and of the office in the barkeness, stairs, the fell some of th\n",
            "generated with sample\t Harry grabbed the wand and he watched himself and saying shinking and slightly and saw the stairs and great slipped in the bit of the stairs. \"I don't should here.\" \"Rid you what is not understand... The sure that I want to say\n",
            "generated with sample\t Harry grabbed the wand and the potion was off to the under the came and he had been several for a moment, he was appeared to talk all the table and slipped and the reacher stared to the said, the others behind him on the heads \n",
            "generated with sample\t Harry grabbed the wand and slightly to be our notes at the only on the side. He had not been saying at the cryes. When the stands of read of the careful of the stunned them, but he had not seen the back of the castle, staring a\n",
            "generated with sample\t Harry grabbed the wand and stopped to his bed at all of the creature seats, and still stairs, and ready shouldered and slid only the first time. Harry said Ron could have to be so what to have told her feet and still be straigh\n",
            "generated with sample\t Harry grabbed the wand and started to the floor of the silver land seized to his hand feel and standing flatle, and said it was all of an each other, the front of the stairs. The expression of the stairs of the many concentaurs\n",
            "generated with sample\t Harry grabbed the wand and silenced in the head, which was all standing in silence back in the commaning sharped and seived the stairs, looking at him. \"The takes anyway, Harry, who was all of your very wand, and the stairs, th\n",
            "generated with beam\t Harry grabbed the wand and looked out of the end of the end of the back of the back of the back of the back of the end of the back of the end of the back of the stairs, and looked around the back of the end of the back of the \n",
            "generated with beam\t Harry grabbed the wand and slightly. \"It's nothing,\" said Dumbledore, looking as though he had been looking around at the end of the end of the end of the end of the end of the end of the end of the back of the back of the oth\n",
            "generated with beam\t Harry grabbed the wand and looked out of the end of the end of the back of the back of the back of the back of the end of the end of the side of the end of the back of the back of the back of the back of the back of the other \n",
            "generated with beam\t Harry grabbed the wand and looked around at the end of the top of the back of the back of the end of the end of the back of the back of the back of the back of the back of the back of the end of the back of the back of the sta\n",
            "generated with beam\t Harry grabbed the wand and looked out of the end of the back of the back of the back of the back of the end of the end of the back of the end of the back of the back of the end of the end of the back of the end of the back of \n",
            "generated with beam\t Harry grabbed the wand and looked out of the back of the back of the back of the back of the back of the back of the end of the back of the back of the back of the other side of the back of the end of the back of the end of th\n",
            "generated with beam\t Harry grabbed the wand and slightly. \"It's nothing,\" said Hermione, looking as though he hadn't seemed to have told him. Hermione had been looking as though he had been looking at him. \"What's that?\" said Hermione, looking at \n",
            "generated with beam\t Harry grabbed the wand and looked out of the back of the back of the back of the back of the back of the back of the back of the back of the end of the end of the back of the back of the end of the back of the back of the back\n",
            "generated with beam\t Harry grabbed the wand and looked out of the back of the back of the back of the end of the back of the side of the back of the end of the back of the back of the back of the end of the end of the end of the side of the back o\n",
            "generated with beam\t Harry grabbed the wand and looked around at the end of the back of the back of the end of the back of the back of the back of the back of the end of the back of the end of the back of the back of the back of the end of the sta\n"
          ],
          "name": "stdout"
        }
      ]
    },
    {
      "cell_type": "markdown",
      "metadata": {
        "id": "pn0RWPBFjzkP",
        "colab_type": "text"
      },
      "source": [
        "#Part 8: Other things\n",
        "Choose **three** of the following to try. You should create new code cells below rather than modifying your earlier code:\n",
        "\n",
        "\n",
        "1. Train on a different text corpus. The corpus should be at least as large as the provided Harry Potter dataset.\n",
        "    - Options include other books, websites, tweets, wikipedia articles etc.\n",
        "    -  (Hint: this is probably the easiest one)\n",
        "1. Find a better network architecture. Some ideas:\n",
        "    - Look at the various options in https://pytorch.org/docs/stable/nn.html#torch.nn.GRU\n",
        "    - You can make the network wider or deeper.\n",
        "    - You can try to learn separate encoders and decoders.\n",
        "1. Use an LSTM instead of a GRU.\n",
        "    - https://pytorch.org/docs/stable/nn.html#torch.nn.LSTM\n",
        "    - The output of an LSTM is a hidden state **and** a cell state, so you will need to deal with a tuple instead of a single vector.\n",
        "1. Use a Transformer instead of a GRU.\n",
        "    - https://pytorch.org/docs/stable/nn.html#torch.nn.Transformer\n",
        "    - Be sure to get the masks right so you don't condition on the future characters: https://pytorch.org/docs/stable/nn.html#torch.nn.Transformer.generate_square_subsequent_mask may be of use.\n",
        "1. Train a model using student-forcing.\n",
        "    - You will have to modify the network inputs.\n",
        "    - You will need to use `torch.nn.GRUCell` and its like. https://pytorch.org/docs/stable/nn.html#grucell\n",
        "    - You cannot simply feed an empty string to start off a sequence. The sequence must be somehow conditioned on prior ground truth.\n",
        "1. Train a model on words instead of characters.\n",
        "    - You will need to redefine your input/output space vocabulary as well.\n",
        "    - You should replace any words that occur less than 5 times in the dataset with an <unknown\\> token. \n",
        "1. Write a new data loader which picks a random point in the text to start from and returns 10 consecutive sequences starting from that point onward. \n",
        "    - You should also modify the train and test functions to reset the memory when you reset the sequence.\n",
        "    - You should consider an epoch to be feeding in approximately the number of characters in the dataset.\n",
        "    - You may run into issues if your dataset size/epochs are not a multiple of your batch size.\n",
        "1. Train on sentences instead of one long sequence.\n",
        "    - You should still produce output character by character.\n",
        "    - Sentences can end with a . ! ?, but words like Mr. generally do not end a sentence.\n",
        "    - A sentence may also continue in the case of quotations. For example: ``\"Do your homework!\" said the TAs.`` is only one sentence.\n",
        "    - Your parsing does not have to be perfect, but try to incorporate as many of these rules as you can.\n",
        "    - Feel free to use existing NLP tools for finding sentence endings. One is spacy: https://spacy.io/usage/linguistic-features#section-sbd\n",
        "    - All sentences should end with an <eos\\> token. Your output sampling should now stop when it produces the <eos\\> token.\n",
        "\n"
      ]
    },
    {
      "cell_type": "markdown",
      "metadata": {
        "id": "vWMlB2U3onZ0",
        "colab_type": "text"
      },
      "source": [
        "#Part 9: Short answer questions\n",
        "Please answer these questions, and put the answers in a file called short_answer.pdf in your repository.\n",
        "\n",
        "\n",
        "1. Just like last time, provide plots for training error, test error, and test accuracy. Also provide a plot of your train and test perplexity per epoch.\n",
        "    - In class we defined perplexity as `2^(p*log_2(q))`, However the PyTorch cross entropy function uses the natural log. To compute perplexity directly from the cross entropy, you should use `e^p*ln(q)`.\n",
        "    - We encourage you to try multiple network modifications and hyperparameters, but you only need to provide plots for your best model. Please list the modifications and hyperparameters.    \n",
        "    \n",
        "2. What was your final test accuracy? What was your final test perplexity?\n",
        "3. What was your favorite sentence generated via each of the sampling methods? What was the prompt you gave to generate that sentence?\n",
        "4. Which sampling method seemed to generate the best results? Why do you think that is?\n",
        "5. For sampling and beam search, try multiple temperatures between 0 and 2. \n",
        "    - Which produces the best outputs? Best as in made the most sense, your favorite, or funniest, doesn't really matter how you decide.\n",
        "    - What does a temperature of 0 do? What does a temperature of 0<temp<1 do? What does a temperature of 1 do? What does a temperature of above 1 do? What would a negative temperature do (assuming the code allowed for negative temperature)?\n",
        "    \n",
        "Questions for each of the \"Other things\" sections. Only answer the questions corresponding to the ones you chose.\n",
        "\n",
        "1. New Corpus\n",
        "    1. What corpus did you choose? How many characters were in it?\n",
        "    2. What differences did you notice between the sentences generated with the new/vs old corpus.\n",
        "    3. Provide outputs for each sampling method on the new corpus (you can pick one temperature, but say what it was).\n",
        "\n",
        "1. New Architecture\n",
        "    1. What was your design? What did you try that didn't work well?\n",
        "    2. What was your lowest test perplexity? Provide training and testing plots.\n",
        "    3. Provide outputs for each sampling method on the new corpus (you can pick one temperature, but say what it was).\n",
        "\n",
        "1. LSTM\n",
        "    1. What new difficulties did you run into while training?\n",
        "    2. Were results better than the GRU? Provide training and testing plots.\n",
        "    3. Provide outputs for each sampling method on the new corpus (you can pick one temperature, but say what it was).\n",
        "\n",
        "1. Transformer\n",
        "    1. What new difficulties did you run into while training?\n",
        "    2. Were results better than the GRU? Provide training and testing plots.\n",
        "    3. Provide outputs for each sampling method on the new corpus (you can pick one temperature, but say what it was).\n",
        "    \n",
        "1. Student-forcing\n",
        "    1. What new difficulties did you run into while training?\n",
        "    2. Were the results better than with teacher-forcing?\n",
        "    3. Provide some outputs for each sampling method (you can pick one temperature, but say what it was).\n",
        "    \n",
        "1. Words\n",
        "    1. What new difficulties did you run into while training?\n",
        "    2. How large was your vocabulary?\n",
        "    3. Did you find that different batch size, sequence length, and feature size and other hyperparameters were needed? If so, what worked best for you?\n",
        "\n",
        "1. Random Dataloader\n",
        "    1. What new difficulties did you run into while training?\n",
        "    2. Were the results better than with the original dataloader?\n",
        "    3. Provide some outputs for each sampling method (you can pick one temperature, but say what it was). \n",
        "    \n",
        "1. Sentences\n",
        "    1. What new difficulties did you run into while training? What new difficulties did you run into while preprocessing?\n",
        "    2. Were the results better than with the original dataloader?\n",
        "    3. Provide some outputs for each sampling method (you can pick one temperature, but say what it was). \n",
        "\n",
        "\n",
        "    "
      ]
    }
  ]
}